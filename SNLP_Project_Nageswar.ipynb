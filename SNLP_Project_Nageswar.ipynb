{
  "nbformat": 4,
  "nbformat_minor": 0,
  "metadata": {
    "kernelspec": {
      "display_name": "Python 3",
      "language": "python",
      "name": "python3"
    },
    "language_info": {
      "codemirror_mode": {
        "name": "ipython",
        "version": 3
      },
      "file_extension": ".py",
      "mimetype": "text/x-python",
      "name": "python",
      "nbconvert_exporter": "python",
      "pygments_lexer": "ipython3",
      "version": "3.7.3"
    },
    "colab": {
      "name": "SNLP-Project-Nageswar.ipynb",
      "provenance": [],
      "collapsed_sections": [],
      "machine_shape": "hm"
    }
  },
  "cells": [
    {
      "cell_type": "markdown",
      "metadata": {
        "id": "pVvUH7Sf3Glh",
        "colab_type": "text"
      },
      "source": [
        "# Project Description: \n",
        "### Analysis of Blog Authorship Corpus and Classification\n"
      ]
    },
    {
      "cell_type": "markdown",
      "metadata": {
        "id": "g5cuKw7q3Glm",
        "colab_type": "text"
      },
      "source": [
        "### Analysis of Blog Authorship Corpus and Classification"
      ]
    },
    {
      "cell_type": "markdown",
      "metadata": {
        "id": "3zFRDEPH3Glo",
        "colab_type": "text"
      },
      "source": [
        "####\t1. Load the dataset (5 points)"
      ]
    },
    {
      "cell_type": "code",
      "metadata": {
        "id": "A25t4bKO3Glp",
        "colab_type": "code",
        "colab": {}
      },
      "source": [
        "import pandas as pd\n",
        "import numpy as np\n",
        "import scipy as sp\n",
        "from sklearn.model_selection import train_test_split\n",
        "from sklearn.feature_extraction.text import CountVectorizer, TfidfVectorizer\n",
        "from sklearn.naive_bayes import MultinomialNB\n",
        "from sklearn.linear_model import LogisticRegression\n",
        "from sklearn import metrics\n",
        "%matplotlib inline\n",
        "\n",
        "import warnings\n",
        "warnings.filterwarnings('ignore')\n",
        "\n",
        "import matplotlib.pyplot as plt "
      ],
      "execution_count": 0,
      "outputs": []
    },
    {
      "cell_type": "code",
      "metadata": {
        "id": "8P90-nYJ4D5c",
        "colab_type": "code",
        "outputId": "a979591d-da92-49b6-ca84-a71cbf512c83",
        "colab": {
          "base_uri": "https://localhost:8080/",
          "height": 34
        }
      },
      "source": [
        "from google.colab import drive\n",
        "drive.mount('/drive')"
      ],
      "execution_count": 2,
      "outputs": [
        {
          "output_type": "stream",
          "text": [
            "Mounted at /drive\n"
          ],
          "name": "stdout"
        }
      ]
    },
    {
      "cell_type": "code",
      "metadata": {
        "id": "h1rBoB0t4EbI",
        "colab_type": "code",
        "colab": {}
      },
      "source": [
        ""
      ],
      "execution_count": 0,
      "outputs": []
    },
    {
      "cell_type": "code",
      "metadata": {
        "id": "5foGxIIv3Glv",
        "colab_type": "code",
        "colab": {}
      },
      "source": [
        "df = pd.read_csv('/drive/My Drive/Colab Notebooks/SNLP/blogtext.csv')"
      ],
      "execution_count": 0,
      "outputs": []
    },
    {
      "cell_type": "code",
      "metadata": {
        "id": "-LrKH8-23wgF",
        "colab_type": "code",
        "outputId": "cbd70fd3-4c52-49d9-b782-94133d12fc85",
        "colab": {
          "base_uri": "https://localhost:8080/",
          "height": 34
        }
      },
      "source": [
        "from google.colab import drive\n",
        "drive.mount('/content/drive')"
      ],
      "execution_count": 4,
      "outputs": [
        {
          "output_type": "stream",
          "text": [
            "Mounted at /content/drive\n"
          ],
          "name": "stdout"
        }
      ]
    },
    {
      "cell_type": "code",
      "metadata": {
        "id": "gacLGuNj3Glz",
        "colab_type": "code",
        "outputId": "04536490-d79f-4aa1-ee54-5321b3cb9087",
        "colab": {
          "base_uri": "https://localhost:8080/",
          "height": 226
        }
      },
      "source": [
        "df.info()"
      ],
      "execution_count": 5,
      "outputs": [
        {
          "output_type": "stream",
          "text": [
            "<class 'pandas.core.frame.DataFrame'>\n",
            "RangeIndex: 681284 entries, 0 to 681283\n",
            "Data columns (total 7 columns):\n",
            "id        681284 non-null int64\n",
            "gender    681284 non-null object\n",
            "age       681284 non-null int64\n",
            "topic     681284 non-null object\n",
            "sign      681284 non-null object\n",
            "date      681284 non-null object\n",
            "text      681284 non-null object\n",
            "dtypes: int64(2), object(5)\n",
            "memory usage: 36.4+ MB\n"
          ],
          "name": "stdout"
        }
      ]
    },
    {
      "cell_type": "markdown",
      "metadata": {
        "id": "eCb0xB0G3Gl6",
        "colab_type": "raw"
      },
      "source": [
        "There are total 681284 records are there and no null values in the data."
      ]
    },
    {
      "cell_type": "code",
      "metadata": {
        "id": "ckocOcJI52Bg",
        "colab_type": "code",
        "colab": {}
      },
      "source": [
        ""
      ],
      "execution_count": 0,
      "outputs": []
    },
    {
      "cell_type": "code",
      "metadata": {
        "id": "JU1_i0-V3Gl8",
        "colab_type": "code",
        "outputId": "9889a83e-770a-4beb-b064-b9d2c64bbfee",
        "colab": {
          "base_uri": "https://localhost:8080/",
          "height": 34
        }
      },
      "source": [
        "df.drop_duplicates(subset=\"text\",inplace=True)\n",
        "df.shape"
      ],
      "execution_count": 6,
      "outputs": [
        {
          "output_type": "execute_result",
          "data": {
            "text/plain": [
              "(611652, 7)"
            ]
          },
          "metadata": {
            "tags": []
          },
          "execution_count": 6
        }
      ]
    },
    {
      "cell_type": "code",
      "metadata": {
        "id": "QPJCMRnv3GmB",
        "colab_type": "code",
        "outputId": "68f403b3-9d37-4791-b87f-8d55373f1099",
        "colab": {
          "base_uri": "https://localhost:8080/",
          "height": 174
        }
      },
      "source": [
        "df.text.str.len().describe()"
      ],
      "execution_count": 7,
      "outputs": [
        {
          "output_type": "execute_result",
          "data": {
            "text/plain": [
              "count    611652.000000\n",
              "mean       1163.233872\n",
              "std        2419.298950\n",
              "min           4.000000\n",
              "25%         250.000000\n",
              "50%         676.000000\n",
              "75%        1459.000000\n",
              "max      790123.000000\n",
              "Name: text, dtype: float64"
            ]
          },
          "metadata": {
            "tags": []
          },
          "execution_count": 7
        }
      ]
    },
    {
      "cell_type": "code",
      "metadata": {
        "id": "TtZPlM0E3GmF",
        "colab_type": "code",
        "outputId": "093cf22b-74b9-45ae-c8d7-c7b8db183a00",
        "colab": {
          "base_uri": "https://localhost:8080/",
          "height": 282
        }
      },
      "source": [
        "df.text.str.len().plot()"
      ],
      "execution_count": 8,
      "outputs": [
        {
          "output_type": "execute_result",
          "data": {
            "text/plain": [
              "<matplotlib.axes._subplots.AxesSubplot at 0x7ff02a4b3f28>"
            ]
          },
          "metadata": {
            "tags": []
          },
          "execution_count": 8
        },
        {
          "output_type": "display_data",
          "data": {
            "image/png": "[encoded data removed]",
            "text/plain": [
              "<Figure size 432x288 with 1 Axes>"
            ]
          },
          "metadata": {
            "tags": []
          }
        }
      ]
    },
    {
      "cell_type": "markdown",
      "metadata": {
        "id": "1HC5-QBfq5wm",
        "colab_type": "text"
      },
      "source": [
        "From the above diagram it looks like some  tweets have abnormally excessive no of words/characters, so we need to decide on limiting the length of the tweets. "
      ]
    },
    {
      "cell_type": "code",
      "metadata": {
        "id": "VUdDRrLr3GmL",
        "colab_type": "code",
        "outputId": "0b343f75-c474-4483-9405-d354da4910ba",
        "colab": {
          "base_uri": "https://localhost:8080/",
          "height": 732
        }
      },
      "source": [
        "print(df.topic.value_counts())"
      ],
      "execution_count": 9,
      "outputs": [
        {
          "output_type": "stream",
          "text": [
            "indUnk                     230835\n",
            "Student                    136051\n",
            "Technology                  34430\n",
            "Education                   28477\n",
            "Arts                        26387\n",
            "Communications-Media        19037\n",
            "Internet                    15545\n",
            "Non-Profit                  13029\n",
            "Engineering                 10573\n",
            "Law                          8701\n",
            "Publishing                   7248\n",
            "Science                      6500\n",
            "Government                   6139\n",
            "Consulting                   5339\n",
            "Fashion                      4545\n",
            "Marketing                    4508\n",
            "Religion                     4503\n",
            "Advertising                  4446\n",
            "BusinessServices             4251\n",
            "Accounting                   3672\n",
            "Telecommunications           3670\n",
            "Military                     2995\n",
            "Banking                      2893\n",
            "Sports-Recreation            2747\n",
            "Chemicals                    2455\n",
            "HumanResources               2354\n",
            "RealEstate                   2327\n",
            "Transportation               2143\n",
            "Manufacturing                2008\n",
            "Museums-Libraries            1899\n",
            "Biotech                      1850\n",
            "LawEnforcement-Security      1805\n",
            "Tourism                      1734\n",
            "Architecture                 1288\n",
            "InvestmentBanking            1268\n",
            "Agriculture                  1226\n",
            "Automotive                   1218\n",
            "Construction                  976\n",
            "Environment                   345\n",
            "Maritime                      235\n",
            "Name: topic, dtype: int64\n"
          ],
          "name": "stdout"
        }
      ]
    },
    {
      "cell_type": "markdown",
      "metadata": {
        "id": "M5m0r0Jq3GmQ",
        "colab_type": "raw"
      },
      "source": [
        "Maximum no of posts are on \"indunk\" and least no of posts on the topic Maritime"
      ]
    },
    {
      "cell_type": "code",
      "metadata": {
        "id": "YgG6jdVxsblH",
        "colab_type": "code",
        "outputId": "4361fef2-5b5a-4b5f-cfa7-d93268256187",
        "colab": {
          "base_uri": "https://localhost:8080/",
          "height": 226
        }
      },
      "source": [
        "print(df.id.value_counts())"
      ],
      "execution_count": 10,
      "outputs": [
        {
          "output_type": "stream",
          "text": [
            "449628     4167\n",
            "589736     2288\n",
            "958176     2240\n",
            "303162     2111\n",
            "942828     2068\n",
            "           ... \n",
            "3741966       1\n",
            "705633        1\n",
            "3343527       1\n",
            "3337329       1\n",
            "4327103       1\n",
            "Name: id, Length: 18981, dtype: int64\n"
          ],
          "name": "stdout"
        }
      ]
    },
    {
      "cell_type": "code",
      "metadata": {
        "id": "1NlBjro_4E9N",
        "colab_type": "code",
        "outputId": "70facb30-6d0c-4284-95c6-d095291cb2d1",
        "colab": {
          "base_uri": "https://localhost:8080/",
          "height": 282
        }
      },
      "source": [
        "df.groupby(\"id\")[\"id\"].transform(\"count\").plot()"
      ],
      "execution_count": 11,
      "outputs": [
        {
          "output_type": "execute_result",
          "data": {
            "text/plain": [
              "<matplotlib.axes._subplots.AxesSubplot at 0x7ff02d8d0cc0>"
            ]
          },
          "metadata": {
            "tags": []
          },
          "execution_count": 11
        },
        {
          "output_type": "display_data",
          "data": {
            "image/png": "[encoded data removed]",
            "text/plain": [
              "<Figure size 432x288 with 1 Axes>"
            ]
          },
          "metadata": {
            "tags": []
          }
        }
      ]
    },
    {
      "cell_type": "code",
      "metadata": {
        "id": "gePchj291aZI",
        "colab_type": "code",
        "outputId": "a6b3fe51-c59a-4bc8-babe-d29bc90b0831",
        "colab": {
          "base_uri": "https://localhost:8080/",
          "height": 296
        }
      },
      "source": [
        "# Looks like some users have more frequent posts, so trying to remove the users with more than 150 posts, to avoid the bias\n",
        "df = df.loc[df.groupby(\"id\")[\"id\"].transform(\"count\")<150]\n",
        "df.describe()"
      ],
      "execution_count": 12,
      "outputs": [
        {
          "output_type": "execute_result",
          "data": {
            "text/html": [
              "<div>\n",
              "<style scoped>\n",
              "    .dataframe tbody tr th:only-of-type {\n",
              "        vertical-align: middle;\n",
              "    }\n",
              "\n",
              "    .dataframe tbody tr th {\n",
              "        vertical-align: top;\n",
              "    }\n",
              "\n",
              "    .dataframe thead th {\n",
              "        text-align: right;\n",
              "    }\n",
              "</style>\n",
              "<table border=\"1\" class=\"dataframe\">\n",
              "  <thead>\n",
              "    <tr style=\"text-align: right;\">\n",
              "      <th></th>\n",
              "      <th>id</th>\n",
              "      <th>age</th>\n",
              "    </tr>\n",
              "  </thead>\n",
              "  <tbody>\n",
              "    <tr>\n",
              "      <th>count</th>\n",
              "      <td>3.507630e+05</td>\n",
              "      <td>350763.000000</td>\n",
              "    </tr>\n",
              "    <tr>\n",
              "      <th>mean</th>\n",
              "      <td>3.063872e+06</td>\n",
              "      <td>23.176213</td>\n",
              "    </tr>\n",
              "    <tr>\n",
              "      <th>std</th>\n",
              "      <td>1.000698e+06</td>\n",
              "      <td>7.715171</td>\n",
              "    </tr>\n",
              "    <tr>\n",
              "      <th>min</th>\n",
              "      <td>7.596000e+03</td>\n",
              "      <td>13.000000</td>\n",
              "    </tr>\n",
              "    <tr>\n",
              "      <th>25%</th>\n",
              "      <td>2.608756e+06</td>\n",
              "      <td>16.000000</td>\n",
              "    </tr>\n",
              "    <tr>\n",
              "      <th>50%</th>\n",
              "      <td>3.424891e+06</td>\n",
              "      <td>23.000000</td>\n",
              "    </tr>\n",
              "    <tr>\n",
              "      <th>75%</th>\n",
              "      <td>3.763415e+06</td>\n",
              "      <td>26.000000</td>\n",
              "    </tr>\n",
              "    <tr>\n",
              "      <th>max</th>\n",
              "      <td>4.337650e+06</td>\n",
              "      <td>48.000000</td>\n",
              "    </tr>\n",
              "  </tbody>\n",
              "</table>\n",
              "</div>"
            ],
            "text/plain": [
              "                 id            age\n",
              "count  3.507630e+05  350763.000000\n",
              "mean   3.063872e+06      23.176213\n",
              "std    1.000698e+06       7.715171\n",
              "min    7.596000e+03      13.000000\n",
              "25%    2.608756e+06      16.000000\n",
              "50%    3.424891e+06      23.000000\n",
              "75%    3.763415e+06      26.000000\n",
              "max    4.337650e+06      48.000000"
            ]
          },
          "metadata": {
            "tags": []
          },
          "execution_count": 12
        }
      ]
    },
    {
      "cell_type": "code",
      "metadata": {
        "id": "8z7Kmbb5v1kF",
        "colab_type": "code",
        "outputId": "bee52992-796a-454e-bf42-81c06a2ec5f3",
        "colab": {
          "base_uri": "https://localhost:8080/",
          "height": 418
        }
      },
      "source": [
        "df.apply(lambda x: x.strip() if isinstance(x, str) else x).tail(100)\n"
      ],
      "execution_count": 13,
      "outputs": [
        {
          "output_type": "execute_result",
          "data": {
            "text/html": [
              "<div>\n",
              "<style scoped>\n",
              "    .dataframe tbody tr th:only-of-type {\n",
              "        vertical-align: middle;\n",
              "    }\n",
              "\n",
              "    .dataframe tbody tr th {\n",
              "        vertical-align: top;\n",
              "    }\n",
              "\n",
              "    .dataframe thead th {\n",
              "        text-align: right;\n",
              "    }\n",
              "</style>\n",
              "<table border=\"1\" class=\"dataframe\">\n",
              "  <thead>\n",
              "    <tr style=\"text-align: right;\">\n",
              "      <th></th>\n",
              "      <th>id</th>\n",
              "      <th>gender</th>\n",
              "      <th>age</th>\n",
              "      <th>topic</th>\n",
              "      <th>sign</th>\n",
              "      <th>date</th>\n",
              "      <th>text</th>\n",
              "    </tr>\n",
              "  </thead>\n",
              "  <tbody>\n",
              "    <tr>\n",
              "      <th>681061</th>\n",
              "      <td>3661649</td>\n",
              "      <td>female</td>\n",
              "      <td>13</td>\n",
              "      <td>Student</td>\n",
              "      <td>Pisces</td>\n",
              "      <td>21,July,2004</td>\n",
              "      <td>urlLink    he awake.. 'HuH?....</td>\n",
              "    </tr>\n",
              "    <tr>\n",
              "      <th>681062</th>\n",
              "      <td>3661649</td>\n",
              "      <td>female</td>\n",
              "      <td>13</td>\n",
              "      <td>Student</td>\n",
              "      <td>Pisces</td>\n",
              "      <td>21,July,2004</td>\n",
              "      <td>urlLink    this is another p...</td>\n",
              "    </tr>\n",
              "    <tr>\n",
              "      <th>681063</th>\n",
              "      <td>3661649</td>\n",
              "      <td>female</td>\n",
              "      <td>13</td>\n",
              "      <td>Student</td>\n",
              "      <td>Pisces</td>\n",
              "      <td>21,July,2004</td>\n",
              "      <td>urlLink    JuaN ThouGht:'OmG...</td>\n",
              "    </tr>\n",
              "    <tr>\n",
              "      <th>681064</th>\n",
              "      <td>3661649</td>\n",
              "      <td>female</td>\n",
              "      <td>13</td>\n",
              "      <td>Student</td>\n",
              "      <td>Pisces</td>\n",
              "      <td>21,July,2004</td>\n",
              "      <td>urlLink    *StaRt* JuaN Saw ...</td>\n",
              "    </tr>\n",
              "    <tr>\n",
              "      <th>681065</th>\n",
              "      <td>3661649</td>\n",
              "      <td>female</td>\n",
              "      <td>13</td>\n",
              "      <td>Student</td>\n",
              "      <td>Pisces</td>\n",
              "      <td>21,July,2004</td>\n",
              "      <td>WuppZz!! i press the enter bu...</td>\n",
              "    </tr>\n",
              "    <tr>\n",
              "      <th>...</th>\n",
              "      <td>...</td>\n",
              "      <td>...</td>\n",
              "      <td>...</td>\n",
              "      <td>...</td>\n",
              "      <td>...</td>\n",
              "      <td>...</td>\n",
              "      <td>...</td>\n",
              "    </tr>\n",
              "    <tr>\n",
              "      <th>681156</th>\n",
              "      <td>4260903</td>\n",
              "      <td>female</td>\n",
              "      <td>34</td>\n",
              "      <td>indUnk</td>\n",
              "      <td>Virgo</td>\n",
              "      <td>23,August,2004</td>\n",
              "      <td>I ran around cleaning all mor...</td>\n",
              "    </tr>\n",
              "    <tr>\n",
              "      <th>681157</th>\n",
              "      <td>4260903</td>\n",
              "      <td>female</td>\n",
              "      <td>34</td>\n",
              "      <td>indUnk</td>\n",
              "      <td>Virgo</td>\n",
              "      <td>21,August,2004</td>\n",
              "      <td>We just got back from Six Fla...</td>\n",
              "    </tr>\n",
              "    <tr>\n",
              "      <th>681158</th>\n",
              "      <td>4260903</td>\n",
              "      <td>female</td>\n",
              "      <td>34</td>\n",
              "      <td>indUnk</td>\n",
              "      <td>Virgo</td>\n",
              "      <td>19,August,2004</td>\n",
              "      <td>urlLink     I  felt kind of ...</td>\n",
              "    </tr>\n",
              "    <tr>\n",
              "      <th>681159</th>\n",
              "      <td>4260903</td>\n",
              "      <td>female</td>\n",
              "      <td>34</td>\n",
              "      <td>indUnk</td>\n",
              "      <td>Virgo</td>\n",
              "      <td>18,August,2004</td>\n",
              "      <td>Wow, I love fruit.  I read th...</td>\n",
              "    </tr>\n",
              "    <tr>\n",
              "      <th>681160</th>\n",
              "      <td>4260903</td>\n",
              "      <td>female</td>\n",
              "      <td>34</td>\n",
              "      <td>indUnk</td>\n",
              "      <td>Virgo</td>\n",
              "      <td>18,August,2004</td>\n",
              "      <td>I want to consider myself a r...</td>\n",
              "    </tr>\n",
              "  </tbody>\n",
              "</table>\n",
              "<p>100 rows × 7 columns</p>\n",
              "</div>"
            ],
            "text/plain": [
              "             id  ...                                               text\n",
              "681061  3661649  ...                    urlLink    he awake.. 'HuH?....\n",
              "681062  3661649  ...                    urlLink    this is another p...\n",
              "681063  3661649  ...                    urlLink    JuaN ThouGht:'OmG...\n",
              "681064  3661649  ...                    urlLink    *StaRt* JuaN Saw ...\n",
              "681065  3661649  ...                   WuppZz!! i press the enter bu...\n",
              "...         ...  ...                                                ...\n",
              "681156  4260903  ...                   I ran around cleaning all mor...\n",
              "681157  4260903  ...                   We just got back from Six Fla...\n",
              "681158  4260903  ...                    urlLink     I  felt kind of ...\n",
              "681159  4260903  ...                   Wow, I love fruit.  I read th...\n",
              "681160  4260903  ...                   I want to consider myself a r...\n",
              "\n",
              "[100 rows x 7 columns]"
            ]
          },
          "metadata": {
            "tags": []
          },
          "execution_count": 13
        }
      ]
    },
    {
      "cell_type": "code",
      "metadata": {
        "id": "uXCLneFazExf",
        "colab_type": "code",
        "colab": {}
      },
      "source": [
        "#Normalizing the data by considering only the posts that are having minimum 7 characters and maximum 18000 characters\n",
        "df = df.loc[(df.text.str.len() < 18000) & (df.text.str.len() > 7)]"
      ],
      "execution_count": 0,
      "outputs": []
    },
    {
      "cell_type": "code",
      "metadata": {
        "id": "Q-JMkd1yzvK4",
        "colab_type": "code",
        "outputId": "1e83fc84-534b-4919-8be3-79162892740a",
        "colab": {
          "base_uri": "https://localhost:8080/",
          "height": 34
        }
      },
      "source": [
        "df[\"text\"]=df[\"text\"].replace('&nbsp;',\" \")\n",
        "\n",
        "df.shape"
      ],
      "execution_count": 15,
      "outputs": [
        {
          "output_type": "execute_result",
          "data": {
            "text/plain": [
              "(350247, 7)"
            ]
          },
          "metadata": {
            "tags": []
          },
          "execution_count": 15
        }
      ]
    },
    {
      "cell_type": "code",
      "metadata": {
        "id": "_491Ke8R0MfI",
        "colab_type": "code",
        "outputId": "2edcb68c-dc42-4ef5-a06b-64aaf8e61e15",
        "colab": {
          "base_uri": "https://localhost:8080/",
          "height": 203
        }
      },
      "source": [
        "df[df.text.str.len() < 30].tail()"
      ],
      "execution_count": 16,
      "outputs": [
        {
          "output_type": "execute_result",
          "data": {
            "text/html": [
              "<div>\n",
              "<style scoped>\n",
              "    .dataframe tbody tr th:only-of-type {\n",
              "        vertical-align: middle;\n",
              "    }\n",
              "\n",
              "    .dataframe tbody tr th {\n",
              "        vertical-align: top;\n",
              "    }\n",
              "\n",
              "    .dataframe thead th {\n",
              "        text-align: right;\n",
              "    }\n",
              "</style>\n",
              "<table border=\"1\" class=\"dataframe\">\n",
              "  <thead>\n",
              "    <tr style=\"text-align: right;\">\n",
              "      <th></th>\n",
              "      <th>id</th>\n",
              "      <th>gender</th>\n",
              "      <th>age</th>\n",
              "      <th>topic</th>\n",
              "      <th>sign</th>\n",
              "      <th>date</th>\n",
              "      <th>text</th>\n",
              "    </tr>\n",
              "  </thead>\n",
              "  <tbody>\n",
              "    <tr>\n",
              "      <th>678269</th>\n",
              "      <td>3734848</td>\n",
              "      <td>male</td>\n",
              "      <td>27</td>\n",
              "      <td>Student</td>\n",
              "      <td>Cancer</td>\n",
              "      <td>23,June,2004</td>\n",
              "      <td>Hello, world!</td>\n",
              "    </tr>\n",
              "    <tr>\n",
              "      <th>678551</th>\n",
              "      <td>3173282</td>\n",
              "      <td>female</td>\n",
              "      <td>17</td>\n",
              "      <td>Student</td>\n",
              "      <td>Leo</td>\n",
              "      <td>25,May,2004</td>\n",
              "      <td>it's true.</td>\n",
              "    </tr>\n",
              "    <tr>\n",
              "      <th>678919</th>\n",
              "      <td>3527397</td>\n",
              "      <td>male</td>\n",
              "      <td>46</td>\n",
              "      <td>Technology</td>\n",
              "      <td>Taurus</td>\n",
              "      <td>09,June,2004</td>\n",
              "      <td>BOOGA BOOGA</td>\n",
              "    </tr>\n",
              "    <tr>\n",
              "      <th>678931</th>\n",
              "      <td>3527397</td>\n",
              "      <td>male</td>\n",
              "      <td>46</td>\n",
              "      <td>Technology</td>\n",
              "      <td>Taurus</td>\n",
              "      <td>09,July,2004</td>\n",
              "      <td>BLOGG!!!</td>\n",
              "    </tr>\n",
              "    <tr>\n",
              "      <th>679763</th>\n",
              "      <td>4147130</td>\n",
              "      <td>male</td>\n",
              "      <td>33</td>\n",
              "      <td>indUnk</td>\n",
              "      <td>Capricorn</td>\n",
              "      <td>16,August,2004</td>\n",
              "      <td>this one - hello</td>\n",
              "    </tr>\n",
              "  </tbody>\n",
              "</table>\n",
              "</div>"
            ],
            "text/plain": [
              "             id  gender  ...            date                           text\n",
              "678269  3734848    male  ...    23,June,2004         Hello, world!         \n",
              "678551  3173282  female  ...     25,May,2004            it's true.         \n",
              "678919  3527397    male  ...    09,June,2004           BOOGA BOOGA         \n",
              "678931  3527397    male  ...    09,July,2004              BLOGG!!!         \n",
              "679763  4147130    male  ...  16,August,2004           this one - hello    \n",
              "\n",
              "[5 rows x 7 columns]"
            ]
          },
          "metadata": {
            "tags": []
          },
          "execution_count": 16
        }
      ]
    },
    {
      "cell_type": "code",
      "metadata": {
        "id": "EAnSdYWPzvyl",
        "colab_type": "code",
        "colab": {}
      },
      "source": [
        ""
      ],
      "execution_count": 0,
      "outputs": []
    },
    {
      "cell_type": "code",
      "metadata": {
        "id": "kPwdSI1nzHfT",
        "colab_type": "code",
        "outputId": "6062a341-2a86-44e2-bfbb-52db07d554a5",
        "colab": {
          "base_uri": "https://localhost:8080/",
          "height": 282
        }
      },
      "source": [
        "df.shape\n",
        "df.text.str.len().plot()"
      ],
      "execution_count": 17,
      "outputs": [
        {
          "output_type": "execute_result",
          "data": {
            "text/plain": [
              "<matplotlib.axes._subplots.AxesSubplot at 0x7ff02a6d6b38>"
            ]
          },
          "metadata": {
            "tags": []
          },
          "execution_count": 17
        },
        {
          "output_type": "display_data",
          "data": {
            "image/png": "[encoded data removed]",
            "text/plain": [
              "<Figure size 432x288 with 1 Axes>"
            ]
          },
          "metadata": {
            "tags": []
          }
        }
      ]
    },
    {
      "cell_type": "code",
      "metadata": {
        "id": "y_gFXxKS3GmR",
        "colab_type": "code",
        "colab": {}
      },
      "source": [
        "df[\"word_count\"] = df.text.str.split().str.len()"
      ],
      "execution_count": 0,
      "outputs": []
    },
    {
      "cell_type": "code",
      "metadata": {
        "scrolled": true,
        "id": "OXQQdDLZ3GmW",
        "colab_type": "code",
        "outputId": "53e3ea0e-3f3e-49ba-de82-bce8d885af6b",
        "colab": {
          "base_uri": "https://localhost:8080/",
          "height": 358
        }
      },
      "source": [
        "df.head(10)"
      ],
      "execution_count": 19,
      "outputs": [
        {
          "output_type": "execute_result",
          "data": {
            "text/html": [
              "<div>\n",
              "<style scoped>\n",
              "    .dataframe tbody tr th:only-of-type {\n",
              "        vertical-align: middle;\n",
              "    }\n",
              "\n",
              "    .dataframe tbody tr th {\n",
              "        vertical-align: top;\n",
              "    }\n",
              "\n",
              "    .dataframe thead th {\n",
              "        text-align: right;\n",
              "    }\n",
              "</style>\n",
              "<table border=\"1\" class=\"dataframe\">\n",
              "  <thead>\n",
              "    <tr style=\"text-align: right;\">\n",
              "      <th></th>\n",
              "      <th>id</th>\n",
              "      <th>gender</th>\n",
              "      <th>age</th>\n",
              "      <th>topic</th>\n",
              "      <th>sign</th>\n",
              "      <th>date</th>\n",
              "      <th>text</th>\n",
              "      <th>word_count</th>\n",
              "    </tr>\n",
              "  </thead>\n",
              "  <tbody>\n",
              "    <tr>\n",
              "      <th>0</th>\n",
              "      <td>2059027</td>\n",
              "      <td>male</td>\n",
              "      <td>15</td>\n",
              "      <td>Student</td>\n",
              "      <td>Leo</td>\n",
              "      <td>14,May,2004</td>\n",
              "      <td>Info has been found (+/- 100 pages,...</td>\n",
              "      <td>28</td>\n",
              "    </tr>\n",
              "    <tr>\n",
              "      <th>1</th>\n",
              "      <td>2059027</td>\n",
              "      <td>male</td>\n",
              "      <td>15</td>\n",
              "      <td>Student</td>\n",
              "      <td>Leo</td>\n",
              "      <td>13,May,2004</td>\n",
              "      <td>These are the team members:   Drewe...</td>\n",
              "      <td>20</td>\n",
              "    </tr>\n",
              "    <tr>\n",
              "      <th>3</th>\n",
              "      <td>2059027</td>\n",
              "      <td>male</td>\n",
              "      <td>15</td>\n",
              "      <td>Student</td>\n",
              "      <td>Leo</td>\n",
              "      <td>12,May,2004</td>\n",
              "      <td>testing!!!  testing!!!</td>\n",
              "      <td>2</td>\n",
              "    </tr>\n",
              "    <tr>\n",
              "      <th>4</th>\n",
              "      <td>3581210</td>\n",
              "      <td>male</td>\n",
              "      <td>33</td>\n",
              "      <td>InvestmentBanking</td>\n",
              "      <td>Aquarius</td>\n",
              "      <td>11,June,2004</td>\n",
              "      <td>Thanks to Yahoo!'s Toolbar I can ...</td>\n",
              "      <td>65</td>\n",
              "    </tr>\n",
              "    <tr>\n",
              "      <th>5</th>\n",
              "      <td>3581210</td>\n",
              "      <td>male</td>\n",
              "      <td>33</td>\n",
              "      <td>InvestmentBanking</td>\n",
              "      <td>Aquarius</td>\n",
              "      <td>10,June,2004</td>\n",
              "      <td>I had an interesting conversation...</td>\n",
              "      <td>662</td>\n",
              "    </tr>\n",
              "    <tr>\n",
              "      <th>6</th>\n",
              "      <td>3581210</td>\n",
              "      <td>male</td>\n",
              "      <td>33</td>\n",
              "      <td>InvestmentBanking</td>\n",
              "      <td>Aquarius</td>\n",
              "      <td>10,June,2004</td>\n",
              "      <td>Somehow Coca-Cola has a way of su...</td>\n",
              "      <td>196</td>\n",
              "    </tr>\n",
              "    <tr>\n",
              "      <th>7</th>\n",
              "      <td>3581210</td>\n",
              "      <td>male</td>\n",
              "      <td>33</td>\n",
              "      <td>InvestmentBanking</td>\n",
              "      <td>Aquarius</td>\n",
              "      <td>10,June,2004</td>\n",
              "      <td>If anything, Korea is a country o...</td>\n",
              "      <td>387</td>\n",
              "    </tr>\n",
              "    <tr>\n",
              "      <th>8</th>\n",
              "      <td>3581210</td>\n",
              "      <td>male</td>\n",
              "      <td>33</td>\n",
              "      <td>InvestmentBanking</td>\n",
              "      <td>Aquarius</td>\n",
              "      <td>10,June,2004</td>\n",
              "      <td>Take a read of this news article ...</td>\n",
              "      <td>386</td>\n",
              "    </tr>\n",
              "    <tr>\n",
              "      <th>9</th>\n",
              "      <td>3581210</td>\n",
              "      <td>male</td>\n",
              "      <td>33</td>\n",
              "      <td>InvestmentBanking</td>\n",
              "      <td>Aquarius</td>\n",
              "      <td>09,June,2004</td>\n",
              "      <td>I surf the English news sites a l...</td>\n",
              "      <td>160</td>\n",
              "    </tr>\n",
              "    <tr>\n",
              "      <th>10</th>\n",
              "      <td>3581210</td>\n",
              "      <td>male</td>\n",
              "      <td>33</td>\n",
              "      <td>InvestmentBanking</td>\n",
              "      <td>Aquarius</td>\n",
              "      <td>09,June,2004</td>\n",
              "      <td>Ah, the Korean language...it look...</td>\n",
              "      <td>296</td>\n",
              "    </tr>\n",
              "  </tbody>\n",
              "</table>\n",
              "</div>"
            ],
            "text/plain": [
              "         id  ... word_count\n",
              "0   2059027  ...         28\n",
              "1   2059027  ...         20\n",
              "3   2059027  ...          2\n",
              "4   3581210  ...         65\n",
              "5   3581210  ...        662\n",
              "6   3581210  ...        196\n",
              "7   3581210  ...        387\n",
              "8   3581210  ...        386\n",
              "9   3581210  ...        160\n",
              "10  3581210  ...        296\n",
              "\n",
              "[10 rows x 8 columns]"
            ]
          },
          "metadata": {
            "tags": []
          },
          "execution_count": 19
        }
      ]
    },
    {
      "cell_type": "code",
      "metadata": {
        "id": "2GASQ6MS3Gmb",
        "colab_type": "code",
        "outputId": "ff3f5b3e-7499-405c-ae5f-053eb09eb955",
        "colab": {
          "base_uri": "https://localhost:8080/",
          "height": 87
        }
      },
      "source": [
        "df[\"age_group\"] = pd.qcut(df[\"age\"],3,precision=0,)\n",
        "df.age_group.value_counts()"
      ],
      "execution_count": 20,
      "outputs": [
        {
          "output_type": "execute_result",
          "data": {
            "text/plain": [
              "(12.0, 17.0]    136353\n",
              "(17.0, 25.0]    110531\n",
              "(25.0, 48.0]    103363\n",
              "Name: age_group, dtype: int64"
            ]
          },
          "metadata": {
            "tags": []
          },
          "execution_count": 20
        }
      ]
    },
    {
      "cell_type": "code",
      "metadata": {
        "id": "w1JjSeEV3Gmi",
        "colab_type": "code",
        "outputId": "11c5b78a-70de-4835-c172-e7e7bdffcaab",
        "colab": {
          "base_uri": "https://localhost:8080/",
          "height": 226
        }
      },
      "source": [
        "df.text"
      ],
      "execution_count": 21,
      "outputs": [
        {
          "output_type": "execute_result",
          "data": {
            "text/plain": [
              "0                    Info has been found (+/- 100 pages,...\n",
              "1                    These are the team members:   Drewe...\n",
              "3                          testing!!!  testing!!!          \n",
              "4                      Thanks to Yahoo!'s Toolbar I can ...\n",
              "5                      I had an interesting conversation...\n",
              "                                ...                        \n",
              "681156                     I ran around cleaning all mor...\n",
              "681157                     We just got back from Six Fla...\n",
              "681158                      urlLink     I  felt kind of ...\n",
              "681159                     Wow, I love fruit.  I read th...\n",
              "681160                     I want to consider myself a r...\n",
              "Name: text, Length: 350247, dtype: object"
            ]
          },
          "metadata": {
            "tags": []
          },
          "execution_count": 21
        }
      ]
    },
    {
      "cell_type": "markdown",
      "metadata": {
        "id": "DVaBwUeC3Gmm",
        "colab_type": "text"
      },
      "source": [
        "#### 2.\tPreprocess rows of the “text” column (7.5 points)\n",
        "    a.\tRemove unwanted characters\n",
        "    b.\tConvert text to lowercase\n",
        "    c.\tRemove unwanted spaces\n",
        "    d.\tRemove stopwords\n"
      ]
    },
    {
      "cell_type": "code",
      "metadata": {
        "id": "XmD-84yZ3Gmn",
        "colab_type": "code",
        "outputId": "e56083b7-45a4-4114-afec-0fb186892b5f",
        "colab": {
          "base_uri": "https://localhost:8080/",
          "height": 203
        }
      },
      "source": [
        "# Convert text to lowercase\n",
        "df[\"text\"] = df.text.str.lower()\n",
        "df.head()"
      ],
      "execution_count": 22,
      "outputs": [
        {
          "output_type": "execute_result",
          "data": {
            "text/html": [
              "<div>\n",
              "<style scoped>\n",
              "    .dataframe tbody tr th:only-of-type {\n",
              "        vertical-align: middle;\n",
              "    }\n",
              "\n",
              "    .dataframe tbody tr th {\n",
              "        vertical-align: top;\n",
              "    }\n",
              "\n",
              "    .dataframe thead th {\n",
              "        text-align: right;\n",
              "    }\n",
              "</style>\n",
              "<table border=\"1\" class=\"dataframe\">\n",
              "  <thead>\n",
              "    <tr style=\"text-align: right;\">\n",
              "      <th></th>\n",
              "      <th>id</th>\n",
              "      <th>gender</th>\n",
              "      <th>age</th>\n",
              "      <th>topic</th>\n",
              "      <th>sign</th>\n",
              "      <th>date</th>\n",
              "      <th>text</th>\n",
              "      <th>word_count</th>\n",
              "      <th>age_group</th>\n",
              "    </tr>\n",
              "  </thead>\n",
              "  <tbody>\n",
              "    <tr>\n",
              "      <th>0</th>\n",
              "      <td>2059027</td>\n",
              "      <td>male</td>\n",
              "      <td>15</td>\n",
              "      <td>Student</td>\n",
              "      <td>Leo</td>\n",
              "      <td>14,May,2004</td>\n",
              "      <td>info has been found (+/- 100 pages,...</td>\n",
              "      <td>28</td>\n",
              "      <td>(12.0, 17.0]</td>\n",
              "    </tr>\n",
              "    <tr>\n",
              "      <th>1</th>\n",
              "      <td>2059027</td>\n",
              "      <td>male</td>\n",
              "      <td>15</td>\n",
              "      <td>Student</td>\n",
              "      <td>Leo</td>\n",
              "      <td>13,May,2004</td>\n",
              "      <td>these are the team members:   drewe...</td>\n",
              "      <td>20</td>\n",
              "      <td>(12.0, 17.0]</td>\n",
              "    </tr>\n",
              "    <tr>\n",
              "      <th>3</th>\n",
              "      <td>2059027</td>\n",
              "      <td>male</td>\n",
              "      <td>15</td>\n",
              "      <td>Student</td>\n",
              "      <td>Leo</td>\n",
              "      <td>12,May,2004</td>\n",
              "      <td>testing!!!  testing!!!</td>\n",
              "      <td>2</td>\n",
              "      <td>(12.0, 17.0]</td>\n",
              "    </tr>\n",
              "    <tr>\n",
              "      <th>4</th>\n",
              "      <td>3581210</td>\n",
              "      <td>male</td>\n",
              "      <td>33</td>\n",
              "      <td>InvestmentBanking</td>\n",
              "      <td>Aquarius</td>\n",
              "      <td>11,June,2004</td>\n",
              "      <td>thanks to yahoo!'s toolbar i can ...</td>\n",
              "      <td>65</td>\n",
              "      <td>(25.0, 48.0]</td>\n",
              "    </tr>\n",
              "    <tr>\n",
              "      <th>5</th>\n",
              "      <td>3581210</td>\n",
              "      <td>male</td>\n",
              "      <td>33</td>\n",
              "      <td>InvestmentBanking</td>\n",
              "      <td>Aquarius</td>\n",
              "      <td>10,June,2004</td>\n",
              "      <td>i had an interesting conversation...</td>\n",
              "      <td>662</td>\n",
              "      <td>(25.0, 48.0]</td>\n",
              "    </tr>\n",
              "  </tbody>\n",
              "</table>\n",
              "</div>"
            ],
            "text/plain": [
              "        id gender  ...  word_count     age_group\n",
              "0  2059027   male  ...          28  (12.0, 17.0]\n",
              "1  2059027   male  ...          20  (12.0, 17.0]\n",
              "3  2059027   male  ...           2  (12.0, 17.0]\n",
              "4  3581210   male  ...          65  (25.0, 48.0]\n",
              "5  3581210   male  ...         662  (25.0, 48.0]\n",
              "\n",
              "[5 rows x 9 columns]"
            ]
          },
          "metadata": {
            "tags": []
          },
          "execution_count": 22
        }
      ]
    },
    {
      "cell_type": "code",
      "metadata": {
        "id": "yt52dqBW3Gmr",
        "colab_type": "code",
        "outputId": "34529ab0-f1b4-4c76-c17c-c2add0ea09dd",
        "colab": {
          "base_uri": "https://localhost:8080/",
          "height": 203
        }
      },
      "source": [
        "#remove unwanted special characters\n",
        "df.text=df.text.str.replace(r\"[_:*~+%#@()>><<^!/\\&]\", \"\") \n",
        "df[\"word_count\"] = df.text.str.split().str.len()\n",
        "df.head()"
      ],
      "execution_count": 23,
      "outputs": [
        {
          "output_type": "execute_result",
          "data": {
            "text/html": [
              "<div>\n",
              "<style scoped>\n",
              "    .dataframe tbody tr th:only-of-type {\n",
              "        vertical-align: middle;\n",
              "    }\n",
              "\n",
              "    .dataframe tbody tr th {\n",
              "        vertical-align: top;\n",
              "    }\n",
              "\n",
              "    .dataframe thead th {\n",
              "        text-align: right;\n",
              "    }\n",
              "</style>\n",
              "<table border=\"1\" class=\"dataframe\">\n",
              "  <thead>\n",
              "    <tr style=\"text-align: right;\">\n",
              "      <th></th>\n",
              "      <th>id</th>\n",
              "      <th>gender</th>\n",
              "      <th>age</th>\n",
              "      <th>topic</th>\n",
              "      <th>sign</th>\n",
              "      <th>date</th>\n",
              "      <th>text</th>\n",
              "      <th>word_count</th>\n",
              "      <th>age_group</th>\n",
              "    </tr>\n",
              "  </thead>\n",
              "  <tbody>\n",
              "    <tr>\n",
              "      <th>0</th>\n",
              "      <td>2059027</td>\n",
              "      <td>male</td>\n",
              "      <td>15</td>\n",
              "      <td>Student</td>\n",
              "      <td>Leo</td>\n",
              "      <td>14,May,2004</td>\n",
              "      <td>info has been found - 100 pages, an...</td>\n",
              "      <td>28</td>\n",
              "      <td>(12.0, 17.0]</td>\n",
              "    </tr>\n",
              "    <tr>\n",
              "      <th>1</th>\n",
              "      <td>2059027</td>\n",
              "      <td>male</td>\n",
              "      <td>15</td>\n",
              "      <td>Student</td>\n",
              "      <td>Leo</td>\n",
              "      <td>13,May,2004</td>\n",
              "      <td>these are the team members   drewes...</td>\n",
              "      <td>20</td>\n",
              "      <td>(12.0, 17.0]</td>\n",
              "    </tr>\n",
              "    <tr>\n",
              "      <th>3</th>\n",
              "      <td>2059027</td>\n",
              "      <td>male</td>\n",
              "      <td>15</td>\n",
              "      <td>Student</td>\n",
              "      <td>Leo</td>\n",
              "      <td>12,May,2004</td>\n",
              "      <td>testing  testing</td>\n",
              "      <td>2</td>\n",
              "      <td>(12.0, 17.0]</td>\n",
              "    </tr>\n",
              "    <tr>\n",
              "      <th>4</th>\n",
              "      <td>3581210</td>\n",
              "      <td>male</td>\n",
              "      <td>33</td>\n",
              "      <td>InvestmentBanking</td>\n",
              "      <td>Aquarius</td>\n",
              "      <td>11,June,2004</td>\n",
              "      <td>thanks to yahoo's toolbar i can n...</td>\n",
              "      <td>65</td>\n",
              "      <td>(25.0, 48.0]</td>\n",
              "    </tr>\n",
              "    <tr>\n",
              "      <th>5</th>\n",
              "      <td>3581210</td>\n",
              "      <td>male</td>\n",
              "      <td>33</td>\n",
              "      <td>InvestmentBanking</td>\n",
              "      <td>Aquarius</td>\n",
              "      <td>10,June,2004</td>\n",
              "      <td>i had an interesting conversation...</td>\n",
              "      <td>660</td>\n",
              "      <td>(25.0, 48.0]</td>\n",
              "    </tr>\n",
              "  </tbody>\n",
              "</table>\n",
              "</div>"
            ],
            "text/plain": [
              "        id gender  ...  word_count     age_group\n",
              "0  2059027   male  ...          28  (12.0, 17.0]\n",
              "1  2059027   male  ...          20  (12.0, 17.0]\n",
              "3  2059027   male  ...           2  (12.0, 17.0]\n",
              "4  3581210   male  ...          65  (25.0, 48.0]\n",
              "5  3581210   male  ...         660  (25.0, 48.0]\n",
              "\n",
              "[5 rows x 9 columns]"
            ]
          },
          "metadata": {
            "tags": []
          },
          "execution_count": 23
        }
      ]
    },
    {
      "cell_type": "code",
      "metadata": {
        "id": "7yt_StWLSYaB",
        "colab_type": "code",
        "outputId": "00cab6f9-5cf5-47e7-c475-12f647d405ea",
        "colab": {
          "base_uri": "https://localhost:8080/",
          "height": 209
        }
      },
      "source": [
        "pd.set_option('display.max_colwidth' , 100)\n",
        "df['text'] = df['text'].str.replace( '[^\\w\\s]' , '' )\n",
        "df['text'].head(10)"
      ],
      "execution_count": 24,
      "outputs": [
        {
          "output_type": "execute_result",
          "data": {
            "text/plain": [
              "0                info has been found  100 pages and 45 mb of pdf files now i have to wait untill our t...\n",
              "1                these are the team members   drewes van der laag           urllink mail  ruiyu xie   ...\n",
              "3                                                                              testing  testing          \n",
              "4                  thanks to yahoos toolbar i can now capture the urls of popupswhich means now i can ...\n",
              "5                  i had an interesting conversation with my dad this morning  we were talking about w...\n",
              "6                  somehow cocacola has a way of summing up things so well  in the early 1970s they ha...\n",
              "7                  if anything korea is a country of extremes  everything here seems fadbased  i think...\n",
              "8                  take a read of this news article from urllink joongang ilbo  about north koreas opi...\n",
              "9                  i surf the english news sites a lot looking for tidbits on korea and how foreigners...\n",
              "10                 ah the korean languageit looks so difficult at first then as you figure out how to ...\n",
              "Name: text, dtype: object"
            ]
          },
          "metadata": {
            "tags": []
          },
          "execution_count": 24
        }
      ]
    },
    {
      "cell_type": "code",
      "metadata": {
        "id": "XbIPaq7MSZEu",
        "colab_type": "code",
        "outputId": "98fb5928-04f0-44c2-c082-cfa78357e51c",
        "colab": {
          "base_uri": "https://localhost:8080/",
          "height": 575
        }
      },
      "source": [
        "# Let's  remove the frequent words from the text; apart from the stopwords\n",
        "# first we will take whole tweets data and split into words and then calculate their frequency\n",
        "# join words only with strings so, there needs to be some string to join other string\n",
        "all_words = ' '.join( df['text'] ).split()\n",
        "frequency = pd.Series(all_words).value_counts()[:20]\n",
        "print(\"frequency:\", frequency)\n",
        "# removing frequenct words\n",
        "df['text'] =df['text'].apply( lambda t : ' '.join( word for word in t.split() \n",
        "                                                      if word not in frequency) )\n",
        "df['text'].head(10)\n"
      ],
      "execution_count": 25,
      "outputs": [
        {
          "output_type": "stream",
          "text": [
            "frequency: the     2983542\n",
            "i       2748255\n",
            "to      2321352\n",
            "and     2060080\n",
            "a       1651354\n",
            "of      1359775\n",
            "that    1002621\n",
            "in       989942\n",
            "it       936733\n",
            "my       898352\n",
            "is       819664\n",
            "for      701855\n",
            "you      698100\n",
            "was      689619\n",
            "me       571740\n",
            "on       547642\n",
            "but      527936\n",
            "so       523855\n",
            "with     503604\n",
            "this     502267\n",
            "dtype: int64\n"
          ],
          "name": "stdout"
        },
        {
          "output_type": "execute_result",
          "data": {
            "text/plain": [
              "0     info has been found 100 pages 45 mb pdf files now have wait untill our team leader has processed...\n",
              "1     these are team members drewes van der laag urllink mail ruiyu xie urllink mail bryan aaldering u...\n",
              "3                                                                                         testing testing\n",
              "4     thanks yahoos toolbar can now capture urls popupswhich means now can show some cool links korean...\n",
              "5     had an interesting conversation dad morning we were talking about where koreans put their money ...\n",
              "6     somehow cocacola has way summing up things well early 1970s they had as their flagship jingle id...\n",
              "7     if anything korea country extremes everything here seems fadbased think may come from koreas his...\n",
              "8     take read news article from urllink joongang ilbo about north koreas opinion scaling down troops...\n",
              "9     surf english news sites lot looking tidbits korea how foreigners like view hermit kingdom also a...\n",
              "10    ah korean languageit looks difficult at first then as figure out how read hanguel koreas surpris...\n",
              "Name: text, dtype: object"
            ]
          },
          "metadata": {
            "tags": []
          },
          "execution_count": 25
        }
      ]
    },
    {
      "cell_type": "code",
      "metadata": {
        "id": "AABiSwrPfFoU",
        "colab_type": "code",
        "outputId": "a0271c6e-4e0c-4a9f-e223-0597df1ca5bf",
        "colab": {
          "base_uri": "https://localhost:8080/",
          "height": 209
        }
      },
      "source": [
        "# remove rare words\n",
        "all_words = ' '.join(df['text'] ).split()\n",
        "rarely = pd.Series(all_words).value_counts()[-160000:]\n",
        "rarely.sort_values\n",
        "\n",
        "df['text'] = df['text'].apply( lambda t : ' '.join( word for word in t.split() \n",
        "                                                      if word not in rarely) )\n",
        "df['text'].head(10)"
      ],
      "execution_count": 26,
      "outputs": [
        {
          "output_type": "execute_result",
          "data": {
            "text/plain": [
              "0     info has been found 100 pages 45 mb pdf files now have wait untill our team leader has processed...\n",
              "1     these are team members drewes van der laag urllink mail ruiyu xie urllink mail bryan aaldering u...\n",
              "3                                                                                         testing testing\n",
              "4     thanks yahoos toolbar can now capture urls popupswhich means now can show some cool links korean...\n",
              "5     had an interesting conversation dad morning we were talking about where koreans put their money ...\n",
              "6     somehow cocacola has way summing up things well early 1970s they had as their flagship jingle id...\n",
              "7     if anything korea country extremes everything here seems fadbased think may come from koreas his...\n",
              "8     take read news article from urllink joongang ilbo about north koreas opinion scaling down troops...\n",
              "9     surf english news sites lot looking tidbits korea how foreigners like view hermit kingdom also a...\n",
              "10    ah korean languageit looks difficult at first then as figure out how read hanguel koreas surpris...\n",
              "Name: text, dtype: object"
            ]
          },
          "metadata": {
            "tags": []
          },
          "execution_count": 26
        }
      ]
    },
    {
      "cell_type": "code",
      "metadata": {
        "id": "kZNq00gwu5Ps",
        "colab_type": "code",
        "outputId": "3aa9b791-48e6-4027-fdb0-140a2d206eca",
        "colab": {
          "base_uri": "https://localhost:8080/",
          "height": 209
        }
      },
      "source": [
        "#Also remove the numerical values\n",
        "import re\n",
        "\n",
        "def remove_num(t):\n",
        "    removed_num_text = re.sub(r'\\d+', '', t)\n",
        "    return removed_num_text\n",
        "\n",
        "df['text'] = df['text'].apply( lambda t : remove_num(t) )\n",
        "df['text'].head(10)"
      ],
      "execution_count": 27,
      "outputs": [
        {
          "output_type": "execute_result",
          "data": {
            "text/plain": [
              "0     info has been found  pages  mb pdf files now have wait untill our team leader has processed lear...\n",
              "1     these are team members drewes van der laag urllink mail ruiyu xie urllink mail bryan aaldering u...\n",
              "3                                                                                         testing testing\n",
              "4     thanks yahoos toolbar can now capture urls popupswhich means now can show some cool links korean...\n",
              "5     had an interesting conversation dad morning we were talking about where koreans put their money ...\n",
              "6     somehow cocacola has way summing up things well early s they had as their flagship jingle id lik...\n",
              "7     if anything korea country extremes everything here seems fadbased think may come from koreas his...\n",
              "8     take read news article from urllink joongang ilbo about north koreas opinion scaling down troops...\n",
              "9     surf english news sites lot looking tidbits korea how foreigners like view hermit kingdom also a...\n",
              "10    ah korean languageit looks difficult at first then as figure out how read hanguel koreas surpris...\n",
              "Name: text, dtype: object"
            ]
          },
          "metadata": {
            "tags": []
          },
          "execution_count": 27
        }
      ]
    },
    {
      "cell_type": "code",
      "metadata": {
        "id": "cnsR0mq9TvG6",
        "colab_type": "code",
        "outputId": "6da3cabd-b6bc-47c3-af09-c9a61c80683b",
        "colab": {
          "base_uri": "https://localhost:8080/",
          "height": 156
        }
      },
      "source": [
        "#Lemmatization \n",
        "import nltk\n",
        "nltk.download('wordnet')\n",
        "from textblob import Word \n",
        "\n",
        "df['text'] =df['text'].apply( lambda t : \" \".join( [Word(word).lemmatize() for word in t.split()  ]) )\n",
        "df['text'].head(5)"
      ],
      "execution_count": 28,
      "outputs": [
        {
          "output_type": "stream",
          "text": [
            "[nltk_data] Downloading package wordnet to /root/nltk_data...\n",
            "[nltk_data]   Package wordnet is already up-to-date!\n"
          ],
          "name": "stdout"
        },
        {
          "output_type": "execute_result",
          "data": {
            "text/plain": [
              "0      info ha been found page mb pdf file now have wait untill our team leader ha processed learns html\n",
              "1    these are team member drewes van der laag urllink mail ruiyu xie urllink mail bryan aaldering ur...\n",
              "3                                                                                        testing testing\n",
              "4    thanks yahoo toolbar can now capture url popupswhich mean now can show some cool link korean pop...\n",
              "5    had an interesting conversation dad morning we were talking about where korean put their money i...\n",
              "Name: text, dtype: object"
            ]
          },
          "metadata": {
            "tags": []
          },
          "execution_count": 28
        }
      ]
    },
    {
      "cell_type": "code",
      "metadata": {
        "id": "myJIvHAV3Gm3",
        "colab_type": "code",
        "outputId": "7448bfe7-25d7-4d72-8c39-b4c54084f44a",
        "colab": {
          "base_uri": "https://localhost:8080/",
          "height": 89
        }
      },
      "source": [
        "#Remove stopwords\n",
        "import nltk\n",
        "nltk.download('stopwords')\n",
        "import seaborn as sns\n",
        "from nltk.corpus import stopwords\n",
        "print(stopwords.words(\"english\"))"
      ],
      "execution_count": 29,
      "outputs": [
        {
          "output_type": "stream",
          "text": [
            "[nltk_data] Downloading package stopwords to /root/nltk_data...\n",
            "[nltk_data]   Package stopwords is already up-to-date!\n",
            "['i', 'me', 'my', 'myself', 'we', 'our', 'ours', 'ourselves', 'you', \"you're\", \"you've\", \"you'll\", \"you'd\", 'your', 'yours', 'yourself', 'yourselves', 'he', 'him', 'his', 'himself', 'she', \"she's\", 'her', 'hers', 'herself', 'it', \"it's\", 'its', 'itself', 'they', 'them', 'their', 'theirs', 'themselves', 'what', 'which', 'who', 'whom', 'this', 'that', \"that'll\", 'these', 'those', 'am', 'is', 'are', 'was', 'were', 'be', 'been', 'being', 'have', 'has', 'had', 'having', 'do', 'does', 'did', 'doing', 'a', 'an', 'the', 'and', 'but', 'if', 'or', 'because', 'as', 'until', 'while', 'of', 'at', 'by', 'for', 'with', 'about', 'against', 'between', 'into', 'through', 'during', 'before', 'after', 'above', 'below', 'to', 'from', 'up', 'down', 'in', 'out', 'on', 'off', 'over', 'under', 'again', 'further', 'then', 'once', 'here', 'there', 'when', 'where', 'why', 'how', 'all', 'any', 'both', 'each', 'few', 'more', 'most', 'other', 'some', 'such', 'no', 'nor', 'not', 'only', 'own', 'same', 'so', 'than', 'too', 'very', 's', 't', 'can', 'will', 'just', 'don', \"don't\", 'should', \"should've\", 'now', 'd', 'll', 'm', 'o', 're', 've', 'y', 'ain', 'aren', \"aren't\", 'couldn', \"couldn't\", 'didn', \"didn't\", 'doesn', \"doesn't\", 'hadn', \"hadn't\", 'hasn', \"hasn't\", 'haven', \"haven't\", 'isn', \"isn't\", 'ma', 'mightn', \"mightn't\", 'mustn', \"mustn't\", 'needn', \"needn't\", 'shan', \"shan't\", 'shouldn', \"shouldn't\", 'wasn', \"wasn't\", 'weren', \"weren't\", 'won', \"won't\", 'wouldn', \"wouldn't\"]\n"
          ],
          "name": "stdout"
        }
      ]
    },
    {
      "cell_type": "code",
      "metadata": {
        "id": "s9iOp32U3Gm_",
        "colab_type": "code",
        "outputId": "2badae2d-c5e1-4907-833d-9feeb3ab8319",
        "colab": {
          "base_uri": "https://localhost:8080/",
          "height": 546
        }
      },
      "source": [
        "def remove_stopwords(word):\n",
        "    if word not in stopwords.words('english'):\n",
        "        return word\n",
        "    else:\n",
        "        return ' '\n",
        "df['text'] = df.text.apply(remove_stopwords)\n",
        "\n",
        "df[\"word_count\"] = df.text.str.split().str.len()\n",
        "df.head(10)\n"
      ],
      "execution_count": 30,
      "outputs": [
        {
          "output_type": "execute_result",
          "data": {
            "text/html": [
              "<div>\n",
              "<style scoped>\n",
              "    .dataframe tbody tr th:only-of-type {\n",
              "        vertical-align: middle;\n",
              "    }\n",
              "\n",
              "    .dataframe tbody tr th {\n",
              "        vertical-align: top;\n",
              "    }\n",
              "\n",
              "    .dataframe thead th {\n",
              "        text-align: right;\n",
              "    }\n",
              "</style>\n",
              "<table border=\"1\" class=\"dataframe\">\n",
              "  <thead>\n",
              "    <tr style=\"text-align: right;\">\n",
              "      <th></th>\n",
              "      <th>id</th>\n",
              "      <th>gender</th>\n",
              "      <th>age</th>\n",
              "      <th>topic</th>\n",
              "      <th>sign</th>\n",
              "      <th>date</th>\n",
              "      <th>text</th>\n",
              "      <th>word_count</th>\n",
              "      <th>age_group</th>\n",
              "    </tr>\n",
              "  </thead>\n",
              "  <tbody>\n",
              "    <tr>\n",
              "      <th>0</th>\n",
              "      <td>2059027</td>\n",
              "      <td>male</td>\n",
              "      <td>15</td>\n",
              "      <td>Student</td>\n",
              "      <td>Leo</td>\n",
              "      <td>14,May,2004</td>\n",
              "      <td>info ha been found page mb pdf file now have wait untill our team leader ha processed learns html</td>\n",
              "      <td>19</td>\n",
              "      <td>(12.0, 17.0]</td>\n",
              "    </tr>\n",
              "    <tr>\n",
              "      <th>1</th>\n",
              "      <td>2059027</td>\n",
              "      <td>male</td>\n",
              "      <td>15</td>\n",
              "      <td>Student</td>\n",
              "      <td>Leo</td>\n",
              "      <td>13,May,2004</td>\n",
              "      <td>these are team member drewes van der laag urllink mail ruiyu xie urllink mail bryan aaldering ur...</td>\n",
              "      <td>18</td>\n",
              "      <td>(12.0, 17.0]</td>\n",
              "    </tr>\n",
              "    <tr>\n",
              "      <th>3</th>\n",
              "      <td>2059027</td>\n",
              "      <td>male</td>\n",
              "      <td>15</td>\n",
              "      <td>Student</td>\n",
              "      <td>Leo</td>\n",
              "      <td>12,May,2004</td>\n",
              "      <td>testing testing</td>\n",
              "      <td>2</td>\n",
              "      <td>(12.0, 17.0]</td>\n",
              "    </tr>\n",
              "    <tr>\n",
              "      <th>4</th>\n",
              "      <td>3581210</td>\n",
              "      <td>male</td>\n",
              "      <td>33</td>\n",
              "      <td>InvestmentBanking</td>\n",
              "      <td>Aquarius</td>\n",
              "      <td>11,June,2004</td>\n",
              "      <td>thanks yahoo toolbar can now capture url popupswhich mean now can show some cool link korean pop...</td>\n",
              "      <td>45</td>\n",
              "      <td>(25.0, 48.0]</td>\n",
              "    </tr>\n",
              "    <tr>\n",
              "      <th>5</th>\n",
              "      <td>3581210</td>\n",
              "      <td>male</td>\n",
              "      <td>33</td>\n",
              "      <td>InvestmentBanking</td>\n",
              "      <td>Aquarius</td>\n",
              "      <td>10,June,2004</td>\n",
              "      <td>had an interesting conversation dad morning we were talking about where korean put their money i...</td>\n",
              "      <td>457</td>\n",
              "      <td>(25.0, 48.0]</td>\n",
              "    </tr>\n",
              "    <tr>\n",
              "      <th>6</th>\n",
              "      <td>3581210</td>\n",
              "      <td>male</td>\n",
              "      <td>33</td>\n",
              "      <td>InvestmentBanking</td>\n",
              "      <td>Aquarius</td>\n",
              "      <td>10,June,2004</td>\n",
              "      <td>somehow cocacola ha way summing up thing well early s they had a their flagship jingle id like b...</td>\n",
              "      <td>135</td>\n",
              "      <td>(25.0, 48.0]</td>\n",
              "    </tr>\n",
              "    <tr>\n",
              "      <th>7</th>\n",
              "      <td>3581210</td>\n",
              "      <td>male</td>\n",
              "      <td>33</td>\n",
              "      <td>InvestmentBanking</td>\n",
              "      <td>Aquarius</td>\n",
              "      <td>10,June,2004</td>\n",
              "      <td>if anything korea country extreme everything here seems fadbased think may come from korea histo...</td>\n",
              "      <td>276</td>\n",
              "      <td>(25.0, 48.0]</td>\n",
              "    </tr>\n",
              "    <tr>\n",
              "      <th>8</th>\n",
              "      <td>3581210</td>\n",
              "      <td>male</td>\n",
              "      <td>33</td>\n",
              "      <td>InvestmentBanking</td>\n",
              "      <td>Aquarius</td>\n",
              "      <td>10,June,2004</td>\n",
              "      <td>take read news article from urllink joongang ilbo about north korea opinion scaling down troop s...</td>\n",
              "      <td>280</td>\n",
              "      <td>(25.0, 48.0]</td>\n",
              "    </tr>\n",
              "    <tr>\n",
              "      <th>9</th>\n",
              "      <td>3581210</td>\n",
              "      <td>male</td>\n",
              "      <td>33</td>\n",
              "      <td>InvestmentBanking</td>\n",
              "      <td>Aquarius</td>\n",
              "      <td>09,June,2004</td>\n",
              "      <td>surf english news site lot looking tidbit korea how foreigner like view hermit kingdom also a wa...</td>\n",
              "      <td>108</td>\n",
              "      <td>(25.0, 48.0]</td>\n",
              "    </tr>\n",
              "    <tr>\n",
              "      <th>10</th>\n",
              "      <td>3581210</td>\n",
              "      <td>male</td>\n",
              "      <td>33</td>\n",
              "      <td>InvestmentBanking</td>\n",
              "      <td>Aquarius</td>\n",
              "      <td>09,June,2004</td>\n",
              "      <td>ah korean languageit look difficult at first then a figure out how read hanguel korea surprising...</td>\n",
              "      <td>196</td>\n",
              "      <td>(25.0, 48.0]</td>\n",
              "    </tr>\n",
              "  </tbody>\n",
              "</table>\n",
              "</div>"
            ],
            "text/plain": [
              "         id gender  ...  word_count     age_group\n",
              "0   2059027   male  ...          19  (12.0, 17.0]\n",
              "1   2059027   male  ...          18  (12.0, 17.0]\n",
              "3   2059027   male  ...           2  (12.0, 17.0]\n",
              "4   3581210   male  ...          45  (25.0, 48.0]\n",
              "5   3581210   male  ...         457  (25.0, 48.0]\n",
              "6   3581210   male  ...         135  (25.0, 48.0]\n",
              "7   3581210   male  ...         276  (25.0, 48.0]\n",
              "8   3581210   male  ...         280  (25.0, 48.0]\n",
              "9   3581210   male  ...         108  (25.0, 48.0]\n",
              "10  3581210   male  ...         196  (25.0, 48.0]\n",
              "\n",
              "[10 rows x 9 columns]"
            ]
          },
          "metadata": {
            "tags": []
          },
          "execution_count": 30
        }
      ]
    },
    {
      "cell_type": "code",
      "metadata": {
        "id": "-r-YFainmLdG",
        "colab_type": "code",
        "outputId": "86985797-0967-46cb-b96d-d47d97346ade",
        "colab": {
          "base_uri": "https://localhost:8080/",
          "height": 563
        }
      },
      "source": [
        "# Observed that some chinese words are there in the text.  Trying to remove the same\n",
        "!pip install jieba\n",
        "import jieba\n",
        "jieba_stop_words = [\n",
        "    '的', '了', '和', '是', '就', '都', '而', '及', '與', \n",
        "    '著', '或', '一個', '沒有', '我們', '你們', '妳們', \n",
        "    '他們', '她們', '是否','시스템','데이터를'  ,'تيتان'\n",
        "]\n",
        "\n",
        "\n",
        "def remove_stopwords_chinese(word):\n",
        "    if word not in jieba_stop_words:\n",
        "        return word\n",
        "    else:\n",
        "        return ' '\n",
        "df['text'] = df.text.apply(remove_stopwords_chinese)\n",
        "\n",
        "df[\"word_count\"] = df.text.str.split().str.len()\n",
        "df.head(10)"
      ],
      "execution_count": 31,
      "outputs": [
        {
          "output_type": "stream",
          "text": [
            "Requirement already satisfied: jieba in /usr/local/lib/python3.6/dist-packages (0.39)\n"
          ],
          "name": "stdout"
        },
        {
          "output_type": "execute_result",
          "data": {
            "text/html": [
              "<div>\n",
              "<style scoped>\n",
              "    .dataframe tbody tr th:only-of-type {\n",
              "        vertical-align: middle;\n",
              "    }\n",
              "\n",
              "    .dataframe tbody tr th {\n",
              "        vertical-align: top;\n",
              "    }\n",
              "\n",
              "    .dataframe thead th {\n",
              "        text-align: right;\n",
              "    }\n",
              "</style>\n",
              "<table border=\"1\" class=\"dataframe\">\n",
              "  <thead>\n",
              "    <tr style=\"text-align: right;\">\n",
              "      <th></th>\n",
              "      <th>id</th>\n",
              "      <th>gender</th>\n",
              "      <th>age</th>\n",
              "      <th>topic</th>\n",
              "      <th>sign</th>\n",
              "      <th>date</th>\n",
              "      <th>text</th>\n",
              "      <th>word_count</th>\n",
              "      <th>age_group</th>\n",
              "    </tr>\n",
              "  </thead>\n",
              "  <tbody>\n",
              "    <tr>\n",
              "      <th>0</th>\n",
              "      <td>2059027</td>\n",
              "      <td>male</td>\n",
              "      <td>15</td>\n",
              "      <td>Student</td>\n",
              "      <td>Leo</td>\n",
              "      <td>14,May,2004</td>\n",
              "      <td>info ha been found page mb pdf file now have wait untill our team leader ha processed learns html</td>\n",
              "      <td>19</td>\n",
              "      <td>(12.0, 17.0]</td>\n",
              "    </tr>\n",
              "    <tr>\n",
              "      <th>1</th>\n",
              "      <td>2059027</td>\n",
              "      <td>male</td>\n",
              "      <td>15</td>\n",
              "      <td>Student</td>\n",
              "      <td>Leo</td>\n",
              "      <td>13,May,2004</td>\n",
              "      <td>these are team member drewes van der laag urllink mail ruiyu xie urllink mail bryan aaldering ur...</td>\n",
              "      <td>18</td>\n",
              "      <td>(12.0, 17.0]</td>\n",
              "    </tr>\n",
              "    <tr>\n",
              "      <th>3</th>\n",
              "      <td>2059027</td>\n",
              "      <td>male</td>\n",
              "      <td>15</td>\n",
              "      <td>Student</td>\n",
              "      <td>Leo</td>\n",
              "      <td>12,May,2004</td>\n",
              "      <td>testing testing</td>\n",
              "      <td>2</td>\n",
              "      <td>(12.0, 17.0]</td>\n",
              "    </tr>\n",
              "    <tr>\n",
              "      <th>4</th>\n",
              "      <td>3581210</td>\n",
              "      <td>male</td>\n",
              "      <td>33</td>\n",
              "      <td>InvestmentBanking</td>\n",
              "      <td>Aquarius</td>\n",
              "      <td>11,June,2004</td>\n",
              "      <td>thanks yahoo toolbar can now capture url popupswhich mean now can show some cool link korean pop...</td>\n",
              "      <td>45</td>\n",
              "      <td>(25.0, 48.0]</td>\n",
              "    </tr>\n",
              "    <tr>\n",
              "      <th>5</th>\n",
              "      <td>3581210</td>\n",
              "      <td>male</td>\n",
              "      <td>33</td>\n",
              "      <td>InvestmentBanking</td>\n",
              "      <td>Aquarius</td>\n",
              "      <td>10,June,2004</td>\n",
              "      <td>had an interesting conversation dad morning we were talking about where korean put their money i...</td>\n",
              "      <td>457</td>\n",
              "      <td>(25.0, 48.0]</td>\n",
              "    </tr>\n",
              "    <tr>\n",
              "      <th>6</th>\n",
              "      <td>3581210</td>\n",
              "      <td>male</td>\n",
              "      <td>33</td>\n",
              "      <td>InvestmentBanking</td>\n",
              "      <td>Aquarius</td>\n",
              "      <td>10,June,2004</td>\n",
              "      <td>somehow cocacola ha way summing up thing well early s they had a their flagship jingle id like b...</td>\n",
              "      <td>135</td>\n",
              "      <td>(25.0, 48.0]</td>\n",
              "    </tr>\n",
              "    <tr>\n",
              "      <th>7</th>\n",
              "      <td>3581210</td>\n",
              "      <td>male</td>\n",
              "      <td>33</td>\n",
              "      <td>InvestmentBanking</td>\n",
              "      <td>Aquarius</td>\n",
              "      <td>10,June,2004</td>\n",
              "      <td>if anything korea country extreme everything here seems fadbased think may come from korea histo...</td>\n",
              "      <td>276</td>\n",
              "      <td>(25.0, 48.0]</td>\n",
              "    </tr>\n",
              "    <tr>\n",
              "      <th>8</th>\n",
              "      <td>3581210</td>\n",
              "      <td>male</td>\n",
              "      <td>33</td>\n",
              "      <td>InvestmentBanking</td>\n",
              "      <td>Aquarius</td>\n",
              "      <td>10,June,2004</td>\n",
              "      <td>take read news article from urllink joongang ilbo about north korea opinion scaling down troop s...</td>\n",
              "      <td>280</td>\n",
              "      <td>(25.0, 48.0]</td>\n",
              "    </tr>\n",
              "    <tr>\n",
              "      <th>9</th>\n",
              "      <td>3581210</td>\n",
              "      <td>male</td>\n",
              "      <td>33</td>\n",
              "      <td>InvestmentBanking</td>\n",
              "      <td>Aquarius</td>\n",
              "      <td>09,June,2004</td>\n",
              "      <td>surf english news site lot looking tidbit korea how foreigner like view hermit kingdom also a wa...</td>\n",
              "      <td>108</td>\n",
              "      <td>(25.0, 48.0]</td>\n",
              "    </tr>\n",
              "    <tr>\n",
              "      <th>10</th>\n",
              "      <td>3581210</td>\n",
              "      <td>male</td>\n",
              "      <td>33</td>\n",
              "      <td>InvestmentBanking</td>\n",
              "      <td>Aquarius</td>\n",
              "      <td>09,June,2004</td>\n",
              "      <td>ah korean languageit look difficult at first then a figure out how read hanguel korea surprising...</td>\n",
              "      <td>196</td>\n",
              "      <td>(25.0, 48.0]</td>\n",
              "    </tr>\n",
              "  </tbody>\n",
              "</table>\n",
              "</div>"
            ],
            "text/plain": [
              "         id gender  ...  word_count     age_group\n",
              "0   2059027   male  ...          19  (12.0, 17.0]\n",
              "1   2059027   male  ...          18  (12.0, 17.0]\n",
              "3   2059027   male  ...           2  (12.0, 17.0]\n",
              "4   3581210   male  ...          45  (25.0, 48.0]\n",
              "5   3581210   male  ...         457  (25.0, 48.0]\n",
              "6   3581210   male  ...         135  (25.0, 48.0]\n",
              "7   3581210   male  ...         276  (25.0, 48.0]\n",
              "8   3581210   male  ...         280  (25.0, 48.0]\n",
              "9   3581210   male  ...         108  (25.0, 48.0]\n",
              "10  3581210   male  ...         196  (25.0, 48.0]\n",
              "\n",
              "[10 rows x 9 columns]"
            ]
          },
          "metadata": {
            "tags": []
          },
          "execution_count": 31
        }
      ]
    },
    {
      "cell_type": "markdown",
      "metadata": {
        "id": "fZsu_XTV3GnF",
        "colab_type": "text"
      },
      "source": [
        "#### 3. As we want to make this into a multi-label classification problem, you are required to merge all the label columns together, so that we have all the labels together for a particular sentence (7.5 points)\n",
        "        a.Label columns to merge: “gender”, “age”, “topic”, “sign”\n",
        "        b.After completing the previous step, there should be only two columns in your data frame i.e. “text” and “labels” as shown in the below image \n"
      ]
    },
    {
      "cell_type": "code",
      "metadata": {
        "id": "jD1PHH523GnH",
        "colab_type": "code",
        "outputId": "67dd93b8-f56f-461e-af9c-e2aaddec43e2",
        "colab": {
          "base_uri": "https://localhost:8080/",
          "height": 358
        }
      },
      "source": [
        "#Label columns to merge: “gender”, “age”, “topic”, “sign”\n",
        "\n",
        "df[\"labels\"]=df['gender'].astype(str) + \",\" +df['age'].astype(str)+ \",\" +df['topic'].astype(str) + \",\" +df['sign'].astype(str) \n",
        "df = df.drop([\"id\",\"gender\",\"age\",\"topic\",\"sign\",\"date\",\"word_count\",\"age_group\"], axis=1)\n",
        "df.head(10)"
      ],
      "execution_count": 32,
      "outputs": [
        {
          "output_type": "execute_result",
          "data": {
            "text/html": [
              "<div>\n",
              "<style scoped>\n",
              "    .dataframe tbody tr th:only-of-type {\n",
              "        vertical-align: middle;\n",
              "    }\n",
              "\n",
              "    .dataframe tbody tr th {\n",
              "        vertical-align: top;\n",
              "    }\n",
              "\n",
              "    .dataframe thead th {\n",
              "        text-align: right;\n",
              "    }\n",
              "</style>\n",
              "<table border=\"1\" class=\"dataframe\">\n",
              "  <thead>\n",
              "    <tr style=\"text-align: right;\">\n",
              "      <th></th>\n",
              "      <th>text</th>\n",
              "      <th>labels</th>\n",
              "    </tr>\n",
              "  </thead>\n",
              "  <tbody>\n",
              "    <tr>\n",
              "      <th>0</th>\n",
              "      <td>info ha been found page mb pdf file now have wait untill our team leader ha processed learns html</td>\n",
              "      <td>male,15,Student,Leo</td>\n",
              "    </tr>\n",
              "    <tr>\n",
              "      <th>1</th>\n",
              "      <td>these are team member drewes van der laag urllink mail ruiyu xie urllink mail bryan aaldering ur...</td>\n",
              "      <td>male,15,Student,Leo</td>\n",
              "    </tr>\n",
              "    <tr>\n",
              "      <th>3</th>\n",
              "      <td>testing testing</td>\n",
              "      <td>male,15,Student,Leo</td>\n",
              "    </tr>\n",
              "    <tr>\n",
              "      <th>4</th>\n",
              "      <td>thanks yahoo toolbar can now capture url popupswhich mean now can show some cool link korean pop...</td>\n",
              "      <td>male,33,InvestmentBanking,Aquarius</td>\n",
              "    </tr>\n",
              "    <tr>\n",
              "      <th>5</th>\n",
              "      <td>had an interesting conversation dad morning we were talking about where korean put their money i...</td>\n",
              "      <td>male,33,InvestmentBanking,Aquarius</td>\n",
              "    </tr>\n",
              "    <tr>\n",
              "      <th>6</th>\n",
              "      <td>somehow cocacola ha way summing up thing well early s they had a their flagship jingle id like b...</td>\n",
              "      <td>male,33,InvestmentBanking,Aquarius</td>\n",
              "    </tr>\n",
              "    <tr>\n",
              "      <th>7</th>\n",
              "      <td>if anything korea country extreme everything here seems fadbased think may come from korea histo...</td>\n",
              "      <td>male,33,InvestmentBanking,Aquarius</td>\n",
              "    </tr>\n",
              "    <tr>\n",
              "      <th>8</th>\n",
              "      <td>take read news article from urllink joongang ilbo about north korea opinion scaling down troop s...</td>\n",
              "      <td>male,33,InvestmentBanking,Aquarius</td>\n",
              "    </tr>\n",
              "    <tr>\n",
              "      <th>9</th>\n",
              "      <td>surf english news site lot looking tidbit korea how foreigner like view hermit kingdom also a wa...</td>\n",
              "      <td>male,33,InvestmentBanking,Aquarius</td>\n",
              "    </tr>\n",
              "    <tr>\n",
              "      <th>10</th>\n",
              "      <td>ah korean languageit look difficult at first then a figure out how read hanguel korea surprising...</td>\n",
              "      <td>male,33,InvestmentBanking,Aquarius</td>\n",
              "    </tr>\n",
              "  </tbody>\n",
              "</table>\n",
              "</div>"
            ],
            "text/plain": [
              "                                                                                                   text                              labels\n",
              "0     info ha been found page mb pdf file now have wait untill our team leader ha processed learns html                 male,15,Student,Leo\n",
              "1   these are team member drewes van der laag urllink mail ruiyu xie urllink mail bryan aaldering ur...                 male,15,Student,Leo\n",
              "3                                                                                       testing testing                 male,15,Student,Leo\n",
              "4   thanks yahoo toolbar can now capture url popupswhich mean now can show some cool link korean pop...  male,33,InvestmentBanking,Aquarius\n",
              "5   had an interesting conversation dad morning we were talking about where korean put their money i...  male,33,InvestmentBanking,Aquarius\n",
              "6   somehow cocacola ha way summing up thing well early s they had a their flagship jingle id like b...  male,33,InvestmentBanking,Aquarius\n",
              "7   if anything korea country extreme everything here seems fadbased think may come from korea histo...  male,33,InvestmentBanking,Aquarius\n",
              "8   take read news article from urllink joongang ilbo about north korea opinion scaling down troop s...  male,33,InvestmentBanking,Aquarius\n",
              "9   surf english news site lot looking tidbit korea how foreigner like view hermit kingdom also a wa...  male,33,InvestmentBanking,Aquarius\n",
              "10  ah korean languageit look difficult at first then a figure out how read hanguel korea surprising...  male,33,InvestmentBanking,Aquarius"
            ]
          },
          "metadata": {
            "tags": []
          },
          "execution_count": 32
        }
      ]
    },
    {
      "cell_type": "code",
      "metadata": {
        "id": "XatuM8to_dhb",
        "colab_type": "code",
        "colab": {}
      },
      "source": [
        "# #performing lemmatization to reduce the number of unique words \n",
        "# w_tokenizer = nltk.tokenize.WhitespaceTokenizer()\n",
        "# lemmatizer = nltk.stem.WordNetLemmatizer()\n",
        "\n",
        "# def lemmatize_text(text):\n",
        "#     return [lemmatizer.lemmatize(w) for w in w_tokenizer.tokenize(text)]\n"
      ],
      "execution_count": 0,
      "outputs": []
    },
    {
      "cell_type": "code",
      "metadata": {
        "id": "swtWQ__PEXwt",
        "colab_type": "code",
        "colab": {}
      },
      "source": [
        "# list(df_new['text'].str.split(' ', expand=True).stack().unique())\n",
        "# df_new['text'].str.split(' ', expand=True).stack().value_counts()\n"
      ],
      "execution_count": 0,
      "outputs": []
    },
    {
      "cell_type": "code",
      "metadata": {
        "id": "kcuJFV0ClSHo",
        "colab_type": "code",
        "colab": {}
      },
      "source": [
        "\n"
      ],
      "execution_count": 0,
      "outputs": []
    },
    {
      "cell_type": "markdown",
      "metadata": {
        "id": "dybUxS5X3GnX",
        "colab_type": "text"
      },
      "source": [
        "#### 4.\tSeparate features and labels, and split the data into training and testing (5 points)"
      ]
    },
    {
      "cell_type": "code",
      "metadata": {
        "id": "bpWK1cwB3DaP",
        "colab_type": "code",
        "outputId": "d1b10535-7fe5-4663-e1f3-5abeb3fb6abf",
        "colab": {
          "base_uri": "https://localhost:8080/",
          "height": 203
        }
      },
      "source": [
        "df.head()\n"
      ],
      "execution_count": 33,
      "outputs": [
        {
          "output_type": "execute_result",
          "data": {
            "text/html": [
              "<div>\n",
              "<style scoped>\n",
              "    .dataframe tbody tr th:only-of-type {\n",
              "        vertical-align: middle;\n",
              "    }\n",
              "\n",
              "    .dataframe tbody tr th {\n",
              "        vertical-align: top;\n",
              "    }\n",
              "\n",
              "    .dataframe thead th {\n",
              "        text-align: right;\n",
              "    }\n",
              "</style>\n",
              "<table border=\"1\" class=\"dataframe\">\n",
              "  <thead>\n",
              "    <tr style=\"text-align: right;\">\n",
              "      <th></th>\n",
              "      <th>text</th>\n",
              "      <th>labels</th>\n",
              "    </tr>\n",
              "  </thead>\n",
              "  <tbody>\n",
              "    <tr>\n",
              "      <th>0</th>\n",
              "      <td>info ha been found page mb pdf file now have wait untill our team leader ha processed learns html</td>\n",
              "      <td>male,15,Student,Leo</td>\n",
              "    </tr>\n",
              "    <tr>\n",
              "      <th>1</th>\n",
              "      <td>these are team member drewes van der laag urllink mail ruiyu xie urllink mail bryan aaldering ur...</td>\n",
              "      <td>male,15,Student,Leo</td>\n",
              "    </tr>\n",
              "    <tr>\n",
              "      <th>3</th>\n",
              "      <td>testing testing</td>\n",
              "      <td>male,15,Student,Leo</td>\n",
              "    </tr>\n",
              "    <tr>\n",
              "      <th>4</th>\n",
              "      <td>thanks yahoo toolbar can now capture url popupswhich mean now can show some cool link korean pop...</td>\n",
              "      <td>male,33,InvestmentBanking,Aquarius</td>\n",
              "    </tr>\n",
              "    <tr>\n",
              "      <th>5</th>\n",
              "      <td>had an interesting conversation dad morning we were talking about where korean put their money i...</td>\n",
              "      <td>male,33,InvestmentBanking,Aquarius</td>\n",
              "    </tr>\n",
              "  </tbody>\n",
              "</table>\n",
              "</div>"
            ],
            "text/plain": [
              "                                                                                                  text                              labels\n",
              "0    info ha been found page mb pdf file now have wait untill our team leader ha processed learns html                 male,15,Student,Leo\n",
              "1  these are team member drewes van der laag urllink mail ruiyu xie urllink mail bryan aaldering ur...                 male,15,Student,Leo\n",
              "3                                                                                      testing testing                 male,15,Student,Leo\n",
              "4  thanks yahoo toolbar can now capture url popupswhich mean now can show some cool link korean pop...  male,33,InvestmentBanking,Aquarius\n",
              "5  had an interesting conversation dad morning we were talking about where korean put their money i...  male,33,InvestmentBanking,Aquarius"
            ]
          },
          "metadata": {
            "tags": []
          },
          "execution_count": 33
        }
      ]
    },
    {
      "cell_type": "code",
      "metadata": {
        "id": "_3QoGFt_3GnZ",
        "colab_type": "code",
        "outputId": "d1d764d8-feb2-423a-8b3e-aaf3b71d450d",
        "colab": {
          "base_uri": "https://localhost:8080/",
          "height": 34
        }
      },
      "source": [
        "X = df.text\n",
        "y =df.labels\n",
        "\n",
        "# split the new DataFrame into training and testing sets [Default test size = 35%]\n",
        "X_train, X_test, y_train, y_test = train_test_split(X, y, random_state=1,test_size=0.35)\n",
        "X_train.shape,X_test.shape"
      ],
      "execution_count": 34,
      "outputs": [
        {
          "output_type": "execute_result",
          "data": {
            "text/plain": [
              "((227660,), (122587,))"
            ]
          },
          "metadata": {
            "tags": []
          },
          "execution_count": 34
        }
      ]
    },
    {
      "cell_type": "markdown",
      "metadata": {
        "id": "bAOYFO7Q3Gnl",
        "colab_type": "text"
      },
      "source": [
        "#### 5.\tVectorize the features (5 points)\n",
        "    a.\tCreate a Bag of Words using count vectorizer\n",
        "        i.\tUse ngram_range=(1, 2)\n",
        "        ii.\tVectorize training and testing features\n",
        "    b.\tPrint the term-document matrix\n"
      ]
    },
    {
      "cell_type": "code",
      "metadata": {
        "id": "xFwu3LrD3Gnn",
        "colab_type": "code",
        "outputId": "1ea60187-c1ac-41e1-fe5a-e52675e67d74",
        "colab": {
          "base_uri": "https://localhost:8080/",
          "height": 52
        }
      },
      "source": [
        "# use CountVectorizer to create document-term matrices from X_train and X_test\n",
        "vect = CountVectorizer(min_df=0,max_df=1,binary=False,ngram_range=(1,2),max_features=1000)\n",
        "X_train_dtm = vect.fit_transform(X_train)\n",
        "X_test_dtm = vect.transform(X_test)\n",
        "\n",
        "print('BOW_cv_train:',X_train_dtm.shape)\n",
        "print('BOW_cv_test:',X_test_dtm.shape)"
      ],
      "execution_count": 35,
      "outputs": [
        {
          "output_type": "stream",
          "text": [
            "BOW_cv_train: (227660, 1000)\n",
            "BOW_cv_test: (122587, 1000)\n"
          ],
          "name": "stdout"
        }
      ]
    },
    {
      "cell_type": "code",
      "metadata": {
        "id": "m9NZ1-seC8GM",
        "colab_type": "code",
        "outputId": "9c427590-0629-4988-b48a-67b42c0ca4bc",
        "colab": {
          "base_uri": "https://localhost:8080/",
          "height": 261
        }
      },
      "source": [
        "df_dtm = pd.DataFrame(X_train_dtm.toarray(), columns=vect.get_feature_names())\n",
        "print(df_dtm)"
      ],
      "execution_count": 36,
      "outputs": [
        {
          "output_type": "stream",
          "text": [
            "        aathadacanay  about radotic  abrahim  abrar  ...  تيتان  我想  데이터를  시스템\n",
            "0                  0              0        0      0  ...      0   0     0    0\n",
            "1                  0              0        0      0  ...      0   0     0    0\n",
            "2                  0              0        0      0  ...      0   0     0    0\n",
            "3                  0              0        0      0  ...      0   0     0    0\n",
            "4                  0              0        0      0  ...      0   0     0    0\n",
            "...              ...            ...      ...    ...  ...    ...  ..   ...  ...\n",
            "227655             0              0        0      0  ...      0   0     0    0\n",
            "227656             0              0        0      0  ...      0   0     0    0\n",
            "227657             0              0        0      0  ...      0   0     0    0\n",
            "227658             0              0        0      0  ...      0   0     0    0\n",
            "227659             0              0        0      0  ...      0   0     0    0\n",
            "\n",
            "[227660 rows x 1000 columns]\n"
          ],
          "name": "stdout"
        }
      ]
    },
    {
      "cell_type": "code",
      "metadata": {
        "id": "bphIJZUaAQ7i",
        "colab_type": "code",
        "colab": {}
      },
      "source": [
        "# nb = MultinomialNB()\n",
        "# nb.fit(X_train_dtm, y_train)\n",
        "# y_train_pred = nb.predict(X_train_dtm)\n",
        "# y_pred_class = nb.predict(X_test_dtm)\n",
        "# print('Train Accuracy for NB : ', metrics.accuracy_score(y_train,y_train_pred))\n",
        "# print('Test Accuracy for NB: ', metrics.accuracy_score(y_test, y_pred_class))"
      ],
      "execution_count": 0,
      "outputs": []
    },
    {
      "cell_type": "code",
      "metadata": {
        "id": "iFzYQvY0FZDF",
        "colab_type": "code",
        "colab": {}
      },
      "source": [
        "df_test=df_dtm.head()\n",
        "df_test.to_csv(r\"./drive/My Drive/Colab Notebooks/SNLP/blogtext1.csv\",index=False)"
      ],
      "execution_count": 0,
      "outputs": []
    },
    {
      "cell_type": "markdown",
      "metadata": {
        "id": "OB548Enk3Gny",
        "colab_type": "text"
      },
      "source": [
        "#### 6.\tCreate a dictionary to get the count of every label i.e. the key will be label name and value will be the total count of the label. Check below image for reference (5 points)"
      ]
    },
    {
      "cell_type": "code",
      "metadata": {
        "id": "_biWz8OuFYD_",
        "colab_type": "code",
        "colab": {
          "base_uri": "https://localhost:8080/",
          "height": 54
        },
        "outputId": "8131cd2e-5b59-4e96-c4f7-ae4e96c31ef1"
      },
      "source": [
        "# features names\n",
        "feature_names = vect.get_feature_names()\n",
        "print(feature_names[50:500])\n"
      ],
      "execution_count": 39,
      "outputs": [
        {
          "output_type": "stream",
          "text": [
            "['bag douche', 'bahbahbahbah', 'banging banging', 'barisax pm', 'baronvz', 'bee official', 'been fortnight', 'begin sooncant', 'being resolute', 'ben yahweh', 'benji pm', 'bhu', 'big howie', 'big hugh', 'bigcolombian', 'billy budd', 'bimbo tramp', 'bitchin why', 'bite scum', 'blibble blibble', 'bln rupee', 'blondestlilchica', 'blookungfoo', 'blookungfoo am', 'blucrushed', 'blunav', 'board dariusmusiccom', 'bonceface', 'booher', 'borderbottomsolid', 'borderbottomsolid windowtext', 'borderleftnonemsoborderleftaltsolid', 'borderleftnonemsoborderleftaltsolid windowtext', 'bordertopnonemsobordertopaltsolid', 'bordertopnonemsobordertopaltsolid windowtext', 'bored upi', 'boredasaurus', 'bowiedavid', 'bowiedavid bowiedavid', 'boy curl', 'brandkim', 'bremelo', 'brennamonkey', 'brennamonkey am', 'britneyspears', 'brunette oh', 'bryin', 'bubblebutterfly', 'bulunan', 'bunkie', 'bunnyheadlike', 'bunnyheadlike say', 'caher', 'call mellow', 'canadian say', 'cancerleos', 'carab', 'cardragr', 'cardragr say', 'case hour', 'catchdont', 'catchdont believe', 'censor guy', 'cent apiece', 'cha changy', 'changed state', 'chaoticskittle', 'charlygrl', 'charlygrl am', 'chatbrat', 'cheffdny', 'chicka am', 'chicka pm', 'chmisa', 'chmisa am', 'chu stand', 'chunx am', 'ciel am', 'clap lalalala', 'clfilm', 'climber have', 'clipp', 'clnm', 'cm pt', 'cmplxsimplicity', 'coasterfan', 'codemachine', 'codemachine am', 'colid', 'colid select', 'command command', 'considine', 'continuity when', 'coo chee', 'cookoo', 'coolgal pm', 'copyrightsyngress', 'copyrightsyngress direct', 'cotto', 'counterpoint say', 'county suck', 'cowcrazy', 'cp urllink', 'cq almanac', 'crack dick', 'creepnasty', 'creolacanth', 'crepe wrath', 'crzylynk', 'cstart', 'cstart jeffree', 'cstart xxxandroidlust', 'ctbt', 'ctchtheclock', 'curl lmao', 'cön', 'da dut', 'dallon', 'dame no', 'dan ummi', 'danceensemble', 'daretomakemusic', 'daretomakemusic pm', 'dariusmusiccom', 'dariusmusiccom oh', 'dark geeky', 'darkaloneempty', 'dawhistlegoswoo', 'day ahah', 'ddnos', 'debbies comic', 'dee say', 'delete block', 'design space', 'devros', 'dice xd', 'dice yes', 'died overall', 'dilapidatedshack am', 'dirtykate', 'dis exam', 'dnch', 'dnch knöw', 'do kadam', 'do mickey', 'doctor jones', 'dog originally', 'dolphin miami', 'dolpunkguy', 'don josé', 'doneim doneim', 'donna lee', 'dont catchdont', 'doopity', 'dormsrvivr', 'dormsrvivr pm', 'dot dice', 'dr allure', 'dr christianson', 'drdoomu', 'dread pm', 'drug perfect', 'dumb thingsdrinking', 'dummy blog', 'dunnooo wat', 'dupangel', 'durwin', 'dwyer like', 'dϊs', 'dϊs wäÿo', 'easy xtrain', 'ebot', 'eee march', 'eeeeeeeeeeeeeeeeeeeeeeeeeeeeeeeeeeeeeeeeeeeeeeeeeeeeeeeeeeeee eeeeeeeeeeeeeeeeeeeeeeeeeeeeeeeeeeeeeeeeeeeeeeeeeeeeeeeeeeeee', 'eepwho say', 'eey', 'einishi', 'ejanecat', 'eleanor march', 'ellen slayter', 'emmabear', 'emmalena', 'emmalena fox', 'erepute', 'eriol', 'eriol am', 'esteban say', 'etbu', 'etbu man', 'etymology babyish', 'examining committee', 'ey oh', 'eyiz', 'fat douche', 'fatale say', 'fatality rate', 'feel yeahhow', 'feuling', 'fezrus', 'fg ho', 'finstotheleftjb', 'finstotheleftjb am', 'fire rabbit', 'fisa', 'fisher steven', 'fizzleman', 'flanders hate', 'flipped ok', 'fluff say', 'fluffypuffy', 'fluterwho', 'fluterwho need', 'forever rebel', 'form processor', 'fortnight since', 'franklenismyfrog', 'franklenismyfrog haha', 'franklenismyfrog lol', 'freakycandy', 'fredbnafter', 'free ballin', 'freezingthesun', 'friedcheesefood', 'friedcheesefood friedcheesefood', 'friedcheesefood lol', 'friedcheesefood sabby', 'from syscomments', 'frygate', 'fstcleatz', 'fuck meee', 'fuck zhang', 'function nbspnbspnbspnbspnbspnbsp', 'furytotame', 'fëëlïng cön', 'fëëlïng säd', 'gaheris', 'galip', 'gangel', 'gangstaoflove', 'ganth', 'geeky femme', 'gene paul', 'genius france', 'geobacter', 'geordy', 'get satin', 'get woohoo', 'girl grab', 'girldeal', 'gladcactus', 'glöömÿcrÿïng', 'glöömÿcrÿïng ïn', 'goddess rhiannon', 'gonna studyim', 'good hoodrat', 'gorou', 'got inwards', 'got sauce', 'gred', 'greek pun', 'greg say', 'gremlinchief', 'grp adesnppl', 'gryfades', 'gui new', 'gweg', 'ha playstation', 'hai yahan', 'haider say', 'halberstam', 'hank as', 'hank janson', 'happygl', 'hate flanders', 'have summited', 'hayneylayney', 'he mongoloid', 'heck whap', 'hell highway', 'hem waterloo', 'hensleys', 'hercules smartcard', 'heschel', 'heshe first', 'heypoprebopmop', 'hihi hihi', 'hillenburg', 'his cuco', 'his dummy', 'hmmmm sumtimes', 'ho fg', 'hoefertg', 'homofabulous', 'hot aznz', 'house kirk', 'html db', 'http endpoint', 'httpdudnsnetmp', 'httpdudnsnetmp httpdudnsnetmp', 'httpwwwasciimationconz', 'httpwwwasciimationconz say', 'hulette', 'hunx', 'hunx chunx', 'hutangill', 'hutangill never', 'häppysäd', 'hëärt', 'hëärt say', 'iasc', 'icheesesndwichu', 'id objectidspname', 'ihalimba', 'iiam', 'iloop', 'inaf', 'indiec', 'indieloser', 'instason', 'invinciblex', 'invinciblex pm', 'invisibletyu', 'invisibletyu pm', 'inwards got', 'ip eleanor', 'iron sabbath', 'ironcrotch', 'ironcrotch pm', 'iwgp', 'jackorcan what', 'jadedthymes', 'jadedthymes lol', 'jaipur foot', 'jane wah', 'japautomatic', 'jardel', 'jarrodkicksass', 'jasmcd', 'jasmcd am', 'jcsgrlthest', 'jcsgrlthest pm', 'jdavii', 'jedrcastillo', 'jeffree', 'jeffree star', 'jelal', 'jennifernycity pm', 'jercana', 'jercana am', 'jeree', 'jerman am', 'jermasoy', 'jim waco', 'jjoeeyy', 'jmesks', 'jo pm', 'john rutsey', 'jolene jolene', 'jones doctor', 'joseemendozarulz', 'josh joshjosh', 'joshjosh', 'joshjosh josh', 'joyjoydc', 'joyjoydc joyjoydc', 'jslchicago am', 'jumper pm', 'junebuggvw', 'juárez', 'jwg', 'kadam aur', 'karein', 'kate monster', 'kb chapter', 'keeblerelf', 'kendallrsmith', 'kenzen', 'kerry elect', 'kgns', 'kill lock', 'kimani', 'kitsune kupkake', 'kjag', 'klah klah', 'kleenex say', 'knight yeah', 'knightm', 'knoxvillesbabe', 'knöw haha', 'kooshbzp', 'korah rahtahmah', 'korgsaballon', 'kristi jo', 'krookedchick', 'kupkake', 'kusari', 'kuzmatic', 'kuzmatic say', 'labellily', 'lalalala clap', 'laqueesha', 'larry hobson', 'lastangryemokid', 'lastangryemokid pm', 'laura lee', 'laxmi', 'laxmi bai', 'leftcoastkid', 'lfrends', 'lfrends wh', 'lges', 'li long', 'liese', 'lifebringers', 'likewhoa pm', 'liljustin pm', 'lilmonkeyo', 'linking campaign', 'lisa knowles', 'lisxc', 'little mimosa', 'littlebuster', 'liuzerus', 'liuzerus pm', 'livingoutloud', 'lmao fluffypuffy', 'lmao tanuj', 'load task', 'lob cub', 'lokalkidd', 'lol chaoticskittle', 'lol franklenismyfrog', 'lol friedcheesefood', 'lol sabby', 'lol var', 'loltoastybake', 'loltoastybake am', 'loompa doopity', 'lovendeath', 'lt param', 'ltseseoranggt', 'ltsteelburngt', 'lulo', 'lulo thought', 'ma ogtahay', 'makbul', 'malinao', 'mansuetus', 'manual handling', 'marianne say']\n"
          ],
          "name": "stdout"
        }
      ]
    },
    {
      "cell_type": "code",
      "metadata": {
        "id": "dicpboGi3Gn1",
        "colab_type": "code",
        "colab": {
          "base_uri": "https://localhost:8080/",
          "height": 122
        },
        "outputId": "a454d64c-5394-4ec6-b99f-0a769adc0e8e"
      },
      "source": [
        "y_train.head()"
      ],
      "execution_count": 40,
      "outputs": [
        {
          "output_type": "execute_result",
          "data": {
            "text/plain": [
              "124671             female,35,Government,Capricorn\n",
              "327594    female,26,Communications-Media,Aquarius\n",
              "521763                        female,23,Law,Virgo\n",
              "211324                    female,15,Education,Leo\n",
              "16796                   male,16,Student,Capricorn\n",
              "Name: labels, dtype: object"
            ]
          },
          "metadata": {
            "tags": []
          },
          "execution_count": 40
        }
      ]
    },
    {
      "cell_type": "code",
      "metadata": {
        "id": "qEGGziV_Ums6",
        "colab_type": "code",
        "colab": {
          "base_uri": "https://localhost:8080/",
          "height": 34
        },
        "outputId": "f0002f69-8d47-4a3f-d6da-87f52fb02854"
      },
      "source": [
        "len(y_train)"
      ],
      "execution_count": 41,
      "outputs": [
        {
          "output_type": "execute_result",
          "data": {
            "text/plain": [
              "227660"
            ]
          },
          "metadata": {
            "tags": []
          },
          "execution_count": 41
        }
      ]
    },
    {
      "cell_type": "code",
      "metadata": {
        "id": "DvWTCznvUvLO",
        "colab_type": "code",
        "colab": {
          "base_uri": "https://localhost:8080/",
          "height": 54
        },
        "outputId": "1186abcd-eca4-4d12-c69c-af8d146b89f3"
      },
      "source": [
        "dict = {}\n",
        "dict = y_train.apply(lambda x : pd.value_counts(x.split(\",\"))).sum(axis = 0).to_dict()\n",
        "print (dict)"
      ],
      "execution_count": 42,
      "outputs": [
        {
          "output_type": "stream",
          "text": [
            "{'Government': 2983.0, '35': 4469.0, 'female': 114928.0, 'Capricorn': 16548.0, 'Communications-Media': 6503.0, 'Aquarius': 17423.0, '26': 17039.0, 'Law': 2471.0, 'Virgo': 20941.0, '23': 25891.0, 'Leo': 19765.0, '15': 18969.0, 'Education': 12220.0, 'male': 112732.0, '16': 24121.0, 'Student': 57422.0, '17': 28009.0, 'Libra': 19684.0, 'indUnk': 78013.0, '13': 6068.0, 'Taurus': 19912.0, '33': 5842.0, '25': 21537.0, 'Technology': 11510.0, 'Arts': 9612.0, 'Scorpio': 18559.0, 'Military': 1599.0, '24': 24187.0, 'Gemini': 19038.0, 'Consulting': 2100.0, '27': 15105.0, 'Sagittarius': 18417.0, 'Accounting': 1091.0, '34': 4778.0, 'Cancer': 19771.0, '41': 1821.0, 'Automotive': 524.0, '14': 11511.0, '43': 1531.0, 'Aries': 19438.0, '36': 3298.0, 'Science': 2455.0, 'Engineering': 4245.0, 'Biotech': 668.0, '38': 1927.0, 'Pisces': 18164.0, 'Publishing': 2103.0, 'Non-Profit': 4501.0, 'Telecommunications': 1208.0, 'Internet': 5499.0, '44': 723.0, 'Fashion': 894.0, '42': 1083.0, 'Advertising': 1556.0, 'Architecture': 720.0, 'BusinessServices': 1835.0, '39': 1895.0, '40': 1525.0, 'Banking': 1430.0, '37': 2938.0, 'Religion': 1857.0, 'Sports-Recreation': 1154.0, 'HumanResources': 1240.0, 'InvestmentBanking': 564.0, 'Marketing': 2141.0, 'LawEnforcement-Security': 511.0, '47': 859.0, 'Tourism': 960.0, 'Construction': 640.0, '48': 762.0, 'Agriculture': 674.0, 'Transportation': 1265.0, 'RealEstate': 428.0, 'Manufacturing': 1075.0, 'Museums-Libraries': 783.0, '45': 1154.0, 'Chemicals': 828.0, 'Maritime': 148.0, '46': 618.0, 'Environment': 230.0}\n"
          ],
          "name": "stdout"
        }
      ]
    },
    {
      "cell_type": "markdown",
      "metadata": {
        "id": "bo6qnJUE3Gn4",
        "colab_type": "text"
      },
      "source": [
        "#### 7.\t Transform the labels - (7.5 points)"
      ]
    },
    {
      "cell_type": "code",
      "metadata": {
        "id": "VMegibmB3Gn5",
        "colab_type": "code",
        "colab": {}
      },
      "source": [
        ""
      ],
      "execution_count": 0,
      "outputs": []
    },
    {
      "cell_type": "markdown",
      "metadata": {
        "id": "9mwXWUzc3Gn8",
        "colab_type": "text"
      },
      "source": [
        "#### 8. Choose a classifier - (5 points)"
      ]
    },
    {
      "cell_type": "markdown",
      "metadata": {
        "id": "sSDnf2Jz3Gn9",
        "colab_type": "raw"
      },
      "source": [
        "In this task, we suggest using the One-vs-Rest approach, which is implemented in OneVsRestClassifier class. In this approach k classifiers (= number of tags) are trained. As a basic classifier, use LogisticRegression. It is one of the simplest methods, but often it performs good enough in text classification tasks. It might take some time because the number of classifiers to train is large.\n",
        "a.\tUse a linear classifier of your choice, wrap it up in OneVsRestClassifier to train it on every label\n",
        "b.\tAs One-vs-Rest approach might not have been discussed in the sessions, we are providing you the code for that"
      ]
    },
    {
      "cell_type": "markdown",
      "metadata": {
        "id": "ByzjasTg3GoB",
        "colab_type": "text"
      },
      "source": [
        "#### 9.\tFit the classifier, make predictions and get the accuracy (5 points)"
      ]
    },
    {
      "cell_type": "code",
      "metadata": {
        "id": "S1Va3Odd3Gn-",
        "colab_type": "code",
        "colab": {}
      },
      "source": [
        "from sklearn.preprocessing import MultiLabelBinarizer\n",
        "mlb = MultiLabelBinarizer()\n",
        "y_train_mlb = mlb.fit_transform(y_train)\n",
        "y_test_mlb = mlb.transform(y_test)"
      ],
      "execution_count": 0,
      "outputs": []
    },
    {
      "cell_type": "code",
      "metadata": {
        "id": "8j9UZknVWl2B",
        "colab_type": "code",
        "colab": {}
      },
      "source": [
        "from sklearn.multiclass import OneVsRestClassifier\n",
        "from sklearn.linear_model import LogisticRegression\n",
        "\n",
        "LR = LogisticRegression(solver = 'lbfgs',random_state= 111)\n",
        "LR\n",
        "clf = OneVsRestClassifier(LR)\n",
        "names = vect.get_feature_names()"
      ],
      "execution_count": 0,
      "outputs": []
    },
    {
      "cell_type": "markdown",
      "metadata": {
        "id": "u-GbLjQ23GoC",
        "colab_type": "raw"
      },
      "source": [
        "a.\tPrint the following\n",
        "i.\tAccuracy score\n",
        "ii.\tF1 score\n",
        "iii.\tAverage precision score\n",
        "iv.\tAverage recall score\n",
        "v.\tTip: Make sure you are familiar with all of them. How would you expect the things to work for the multi-label scenario? Read about micro/macro/weighted averaging\n"
      ]
    },
    {
      "cell_type": "code",
      "metadata": {
        "id": "3g0i4JClWxCT",
        "colab_type": "code",
        "colab": {
          "base_uri": "https://localhost:8080/",
          "height": 52
        },
        "outputId": "82b228bf-bea3-4b98-e636-6999da1dc476"
      },
      "source": [
        "y_train_mlb\n",
        "clf.fit(X_train_dtm,y_train_mlb)\n",
        "%time\n",
        "y_pred_clf = clf.predict(X_test_dtm)"
      ],
      "execution_count": 45,
      "outputs": [
        {
          "output_type": "stream",
          "text": [
            "CPU times: user 3 µs, sys: 0 ns, total: 3 µs\n",
            "Wall time: 6.2 µs\n"
          ],
          "name": "stdout"
        }
      ]
    },
    {
      "cell_type": "code",
      "metadata": {
        "id": "m-6YzqPN3GoF",
        "colab_type": "code",
        "colab": {
          "base_uri": "https://localhost:8080/",
          "height": 34
        },
        "outputId": "4913d06f-a85e-4d9e-ad60-ed75544f7c26"
      },
      "source": [
        "print(metrics.accuracy_score(y_test_mlb,y_pred_clf))"
      ],
      "execution_count": 46,
      "outputs": [
        {
          "output_type": "stream",
          "text": [
            "0.00012236207754492729\n"
          ],
          "name": "stdout"
        }
      ]
    },
    {
      "cell_type": "code",
      "metadata": {
        "id": "teD4KxJDXnI_",
        "colab_type": "code",
        "colab": {
          "base_uri": "https://localhost:8080/",
          "height": 1000
        },
        "outputId": "1c808701-39c3-45c1-c14a-36f5a07c41b1"
      },
      "source": [
        "from sklearn.metrics import classification_report\n",
        "print(classification_report(y_test_mlb, y_pred_clf))\n"
      ],
      "execution_count": 47,
      "outputs": [
        {
          "output_type": "stream",
          "text": [
            "              precision    recall  f1-score   support\n",
            "\n",
            "           0       1.00      1.00      1.00    122587\n",
            "           1       0.00      0.00      0.00      7349\n",
            "           2       0.00      0.00      0.00       801\n",
            "           3       0.93      0.00      0.00     48635\n",
            "           4       0.92      0.00      0.00     56578\n",
            "           5       1.00      0.00      0.00     31463\n",
            "           6       1.00      0.00      0.00     27549\n",
            "           7       1.00      0.00      0.00     24921\n",
            "           8       0.67      0.00      0.00     24113\n",
            "           9       0.83      0.00      0.00     25226\n",
            "          10       0.00      0.00      0.00      1506\n",
            "          11       0.00      0.00      0.00       948\n",
            "          12       1.00      0.00      0.00     26422\n",
            "          13       0.00      0.00      0.00      2486\n",
            "          14       0.83      0.00      0.00     23883\n",
            "          15       0.00      0.00      0.00      9345\n",
            "          16       0.00      0.00      0.00       497\n",
            "          17       0.00      0.00      0.00     11747\n",
            "          18       0.00      0.00      0.00       729\n",
            "          19       1.00      0.00      0.00      3247\n",
            "          20       0.80      0.00      0.00     23056\n",
            "          21       0.00      0.00      0.00      6664\n",
            "          22       0.00      0.00      0.00      2423\n",
            "          23       0.00      0.00      0.00     13124\n",
            "          24       1.00      0.00      0.00      2549\n",
            "          25       1.00      0.00      0.00     48304\n",
            "          26       0.67      0.00      0.00     18087\n",
            "          27       0.83      0.00      0.00     41947\n",
            "          28       1.00      0.00      0.00     11312\n",
            "          29       1.00      1.00      1.00    122587\n",
            "          30       1.00      0.00      0.00     12195\n",
            "          31       0.89      0.00      0.00     55496\n",
            "          32       0.68      1.00      0.81     83796\n",
            "          33       1.00      1.00      1.00    122587\n",
            "          34       0.84      0.00      0.00     63366\n",
            "          35       1.00      0.00      0.00     34634\n",
            "          36       0.00      0.00      0.00      9180\n",
            "          37       0.90      1.00      0.95    110363\n",
            "          38       0.83      0.00      0.00     44151\n",
            "          39       1.00      1.00      1.00    122587\n",
            "          40       1.00      1.00      1.00    122587\n",
            "          41       0.93      1.00      0.97    114592\n",
            "          42       0.75      0.00      0.00     59410\n",
            "          43       0.67      0.00      0.00     19870\n",
            "          44       1.00      0.00      0.00      9375\n",
            "          45       0.79      1.00      0.88     97254\n",
            "          46       0.93      0.00      0.00     61279\n",
            "          47       0.95      0.00      0.00     67426\n",
            "          48       0.91      0.00      0.00     67802\n",
            "          49       0.00      0.00      0.00      4169\n",
            "          50       1.00      0.00      0.00      1593\n",
            "          51       0.00      0.00      0.00      7444\n",
            "\n",
            "   micro avg       0.92      0.50      0.65   2031241\n",
            "   macro avg       0.65      0.17      0.17   2031241\n",
            "weighted avg       0.88      0.50      0.48   2031241\n",
            " samples avg       0.92      0.51      0.65   2031241\n",
            "\n"
          ],
          "name": "stdout"
        }
      ]
    },
    {
      "cell_type": "markdown",
      "metadata": {
        "id": "yC93eiXu3GoE",
        "colab_type": "text"
      },
      "source": [
        "#### 10. Print true label and predicted label for any five examples (7.5 points)"
      ]
    },
    {
      "cell_type": "code",
      "metadata": {
        "id": "XbMTWDrf3GoN",
        "colab_type": "code",
        "colab": {
          "base_uri": "https://localhost:8080/",
          "height": 34
        },
        "outputId": "0f71b660-8cd2-4452-b38c-251cde86aa57"
      },
      "source": [
        "metrics.average_precision_score(y_test_mlb, y_pred_clf,average='micro')\n",
        "#metrics.recall_score(y_test_mlb, y_pred_clf)\n",
        "metrics.recall_score(y_test_mlb, y_pred_clf, labels=None, pos_label=1, average='micro', sample_weight=None)"
      ],
      "execution_count": 48,
      "outputs": [
        {
          "output_type": "execute_result",
          "data": {
            "text/plain": [
              "0.501730715360708"
            ]
          },
          "metadata": {
            "tags": []
          },
          "execution_count": 48
        }
      ]
    },
    {
      "cell_type": "code",
      "metadata": {
        "id": "IyV8nYx0X2lH",
        "colab_type": "code",
        "colab": {
          "base_uri": "https://localhost:8080/",
          "height": 279
        },
        "outputId": "c15efd72-db7a-489a-f3a4-5eb861e23c70"
      },
      "source": [
        "y_pred_clf[10:15]"
      ],
      "execution_count": 49,
      "outputs": [
        {
          "output_type": "execute_result",
          "data": {
            "text/plain": [
              "array([[1, 0, 0, 0, 0, 0, 0, 0, 0, 0, 0, 0, 0, 0, 0, 0, 0, 0, 0, 0, 0, 0,\n",
              "        0, 0, 0, 0, 0, 0, 0, 1, 0, 0, 1, 1, 0, 0, 0, 1, 0, 1, 1, 1, 0, 0,\n",
              "        0, 1, 0, 0, 0, 0, 0, 0],\n",
              "       [1, 0, 0, 0, 0, 0, 0, 0, 0, 0, 0, 0, 0, 0, 0, 0, 0, 0, 0, 0, 0, 0,\n",
              "        0, 0, 0, 0, 0, 0, 0, 1, 0, 0, 1, 1, 0, 0, 0, 1, 0, 1, 1, 1, 0, 0,\n",
              "        0, 1, 0, 0, 0, 0, 0, 0],\n",
              "       [1, 0, 0, 0, 0, 0, 0, 0, 0, 0, 0, 0, 0, 0, 0, 0, 0, 0, 0, 0, 0, 0,\n",
              "        0, 0, 0, 0, 0, 0, 0, 1, 0, 0, 1, 1, 0, 0, 0, 1, 0, 1, 1, 1, 0, 0,\n",
              "        0, 1, 0, 0, 0, 0, 0, 0],\n",
              "       [1, 0, 0, 0, 0, 0, 0, 0, 0, 0, 0, 0, 0, 0, 0, 0, 0, 0, 0, 0, 0, 0,\n",
              "        0, 0, 0, 0, 0, 0, 0, 1, 0, 0, 1, 1, 0, 0, 0, 1, 0, 1, 1, 1, 0, 0,\n",
              "        0, 1, 0, 0, 0, 0, 0, 0],\n",
              "       [1, 0, 0, 0, 0, 0, 0, 0, 0, 0, 0, 0, 0, 0, 0, 0, 0, 0, 0, 0, 0, 0,\n",
              "        0, 0, 0, 0, 0, 0, 0, 1, 0, 0, 1, 1, 0, 0, 0, 1, 0, 1, 1, 1, 0, 0,\n",
              "        0, 1, 0, 0, 0, 0, 0, 0]])"
            ]
          },
          "metadata": {
            "tags": []
          },
          "execution_count": 49
        }
      ]
    },
    {
      "cell_type": "code",
      "metadata": {
        "id": "pGjLRaprX4LQ",
        "colab_type": "code",
        "colab": {
          "base_uri": "https://localhost:8080/",
          "height": 279
        },
        "outputId": "9a748870-4050-498f-b930-000a3d0a3cb0"
      },
      "source": [
        "y_test_mlb[10:15]"
      ],
      "execution_count": 50,
      "outputs": [
        {
          "output_type": "execute_result",
          "data": {
            "text/plain": [
              "array([[1, 0, 0, 0, 1, 0, 0, 1, 0, 0, 0, 0, 1, 0, 0, 0, 0, 0, 0, 0, 0, 0,\n",
              "        0, 0, 0, 0, 0, 1, 0, 1, 0, 0, 1, 1, 1, 0, 0, 1, 1, 1, 1, 1, 0, 0,\n",
              "        0, 1, 1, 0, 0, 0, 0, 0],\n",
              "       [1, 0, 0, 1, 0, 0, 0, 0, 0, 1, 0, 0, 0, 0, 0, 0, 0, 0, 0, 0, 0, 0,\n",
              "        0, 1, 0, 1, 0, 0, 0, 1, 0, 1, 1, 1, 1, 0, 0, 1, 0, 1, 1, 1, 0, 0,\n",
              "        0, 0, 1, 1, 1, 0, 0, 0],\n",
              "       [1, 0, 0, 0, 1, 1, 0, 0, 0, 0, 0, 0, 0, 0, 0, 0, 0, 0, 0, 0, 1, 0,\n",
              "        0, 0, 0, 1, 0, 0, 0, 1, 1, 0, 1, 1, 0, 0, 0, 1, 0, 1, 1, 1, 0, 0,\n",
              "        0, 1, 0, 1, 1, 0, 0, 0],\n",
              "       [1, 0, 0, 0, 1, 1, 0, 0, 0, 0, 0, 0, 1, 0, 0, 0, 0, 0, 0, 0, 0, 0,\n",
              "        0, 0, 0, 1, 0, 0, 0, 1, 0, 1, 0, 1, 1, 0, 0, 1, 0, 1, 1, 1, 0, 0,\n",
              "        1, 1, 1, 0, 1, 0, 0, 0],\n",
              "       [1, 0, 0, 1, 0, 0, 0, 0, 0, 1, 0, 0, 0, 0, 0, 0, 0, 0, 0, 0, 0, 0,\n",
              "        0, 0, 0, 1, 0, 0, 1, 1, 0, 0, 1, 1, 0, 1, 0, 1, 0, 1, 1, 1, 1, 0,\n",
              "        0, 1, 0, 1, 1, 0, 0, 0]])"
            ]
          },
          "metadata": {
            "tags": []
          },
          "execution_count": 50
        }
      ]
    },
    {
      "cell_type": "code",
      "metadata": {
        "id": "lHwevLDhX5nt",
        "colab_type": "code",
        "colab": {}
      },
      "source": [
        ""
      ],
      "execution_count": 0,
      "outputs": []
    }
  ]
}