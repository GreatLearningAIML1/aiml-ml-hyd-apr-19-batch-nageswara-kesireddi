{
 "cells": [
  {
   "cell_type": "code",
   "execution_count": 1,
   "metadata": {
    "colab": {
     "base_uri": "https://localhost:8080/",
     "height": 35
    },
    "colab_type": "code",
    "id": "waY6cvRkiPYf",
    "outputId": "33cbc4d9-0302-4e62-d467-fd4bc77bc71d"
   },
   "outputs": [
    {
     "name": "stdout",
     "output_type": "stream",
     "text": [
      "Mounted at /content/drive\n"
     ]
    }
   ],
   "source": [
    "from google.colab import drive\n",
    "drive.mount('/content/drive')"
   ]
  },
  {
   "cell_type": "markdown",
   "metadata": {
    "colab_type": "text",
    "id": "hmdubQFeGqy_"
   },
   "source": [
    "## Neural_Networks_and_Deep_Learning_R7_Project2\n"
   ]
  },
  {
   "cell_type": "markdown",
   "metadata": {
    "colab_type": "text",
    "id": "PwCJ8GiAfhcg"
   },
   "source": [
    "# **Objective: **\n",
    "> Indented block\n",
    "The objective of the project is to learn how to implement a simple image classification pipeline based on the k-Nearest Neighbour and a deep neural network.\n"
   ]
  },
  {
   "cell_type": "markdown",
   "metadata": {
    "colab_type": "text",
    "id": "Cbp8sOFtGmpr"
   },
   "source": [
    " The goals of this assignment are as follows:\n",
    "\n",
    "1 - Understand the basic Image Classification pipeline and the data-driven approach (train/predict stages)\n",
    "\n",
    "2 - Data fetching and understand the train/val/test splits.\n",
    "\n",
    "3 - Implement and apply an optimal k-Nearest Neighbor (kNN) classifier (7.5 points)\n",
    "\n",
    "4 - Print the classification metric report (2.5 points)\n",
    "\n",
    "5 - Implement and apply a deep neural network classifier including (feedforward neural network, RELU activations) (5 points)\n",
    "\n",
    "6 - Understand and be able to implement (vectorized) backpropagation (cost stochastic gradient descent, cross entropy loss, cost functions) (2.5 points)\n",
    "\n",
    "7 - Implement batch normalization for training the neural network (2.5 points)● Understand the differences and trade-offs between traditional and NN classifiers with the help of classification metrics (5 points)"
   ]
  },
  {
   "cell_type": "code",
   "execution_count": 0,
   "metadata": {
    "colab": {},
    "colab_type": "code",
    "id": "6K9ERo65aJIR"
   },
   "outputs": [],
   "source": [
    "import pandas as pd\n",
    "import h5py\n",
    "import numpy as np"
   ]
  },
  {
   "cell_type": "code",
   "execution_count": 3,
   "metadata": {
    "colab": {
     "base_uri": "https://localhost:8080/",
     "height": 35
    },
    "colab_type": "code",
    "id": "KOAylV9aaQWm",
    "outputId": "e0e100df-1698-47d5-e040-d3bc1c6359bb"
   },
   "outputs": [
    {
     "name": "stdout",
     "output_type": "stream",
     "text": [
      "Mounted at /content/gdrive\n"
     ]
    }
   ],
   "source": [
    "from google.colab import drive\n",
    "drive.mount('/content/gdrive')"
   ]
  },
  {
   "cell_type": "code",
   "execution_count": 0,
   "metadata": {
    "colab": {},
    "colab_type": "code",
    "id": "HphpZ8eTliKF"
   },
   "outputs": [],
   "source": [
    "f = h5py.File('/content/gdrive/My Drive/Colab Notebooks/DNN-Project 2 -HouseNos/SVHN_single_grey1.h5', 'r')"
   ]
  },
  {
   "cell_type": "code",
   "execution_count": 5,
   "metadata": {
    "colab": {
     "base_uri": "https://localhost:8080/",
     "height": 52
    },
    "colab_type": "code",
    "id": "8-SAYjAxkRG_",
    "outputId": "25c6f5f4-b182-4e81-bde0-e328ec7c5b5a"
   },
   "outputs": [
    {
     "name": "stdout",
     "output_type": "stream",
     "text": [
      "Keys: KeysView(<HDF5 file \"SVHN_single_grey1.h5\" (mode r)>)\n"
     ]
    },
    {
     "data": {
      "text/plain": [
       "'X_test'"
      ]
     },
     "execution_count": 5,
     "metadata": {
      "tags": []
     },
     "output_type": "execute_result"
    }
   ],
   "source": [
    "# List all groups \n",
    "print(\"Keys: %s\" % f.keys())\n",
    "a_group_key = list(f.keys())[0]\n",
    "a_group_key"
   ]
  },
  {
   "cell_type": "code",
   "execution_count": 0,
   "metadata": {
    "colab": {},
    "colab_type": "code",
    "id": "9WsE6ZbWl8RH"
   },
   "outputs": [],
   "source": [
    "# Get the data\n",
    "X_test = np.array(f[list(f.keys())[0]])\n",
    "X_train = np.array(f[list(f.keys())[1]])\n",
    "X_val = np.array(f[list(f.keys())[2]])\n",
    "y_test = np.array(f[list(f.keys())[3]])\n",
    "y_train = np.array(f[list(f.keys())[4]])\n",
    "y_val = np.array(f[list(f.keys())[5]])"
   ]
  },
  {
   "cell_type": "code",
   "execution_count": 7,
   "metadata": {
    "colab": {
     "base_uri": "https://localhost:8080/",
     "height": 123
    },
    "colab_type": "code",
    "id": "PhbM14Yal_I9",
    "outputId": "c87f10a0-e89c-4ac8-e049-a525f76b1224"
   },
   "outputs": [
    {
     "name": "stdout",
     "output_type": "stream",
     "text": [
      "X_test Shape:  (18000, 32, 32)\n",
      "X_train Shape:  (42000, 32, 32)\n",
      "X_val Shape:  (60000, 32, 32)\n",
      "y_test Shape:  (18000,)\n",
      "y_train Shape:  (42000,)\n",
      "y_val Shape:  (60000,)\n"
     ]
    }
   ],
   "source": [
    "print(\"X_test Shape: \", X_test.shape)\n",
    "print(\"X_train Shape: \", X_train.shape)\n",
    "print(\"X_val Shape: \", X_val.shape)\n",
    "print(\"y_test Shape: \", y_test.shape)\n",
    "print(\"y_train Shape: \", y_train.shape)\n",
    "print(\"y_val Shape: \", y_val.shape)"
   ]
  },
  {
   "cell_type": "code",
   "execution_count": 8,
   "metadata": {
    "colab": {
     "base_uri": "https://localhost:8080/",
     "height": 35
    },
    "colab_type": "code",
    "id": "hMaFY15xnwm-",
    "outputId": "a4d20f87-34e9-4888-f152-7021eb05cb29"
   },
   "outputs": [
    {
     "name": "stdout",
     "output_type": "stream",
     "text": [
      "Number of Classes in y_test:10, y_train:10, y_val:10\n"
     ]
    }
   ],
   "source": [
    "print(\"Number of Classes in y_test:{}, y_train:{}, y_val:{}\".format(len(np.unique(y_test)),\n",
    "                                                                    len(np.unique(y_train)), len(np.unique(y_val))))"
   ]
  },
  {
   "cell_type": "code",
   "execution_count": 9,
   "metadata": {
    "colab": {
     "base_uri": "https://localhost:8080/",
     "height": 64
    },
    "colab_type": "code",
    "id": "G5HMmzF_n7WD",
    "outputId": "db1db68e-61e3-49d6-8baf-5a6c7aa2ef9e"
   },
   "outputs": [
    {
     "data": {
      "text/html": [
       "<p style=\"color: red;\">\n",
       "The default version of TensorFlow in Colab will soon switch to TensorFlow 2.x.<br>\n",
       "We recommend you <a href=\"https://www.tensorflow.org/guide/migrate\" target=\"_blank\">upgrade</a> now \n",
       "or ensure your notebook will continue to use TensorFlow 1.x via the <code>%tensorflow_version 1.x</code> magic:\n",
       "<a href=\"https://colab.research.google.com/notebooks/tensorflow_version.ipynb\" target=\"_blank\">more info</a>.</p>\n"
      ],
      "text/plain": [
       "<IPython.core.display.HTML object>"
      ]
     },
     "metadata": {
      "tags": []
     },
     "output_type": "display_data"
    }
   ],
   "source": [
    "import tensorflow as tf\n",
    "#Subsample the data for more efficient code execution in this exercise\n",
    "num_training =  5000\n",
    "mask = range(num_training)\n",
    "X_train = X_train[mask]\n",
    "trainY = y_train[mask]\n",
    "\n",
    "num_val = 1000\n",
    "mask = range(num_val)\n",
    "X_val = X_val[mask]\n",
    "valY = y_val[mask]\n",
    "\n",
    "num_test = 1000\n",
    "mask = range(num_test)\n",
    "X_test = X_test[mask]\n",
    "testY = y_test[mask]"
   ]
  },
  {
   "cell_type": "code",
   "execution_count": 10,
   "metadata": {
    "colab": {
     "base_uri": "https://localhost:8080/",
     "height": 52
    },
    "colab_type": "code",
    "id": "F7FeOgBioEe1",
    "outputId": "f7b5a7b9-fa82-4f48-d222-059dc4261f0d"
   },
   "outputs": [
    {
     "name": "stdout",
     "output_type": "stream",
     "text": [
      "(5000,)\n",
      "First 2 examples now are:  [2 6]\n"
     ]
    }
   ],
   "source": [
    "print(trainY.shape)\n",
    "print('First 2 examples now are: ', trainY[0:2])"
   ]
  },
  {
   "cell_type": "code",
   "execution_count": 0,
   "metadata": {
    "colab": {},
    "colab_type": "code",
    "id": "97PTKaWmoJlz"
   },
   "outputs": [],
   "source": [
    "from sklearn.neighbors import KNeighborsClassifier \n",
    "from imutils import paths\n",
    "import numpy as np\n",
    "import argparse\n",
    "import imutils\n",
    "import cv2\n",
    "import os\n",
    "import matplotlib.pyplot as plt\n",
    "%matplotlib inline"
   ]
  },
  {
   "cell_type": "code",
   "execution_count": 12,
   "metadata": {
    "colab": {
     "base_uri": "https://localhost:8080/",
     "height": 283
    },
    "colab_type": "code",
    "id": "hioFPhz-oM2h",
    "outputId": "dc8f4f56-7f12-4062-da45-50bc88585294"
   },
   "outputs": [
    {
     "data": {
      "text/plain": [
       "<matplotlib.image.AxesImage at 0x7f6c8a392ac8>"
      ]
     },
     "execution_count": 12,
     "metadata": {
      "tags": []
     },
     "output_type": "execute_result"
    },
    {
     "data": {
      "image/png": "[encoded data removed]",
      "text/plain": [
       "<Figure size 432x288 with 1 Axes>"
      ]
     },
     "metadata": {
      "tags": []
     },
     "output_type": "display_data"
    }
   ],
   "source": [
    "# Display digit 7\n",
    "plt.imshow(X_train[2], cmap=plt.cm.gray_r, interpolation='nearest')"
   ]
  },
  {
   "cell_type": "code",
   "execution_count": 13,
   "metadata": {
    "colab": {
     "base_uri": "https://localhost:8080/",
     "height": 123
    },
    "colab_type": "code",
    "id": "wD1bno6IoP4E",
    "outputId": "3e58ba3d-4efa-43f3-b307-ca1b6a93f6ac"
   },
   "outputs": [
    {
     "name": "stdout",
     "output_type": "stream",
     "text": [
      "X_test Shape:  (1000, 32, 32)\n",
      "X_train Shape:  (5000, 32, 32)\n",
      "X_val Shape:  (1000, 32, 32)\n",
      "y_test Shape:  (1000,)\n",
      "y_train Shape:  (5000,)\n",
      "y_val Shape:  (1000,)\n"
     ]
    }
   ],
   "source": [
    "print(\"X_test Shape: \", X_test.shape)\n",
    "print(\"X_train Shape: \", X_train.shape)\n",
    "print(\"X_val Shape: \", X_val.shape)\n",
    "print(\"y_test Shape: \", testY.shape)\n",
    "print(\"y_train Shape: \", trainY.shape)\n",
    "print(\"y_val Shape: \", valY.shape)"
   ]
  },
  {
   "cell_type": "code",
   "execution_count": 0,
   "metadata": {
    "colab": {},
    "colab_type": "code",
    "id": "wHlQAOGDoTMm"
   },
   "outputs": [],
   "source": [
    "# Reshape the image data into rows\n",
    "X_train_reshaped = np.reshape(X_train, (X_train.shape[0], -1))\n",
    "X_test_reshaped = np.reshape(X_test, (X_test.shape[0], -1))\n",
    "X_val_reshaped = np.reshape(X_val, (X_val.shape[0], -1))"
   ]
  },
  {
   "cell_type": "code",
   "execution_count": 15,
   "metadata": {
    "colab": {
     "base_uri": "https://localhost:8080/",
     "height": 70
    },
    "colab_type": "code",
    "id": "tjbHPV6PoWTg",
    "outputId": "a562b2a4-3ac6-4acb-881e-0b49dd485dea"
   },
   "outputs": [
    {
     "name": "stdout",
     "output_type": "stream",
     "text": [
      "(5000, 1024)\n",
      "(1000, 1024)\n",
      "(1000, 1024)\n"
     ]
    }
   ],
   "source": [
    "print(X_train_reshaped.shape)\n",
    "print(X_test_reshaped.shape)\n",
    "print(X_val_reshaped.shape)"
   ]
  },
  {
   "cell_type": "code",
   "execution_count": 0,
   "metadata": {
    "colab": {},
    "colab_type": "code",
    "id": "nJqqZiHooaZ4"
   },
   "outputs": [],
   "source": [
    "# Create a k-NN classifier with 10 neighbors: knn\n",
    "knn = KNeighborsClassifier(n_neighbors = 10)"
   ]
  },
  {
   "cell_type": "code",
   "execution_count": 17,
   "metadata": {
    "colab": {
     "base_uri": "https://localhost:8080/",
     "height": 70
    },
    "colab_type": "code",
    "id": "DguQdOQIodOJ",
    "outputId": "b97f7d29-e38f-4ed3-a1ce-5aa7d66f3619"
   },
   "outputs": [
    {
     "data": {
      "text/plain": [
       "KNeighborsClassifier(algorithm='auto', leaf_size=30, metric='minkowski',\n",
       "                     metric_params=None, n_jobs=None, n_neighbors=10, p=2,\n",
       "                     weights='uniform')"
      ]
     },
     "execution_count": 17,
     "metadata": {
      "tags": []
     },
     "output_type": "execute_result"
    }
   ],
   "source": [
    "# Fit the classifier to the training data\n",
    "knn.fit(X_train_reshaped, trainY)"
   ]
  },
  {
   "cell_type": "code",
   "execution_count": 18,
   "metadata": {
    "colab": {
     "base_uri": "https://localhost:8080/",
     "height": 35
    },
    "colab_type": "code",
    "id": "vyBQXOvxogA8",
    "outputId": "0eaf18ba-e847-41d2-dff3-1d3497cf543f"
   },
   "outputs": [
    {
     "name": "stdout",
     "output_type": "stream",
     "text": [
      "Accuracy with k = 10:  54.1 %\n"
     ]
    }
   ],
   "source": [
    "# Print the accuracy\n",
    "print(\"Accuracy with k = 10: \", knn.score(X_val_reshaped, valY)*100, '%')"
   ]
  },
  {
   "cell_type": "code",
   "execution_count": 0,
   "metadata": {
    "colab": {},
    "colab_type": "code",
    "id": "DtyjwQxsoiwy"
   },
   "outputs": [],
   "source": [
    "#Very poor Accuracy"
   ]
  },
  {
   "cell_type": "code",
   "execution_count": 20,
   "metadata": {
    "colab": {
     "base_uri": "https://localhost:8080/",
     "height": 211
    },
    "colab_type": "code",
    "id": "I7t0RN6nooek",
    "outputId": "9e6f3736-42ad-48d6-bf91-e254e452b432"
   },
   "outputs": [
    {
     "name": "stdout",
     "output_type": "stream",
     "text": [
      "k=1, accuracy=42.20%\n",
      "k=3, accuracy=61.50%\n",
      "k=5, accuracy=56.80%\n",
      "k=7, accuracy=53.70%\n",
      "k=9, accuracy=55.30%\n",
      "k=11, accuracy=53.70%\n",
      "k=13, accuracy=52.30%\n",
      "k=15, accuracy=54.10%\n",
      "k=17, accuracy=54.00%\n",
      "k=19, accuracy=51.00%\n",
      "k=3 achieved highest accuracy of 61.50% on validation data\n"
     ]
    }
   ],
   "source": [
    "# initialize the values of k for our k-Nearest Neighbor classifier along with the\n",
    "# list of accuracies for each value of k\n",
    "kVals = range(1, 30, 2)\n",
    "accuracies = []\n",
    " \n",
    "# loop over various values of `k` for the k-Nearest Neighbor classifier\n",
    "for k in range(1, 20, 2):\n",
    "    # train the k-Nearest Neighbor classifier with the current value of `k`\n",
    "    model = KNeighborsClassifier(n_neighbors=k)\n",
    "    model.fit(X_train_reshaped, trainY)\n",
    " \n",
    "    # evaluate the model and update the accuracies list\n",
    "    score = model.score(X_val_reshaped, valY)\n",
    "    print(\"k=%d, accuracy=%.2f%%\" % (k, score * 100))\n",
    "    accuracies.append(score)\n",
    " \n",
    "# find the value of k that has the largest accuracy\n",
    "i = int(np.argmax(accuracies))\n",
    "print(\"k=%d achieved highest accuracy of %.2f%% on validation data\" % (kVals[i],\n",
    "accuracies[i] * 100))"
   ]
  },
  {
   "cell_type": "code",
   "execution_count": 21,
   "metadata": {
    "colab": {
     "base_uri": "https://localhost:8080/",
     "height": 334
    },
    "colab_type": "code",
    "id": "UrFSIgProtsk",
    "outputId": "e78eed6e-7afc-4e8b-9813-4435ad61b585"
   },
   "outputs": [
    {
     "name": "stdout",
     "output_type": "stream",
     "text": [
      "EVALUATION ON TESTING DATA\n",
      "              precision    recall  f1-score   support\n",
      "\n",
      "           0       0.30      0.63      0.41       117\n",
      "           1       0.29      0.61      0.39        93\n",
      "           2       0.28      0.38      0.33        92\n",
      "           3       0.25      0.25      0.25        85\n",
      "           4       0.51      0.43      0.47        96\n",
      "           5       0.35      0.21      0.26       105\n",
      "           6       0.33      0.22      0.27        94\n",
      "           7       0.72      0.46      0.56       107\n",
      "           8       0.48      0.16      0.24       100\n",
      "           9       0.41      0.17      0.24       111\n",
      "\n",
      "    accuracy                           0.36      1000\n",
      "   macro avg       0.39      0.35      0.34      1000\n",
      "weighted avg       0.40      0.35      0.34      1000\n",
      "\n"
     ]
    }
   ],
   "source": [
    "from sklearn.metrics import classification_report\n",
    "# re-train our classifier using the best k value and predict the labels of the\n",
    "# test data\n",
    "model = KNeighborsClassifier(n_neighbors=3)\n",
    "model.fit(X_train_reshaped, trainY)\n",
    "predictions = model.predict(X_test_reshaped)\n",
    " \n",
    "# show a final classification report demonstrating the accuracy of the classifier\n",
    "# for each of the digits\n",
    "print(\"EVALUATION ON TESTING DATA\")\n",
    "print(classification_report(testY, predictions))"
   ]
  },
  {
   "cell_type": "code",
   "execution_count": 22,
   "metadata": {
    "colab": {
     "base_uri": "https://localhost:8080/",
     "height": 1000
    },
    "colab_type": "code",
    "id": "xJ1NYNtBpNlE",
    "outputId": "356f2a67-68d7-4c63-8b49-6a77c7d6a9e8"
   },
   "outputs": [
    {
     "name": "stdout",
     "output_type": "stream",
     "text": [
      "I think that digit for i - 241 is: 1\n"
     ]
    },
    {
     "data": {
      "image/png": "[encoded data removed]",
      "text/plain": [
       "<Figure size 432x288 with 1 Axes>"
      ]
     },
     "metadata": {
      "tags": []
     },
     "output_type": "display_data"
    },
    {
     "name": "stdout",
     "output_type": "stream",
     "text": [
      "I think that digit for i - 79 is: 1\n"
     ]
    },
    {
     "data": {
      "image/png": "[encoded data removed]",
      "text/plain": [
       "<Figure size 432x288 with 1 Axes>"
      ]
     },
     "metadata": {
      "tags": []
     },
     "output_type": "display_data"
    },
    {
     "name": "stdout",
     "output_type": "stream",
     "text": [
      "I think that digit for i - 839 is: 5\n"
     ]
    },
    {
     "data": {
      "image/png": "[encoded data removed]",
      "text/plain": [
       "<Figure size 432x288 with 1 Axes>"
      ]
     },
     "metadata": {
      "tags": []
     },
     "output_type": "display_data"
    },
    {
     "name": "stdout",
     "output_type": "stream",
     "text": [
      "I think that digit for i - 986 is: 3\n"
     ]
    },
    {
     "data": {
      "image/png": "[encoded data removed]",
      "text/plain": [
       "<Figure size 432x288 with 1 Axes>"
      ]
     },
     "metadata": {
      "tags": []
     },
     "output_type": "display_data"
    },
    {
     "name": "stdout",
     "output_type": "stream",
     "text": [
      "I think that digit for i - 700 is: 1\n"
     ]
    },
    {
     "data": {
      "image/png": "[encoded data removed]",
      "text/plain": [
       "<Figure size 432x288 with 1 Axes>"
      ]
     },
     "metadata": {
      "tags": []
     },
     "output_type": "display_data"
    }
   ],
   "source": [
    "from sklearn import datasets\n",
    "from skimage import exposure\n",
    "import numpy as np\n",
    "import imutils\n",
    "import cv2\n",
    "# loop over a few random digits\n",
    "for i in list(map(int, np.random.randint(0, high=len(testY), size=(5,)))):\n",
    "    # grab the image and classify it\n",
    "    image = X_test[i]\n",
    "    prediction = model.predict(image.reshape(1, -1))[0]\n",
    " \n",
    "    # convert the image for a 1024-dim array to an 32 x 32 image,\n",
    "    # then resize it to 32 x 32 pixels so we can see it better\n",
    "    image = image.reshape((32, 32)).astype(\"uint8\")\n",
    "    image = exposure.rescale_intensity(image, out_range=(0, 255))\n",
    "    image = imutils.resize(image, width=32, inter=cv2.INTER_CUBIC)\n",
    " \n",
    "    # show the prediction\n",
    "    print(\"I think that digit for i - {} is: {}\".format(i, prediction))\n",
    "    plt.imshow(X_train[i], cmap=plt.cm.gray_r, interpolation='nearest')\n",
    "    plt.show()"
   ]
  },
  {
   "cell_type": "markdown",
   "metadata": {
    "colab_type": "text",
    "id": "wQIftTDRpZWh"
   },
   "source": [
    "We see that the KNN Classifier is rather poor in image classification for the above dataset. Now, let us try our hand at image classification through Deep Learning using Keras, with the same dataset.\n"
   ]
  },
  {
   "cell_type": "markdown",
   "metadata": {
    "colab_type": "text",
    "id": "DNrno_rrpjXs"
   },
   "source": [
    "# **Image Classification Using DNN**"
   ]
  },
  {
   "cell_type": "code",
   "execution_count": 0,
   "metadata": {
    "colab": {},
    "colab_type": "code",
    "id": "fcKo-4D0pqsK"
   },
   "outputs": [],
   "source": [
    "# Get the data\n",
    "X_test = np.array(f[list(f.keys())[0]])\n",
    "X_train = np.array(f[list(f.keys())[1]])\n",
    "X_val = np.array(f[list(f.keys())[2]])\n",
    "y_test = np.array(f[list(f.keys())[3]])\n",
    "y_train = np.array(f[list(f.keys())[4]])\n",
    "y_val = np.array(f[list(f.keys())[5]])"
   ]
  },
  {
   "cell_type": "code",
   "execution_count": 24,
   "metadata": {
    "colab": {
     "base_uri": "https://localhost:8080/",
     "height": 123
    },
    "colab_type": "code",
    "id": "sYTAh8N2pz2o",
    "outputId": "fb0917ac-4f46-4006-ea7d-4cbe0a5ed800"
   },
   "outputs": [
    {
     "name": "stdout",
     "output_type": "stream",
     "text": [
      "X_test Shape:  (18000, 32, 32)\n",
      "X_train Shape:  (42000, 32, 32)\n",
      "X_val Shape:  (60000, 32, 32)\n",
      "y_test Shape:  (18000,)\n",
      "y_train Shape:  (42000,)\n",
      "y_val Shape:  (60000,)\n"
     ]
    }
   ],
   "source": [
    "print(\"X_test Shape: \", X_test.shape)\n",
    "print(\"X_train Shape: \", X_train.shape)\n",
    "print(\"X_val Shape: \", X_val.shape)\n",
    "print(\"y_test Shape: \", y_test.shape)\n",
    "print(\"y_train Shape: \", y_train.shape)\n",
    "print(\"y_val Shape: \", y_val.shape)"
   ]
  },
  {
   "cell_type": "code",
   "execution_count": 0,
   "metadata": {
    "colab": {},
    "colab_type": "code",
    "id": "yJlebLJwp16J"
   },
   "outputs": [],
   "source": [
    "trainY = tf.keras.utils.to_categorical(y_train, num_classes=10)\n",
    "testY = tf.keras.utils.to_categorical(y_test, num_classes=10)\n",
    "valY = tf.keras.utils.to_categorical(y_val, num_classes=10)"
   ]
  },
  {
   "cell_type": "code",
   "execution_count": 26,
   "metadata": {
    "colab": {
     "base_uri": "https://localhost:8080/",
     "height": 90
    },
    "colab_type": "code",
    "id": "eK_yJEGgp5rR",
    "outputId": "73bef7af-a331-40c0-9174-e252854aac46"
   },
   "outputs": [
    {
     "name": "stdout",
     "output_type": "stream",
     "text": [
      "WARNING:tensorflow:From /usr/local/lib/python3.6/dist-packages/tensorflow_core/python/ops/resource_variable_ops.py:1630: calling BaseResourceVariable.__init__ (from tensorflow.python.ops.resource_variable_ops) with constraint is deprecated and will be removed in a future version.\n",
      "Instructions for updating:\n",
      "If using Keras pass *_constraint arguments to layers.\n"
     ]
    }
   ],
   "source": [
    "#Initialize Sequential model\n",
    "model = tf.keras.models.Sequential()\n",
    "\n",
    "#Reshape data from 2D to 1D -> 32x32 to 1024\n",
    "model.add(tf.keras.layers.Reshape((1024,),input_shape=(32,32,)))\n",
    "\n",
    "#Normalize the data\n",
    "model.add(tf.keras.layers.BatchNormalization())"
   ]
  },
  {
   "cell_type": "code",
   "execution_count": 0,
   "metadata": {
    "colab": {},
    "colab_type": "code",
    "id": "mPRndcb2p8Qv"
   },
   "outputs": [],
   "source": [
    "#Add 1st hidden layer\n",
    "model.add(tf.keras.layers.Dense(200, activation='relu'))"
   ]
  },
  {
   "cell_type": "code",
   "execution_count": 0,
   "metadata": {
    "colab": {},
    "colab_type": "code",
    "id": "h65ATas7p_3r"
   },
   "outputs": [],
   "source": [
    "#Add 2nd hidden layer\n",
    "model.add(tf.keras.layers.Dense(100, activation='relu'))"
   ]
  },
  {
   "cell_type": "code",
   "execution_count": 0,
   "metadata": {
    "colab": {},
    "colab_type": "code",
    "id": "evOO2vlwqCM9"
   },
   "outputs": [],
   "source": [
    "#Add 3rd hidden layer\n",
    "model.add(tf.keras.layers.Dense(60, activation='relu'))\n"
   ]
  },
  {
   "cell_type": "code",
   "execution_count": 0,
   "metadata": {
    "colab": {},
    "colab_type": "code",
    "id": "Gv-O3B0IqHXc"
   },
   "outputs": [],
   "source": [
    "#Add 4th hidden layer\n",
    "model.add(tf.keras.layers.Dense(30, activation='relu'))"
   ]
  },
  {
   "cell_type": "code",
   "execution_count": 0,
   "metadata": {
    "colab": {},
    "colab_type": "code",
    "id": "zWek9_4BqID1"
   },
   "outputs": [],
   "source": [
    "#Add OUTPUT layer\n",
    "model.add(tf.keras.layers.Dense(10, activation='softmax'))"
   ]
  },
  {
   "cell_type": "code",
   "execution_count": 0,
   "metadata": {
    "colab": {},
    "colab_type": "code",
    "id": "wo31GsEzqKjZ"
   },
   "outputs": [],
   "source": [
    "#Create optimizer with non-default learning rate\n",
    "sgd_optimizer = tf.keras.optimizers.SGD(lr=0.03)"
   ]
  },
  {
   "cell_type": "code",
   "execution_count": 0,
   "metadata": {
    "colab": {},
    "colab_type": "code",
    "id": "kMTlfQkGqNB2"
   },
   "outputs": [],
   "source": [
    "\n",
    "#Compile the model\n",
    "model.compile(optimizer=sgd_optimizer, loss='categorical_crossentropy', metrics=['accuracy'])"
   ]
  },
  {
   "cell_type": "code",
   "execution_count": 34,
   "metadata": {
    "colab": {
     "base_uri": "https://localhost:8080/",
     "height": 404
    },
    "colab_type": "code",
    "id": "mMGEFax3qO8A",
    "outputId": "1a9c8393-38ee-494b-edaf-e60203c82595"
   },
   "outputs": [
    {
     "name": "stdout",
     "output_type": "stream",
     "text": [
      "Model: \"sequential\"\n",
      "_________________________________________________________________\n",
      "Layer (type)                 Output Shape              Param #   \n",
      "=================================================================\n",
      "reshape (Reshape)            (None, 1024)              0         \n",
      "_________________________________________________________________\n",
      "batch_normalization (BatchNo (None, 1024)              4096      \n",
      "_________________________________________________________________\n",
      "dense (Dense)                (None, 200)               205000    \n",
      "_________________________________________________________________\n",
      "dense_1 (Dense)              (None, 100)               20100     \n",
      "_________________________________________________________________\n",
      "dense_2 (Dense)              (None, 60)                6060      \n",
      "_________________________________________________________________\n",
      "dense_3 (Dense)              (None, 30)                1830      \n",
      "_________________________________________________________________\n",
      "dense_4 (Dense)              (None, 10)                310       \n",
      "=================================================================\n",
      "Total params: 237,396\n",
      "Trainable params: 235,348\n",
      "Non-trainable params: 2,048\n",
      "_________________________________________________________________\n"
     ]
    }
   ],
   "source": [
    "model.summary()"
   ]
  },
  {
   "cell_type": "code",
   "execution_count": 35,
   "metadata": {
    "colab": {
     "base_uri": "https://localhost:8080/",
     "height": 404
    },
    "colab_type": "code",
    "id": "sfWz4Qd0qRdm",
    "outputId": "b939e25a-7301-45ec-b0be-90f32ed583b8"
   },
   "outputs": [
    {
     "name": "stdout",
     "output_type": "stream",
     "text": [
      "Train on 42000 samples, validate on 18000 samples\n",
      "Epoch 1/10\n",
      "42000/42000 [==============================] - 4s 94us/sample - loss: 1.9902 - acc: 0.2987 - val_loss: 1.6744 - val_acc: 0.4235\n",
      "Epoch 2/10\n",
      "42000/42000 [==============================] - 3s 79us/sample - loss: 1.2721 - acc: 0.5930 - val_loss: 1.4221 - val_acc: 0.5487\n",
      "Epoch 3/10\n",
      "42000/42000 [==============================] - 3s 80us/sample - loss: 1.0130 - acc: 0.6833 - val_loss: 1.1743 - val_acc: 0.6279\n",
      "Epoch 4/10\n",
      "42000/42000 [==============================] - 3s 79us/sample - loss: 0.8837 - acc: 0.7265 - val_loss: 1.1564 - val_acc: 0.6488\n",
      "Epoch 5/10\n",
      "42000/42000 [==============================] - 3s 83us/sample - loss: 0.7990 - acc: 0.7553 - val_loss: 1.2793 - val_acc: 0.6213\n",
      "Epoch 6/10\n",
      "42000/42000 [==============================] - 3s 83us/sample - loss: 0.7367 - acc: 0.7730 - val_loss: 1.2299 - val_acc: 0.6592\n",
      "Epoch 7/10\n",
      "42000/42000 [==============================] - 3s 75us/sample - loss: 0.6919 - acc: 0.7870 - val_loss: 1.4205 - val_acc: 0.6161\n",
      "Epoch 8/10\n",
      "42000/42000 [==============================] - 3s 77us/sample - loss: 0.6494 - acc: 0.8001 - val_loss: 2.2059 - val_acc: 0.5459\n",
      "Epoch 9/10\n",
      "42000/42000 [==============================] - 3s 76us/sample - loss: 0.6215 - acc: 0.8098 - val_loss: 0.7242 - val_acc: 0.7869\n",
      "Epoch 10/10\n",
      "42000/42000 [==============================] - 3s 70us/sample - loss: 0.5905 - acc: 0.8181 - val_loss: 1.1657 - val_acc: 0.6849\n"
     ]
    },
    {
     "data": {
      "text/plain": [
       "<tensorflow.python.keras.callbacks.History at 0x7f6c81ddfbe0>"
      ]
     },
     "execution_count": 35,
     "metadata": {
      "tags": []
     },
     "output_type": "execute_result"
    }
   ],
   "source": [
    "model.fit(X_train,trainY,          \n",
    "          validation_data=(X_test,testY),\n",
    "          epochs=10,\n",
    "          batch_size=128)"
   ]
  },
  {
   "cell_type": "markdown",
   "metadata": {
    "colab_type": "text",
    "id": "dfG5BsX1qW9V"
   },
   "source": [
    "After Several Combinations of the various Epochs and Batch Size, I found that 10 epochs with a batch size of 128 yielded the best results at the extreme end with a accuracy of 81.81% , whereas a batch size of 96 yielded consistently good results of around 84% across all epochs."
   ]
  },
  {
   "cell_type": "code",
   "execution_count": 0,
   "metadata": {
    "colab": {},
    "colab_type": "code",
    "id": "mW-qZD4kqYQd"
   },
   "outputs": [],
   "source": [
    "\n",
    "#Now let us try with varying learning rates with same model hyperparameters\n",
    "sgd_optimizer_lr_1 = tf.keras.optimizers.SGD(lr=0.01)\n",
    "sgd_optimizer_lr_5 = tf.keras.optimizers.SGD(lr=0.05)\n",
    "sgd_optimizer_lr_10 = tf.keras.optimizers.SGD(lr=0.1)"
   ]
  },
  {
   "cell_type": "code",
   "execution_count": 0,
   "metadata": {
    "colab": {},
    "colab_type": "code",
    "id": "eM-AvumMqqJq"
   },
   "outputs": [],
   "source": [
    "#Compile the model\n",
    "model.compile(optimizer=sgd_optimizer_lr_1, loss='categorical_crossentropy', metrics=['accuracy'])"
   ]
  },
  {
   "cell_type": "code",
   "execution_count": 38,
   "metadata": {
    "colab": {
     "base_uri": "https://localhost:8080/",
     "height": 404
    },
    "colab_type": "code",
    "id": "AFDA2fvvqsyu",
    "outputId": "e73c7ec3-994d-475d-af3b-1e81b386ba82"
   },
   "outputs": [
    {
     "name": "stdout",
     "output_type": "stream",
     "text": [
      "Train on 42000 samples, validate on 18000 samples\n",
      "Epoch 1/10\n",
      "42000/42000 [==============================] - 3s 73us/sample - loss: 0.5002 - acc: 0.8501 - val_loss: 0.8314 - val_acc: 0.7669\n",
      "Epoch 2/10\n",
      "42000/42000 [==============================] - 3s 76us/sample - loss: 0.4750 - acc: 0.8565 - val_loss: 0.7696 - val_acc: 0.7802\n",
      "Epoch 3/10\n",
      "42000/42000 [==============================] - 3s 75us/sample - loss: 0.4683 - acc: 0.8578 - val_loss: 0.6994 - val_acc: 0.7988\n",
      "Epoch 4/10\n",
      "42000/42000 [==============================] - 3s 71us/sample - loss: 0.4538 - acc: 0.8612 - val_loss: 0.6295 - val_acc: 0.8241\n",
      "Epoch 5/10\n",
      "42000/42000 [==============================] - 3s 70us/sample - loss: 0.4485 - acc: 0.8643 - val_loss: 0.6495 - val_acc: 0.8183\n",
      "Epoch 6/10\n",
      "42000/42000 [==============================] - 3s 72us/sample - loss: 0.4391 - acc: 0.8672 - val_loss: 0.6942 - val_acc: 0.8032\n",
      "Epoch 7/10\n",
      "42000/42000 [==============================] - 3s 82us/sample - loss: 0.4301 - acc: 0.8698 - val_loss: 0.8761 - val_acc: 0.7588\n",
      "Epoch 8/10\n",
      "42000/42000 [==============================] - 3s 74us/sample - loss: 0.4245 - acc: 0.8706 - val_loss: 0.7889 - val_acc: 0.7810\n",
      "Epoch 9/10\n",
      "42000/42000 [==============================] - 3s 78us/sample - loss: 0.4215 - acc: 0.8721 - val_loss: 0.6306 - val_acc: 0.8232\n",
      "Epoch 10/10\n",
      "42000/42000 [==============================] - 3s 82us/sample - loss: 0.4075 - acc: 0.8769 - val_loss: 0.6530 - val_acc: 0.8193\n"
     ]
    },
    {
     "data": {
      "text/plain": [
       "<tensorflow.python.keras.callbacks.History at 0x7f6c81e98ba8>"
      ]
     },
     "execution_count": 38,
     "metadata": {
      "tags": []
     },
     "output_type": "execute_result"
    }
   ],
   "source": [
    "model.fit(X_train,trainY,          \n",
    "          validation_data=(X_test,testY),\n",
    "          epochs=10,\n",
    "          batch_size=128)"
   ]
  },
  {
   "cell_type": "code",
   "execution_count": 0,
   "metadata": {
    "colab": {},
    "colab_type": "code",
    "id": "0aoVCKjRquvb"
   },
   "outputs": [],
   "source": [
    "#Compile the model\n",
    "model.compile(optimizer=sgd_optimizer_lr_5, loss='categorical_crossentropy', metrics=['accuracy'])"
   ]
  },
  {
   "cell_type": "code",
   "execution_count": 40,
   "metadata": {
    "colab": {
     "base_uri": "https://localhost:8080/",
     "height": 404
    },
    "colab_type": "code",
    "id": "yBQ0nunMqyqX",
    "outputId": "7225dcff-5b0f-4851-d534-52a84097d048"
   },
   "outputs": [
    {
     "name": "stdout",
     "output_type": "stream",
     "text": [
      "Train on 42000 samples, validate on 18000 samples\n",
      "Epoch 1/10\n",
      "42000/42000 [==============================] - 3s 79us/sample - loss: 0.6870 - acc: 0.7959 - val_loss: 1.1759 - val_acc: 0.6824\n",
      "Epoch 2/10\n",
      "42000/42000 [==============================] - 3s 70us/sample - loss: 0.5732 - acc: 0.8216 - val_loss: 0.9320 - val_acc: 0.7416\n",
      "Epoch 3/10\n",
      "42000/42000 [==============================] - 3s 72us/sample - loss: 0.5339 - acc: 0.8320 - val_loss: 1.3004 - val_acc: 0.6741\n",
      "Epoch 4/10\n",
      "42000/42000 [==============================] - 3s 70us/sample - loss: 0.5133 - acc: 0.8395 - val_loss: 4.1357 - val_acc: 0.4539\n",
      "Epoch 5/10\n",
      "42000/42000 [==============================] - 3s 75us/sample - loss: 0.5121 - acc: 0.8431 - val_loss: 2.1410 - val_acc: 0.5858\n",
      "Epoch 6/10\n",
      "42000/42000 [==============================] - 3s 71us/sample - loss: 0.4772 - acc: 0.8520 - val_loss: 1.1103 - val_acc: 0.7126\n",
      "Epoch 7/10\n",
      "42000/42000 [==============================] - 3s 70us/sample - loss: 0.4554 - acc: 0.8562 - val_loss: 1.3798 - val_acc: 0.6776\n",
      "Epoch 8/10\n",
      "42000/42000 [==============================] - 3s 74us/sample - loss: 0.4378 - acc: 0.8620 - val_loss: 0.7265 - val_acc: 0.7982\n",
      "Epoch 9/10\n",
      "42000/42000 [==============================] - 3s 69us/sample - loss: 0.4152 - acc: 0.8707 - val_loss: 0.9557 - val_acc: 0.7592\n",
      "Epoch 10/10\n",
      "42000/42000 [==============================] - 3s 70us/sample - loss: 0.4130 - acc: 0.8694 - val_loss: 1.6143 - val_acc: 0.6561\n"
     ]
    },
    {
     "data": {
      "text/plain": [
       "<tensorflow.python.keras.callbacks.History at 0x7f6c7b59bfd0>"
      ]
     },
     "execution_count": 40,
     "metadata": {
      "tags": []
     },
     "output_type": "execute_result"
    }
   ],
   "source": [
    "model.fit(X_train,trainY,          \n",
    "          validation_data=(X_test,testY),\n",
    "          epochs=10,\n",
    "          batch_size=128)"
   ]
  },
  {
   "cell_type": "code",
   "execution_count": 0,
   "metadata": {
    "colab": {},
    "colab_type": "code",
    "id": "7KbYNcpSq0wb"
   },
   "outputs": [],
   "source": [
    "\n",
    "#Compile the model\n",
    "model.compile(optimizer=sgd_optimizer_lr_10, loss='categorical_crossentropy', metrics=['accuracy'])"
   ]
  },
  {
   "cell_type": "code",
   "execution_count": 42,
   "metadata": {
    "colab": {
     "base_uri": "https://localhost:8080/",
     "height": 404
    },
    "colab_type": "code",
    "id": "7Ko-_OxFq3uB",
    "outputId": "d55d25c7-33e7-42ae-d4bd-91cff47e2816"
   },
   "outputs": [
    {
     "name": "stdout",
     "output_type": "stream",
     "text": [
      "Train on 42000 samples, validate on 18000 samples\n",
      "Epoch 1/10\n",
      "42000/42000 [==============================] - 3s 76us/sample - loss: 0.6189 - acc: 0.8082 - val_loss: 1.8954 - val_acc: 0.6167\n",
      "Epoch 2/10\n",
      "42000/42000 [==============================] - 3s 71us/sample - loss: 0.5219 - acc: 0.8340 - val_loss: 1.6471 - val_acc: 0.6078\n",
      "Epoch 3/10\n",
      "42000/42000 [==============================] - 3s 78us/sample - loss: 0.4925 - acc: 0.8457 - val_loss: 2.4335 - val_acc: 0.5452\n",
      "Epoch 4/10\n",
      "42000/42000 [==============================] - 4s 85us/sample - loss: 0.4718 - acc: 0.8498 - val_loss: 0.9205 - val_acc: 0.7565\n",
      "Epoch 5/10\n",
      "42000/42000 [==============================] - 3s 81us/sample - loss: 0.4354 - acc: 0.8626 - val_loss: 2.4696 - val_acc: 0.5702\n",
      "Epoch 6/10\n",
      "42000/42000 [==============================] - 3s 74us/sample - loss: 0.4305 - acc: 0.8647 - val_loss: 0.9557 - val_acc: 0.7482\n",
      "Epoch 7/10\n",
      "42000/42000 [==============================] - 3s 77us/sample - loss: 0.3999 - acc: 0.8715 - val_loss: 1.0231 - val_acc: 0.7400\n",
      "Epoch 8/10\n",
      "42000/42000 [==============================] - 3s 79us/sample - loss: 0.3993 - acc: 0.8719 - val_loss: 1.6965 - val_acc: 0.6644\n",
      "Epoch 9/10\n",
      "42000/42000 [==============================] - 3s 80us/sample - loss: 0.3812 - acc: 0.8783 - val_loss: 1.2533 - val_acc: 0.7042\n",
      "Epoch 10/10\n",
      "42000/42000 [==============================] - 3s 78us/sample - loss: 0.3757 - acc: 0.8790 - val_loss: 2.2475 - val_acc: 0.6559\n"
     ]
    },
    {
     "data": {
      "text/plain": [
       "<tensorflow.python.keras.callbacks.History at 0x7f6c7b5a7d68>"
      ]
     },
     "execution_count": 42,
     "metadata": {
      "tags": []
     },
     "output_type": "execute_result"
    }
   ],
   "source": [
    "model.fit(X_train,trainY,          \n",
    "          validation_data=(X_test,testY),\n",
    "          epochs=10,\n",
    "          batch_size=128)"
   ]
  },
  {
   "cell_type": "markdown",
   "metadata": {
    "colab_type": "text",
    "id": "OhWQ1bWhq95K"
   },
   "source": [
    "It seems increasing learning rates for Stochastic Gradient Descent has a negative effect on the accuracy. However, a learning rate of 0.01 has proven very effective as can be seen from the above results. Let us now try once with the Adam optimizer."
   ]
  },
  {
   "cell_type": "code",
   "execution_count": 0,
   "metadata": {
    "colab": {},
    "colab_type": "code",
    "id": "9WiLpqsIrA4L"
   },
   "outputs": [],
   "source": [
    "#Compile the model\n",
    "adam_optimizer = tf.keras.optimizers.Adam(lr = 0.0005)\n",
    "model.compile(optimizer= adam_optimizer, loss='categorical_crossentropy', metrics=['accuracy'])"
   ]
  },
  {
   "cell_type": "code",
   "execution_count": 44,
   "metadata": {
    "colab": {
     "base_uri": "https://localhost:8080/",
     "height": 404
    },
    "colab_type": "code",
    "id": "obg8f0VZrElC",
    "outputId": "afa07717-ab0e-44f6-86b0-950af523a7fe"
   },
   "outputs": [
    {
     "name": "stdout",
     "output_type": "stream",
     "text": [
      "Train on 42000 samples, validate on 18000 samples\n",
      "Epoch 1/10\n",
      "42000/42000 [==============================] - 3s 80us/sample - loss: 0.3515 - acc: 0.8874 - val_loss: 0.6005 - val_acc: 0.8446\n",
      "Epoch 2/10\n",
      "42000/42000 [==============================] - 3s 79us/sample - loss: 0.3173 - acc: 0.8982 - val_loss: 0.6148 - val_acc: 0.8398\n",
      "Epoch 3/10\n",
      "42000/42000 [==============================] - 3s 81us/sample - loss: 0.3105 - acc: 0.8985 - val_loss: 0.5929 - val_acc: 0.8464\n",
      "Epoch 4/10\n",
      "42000/42000 [==============================] - 3s 80us/sample - loss: 0.2922 - acc: 0.9056 - val_loss: 0.6097 - val_acc: 0.8441\n",
      "Epoch 5/10\n",
      "42000/42000 [==============================] - 3s 75us/sample - loss: 0.2839 - acc: 0.9096 - val_loss: 0.6110 - val_acc: 0.8425\n",
      "Epoch 6/10\n",
      "42000/42000 [==============================] - 3s 80us/sample - loss: 0.2828 - acc: 0.9090 - val_loss: 0.6236 - val_acc: 0.8448\n",
      "Epoch 7/10\n",
      "42000/42000 [==============================] - 3s 76us/sample - loss: 0.2769 - acc: 0.9110 - val_loss: 0.6360 - val_acc: 0.8406\n",
      "Epoch 8/10\n",
      "42000/42000 [==============================] - 3s 74us/sample - loss: 0.2718 - acc: 0.9127 - val_loss: 0.6245 - val_acc: 0.8411\n",
      "Epoch 9/10\n",
      "42000/42000 [==============================] - 3s 76us/sample - loss: 0.2686 - acc: 0.9123 - val_loss: 0.6603 - val_acc: 0.8329\n",
      "Epoch 10/10\n",
      "42000/42000 [==============================] - 3s 74us/sample - loss: 0.2614 - acc: 0.9145 - val_loss: 0.6343 - val_acc: 0.8468\n"
     ]
    },
    {
     "data": {
      "text/plain": [
       "<tensorflow.python.keras.callbacks.History at 0x7f6c8a3a52b0>"
      ]
     },
     "execution_count": 44,
     "metadata": {
      "tags": []
     },
     "output_type": "execute_result"
    }
   ],
   "source": [
    "model.fit(X_train,trainY,          \n",
    "          validation_data=(X_test,testY),\n",
    "          epochs=10,\n",
    "          batch_size=128)"
   ]
  },
  {
   "cell_type": "markdown",
   "metadata": {
    "colab_type": "text",
    "id": "oOmxl-FFtUwz"
   },
   "source": [
    "\n",
    "We see excellent results after various combinations of Adam Optimizer Learning Rates and witness the highest accuracy of all models and hyperparameters with Adam Optimizer having a learning rate of 0.0005 and Batch Size 128 with 10 epochs. It is certain that results may improve through further tuning, but I feel we have reached a satisfactory model state with validation accuracy approaching the 91.45% range, which can be considered a good model for image classification.\n",
    "\n",
    "From above we note that Deep Neural Networks offer a significant improvement in image classification accuracy as compared to plain vanilla KNN Classifiers. Therefore, the use of DNN with Keras for image classification is justified."
   ]
  },
  {
   "cell_type": "code",
   "execution_count": 45,
   "metadata": {
    "colab": {
     "base_uri": "https://localhost:8080/",
     "height": 35
    },
    "colab_type": "code",
    "id": "Iqkp_--irLqI",
    "outputId": "a66921c5-d4d0-493f-ebac-e2161afd5c43"
   },
   "outputs": [
    {
     "name": "stderr",
     "output_type": "stream",
     "text": [
      "Using TensorFlow backend.\n"
     ]
    }
   ],
   "source": [
    "from keras.preprocessing import image\n",
    "from keras.preprocessing.image import img_to_array"
   ]
  },
  {
   "cell_type": "code",
   "execution_count": 0,
   "metadata": {
    "colab": {},
    "colab_type": "code",
    "id": "DAOCWlgKrOH0"
   },
   "outputs": [],
   "source": [
    "def load_image(img, show=True):\n",
    "  \n",
    "    img_tensor = image.img_to_array(img)                    # (height, width, channels)\n",
    "    img_tensor = np.expand_dims(img_tensor, axis=0)         # (1, height, width, channels), add a dimension because the model expects this shape: (batch_size, height, width, channels)\n",
    "    img_tensor /= 255.                                      # imshow expects values in the range [0, 1]\n",
    "\n",
    "    if show:\n",
    "        plt.imshow(img_tensor[0])                           \n",
    "        plt.axis('off')\n",
    "        plt.show()\n",
    "\n",
    "    return img_tensor"
   ]
  },
  {
   "cell_type": "code",
   "execution_count": 0,
   "metadata": {
    "colab": {},
    "colab_type": "code",
    "id": "oPUjbv1prQZh"
   },
   "outputs": [],
   "source": [
    "#Abandoning above POC as its not working. Below POC is better for predictions.\n"
   ]
  },
  {
   "cell_type": "code",
   "execution_count": 47,
   "metadata": {
    "colab": {
     "base_uri": "https://localhost:8080/",
     "height": 35
    },
    "colab_type": "code",
    "id": "2o2eUDIgrSEV",
    "outputId": "51543c8f-dd8a-492f-f640-e03d388ff9e7"
   },
   "outputs": [
    {
     "name": "stdout",
     "output_type": "stream",
     "text": [
      "[2 7 2 9 0 9 1 8 1 4]\n"
     ]
    }
   ],
   "source": [
    "#Lets Predict Images using our model\n",
    "out = model.predict(X_test[0:10])\n",
    "print(np.argmax(out, axis=1))"
   ]
  },
  {
   "cell_type": "code",
   "execution_count": 48,
   "metadata": {
    "colab": {
     "base_uri": "https://localhost:8080/",
     "height": 1000
    },
    "colab_type": "code",
    "id": "n3EiEnyurUG3",
    "outputId": "59f32a1b-e32e-473e-bb46-5c9edd7bcdbe"
   },
   "outputs": [
    {
     "name": "stdout",
     "output_type": "stream",
     "text": [
      "I think that digit is: 2\n"
     ]
    },
    {
     "data": {
      "image/png": "[encoded data removed]",
      "text/plain": [
       "<Figure size 432x288 with 1 Axes>"
      ]
     },
     "metadata": {
      "tags": []
     },
     "output_type": "display_data"
    },
    {
     "name": "stdout",
     "output_type": "stream",
     "text": [
      "I think that digit is: 7\n"
     ]
    },
    {
     "data": {
      "image/png": "[encoded data removed]",
      "text/plain": [
       "<Figure size 432x288 with 1 Axes>"
      ]
     },
     "metadata": {
      "tags": []
     },
     "output_type": "display_data"
    },
    {
     "name": "stdout",
     "output_type": "stream",
     "text": [
      "I think that digit is: 2\n"
     ]
    },
    {
     "data": {
      "image/png": "[encoded data removed]",
      "text/plain": [
       "<Figure size 432x288 with 1 Axes>"
      ]
     },
     "metadata": {
      "tags": []
     },
     "output_type": "display_data"
    },
    {
     "name": "stdout",
     "output_type": "stream",
     "text": [
      "I think that digit is: 9\n"
     ]
    },
    {
     "data": {
      "image/png": "[encoded data removed]",
      "text/plain": [
       "<Figure size 432x288 with 1 Axes>"
      ]
     },
     "metadata": {
      "tags": []
     },
     "output_type": "display_data"
    },
    {
     "name": "stdout",
     "output_type": "stream",
     "text": [
      "I think that digit is: 0\n"
     ]
    },
    {
     "data": {
      "image/png": "[encoded data removed]",
      "text/plain": [
       "<Figure size 432x288 with 1 Axes>"
      ]
     },
     "metadata": {
      "tags": []
     },
     "output_type": "display_data"
    },
    {
     "name": "stdout",
     "output_type": "stream",
     "text": [
      "I think that digit is: 9\n"
     ]
    },
    {
     "data": {
      "image/png": "[encoded data removed]",
      "text/plain": [
       "<Figure size 432x288 with 1 Axes>"
      ]
     },
     "metadata": {
      "tags": []
     },
     "output_type": "display_data"
    },
    {
     "name": "stdout",
     "output_type": "stream",
     "text": [
      "I think that digit is: 1\n"
     ]
    },
    {
     "data": {
      "image/png": "[encoded data removed]",
      "text/plain": [
       "<Figure size 432x288 with 1 Axes>"
      ]
     },
     "metadata": {
      "tags": []
     },
     "output_type": "display_data"
    },
    {
     "name": "stdout",
     "output_type": "stream",
     "text": [
      "I think that digit is: 8\n"
     ]
    },
    {
     "data": {
      "image/png": "[encoded data removed]",
      "text/plain": [
       "<Figure size 432x288 with 1 Axes>"
      ]
     },
     "metadata": {
      "tags": []
     },
     "output_type": "display_data"
    },
    {
     "name": "stdout",
     "output_type": "stream",
     "text": [
      "I think that digit is: 1\n"
     ]
    },
    {
     "data": {
      "image/png": "[encoded data removed]",
      "text/plain": [
       "<Figure size 432x288 with 1 Axes>"
      ]
     },
     "metadata": {
      "tags": []
     },
     "output_type": "display_data"
    },
    {
     "name": "stdout",
     "output_type": "stream",
     "text": [
      "I think that digit is: 4\n"
     ]
    },
    {
     "data": {
      "image/png": "[encoded data removed]",
      "text/plain": [
       "<Figure size 432x288 with 1 Axes>"
      ]
     },
     "metadata": {
      "tags": []
     },
     "output_type": "display_data"
    }
   ],
   "source": [
    "for i in range(0,10):\n",
    "    print(\"I think that digit is: {}\".format(np.argmax(out, axis=1)[i]))\n",
    "    plt.imshow(X_test[i], cmap=plt.cm.gray_r, interpolation='nearest')\n",
    "    plt.show()"
   ]
  },
  {
   "cell_type": "markdown",
   "metadata": {
    "colab_type": "text",
    "id": "d6NhIM2grZS0"
   },
   "source": [
    "We see that the model predicts images quite accurately, as per the accuracy mentioned in the model summary. Therefore, it seems we are ok with this model and approaching the human accuracy."
   ]
  },
  {
   "cell_type": "markdown",
   "metadata": {
    "colab_type": "text",
    "id": "J8uiJrg1reyr"
   },
   "source": [
    "# Conclusion"
   ]
  },
  {
   "cell_type": "markdown",
   "metadata": {
    "colab_type": "text",
    "id": "0Czh1zWMrce_"
   },
   "source": [
    "Based on our experimentation of various classification mechanisms both classical as well through Deep Neural Networks, we may reach the conclusion that DNNs are quite efficient for image classification.\n",
    "\n",
    "Metrics show accuracy to be sub par i.e. below 50% for classical ML KNN models whereas they show a healthy accuracy for tuned models around 91%%."
   ]
  },
  {
   "cell_type": "code",
   "execution_count": 0,
   "metadata": {
    "colab": {},
    "colab_type": "code",
    "id": "VBONrZBxreFp"
   },
   "outputs": [],
   "source": []
  }
 ],
 "metadata": {
  "colab": {
   "collapsed_sections": [],
   "name": "R7_Introduction_NeuralNetworks_DeepLearning_Project2_V2.ipynb",
   "provenance": []
  },
  "kernelspec": {
   "display_name": "Python 3",
   "language": "python",
   "name": "python3"
  },
  "language_info": {
   "codemirror_mode": {
    "name": "ipython",
    "version": 3
   },
   "file_extension": ".py",
   "mimetype": "text/x-python",
   "name": "python",
   "nbconvert_exporter": "python",
   "pygments_lexer": "ipython3",
   "version": "3.7.3"
  }
 },
 "nbformat": 4,
 "nbformat_minor": 1
}
