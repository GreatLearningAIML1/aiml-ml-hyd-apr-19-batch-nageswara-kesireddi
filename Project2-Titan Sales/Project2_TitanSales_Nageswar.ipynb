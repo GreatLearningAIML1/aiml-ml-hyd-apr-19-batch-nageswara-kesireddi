{
 "cells": [
  {
   "cell_type": "markdown",
   "metadata": {},
   "source": [
    "# Project 2 | Statistical Learning \n",
    "\n",
    "### Case Study-Titan Insurance Company"
   ]
  },
  {
   "cell_type": "markdown",
   "metadata": {},
   "source": [
    "Question 1 : Find the mean of old scheme and new scheme column."
   ]
  },
  {
   "cell_type": "code",
   "execution_count": 6,
   "metadata": {},
   "outputs": [],
   "source": [
    "import numpy as np\n",
    "import pandas as pd\n",
    "from scipy import stats\n",
    "from statsmodels.stats.power import  ttest_power\n"
   ]
  },
  {
   "cell_type": "markdown",
   "metadata": {},
   "source": [
    "Converted the given data in to a csv file for ease of use"
   ]
  },
  {
   "cell_type": "code",
   "execution_count": 11,
   "metadata": {},
   "outputs": [
    {
     "name": "stdout",
     "output_type": "stream",
     "text": [
      "   SALESPERSON  Old_Scheme  New_Scheme\n",
      "0            1          57          62\n",
      "1            2         103         122\n",
      "2            3          59          54\n",
      "3            4          75          82\n",
      "4            5          84          84\n",
      "5            6          73          86\n",
      "6            7          35          32\n",
      "7            8         110         104\n",
      "8            9          44          38\n",
      "9           10          82         107\n"
     ]
    }
   ],
   "source": [
    "titan_sales=pd.read_csv(\"C:/Users/Nageswar/AIML/GIT/aiml-ml-hyd-apr-19-batch-nageswara-kesireddi/Assignments/Project2/TitanInsSales.csv\")\n",
    "print(titan_sales.head(10))"
   ]
  },
  {
   "cell_type": "code",
   "execution_count": 13,
   "metadata": {},
   "outputs": [],
   "source": [
    "#Transforming data to thousands to get more accuracy\n",
    "titan_sales.Old_Scheme=titan_sales.Old_Scheme*1000\n",
    "titan_sales.New_Scheme=titan_sales.New_Scheme*1000"
   ]
  },
  {
   "cell_type": "code",
   "execution_count": 15,
   "metadata": {},
   "outputs": [
    {
     "name": "stdout",
     "output_type": "stream",
     "text": [
      "Mean of Old Scheme is  68033333.33333333\n",
      "Mean of New Scheme is  72033333.33333333\n",
      "difference in mean is : 4000000.0\n"
     ]
    }
   ],
   "source": [
    "print(\"Mean of Old Scheme is \",titan_sales.Old_Scheme.mean())\n",
    "print(\"Mean of New Scheme is \",titan_sales.New_Scheme.mean())\n",
    "print(\"difference in mean is :\", titan_sales.New_Scheme.mean()-titan_sales.Old_Scheme.mean())\n"
   ]
  },
  {
   "cell_type": "markdown",
   "metadata": {},
   "source": [
    "Question 2: Use the five percent significance test over the data to determine the p value to check new scheme has significantly raised outputs?\n",
    "\n",
    "Null Hypothesis is : There is no difference  in the sales after new scheme introduction\n",
    "Alternate Hypothesis is : There is a change in the sales after introducing the new scheme"
   ]
  },
  {
   "cell_type": "code",
   "execution_count": 18,
   "metadata": {},
   "outputs": [
    {
     "name": "stdout",
     "output_type": "stream",
     "text": [
      "relative ttest\n",
      "t_value is : -1.5559143823544377\n",
      "p_value is : 0.13057553961337662\n",
      "Accept Null Hypothesis H0\n"
     ]
    }
   ],
   "source": [
    "alpha=0.05\n",
    "t_value,p_value=stats.ttest_rel(titan_sales.Old_Scheme,titan_sales.New_Scheme)\n",
    "print(\"relative ttest\")\n",
    "print(\"t_value is :\",t_value)\n",
    "print(\"p_value is :\", p_value)\n",
    "if p_value<alpha:\n",
    "    print(\"Reject Null Hypothesis\")\n",
    "else:\n",
    "    print(\"Accept Null Hypothesis H0\")"
   ]
  },
  {
   "cell_type": "markdown",
   "metadata": {},
   "source": [
    "Question 3: What conclusion does the test (p-value) lead to?"
   ]
  },
  {
   "cell_type": "code",
   "execution_count": 21,
   "metadata": {},
   "outputs": [
    {
     "name": "stdout",
     "output_type": "stream",
     "text": [
      "p_value is higher than 0.05, the new scheme has not rasied the sales.  So, Null hypothesis is true\n"
     ]
    }
   ],
   "source": [
    "print(\"p_value is higher than 0.05, the new scheme has not rasied the sales.  So, Null hypothesis is true\" )\n",
    "#conclusion: As the p_Value is >0.05, there is no change in the sales even after the new scheme introduction"
   ]
  },
  {
   "cell_type": "markdown",
   "metadata": {},
   "source": [
    "Suppose it has been calculated that in order for Titan to break even, the average output must increase by £5000 in the scheme compared to the old scheme. If this figure is alternative hypothesis, what is :\n",
    "Question 4.1:The probability of a type 1 error? "
   ]
  },
  {
   "cell_type": "code",
   "execution_count": 22,
   "metadata": {},
   "outputs": [
    {
     "name": "stdout",
     "output_type": "stream",
     "text": [
      "probability of making a type 1 error is alpha :  0.05\n"
     ]
    }
   ],
   "source": [
    "print( \"probability of making a type 1 error is alpha : \" , alpha)"
   ]
  },
  {
   "cell_type": "markdown",
   "metadata": {},
   "source": [
    "Question 4.2: What is the p- value of the hypothesis test if we test for a difference of $5000?"
   ]
  },
  {
   "cell_type": "code",
   "execution_count": 23,
   "metadata": {},
   "outputs": [
    {
     "name": "stdout",
     "output_type": "stream",
     "text": [
      "New t_value is : 18.215041435244256\n",
      "New p_value is : 2.0351545266255127e-17\n",
      "Reject Null Hypothesis\n",
      "By Increasing the average sales by $5000, the company is going to get the breakeven\n"
     ]
    }
   ],
   "source": [
    "#Null Hypothesis is even after increasing the sales by $5000, the company is not going to get a break even.\n",
    "#Alternate Hypothesis is increase in sales by 5000 is going to get a breakeven.\n",
    "#H0<=5000\n",
    "#Ha=5000\n",
    "mu1=titan_sales.Old_Scheme\n",
    "mu2=titan_sales.New_Scheme\n",
    "#Since we are trying to find p_value for a differnece of 5000$\n",
    "\n",
    "mu2=titan_sales.Old_Scheme+5000\n",
    "alpha=0.05\n",
    "t1_value,p1_value=stats.ttest_1samp(titan_sales.Old_Scheme,5000)\n",
    "print(\"New t_value is :\",t1_value)\n",
    "print(\"New p_value is :\", p1_value)\n",
    "if p1_value<alpha:\n",
    "    print(\"Reject Null Hypothesis\")\n",
    "else:\n",
    "    print(\"Accept Null Hypothesis\")\n",
    "\n",
    "print(\"By Increasing the average sales by $5000, the company is going to get the breakeven\")\n"
   ]
  },
  {
   "cell_type": "markdown",
   "metadata": {},
   "source": [
    "Question 4.3: Calculate power of test"
   ]
  },
  {
   "cell_type": "code",
   "execution_count": 28,
   "metadata": {},
   "outputs": [
    {
     "name": "stdout",
     "output_type": "stream",
     "text": [
      "Power of the test is :  0.10023183502126587\n"
     ]
    }
   ],
   "source": [
    "#  The probability of not committing a Type II error is called the power of a hypothesis test.\n",
    "\n",
    "# Calculating Power of Test\n",
    "# Compute the difference in Means between Population and Sample and divide it by Standard Deviation\n",
    "# number of Observations(nobs) =30\n",
    "\n",
    "#Difference of means -==> d, standard deviation==>std and effectsize==>effsize\n",
    "\n",
    "d=5000\n",
    "std=titan_sales.Old_Scheme.std()\n",
    "\n",
    "effsize=d/std\n",
    "#since the deviation\n",
    "#power of test is \n",
    "print(\"Power of the test is : \",ttest_power(effsize, nobs=30, alpha=0.1, alternative='larger'))\n",
    "print(\"Power of the test is : \",ttest_power(effsize, nobs=30, alpha=0.1, alternative='larger'))\n",
    "\n"
   ]
  },
  {
   "cell_type": "code",
   "execution_count": null,
   "metadata": {},
   "outputs": [],
   "source": [
    "#Conclusion:  As the Power value is close to Zero the sample is not adequate in not committing the TYPE II error.  "
   ]
  }
 ],
 "metadata": {
  "kernelspec": {
   "display_name": "Python 3",
   "language": "python",
   "name": "python3"
  },
  "language_info": {
   "codemirror_mode": {
    "name": "ipython",
    "version": 3
   },
   "file_extension": ".py",
   "mimetype": "text/x-python",
   "name": "python",
   "nbconvert_exporter": "python",
   "pygments_lexer": "ipython3",
   "version": "3.7.3"
  }
 },
 "nbformat": 4,
 "nbformat_minor": 2
}
