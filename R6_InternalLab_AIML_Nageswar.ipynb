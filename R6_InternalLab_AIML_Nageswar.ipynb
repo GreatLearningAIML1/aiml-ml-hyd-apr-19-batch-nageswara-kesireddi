{
  "nbformat": 4,
  "nbformat_minor": 0,
  "metadata": {
    "colab": {
      "name": "R6_InternalLab_AIML.ipynb",
      "provenance": [],
      "collapsed_sections": []
    },
    "kernelspec": {
      "display_name": "Python 3",
      "language": "python",
      "name": "python3"
    },
    "language_info": {
      "codemirror_mode": {
        "name": "ipython",
        "version": 3
      },
      "file_extension": ".py",
      "mimetype": "text/x-python",
      "name": "python",
      "nbconvert_exporter": "python",
      "pygments_lexer": "ipython3",
      "version": "3.7.3"
    }
  },
  "cells": [
    {
      "cell_type": "markdown",
      "metadata": {
        "colab_type": "text",
        "id": "sb7Epo0VOB58"
      },
      "source": [
        "### Load tensorflow"
      ]
    },
    {
      "cell_type": "code",
      "metadata": {
        "colab_type": "code",
        "id": "fHpCNRv1OB5-",
        "colab": {}
      },
      "source": [
        "import tensorflow as tf"
      ],
      "execution_count": 0,
      "outputs": []
    },
    {
      "cell_type": "code",
      "metadata": {
        "id": "19Ps5emAPjZk",
        "colab_type": "code",
        "outputId": "31af05fd-7572-4a22-e6c5-1425eb01b4c6",
        "colab": {
          "base_uri": "https://localhost:8080/",
          "height": 35
        }
      },
      "source": [
        "from google.colab import drive\n",
        "drive.mount(\"/content/drive/\")"
      ],
      "execution_count": 2,
      "outputs": [
        {
          "output_type": "stream",
          "text": [
            "Drive already mounted at /content/drive/; to attempt to forcibly remount, call drive.mount(\"/content/drive/\", force_remount=True).\n"
          ],
          "name": "stdout"
        }
      ]
    },
    {
      "cell_type": "code",
      "metadata": {
        "id": "ZkZfyJaLP-6U",
        "colab_type": "code",
        "colab": {}
      },
      "source": [
        "project_path=\"/content/dirve/DeepLearn/R6_internal/\""
      ],
      "execution_count": 0,
      "outputs": []
    },
    {
      "cell_type": "code",
      "metadata": {
        "id": "05IzceU_MUYx",
        "colab_type": "code",
        "outputId": "ef78691e-de2c-40de-b32d-47b3bb7e6771",
        "colab": {
          "base_uri": "https://localhost:8080/",
          "height": 35
        }
      },
      "source": [
        "tf.version"
      ],
      "execution_count": 4,
      "outputs": [
        {
          "output_type": "execute_result",
          "data": {
            "text/plain": [
              "<module 'tensorflow._api.v1.version' from '/usr/local/lib/python3.6/dist-packages/tensorflow/_api/v1/version/__init__.py'>"
            ]
          },
          "metadata": {
            "tags": []
          },
          "execution_count": 4
        }
      ]
    },
    {
      "cell_type": "markdown",
      "metadata": {
        "id": "heBiFcSrMUY4",
        "colab_type": "text"
      },
      "source": [
        "### Enable Eager Execution if you are using tensorflow 1.x"
      ]
    },
    {
      "cell_type": "code",
      "metadata": {
        "colab_type": "code",
        "id": "tnSsH8sNOB6F",
        "outputId": "30fea745-9aab-46ed-82ec-2c147a5479ee",
        "colab": {
          "base_uri": "https://localhost:8080/",
          "height": 35
        }
      },
      "source": [
        "tf.__version__"
      ],
      "execution_count": 5,
      "outputs": [
        {
          "output_type": "execute_result",
          "data": {
            "text/plain": [
              "'1.14.0'"
            ]
          },
          "metadata": {
            "tags": []
          },
          "execution_count": 5
        }
      ]
    },
    {
      "cell_type": "code",
      "metadata": {
        "id": "Z2p9NApcMUY_",
        "colab_type": "code",
        "colab": {}
      },
      "source": [
        "tf.enable_eager_execution()"
      ],
      "execution_count": 0,
      "outputs": []
    },
    {
      "cell_type": "markdown",
      "metadata": {
        "colab_type": "text",
        "id": "DxJDmJqqOB6K"
      },
      "source": [
        "### Collect Data"
      ]
    },
    {
      "cell_type": "code",
      "metadata": {
        "colab_type": "code",
        "id": "FhllFLyKOB6N",
        "colab": {}
      },
      "source": [
        "import pandas as pd"
      ],
      "execution_count": 0,
      "outputs": []
    },
    {
      "cell_type": "code",
      "metadata": {
        "colab_type": "code",
        "id": "B4yQKMiJOB6R",
        "colab": {}
      },
      "source": [
        "data = pd.read_csv('./prices.csv')"
      ],
      "execution_count": 0,
      "outputs": []
    },
    {
      "cell_type": "markdown",
      "metadata": {
        "colab_type": "text",
        "id": "fgkX6SEqOB6W"
      },
      "source": [
        "### Check all columns in the dataset"
      ]
    },
    {
      "cell_type": "code",
      "metadata": {
        "colab_type": "code",
        "id": "7K8pWsNQOB6X",
        "outputId": "bb316071-b7e1-4822-823f-6202dd0a00be",
        "colab": {
          "base_uri": "https://localhost:8080/",
          "height": 35
        }
      },
      "source": [
        "data.shape"
      ],
      "execution_count": 9,
      "outputs": [
        {
          "output_type": "execute_result",
          "data": {
            "text/plain": [
              "(851264, 7)"
            ]
          },
          "metadata": {
            "tags": []
          },
          "execution_count": 9
        }
      ]
    },
    {
      "cell_type": "code",
      "metadata": {
        "id": "afcYeXTlM2gW",
        "colab_type": "code",
        "outputId": "53b11c8c-6e03-4a67-dc1b-3b7cf0e5bae7",
        "colab": {
          "base_uri": "https://localhost:8080/",
          "height": 35
        }
      },
      "source": [
        "data.columns"
      ],
      "execution_count": 10,
      "outputs": [
        {
          "output_type": "execute_result",
          "data": {
            "text/plain": [
              "Index(['date', 'symbol', 'open', 'close', 'low', 'high', 'volume'], dtype='object')"
            ]
          },
          "metadata": {
            "tags": []
          },
          "execution_count": 10
        }
      ]
    },
    {
      "cell_type": "markdown",
      "metadata": {
        "colab_type": "text",
        "id": "7dU6X7MpOB6c"
      },
      "source": [
        "### Drop columns `date` and  `symbol`"
      ]
    },
    {
      "cell_type": "code",
      "metadata": {
        "colab_type": "code",
        "id": "lh_6spSKOB6e",
        "colab": {}
      },
      "source": [
        "data=data.drop(['date', 'symbol'],axis=1)"
      ],
      "execution_count": 0,
      "outputs": []
    },
    {
      "cell_type": "code",
      "metadata": {
        "id": "vlr1kbx3NQ4D",
        "colab_type": "code",
        "colab": {}
      },
      "source": [
        "cols=data.columns"
      ],
      "execution_count": 0,
      "outputs": []
    },
    {
      "cell_type": "code",
      "metadata": {
        "colab_type": "code",
        "id": "xlwbUgTwOB6i",
        "outputId": "9fdfe1bd-554d-4d9e-c413-deb7b83345a5",
        "colab": {
          "base_uri": "https://localhost:8080/",
          "height": 203
        }
      },
      "source": [
        "data.head()"
      ],
      "execution_count": 13,
      "outputs": [
        {
          "output_type": "execute_result",
          "data": {
            "text/html": [
              "<div>\n",
              "<style scoped>\n",
              "    .dataframe tbody tr th:only-of-type {\n",
              "        vertical-align: middle;\n",
              "    }\n",
              "\n",
              "    .dataframe tbody tr th {\n",
              "        vertical-align: top;\n",
              "    }\n",
              "\n",
              "    .dataframe thead th {\n",
              "        text-align: right;\n",
              "    }\n",
              "</style>\n",
              "<table border=\"1\" class=\"dataframe\">\n",
              "  <thead>\n",
              "    <tr style=\"text-align: right;\">\n",
              "      <th></th>\n",
              "      <th>open</th>\n",
              "      <th>close</th>\n",
              "      <th>low</th>\n",
              "      <th>high</th>\n",
              "      <th>volume</th>\n",
              "    </tr>\n",
              "  </thead>\n",
              "  <tbody>\n",
              "    <tr>\n",
              "      <th>0</th>\n",
              "      <td>123.430000</td>\n",
              "      <td>125.839996</td>\n",
              "      <td>122.309998</td>\n",
              "      <td>126.250000</td>\n",
              "      <td>2163600.0</td>\n",
              "    </tr>\n",
              "    <tr>\n",
              "      <th>1</th>\n",
              "      <td>125.239998</td>\n",
              "      <td>119.980003</td>\n",
              "      <td>119.940002</td>\n",
              "      <td>125.540001</td>\n",
              "      <td>2386400.0</td>\n",
              "    </tr>\n",
              "    <tr>\n",
              "      <th>2</th>\n",
              "      <td>116.379997</td>\n",
              "      <td>114.949997</td>\n",
              "      <td>114.930000</td>\n",
              "      <td>119.739998</td>\n",
              "      <td>2489500.0</td>\n",
              "    </tr>\n",
              "    <tr>\n",
              "      <th>3</th>\n",
              "      <td>115.480003</td>\n",
              "      <td>116.620003</td>\n",
              "      <td>113.500000</td>\n",
              "      <td>117.440002</td>\n",
              "      <td>2006300.0</td>\n",
              "    </tr>\n",
              "    <tr>\n",
              "      <th>4</th>\n",
              "      <td>117.010002</td>\n",
              "      <td>114.970001</td>\n",
              "      <td>114.089996</td>\n",
              "      <td>117.330002</td>\n",
              "      <td>1408600.0</td>\n",
              "    </tr>\n",
              "  </tbody>\n",
              "</table>\n",
              "</div>"
            ],
            "text/plain": [
              "         open       close         low        high     volume\n",
              "0  123.430000  125.839996  122.309998  126.250000  2163600.0\n",
              "1  125.239998  119.980003  119.940002  125.540001  2386400.0\n",
              "2  116.379997  114.949997  114.930000  119.739998  2489500.0\n",
              "3  115.480003  116.620003  113.500000  117.440002  2006300.0\n",
              "4  117.010002  114.970001  114.089996  117.330002  1408600.0"
            ]
          },
          "metadata": {
            "tags": []
          },
          "execution_count": 13
        }
      ]
    },
    {
      "cell_type": "markdown",
      "metadata": {
        "colab_type": "text",
        "id": "3DBv3WWYOB6q"
      },
      "source": [
        "### Consider only first 1000 rows in the dataset for building feature set and target set"
      ]
    },
    {
      "cell_type": "code",
      "metadata": {
        "colab_type": "code",
        "id": "Z_hG9rGBOB6s",
        "colab": {}
      },
      "source": [
        "df=data.head(1000)"
      ],
      "execution_count": 0,
      "outputs": []
    },
    {
      "cell_type": "markdown",
      "metadata": {
        "id": "6gNJcl70MUZp",
        "colab_type": "text"
      },
      "source": [
        "### Convert Float64 to Float32"
      ]
    },
    {
      "cell_type": "code",
      "metadata": {
        "id": "bOAD6gEsMUZr",
        "colab_type": "code",
        "colab": {}
      },
      "source": [
        "df=df.astype(\"float32\")"
      ],
      "execution_count": 0,
      "outputs": []
    },
    {
      "cell_type": "markdown",
      "metadata": {
        "colab_type": "text",
        "id": "M3UaApqYOB6x"
      },
      "source": [
        "### Divide the data into train and test sets"
      ]
    },
    {
      "cell_type": "code",
      "metadata": {
        "id": "OvBzk6iNRSxB",
        "colab_type": "code",
        "colab": {}
      },
      "source": [
        "y = df[\"close\"]\n",
        "X=df.drop([\"close\"],axis=1)\n"
      ],
      "execution_count": 0,
      "outputs": []
    },
    {
      "cell_type": "code",
      "metadata": {
        "id": "yS58DJjaU_Co",
        "colab_type": "code",
        "colab": {}
      },
      "source": [
        "from sklearn.model_selection import train_test_split\n",
        "X_train, X_test, y_train, y_test = train_test_split(X, y, test_size=.3, random_state=123)"
      ],
      "execution_count": 0,
      "outputs": []
    },
    {
      "cell_type": "code",
      "metadata": {
        "id": "2chyI0lfWb_P",
        "colab_type": "code",
        "outputId": "b77d8cd1-00c6-49df-cf32-0fb520672f4a",
        "colab": {
          "base_uri": "https://localhost:8080/",
          "height": 203
        }
      },
      "source": [
        "X_train.head()"
      ],
      "execution_count": 18,
      "outputs": [
        {
          "output_type": "execute_result",
          "data": {
            "text/html": [
              "<div>\n",
              "<style scoped>\n",
              "    .dataframe tbody tr th:only-of-type {\n",
              "        vertical-align: middle;\n",
              "    }\n",
              "\n",
              "    .dataframe tbody tr th {\n",
              "        vertical-align: top;\n",
              "    }\n",
              "\n",
              "    .dataframe thead th {\n",
              "        text-align: right;\n",
              "    }\n",
              "</style>\n",
              "<table border=\"1\" class=\"dataframe\">\n",
              "  <thead>\n",
              "    <tr style=\"text-align: right;\">\n",
              "      <th></th>\n",
              "      <th>open</th>\n",
              "      <th>low</th>\n",
              "      <th>high</th>\n",
              "      <th>volume</th>\n",
              "    </tr>\n",
              "  </thead>\n",
              "  <tbody>\n",
              "    <tr>\n",
              "      <th>498</th>\n",
              "      <td>20.530001</td>\n",
              "      <td>20.440001</td>\n",
              "      <td>20.650000</td>\n",
              "      <td>12718800.0</td>\n",
              "    </tr>\n",
              "    <tr>\n",
              "      <th>243</th>\n",
              "      <td>124.330002</td>\n",
              "      <td>123.419998</td>\n",
              "      <td>124.489998</td>\n",
              "      <td>651500.0</td>\n",
              "    </tr>\n",
              "    <tr>\n",
              "      <th>314</th>\n",
              "      <td>51.860001</td>\n",
              "      <td>51.820000</td>\n",
              "      <td>52.549999</td>\n",
              "      <td>1234200.0</td>\n",
              "    </tr>\n",
              "    <tr>\n",
              "      <th>202</th>\n",
              "      <td>126.339996</td>\n",
              "      <td>126.040001</td>\n",
              "      <td>127.250000</td>\n",
              "      <td>496600.0</td>\n",
              "    </tr>\n",
              "    <tr>\n",
              "      <th>300</th>\n",
              "      <td>158.990005</td>\n",
              "      <td>157.710007</td>\n",
              "      <td>159.389999</td>\n",
              "      <td>408300.0</td>\n",
              "    </tr>\n",
              "  </tbody>\n",
              "</table>\n",
              "</div>"
            ],
            "text/plain": [
              "           open         low        high      volume\n",
              "498   20.530001   20.440001   20.650000  12718800.0\n",
              "243  124.330002  123.419998  124.489998    651500.0\n",
              "314   51.860001   51.820000   52.549999   1234200.0\n",
              "202  126.339996  126.040001  127.250000    496600.0\n",
              "300  158.990005  157.710007  159.389999    408300.0"
            ]
          },
          "metadata": {
            "tags": []
          },
          "execution_count": 18
        }
      ]
    },
    {
      "cell_type": "markdown",
      "metadata": {
        "id": "Sxr12Im4MUZ1",
        "colab_type": "text"
      },
      "source": [
        "### Normalize Train and Test Data "
      ]
    },
    {
      "cell_type": "code",
      "metadata": {
        "id": "aAX6Hi8wMUaF",
        "colab_type": "code",
        "colab": {}
      },
      "source": [
        "from sklearn.preprocessing import Normalizer"
      ],
      "execution_count": 0,
      "outputs": []
    },
    {
      "cell_type": "code",
      "metadata": {
        "id": "leEzRZU-UDMb",
        "colab_type": "code",
        "colab": {}
      },
      "source": [
        "transformer = Normalizer()\n",
        "X_train = transformer.fit_transform(X_train)"
      ],
      "execution_count": 0,
      "outputs": []
    },
    {
      "cell_type": "code",
      "metadata": {
        "id": "-KNSZ19iXxDv",
        "colab_type": "code",
        "outputId": "db8fc453-84f9-4f4f-bbee-fd1059601899",
        "colab": {
          "base_uri": "https://localhost:8080/",
          "height": 158
        }
      },
      "source": [
        "X_train"
      ],
      "execution_count": 21,
      "outputs": [
        {
          "output_type": "execute_result",
          "data": {
            "text/plain": [
              "array([[1.6141461e-06, 1.6070699e-06, 1.6235808e-06, 1.0000000e+00],\n",
              "       [1.9083651e-04, 1.8943973e-04, 1.9108210e-04, 9.9999988e-01],\n",
              "       [4.2019121e-05, 4.1986710e-05, 4.2578187e-05, 1.0000000e+00],\n",
              "       ...,\n",
              "       [2.3780945e-05, 2.3505878e-05, 2.4289406e-05, 1.0000000e+00],\n",
              "       [1.7972880e-05, 1.7853366e-05, 1.8119972e-05, 1.0000000e+00],\n",
              "       [3.1503550e-05, 3.1358217e-05, 3.1951997e-05, 1.0000000e+00]],\n",
              "      dtype=float32)"
            ]
          },
          "metadata": {
            "tags": []
          },
          "execution_count": 21
        }
      ]
    },
    {
      "cell_type": "code",
      "metadata": {
        "id": "ESq55zd5Xyg_",
        "colab_type": "code",
        "colab": {}
      },
      "source": [
        "import numpy as np\n",
        "y_train=np.array(y_train)"
      ],
      "execution_count": 0,
      "outputs": []
    },
    {
      "cell_type": "markdown",
      "metadata": {
        "colab_type": "text",
        "id": "v6vE4eYCOB62"
      },
      "source": [
        "## Building the graph in tensorflow"
      ]
    },
    {
      "cell_type": "markdown",
      "metadata": {
        "colab_type": "text",
        "id": "297_qja4OB7A"
      },
      "source": [
        "2.Define Weights and Bias"
      ]
    },
    {
      "cell_type": "code",
      "metadata": {
        "colab_type": "code",
        "id": "L205qPeQOB7B",
        "outputId": "fa6b75fc-28d4-43a9-8686-7940184436f4",
        "colab": {
          "base_uri": "https://localhost:8080/",
          "height": 123
        }
      },
      "source": [
        "w = tf.zeros(shape=(4,1))\n",
        "b = tf.zeros(shape=(1))\n",
        "w,b"
      ],
      "execution_count": 23,
      "outputs": [
        {
          "output_type": "execute_result",
          "data": {
            "text/plain": [
              "(<tf.Tensor: id=2, shape=(4, 1), dtype=float32, numpy=\n",
              " array([[0.],\n",
              "        [0.],\n",
              "        [0.],\n",
              "        [0.]], dtype=float32)>,\n",
              " <tf.Tensor: id=5, shape=(1,), dtype=float32, numpy=array([0.], dtype=float32)>)"
            ]
          },
          "metadata": {
            "tags": []
          },
          "execution_count": 23
        }
      ]
    },
    {
      "cell_type": "markdown",
      "metadata": {
        "colab_type": "text",
        "id": "HgtWA-UIOB7F"
      },
      "source": [
        "3.Prediction"
      ]
    },
    {
      "cell_type": "code",
      "metadata": {
        "colab_type": "code",
        "id": "JveGlx25OB7H",
        "colab": {}
      },
      "source": [
        "def prediction(x, w, b):\n",
        "    \n",
        "    xw_matmul = tf.matmul(x, w)\n",
        "    y = tf.add(xw_matmul, b)\n",
        "    \n",
        "    return y\n"
      ],
      "execution_count": 0,
      "outputs": []
    },
    {
      "cell_type": "markdown",
      "metadata": {
        "colab_type": "text",
        "id": "TL1hIwf_OB7M"
      },
      "source": [
        "4.Loss (Cost) Function [Mean square error]"
      ]
    },
    {
      "cell_type": "code",
      "metadata": {
        "colab_type": "code",
        "id": "8VSWPiGXOB7P",
        "colab": {}
      },
      "source": [
        "def loss(y_actual, y_predicted):\n",
        "    \n",
        "    diff = y_actual - y_predicted\n",
        "    sqr = tf.square(diff)\n",
        "    avg = tf.reduce_mean(sqr)\n",
        "    \n",
        "    return avg"
      ],
      "execution_count": 0,
      "outputs": []
    },
    {
      "cell_type": "markdown",
      "metadata": {
        "colab_type": "text",
        "id": "jzG85FUlOB7U"
      },
      "source": [
        "5.GradientDescent Optimizer to minimize Loss [GradientDescentOptimizer]"
      ]
    },
    {
      "cell_type": "code",
      "metadata": {
        "colab_type": "code",
        "id": "cj802w-3OB7X",
        "colab": {}
      },
      "source": [
        "def train(x, y_actual, w, b, learning_rate=0.01):\n",
        "    \n",
        "    with tf.GradientTape() as t:\n",
        "        t.watch([w,b])\n",
        "        \n",
        "        current_prediction = prediction(x, w, b)\n",
        "        current_loss = loss(y_actual, current_prediction)\n",
        "    \n",
        "    #Calculate Gradients for Loss with respect to Weights and Bias\n",
        "    dw, db = t.gradient(current_loss,[w, b])\n",
        "    \n",
        "    #Update Weights and Bias\n",
        "    w = w - learning_rate*dw\n",
        "    b = b - learning_rate*db\n",
        "    \n",
        "    return w, b"
      ],
      "execution_count": 0,
      "outputs": []
    },
    {
      "cell_type": "code",
      "metadata": {
        "id": "nyUt2tPicaO6",
        "colab_type": "code",
        "colab": {}
      },
      "source": [
        ""
      ],
      "execution_count": 0,
      "outputs": []
    },
    {
      "cell_type": "markdown",
      "metadata": {
        "colab_type": "text",
        "id": "xSypb_u8OB7e"
      },
      "source": [
        "## Execute the Graph for 100 epochs and observe the loss"
      ]
    },
    {
      "cell_type": "code",
      "metadata": {
        "id": "Vmn9JedFe7Kz",
        "colab_type": "code",
        "colab": {
          "base_uri": "https://localhost:8080/",
          "height": 1000
        },
        "outputId": "86b990ab-fb01-4e08-9bad-81fd5ff146a6"
      },
      "source": [
        "for i in range(100):\n",
        "    \n",
        "    w, b = train(X_train, y_train, w, b)\n",
        "    print('Current Loss on iteration', i, loss(y_train, prediction(X_train, w, b)).numpy())"
      ],
      "execution_count": 27,
      "outputs": [
        {
          "output_type": "stream",
          "text": [
            "Current Loss on iteration 0 8343.2705\n",
            "Current Loss on iteration 1 8001.953\n",
            "Current Loss on iteration 2 7687.3936\n",
            "Current Loss on iteration 3 7397.495\n",
            "Current Loss on iteration 4 7130.319\n",
            "Current Loss on iteration 5 6884.0967\n",
            "Current Loss on iteration 6 6657.1743\n",
            "Current Loss on iteration 7 6448.0425\n",
            "Current Loss on iteration 8 6255.311\n",
            "Current Loss on iteration 9 6077.683\n",
            "Current Loss on iteration 10 5913.987\n",
            "Current Loss on iteration 11 5763.12\n",
            "Current Loss on iteration 12 5624.086\n",
            "Current Loss on iteration 13 5495.95\n",
            "Current Loss on iteration 14 5377.858\n",
            "Current Loss on iteration 15 5269.025\n",
            "Current Loss on iteration 16 5168.7266\n",
            "Current Loss on iteration 17 5076.29\n",
            "Current Loss on iteration 18 4991.1016\n",
            "Current Loss on iteration 19 4912.5913\n",
            "Current Loss on iteration 20 4840.238\n",
            "Current Loss on iteration 21 4773.5547\n",
            "Current Loss on iteration 22 4712.099\n",
            "Current Loss on iteration 23 4655.462\n",
            "Current Loss on iteration 24 4603.2646\n",
            "Current Loss on iteration 25 4555.1616\n",
            "Current Loss on iteration 26 4510.8296\n",
            "Current Loss on iteration 27 4469.9727\n",
            "Current Loss on iteration 28 4432.317\n",
            "Current Loss on iteration 29 4397.616\n",
            "Current Loss on iteration 30 4365.6353\n",
            "Current Loss on iteration 31 4336.1636\n",
            "Current Loss on iteration 32 4308.997\n",
            "Current Loss on iteration 33 4283.9614\n",
            "Current Loss on iteration 34 4260.895\n",
            "Current Loss on iteration 35 4239.6313\n",
            "Current Loss on iteration 36 4220.036\n",
            "Current Loss on iteration 37 4201.979\n",
            "Current Loss on iteration 38 4185.335\n",
            "Current Loss on iteration 39 4169.996\n",
            "Current Loss on iteration 40 4155.861\n",
            "Current Loss on iteration 41 4142.8354\n",
            "Current Loss on iteration 42 4130.8267\n",
            "Current Loss on iteration 43 4119.762\n",
            "Current Loss on iteration 44 4109.5645\n",
            "Current Loss on iteration 45 4100.1646\n",
            "Current Loss on iteration 46 4091.505\n",
            "Current Loss on iteration 47 4083.5234\n",
            "Current Loss on iteration 48 4076.1667\n",
            "Current Loss on iteration 49 4069.3901\n",
            "Current Loss on iteration 50 4063.1409\n",
            "Current Loss on iteration 51 4057.3801\n",
            "Current Loss on iteration 52 4052.075\n",
            "Current Loss on iteration 53 4047.185\n",
            "Current Loss on iteration 54 4042.6763\n",
            "Current Loss on iteration 55 4038.5244\n",
            "Current Loss on iteration 56 4034.6958\n",
            "Current Loss on iteration 57 4031.1687\n",
            "Current Loss on iteration 58 4027.917\n",
            "Current Loss on iteration 59 4024.9177\n",
            "Current Loss on iteration 60 4022.158\n",
            "Current Loss on iteration 61 4019.6128\n",
            "Current Loss on iteration 62 4017.2664\n",
            "Current Loss on iteration 63 4015.104\n",
            "Current Loss on iteration 64 4013.1145\n",
            "Current Loss on iteration 65 4011.2776\n",
            "Current Loss on iteration 66 4009.5842\n",
            "Current Loss on iteration 67 4008.0237\n",
            "Current Loss on iteration 68 4006.5884\n",
            "Current Loss on iteration 69 4005.265\n",
            "Current Loss on iteration 70 4004.0422\n",
            "Current Loss on iteration 71 4002.9185\n",
            "Current Loss on iteration 72 4001.8818\n",
            "Current Loss on iteration 73 4000.9253\n",
            "Current Loss on iteration 74 4000.0444\n",
            "Current Loss on iteration 75 3999.2336\n",
            "Current Loss on iteration 76 3998.4841\n",
            "Current Loss on iteration 77 3997.797\n",
            "Current Loss on iteration 78 3997.1626\n",
            "Current Loss on iteration 79 3996.5742\n",
            "Current Loss on iteration 80 3996.0383\n",
            "Current Loss on iteration 81 3995.5398\n",
            "Current Loss on iteration 82 3995.0808\n",
            "Current Loss on iteration 83 3994.6597\n",
            "Current Loss on iteration 84 3994.2688\n",
            "Current Loss on iteration 85 3993.911\n",
            "Current Loss on iteration 86 3993.58\n",
            "Current Loss on iteration 87 3993.2744\n",
            "Current Loss on iteration 88 3992.9956\n",
            "Current Loss on iteration 89 3992.735\n",
            "Current Loss on iteration 90 3992.4973\n",
            "Current Loss on iteration 91 3992.2783\n",
            "Current Loss on iteration 92 3992.0754\n",
            "Current Loss on iteration 93 3991.887\n",
            "Current Loss on iteration 94 3991.7175\n",
            "Current Loss on iteration 95 3991.5588\n",
            "Current Loss on iteration 96 3991.4136\n",
            "Current Loss on iteration 97 3991.2773\n",
            "Current Loss on iteration 98 3991.1533\n",
            "Current Loss on iteration 99 3991.0383\n"
          ],
          "name": "stdout"
        }
      ]
    },
    {
      "cell_type": "code",
      "metadata": {
        "colab_type": "code",
        "id": "9JuLI6bSOB7n",
        "colab": {}
      },
      "source": [
        ""
      ],
      "execution_count": 0,
      "outputs": []
    },
    {
      "cell_type": "markdown",
      "metadata": {
        "colab_type": "text",
        "id": "DOL2ncA1OB7q"
      },
      "source": [
        "### Get the shapes and values of W and b"
      ]
    },
    {
      "cell_type": "code",
      "metadata": {
        "colab_type": "code",
        "id": "ZGvtyTeuOB7r",
        "colab": {
          "base_uri": "https://localhost:8080/",
          "height": 35
        },
        "outputId": "b4df3ccf-d040-4bf2-cf31-e2f0ddb3ded6"
      },
      "source": [
        "w.shape,b.shape"
      ],
      "execution_count": 28,
      "outputs": [
        {
          "output_type": "execute_result",
          "data": {
            "text/plain": [
              "(TensorShape([Dimension(4), Dimension(1)]), TensorShape([Dimension(1)]))"
            ]
          },
          "metadata": {
            "tags": []
          },
          "execution_count": 28
        }
      ]
    },
    {
      "cell_type": "code",
      "metadata": {
        "colab_type": "code",
        "id": "vhDtOv5UOB7x",
        "colab": {
          "base_uri": "https://localhost:8080/",
          "height": 105
        },
        "outputId": "cead73b2-d62a-4e79-ee1f-8eb993b5e62f"
      },
      "source": [
        "w"
      ],
      "execution_count": 29,
      "outputs": [
        {
          "output_type": "execute_result",
          "data": {
            "text/plain": [
              "<tf.Tensor: id=5096, shape=(4, 1), dtype=float32, numpy=\n",
              "array([[2.5196134e-03],\n",
              "       [2.4950290e-03],\n",
              "       [2.5409432e-03],\n",
              "       [3.3785694e+01]], dtype=float32)>"
            ]
          },
          "metadata": {
            "tags": []
          },
          "execution_count": 29
        }
      ]
    },
    {
      "cell_type": "code",
      "metadata": {
        "id": "T7fRV9vzgZPP",
        "colab_type": "code",
        "colab": {
          "base_uri": "https://localhost:8080/",
          "height": 35
        },
        "outputId": "37e8e91a-9efc-4f9b-d2c0-98f63abd2cb6"
      },
      "source": [
        "b"
      ],
      "execution_count": 30,
      "outputs": [
        {
          "output_type": "execute_result",
          "data": {
            "text/plain": [
              "<tf.Tensor: id=5099, shape=(1,), dtype=float32, numpy=array([33.785698], dtype=float32)>"
            ]
          },
          "metadata": {
            "tags": []
          },
          "execution_count": 30
        }
      ]
    },
    {
      "cell_type": "markdown",
      "metadata": {
        "colab_type": "text",
        "id": "YJRBuqXhOB7_"
      },
      "source": [
        "### Linear Classification using Keras"
      ]
    },
    {
      "cell_type": "markdown",
      "metadata": {
        "colab_type": "text",
        "id": "8GoNTWXAOB8C"
      },
      "source": [
        "### Building the simple Neural Network in Keras with one neuron in the dense hidden layer.\n",
        "#### Use Mean square error as loss function and sgd as optimizer"
      ]
    },
    {
      "cell_type": "code",
      "metadata": {
        "colab_type": "code",
        "id": "zpeL5rCTOB8D",
        "colab": {}
      },
      "source": [
        "model = tf.keras.Sequential()\n",
        "model.add(tf.keras.layers.Dense(1, input_shape=(4,)))\n",
        "model.compile(optimizer='sgd', loss='mse')"
      ],
      "execution_count": 0,
      "outputs": []
    },
    {
      "cell_type": "markdown",
      "metadata": {
        "colab_type": "text",
        "id": "Wt-HYFMEOB8G"
      },
      "source": [
        "### Execute the model"
      ]
    },
    {
      "cell_type": "code",
      "metadata": {
        "colab_type": "code",
        "id": "66JGJt7GOB8H",
        "colab": {
          "base_uri": "https://localhost:8080/",
          "height": 1000
        },
        "outputId": "5ce5d755-1026-4460-af8d-e6171c1c4864"
      },
      "source": [
        "model.fit(X_train, y_train, epochs=100)"
      ],
      "execution_count": 32,
      "outputs": [
        {
          "output_type": "stream",
          "text": [
            "Epoch 1/100\n",
            "700/700 [==============================] - 0s 96us/sample - loss: 6242.6026\n",
            "Epoch 2/100\n",
            "700/700 [==============================] - 0s 29us/sample - loss: 4378.9630\n",
            "Epoch 3/100\n",
            "700/700 [==============================] - 0s 30us/sample - loss: 4061.7092\n",
            "Epoch 4/100\n",
            "700/700 [==============================] - 0s 26us/sample - loss: 4004.7492\n",
            "Epoch 5/100\n",
            "700/700 [==============================] - 0s 26us/sample - loss: 3995.2874\n",
            "Epoch 6/100\n",
            "700/700 [==============================] - 0s 28us/sample - loss: 3992.9592\n",
            "Epoch 7/100\n",
            "700/700 [==============================] - 0s 25us/sample - loss: 3993.6517\n",
            "Epoch 8/100\n",
            "700/700 [==============================] - 0s 29us/sample - loss: 3993.0755\n",
            "Epoch 9/100\n",
            "700/700 [==============================] - 0s 27us/sample - loss: 3993.4065\n",
            "Epoch 10/100\n",
            "700/700 [==============================] - 0s 30us/sample - loss: 3994.6311\n",
            "Epoch 11/100\n",
            "700/700 [==============================] - 0s 28us/sample - loss: 3993.5211\n",
            "Epoch 12/100\n",
            "700/700 [==============================] - 0s 28us/sample - loss: 4000.9302\n",
            "Epoch 13/100\n",
            "700/700 [==============================] - 0s 31us/sample - loss: 3996.0995\n",
            "Epoch 14/100\n",
            "700/700 [==============================] - 0s 30us/sample - loss: 3993.9620\n",
            "Epoch 15/100\n",
            "700/700 [==============================] - 0s 33us/sample - loss: 3993.1292\n",
            "Epoch 16/100\n",
            "700/700 [==============================] - 0s 29us/sample - loss: 3995.5114\n",
            "Epoch 17/100\n",
            "700/700 [==============================] - 0s 34us/sample - loss: 3994.2533\n",
            "Epoch 18/100\n",
            "700/700 [==============================] - 0s 28us/sample - loss: 3993.9065\n",
            "Epoch 19/100\n",
            "700/700 [==============================] - 0s 32us/sample - loss: 3992.8983\n",
            "Epoch 20/100\n",
            "700/700 [==============================] - 0s 27us/sample - loss: 3992.6544\n",
            "Epoch 21/100\n",
            "700/700 [==============================] - 0s 27us/sample - loss: 3993.4670\n",
            "Epoch 22/100\n",
            "700/700 [==============================] - 0s 26us/sample - loss: 3998.7304\n",
            "Epoch 23/100\n",
            "700/700 [==============================] - 0s 28us/sample - loss: 3992.5891\n",
            "Epoch 24/100\n",
            "700/700 [==============================] - 0s 26us/sample - loss: 3993.5482\n",
            "Epoch 25/100\n",
            "700/700 [==============================] - 0s 26us/sample - loss: 3994.4909\n",
            "Epoch 26/100\n",
            "700/700 [==============================] - 0s 26us/sample - loss: 3991.9436\n",
            "Epoch 27/100\n",
            "700/700 [==============================] - 0s 27us/sample - loss: 3992.8129\n",
            "Epoch 28/100\n",
            "700/700 [==============================] - 0s 28us/sample - loss: 3992.7894\n",
            "Epoch 29/100\n",
            "700/700 [==============================] - 0s 28us/sample - loss: 3995.4789\n",
            "Epoch 30/100\n",
            "700/700 [==============================] - 0s 32us/sample - loss: 3993.5850\n",
            "Epoch 31/100\n",
            "700/700 [==============================] - 0s 28us/sample - loss: 3993.7909\n",
            "Epoch 32/100\n",
            "700/700 [==============================] - 0s 28us/sample - loss: 3992.1161\n",
            "Epoch 33/100\n",
            "700/700 [==============================] - 0s 29us/sample - loss: 3993.6833\n",
            "Epoch 34/100\n",
            "700/700 [==============================] - 0s 25us/sample - loss: 3996.2585\n",
            "Epoch 35/100\n",
            "700/700 [==============================] - 0s 29us/sample - loss: 3993.6839\n",
            "Epoch 36/100\n",
            "700/700 [==============================] - 0s 32us/sample - loss: 3992.2084\n",
            "Epoch 37/100\n",
            "700/700 [==============================] - 0s 28us/sample - loss: 3997.6932\n",
            "Epoch 38/100\n",
            "700/700 [==============================] - 0s 35us/sample - loss: 3993.3287\n",
            "Epoch 39/100\n",
            "700/700 [==============================] - 0s 29us/sample - loss: 3994.0060\n",
            "Epoch 40/100\n",
            "700/700 [==============================] - 0s 29us/sample - loss: 3995.2013\n",
            "Epoch 41/100\n",
            "700/700 [==============================] - 0s 29us/sample - loss: 3996.0346\n",
            "Epoch 42/100\n",
            "700/700 [==============================] - 0s 29us/sample - loss: 3993.2643\n",
            "Epoch 43/100\n",
            "700/700 [==============================] - 0s 29us/sample - loss: 3993.9690\n",
            "Epoch 44/100\n",
            "700/700 [==============================] - 0s 26us/sample - loss: 3995.9705\n",
            "Epoch 45/100\n",
            "700/700 [==============================] - 0s 27us/sample - loss: 3992.8747\n",
            "Epoch 46/100\n",
            "700/700 [==============================] - 0s 32us/sample - loss: 3995.5179\n",
            "Epoch 47/100\n",
            "700/700 [==============================] - 0s 28us/sample - loss: 3996.3140\n",
            "Epoch 48/100\n",
            "700/700 [==============================] - 0s 27us/sample - loss: 3994.4829\n",
            "Epoch 49/100\n",
            "700/700 [==============================] - 0s 35us/sample - loss: 3996.6448\n",
            "Epoch 50/100\n",
            "700/700 [==============================] - 0s 29us/sample - loss: 3994.2662\n",
            "Epoch 51/100\n",
            "700/700 [==============================] - 0s 33us/sample - loss: 3994.1303\n",
            "Epoch 52/100\n",
            "700/700 [==============================] - 0s 25us/sample - loss: 3993.1944\n",
            "Epoch 53/100\n",
            "700/700 [==============================] - 0s 27us/sample - loss: 3992.9715\n",
            "Epoch 54/100\n",
            "700/700 [==============================] - 0s 27us/sample - loss: 3995.7371\n",
            "Epoch 55/100\n",
            "700/700 [==============================] - 0s 31us/sample - loss: 3993.9453\n",
            "Epoch 56/100\n",
            "700/700 [==============================] - 0s 30us/sample - loss: 3993.5085\n",
            "Epoch 57/100\n",
            "700/700 [==============================] - 0s 28us/sample - loss: 3996.8226\n",
            "Epoch 58/100\n",
            "700/700 [==============================] - 0s 27us/sample - loss: 3994.2720\n",
            "Epoch 59/100\n",
            "700/700 [==============================] - 0s 32us/sample - loss: 3994.1305\n",
            "Epoch 60/100\n",
            "700/700 [==============================] - 0s 33us/sample - loss: 3995.3757\n",
            "Epoch 61/100\n",
            "700/700 [==============================] - 0s 27us/sample - loss: 3994.1026\n",
            "Epoch 62/100\n",
            "700/700 [==============================] - 0s 30us/sample - loss: 3993.1056\n",
            "Epoch 63/100\n",
            "700/700 [==============================] - 0s 26us/sample - loss: 3993.2734\n",
            "Epoch 64/100\n",
            "700/700 [==============================] - 0s 31us/sample - loss: 3991.6299\n",
            "Epoch 65/100\n",
            "700/700 [==============================] - 0s 33us/sample - loss: 3993.1067\n",
            "Epoch 66/100\n",
            "700/700 [==============================] - 0s 38us/sample - loss: 3995.0758\n",
            "Epoch 67/100\n",
            "700/700 [==============================] - 0s 36us/sample - loss: 3992.5923\n",
            "Epoch 68/100\n",
            "700/700 [==============================] - 0s 31us/sample - loss: 3994.8069\n",
            "Epoch 69/100\n",
            "700/700 [==============================] - 0s 29us/sample - loss: 3992.5389\n",
            "Epoch 70/100\n",
            "700/700 [==============================] - 0s 30us/sample - loss: 3994.4948\n",
            "Epoch 71/100\n",
            "700/700 [==============================] - 0s 32us/sample - loss: 3995.5538\n",
            "Epoch 72/100\n",
            "700/700 [==============================] - 0s 32us/sample - loss: 3992.9396\n",
            "Epoch 73/100\n",
            "700/700 [==============================] - 0s 31us/sample - loss: 3993.3387\n",
            "Epoch 74/100\n",
            "700/700 [==============================] - 0s 30us/sample - loss: 3994.5991\n",
            "Epoch 75/100\n",
            "700/700 [==============================] - 0s 29us/sample - loss: 3994.6631\n",
            "Epoch 76/100\n",
            "700/700 [==============================] - 0s 30us/sample - loss: 3992.6404\n",
            "Epoch 77/100\n",
            "700/700 [==============================] - 0s 33us/sample - loss: 3992.9645\n",
            "Epoch 78/100\n",
            "700/700 [==============================] - 0s 30us/sample - loss: 3992.1462\n",
            "Epoch 79/100\n",
            "700/700 [==============================] - 0s 28us/sample - loss: 3995.0940\n",
            "Epoch 80/100\n",
            "700/700 [==============================] - 0s 29us/sample - loss: 3995.0341\n",
            "Epoch 81/100\n",
            "700/700 [==============================] - 0s 30us/sample - loss: 3991.5475\n",
            "Epoch 82/100\n",
            "700/700 [==============================] - 0s 33us/sample - loss: 3994.2650\n",
            "Epoch 83/100\n",
            "700/700 [==============================] - 0s 31us/sample - loss: 3995.1746\n",
            "Epoch 84/100\n",
            "700/700 [==============================] - 0s 29us/sample - loss: 3995.6902\n",
            "Epoch 85/100\n",
            "700/700 [==============================] - 0s 28us/sample - loss: 3992.6772\n",
            "Epoch 86/100\n",
            "700/700 [==============================] - 0s 29us/sample - loss: 3991.5595\n",
            "Epoch 87/100\n",
            "700/700 [==============================] - 0s 28us/sample - loss: 3992.9262\n",
            "Epoch 88/100\n",
            "700/700 [==============================] - 0s 28us/sample - loss: 3992.1742\n",
            "Epoch 89/100\n",
            "700/700 [==============================] - 0s 29us/sample - loss: 3994.7965\n",
            "Epoch 90/100\n",
            "700/700 [==============================] - 0s 26us/sample - loss: 3992.2477\n",
            "Epoch 91/100\n",
            "700/700 [==============================] - 0s 29us/sample - loss: 3992.2518\n",
            "Epoch 92/100\n",
            "700/700 [==============================] - 0s 29us/sample - loss: 3997.3679\n",
            "Epoch 93/100\n",
            "700/700 [==============================] - 0s 27us/sample - loss: 3993.9742\n",
            "Epoch 94/100\n",
            "700/700 [==============================] - 0s 28us/sample - loss: 3994.6830\n",
            "Epoch 95/100\n",
            "700/700 [==============================] - 0s 29us/sample - loss: 3994.8967\n",
            "Epoch 96/100\n",
            "700/700 [==============================] - 0s 36us/sample - loss: 3997.4588\n",
            "Epoch 97/100\n",
            "700/700 [==============================] - 0s 35us/sample - loss: 3994.1248\n",
            "Epoch 98/100\n",
            "700/700 [==============================] - 0s 29us/sample - loss: 3993.9677\n",
            "Epoch 99/100\n",
            "700/700 [==============================] - 0s 28us/sample - loss: 3993.4508\n",
            "Epoch 100/100\n",
            "700/700 [==============================] - 0s 27us/sample - loss: 3994.3578\n"
          ],
          "name": "stdout"
        },
        {
          "output_type": "execute_result",
          "data": {
            "text/plain": [
              "<tensorflow.python.keras.callbacks.History at 0x7f7367749b00>"
            ]
          },
          "metadata": {
            "tags": []
          },
          "execution_count": 32
        }
      ]
    },
    {
      "cell_type": "code",
      "metadata": {
        "id": "b2SwulhThDGJ",
        "colab_type": "code",
        "colab": {
          "base_uri": "https://localhost:8080/",
          "height": 193
        },
        "outputId": "30aee00f-3151-48fd-f552-2712d5741a35"
      },
      "source": [
        "model.summary()"
      ],
      "execution_count": 33,
      "outputs": [
        {
          "output_type": "stream",
          "text": [
            "Model: \"sequential\"\n",
            "_________________________________________________________________\n",
            "Layer (type)                 Output Shape              Param #   \n",
            "=================================================================\n",
            "dense (Dense)                (None, 1)                 5         \n",
            "=================================================================\n",
            "Total params: 5\n",
            "Trainable params: 5\n",
            "Non-trainable params: 0\n",
            "_________________________________________________________________\n"
          ],
          "name": "stdout"
        }
      ]
    },
    {
      "cell_type": "code",
      "metadata": {
        "id": "MMRLD-rghEQo",
        "colab_type": "code",
        "colab": {
          "base_uri": "https://localhost:8080/",
          "height": 87
        },
        "outputId": "76f6a293-f3a1-4494-fec7-33a8a6630f2c"
      },
      "source": [
        "model.get_weights()"
      ],
      "execution_count": 34,
      "outputs": [
        {
          "output_type": "execute_result",
          "data": {
            "text/plain": [
              "[array([[-0.06691001],\n",
              "        [-0.12559667],\n",
              "        [ 0.41772893],\n",
              "        [34.781845  ]], dtype=float32), array([33.788536], dtype=float32)]"
            ]
          },
          "metadata": {
            "tags": []
          },
          "execution_count": 34
        }
      ]
    },
    {
      "cell_type": "code",
      "metadata": {
        "id": "1_xGIa_-hIGd",
        "colab_type": "code",
        "colab": {}
      },
      "source": [
        ""
      ],
      "execution_count": 0,
      "outputs": []
    },
    {
      "cell_type": "markdown",
      "metadata": {
        "id": "7tAjs6VdMUax",
        "colab_type": "text"
      },
      "source": [
        "### Classification using Keras "
      ]
    },
    {
      "cell_type": "code",
      "metadata": {
        "id": "IBMd-Fx9MUay",
        "colab_type": "code",
        "colab": {}
      },
      "source": [
        ""
      ],
      "execution_count": 0,
      "outputs": []
    },
    {
      "cell_type": "markdown",
      "metadata": {
        "id": "CwrPqrFxMUa0",
        "colab_type": "text"
      },
      "source": [
        "### Load the given Iris data using pandas (Iris.csv)"
      ]
    },
    {
      "cell_type": "code",
      "metadata": {
        "id": "B8zZoaoCMUa1",
        "colab_type": "code",
        "colab": {
          "base_uri": "https://localhost:8080/",
          "height": 203
        },
        "outputId": "63846190-6b39-427f-a87a-90bd2194c49d"
      },
      "source": [
        "df_iris=pd.read_csv(\"Iris.csv\")\n",
        "\n",
        "df_iris.head()"
      ],
      "execution_count": 35,
      "outputs": [
        {
          "output_type": "execute_result",
          "data": {
            "text/html": [
              "<div>\n",
              "<style scoped>\n",
              "    .dataframe tbody tr th:only-of-type {\n",
              "        vertical-align: middle;\n",
              "    }\n",
              "\n",
              "    .dataframe tbody tr th {\n",
              "        vertical-align: top;\n",
              "    }\n",
              "\n",
              "    .dataframe thead th {\n",
              "        text-align: right;\n",
              "    }\n",
              "</style>\n",
              "<table border=\"1\" class=\"dataframe\">\n",
              "  <thead>\n",
              "    <tr style=\"text-align: right;\">\n",
              "      <th></th>\n",
              "      <th>Id</th>\n",
              "      <th>SepalLengthCm</th>\n",
              "      <th>SepalWidthCm</th>\n",
              "      <th>PetalLengthCm</th>\n",
              "      <th>PetalWidthCm</th>\n",
              "      <th>Species</th>\n",
              "    </tr>\n",
              "  </thead>\n",
              "  <tbody>\n",
              "    <tr>\n",
              "      <th>0</th>\n",
              "      <td>1</td>\n",
              "      <td>5.1</td>\n",
              "      <td>3.5</td>\n",
              "      <td>1.4</td>\n",
              "      <td>0.2</td>\n",
              "      <td>Iris-setosa</td>\n",
              "    </tr>\n",
              "    <tr>\n",
              "      <th>1</th>\n",
              "      <td>2</td>\n",
              "      <td>4.9</td>\n",
              "      <td>3.0</td>\n",
              "      <td>1.4</td>\n",
              "      <td>0.2</td>\n",
              "      <td>Iris-setosa</td>\n",
              "    </tr>\n",
              "    <tr>\n",
              "      <th>2</th>\n",
              "      <td>3</td>\n",
              "      <td>4.7</td>\n",
              "      <td>3.2</td>\n",
              "      <td>1.3</td>\n",
              "      <td>0.2</td>\n",
              "      <td>Iris-setosa</td>\n",
              "    </tr>\n",
              "    <tr>\n",
              "      <th>3</th>\n",
              "      <td>4</td>\n",
              "      <td>4.6</td>\n",
              "      <td>3.1</td>\n",
              "      <td>1.5</td>\n",
              "      <td>0.2</td>\n",
              "      <td>Iris-setosa</td>\n",
              "    </tr>\n",
              "    <tr>\n",
              "      <th>4</th>\n",
              "      <td>5</td>\n",
              "      <td>5.0</td>\n",
              "      <td>3.6</td>\n",
              "      <td>1.4</td>\n",
              "      <td>0.2</td>\n",
              "      <td>Iris-setosa</td>\n",
              "    </tr>\n",
              "  </tbody>\n",
              "</table>\n",
              "</div>"
            ],
            "text/plain": [
              "   Id  SepalLengthCm  SepalWidthCm  PetalLengthCm  PetalWidthCm      Species\n",
              "0   1            5.1           3.5            1.4           0.2  Iris-setosa\n",
              "1   2            4.9           3.0            1.4           0.2  Iris-setosa\n",
              "2   3            4.7           3.2            1.3           0.2  Iris-setosa\n",
              "3   4            4.6           3.1            1.5           0.2  Iris-setosa\n",
              "4   5            5.0           3.6            1.4           0.2  Iris-setosa"
            ]
          },
          "metadata": {
            "tags": []
          },
          "execution_count": 35
        }
      ]
    },
    {
      "cell_type": "markdown",
      "metadata": {
        "id": "CRr4QrqBMUa2",
        "colab_type": "text"
      },
      "source": [
        "### Splitting the data into feature set and target set"
      ]
    },
    {
      "cell_type": "code",
      "metadata": {
        "id": "RYPGmkI5iOqK",
        "colab_type": "code",
        "colab": {}
      },
      "source": [
        "X=df_iris.drop([\"Species\",\"Id\"],axis=1)\n",
        "y=df_iris[\"Species\"]"
      ],
      "execution_count": 0,
      "outputs": []
    },
    {
      "cell_type": "code",
      "metadata": {
        "id": "DTWTTV3sxcPf",
        "colab_type": "code",
        "colab": {
          "base_uri": "https://localhost:8080/",
          "height": 203
        },
        "outputId": "92f6f7e9-0990-44ba-9ed3-0dc6c99fbbf6"
      },
      "source": [
        "X.head()"
      ],
      "execution_count": 37,
      "outputs": [
        {
          "output_type": "execute_result",
          "data": {
            "text/html": [
              "<div>\n",
              "<style scoped>\n",
              "    .dataframe tbody tr th:only-of-type {\n",
              "        vertical-align: middle;\n",
              "    }\n",
              "\n",
              "    .dataframe tbody tr th {\n",
              "        vertical-align: top;\n",
              "    }\n",
              "\n",
              "    .dataframe thead th {\n",
              "        text-align: right;\n",
              "    }\n",
              "</style>\n",
              "<table border=\"1\" class=\"dataframe\">\n",
              "  <thead>\n",
              "    <tr style=\"text-align: right;\">\n",
              "      <th></th>\n",
              "      <th>SepalLengthCm</th>\n",
              "      <th>SepalWidthCm</th>\n",
              "      <th>PetalLengthCm</th>\n",
              "      <th>PetalWidthCm</th>\n",
              "    </tr>\n",
              "  </thead>\n",
              "  <tbody>\n",
              "    <tr>\n",
              "      <th>0</th>\n",
              "      <td>5.1</td>\n",
              "      <td>3.5</td>\n",
              "      <td>1.4</td>\n",
              "      <td>0.2</td>\n",
              "    </tr>\n",
              "    <tr>\n",
              "      <th>1</th>\n",
              "      <td>4.9</td>\n",
              "      <td>3.0</td>\n",
              "      <td>1.4</td>\n",
              "      <td>0.2</td>\n",
              "    </tr>\n",
              "    <tr>\n",
              "      <th>2</th>\n",
              "      <td>4.7</td>\n",
              "      <td>3.2</td>\n",
              "      <td>1.3</td>\n",
              "      <td>0.2</td>\n",
              "    </tr>\n",
              "    <tr>\n",
              "      <th>3</th>\n",
              "      <td>4.6</td>\n",
              "      <td>3.1</td>\n",
              "      <td>1.5</td>\n",
              "      <td>0.2</td>\n",
              "    </tr>\n",
              "    <tr>\n",
              "      <th>4</th>\n",
              "      <td>5.0</td>\n",
              "      <td>3.6</td>\n",
              "      <td>1.4</td>\n",
              "      <td>0.2</td>\n",
              "    </tr>\n",
              "  </tbody>\n",
              "</table>\n",
              "</div>"
            ],
            "text/plain": [
              "   SepalLengthCm  SepalWidthCm  PetalLengthCm  PetalWidthCm\n",
              "0            5.1           3.5            1.4           0.2\n",
              "1            4.9           3.0            1.4           0.2\n",
              "2            4.7           3.2            1.3           0.2\n",
              "3            4.6           3.1            1.5           0.2\n",
              "4            5.0           3.6            1.4           0.2"
            ]
          },
          "metadata": {
            "tags": []
          },
          "execution_count": 37
        }
      ]
    },
    {
      "cell_type": "markdown",
      "metadata": {
        "id": "8-iZXov2MUa6",
        "colab_type": "text"
      },
      "source": [
        "### Target set has different categories. So, Label encode them. And convert into one-hot vectors using get_dummies in pandas."
      ]
    },
    {
      "cell_type": "code",
      "metadata": {
        "id": "G6RrUTRTMUa6",
        "colab_type": "code",
        "colab": {}
      },
      "source": [
        "from sklearn.preprocessing import LabelEncoder\n",
        "le= LabelEncoder()\n",
        "y=le.fit_transform(y)\n",
        "y=pd.get_dummies(y).values"
      ],
      "execution_count": 0,
      "outputs": []
    },
    {
      "cell_type": "code",
      "metadata": {
        "id": "5CMLHmbLshsx",
        "colab_type": "code",
        "colab": {
          "base_uri": "https://localhost:8080/",
          "height": 1000
        },
        "outputId": "62d905f9-124c-4a70-b7b8-5d603139bb52"
      },
      "source": [
        "y"
      ],
      "execution_count": 39,
      "outputs": [
        {
          "output_type": "execute_result",
          "data": {
            "text/plain": [
              "array([[1, 0, 0],\n",
              "       [1, 0, 0],\n",
              "       [1, 0, 0],\n",
              "       [1, 0, 0],\n",
              "       [1, 0, 0],\n",
              "       [1, 0, 0],\n",
              "       [1, 0, 0],\n",
              "       [1, 0, 0],\n",
              "       [1, 0, 0],\n",
              "       [1, 0, 0],\n",
              "       [1, 0, 0],\n",
              "       [1, 0, 0],\n",
              "       [1, 0, 0],\n",
              "       [1, 0, 0],\n",
              "       [1, 0, 0],\n",
              "       [1, 0, 0],\n",
              "       [1, 0, 0],\n",
              "       [1, 0, 0],\n",
              "       [1, 0, 0],\n",
              "       [1, 0, 0],\n",
              "       [1, 0, 0],\n",
              "       [1, 0, 0],\n",
              "       [1, 0, 0],\n",
              "       [1, 0, 0],\n",
              "       [1, 0, 0],\n",
              "       [1, 0, 0],\n",
              "       [1, 0, 0],\n",
              "       [1, 0, 0],\n",
              "       [1, 0, 0],\n",
              "       [1, 0, 0],\n",
              "       [1, 0, 0],\n",
              "       [1, 0, 0],\n",
              "       [1, 0, 0],\n",
              "       [1, 0, 0],\n",
              "       [1, 0, 0],\n",
              "       [1, 0, 0],\n",
              "       [1, 0, 0],\n",
              "       [1, 0, 0],\n",
              "       [1, 0, 0],\n",
              "       [1, 0, 0],\n",
              "       [1, 0, 0],\n",
              "       [1, 0, 0],\n",
              "       [1, 0, 0],\n",
              "       [1, 0, 0],\n",
              "       [1, 0, 0],\n",
              "       [1, 0, 0],\n",
              "       [1, 0, 0],\n",
              "       [1, 0, 0],\n",
              "       [1, 0, 0],\n",
              "       [1, 0, 0],\n",
              "       [0, 1, 0],\n",
              "       [0, 1, 0],\n",
              "       [0, 1, 0],\n",
              "       [0, 1, 0],\n",
              "       [0, 1, 0],\n",
              "       [0, 1, 0],\n",
              "       [0, 1, 0],\n",
              "       [0, 1, 0],\n",
              "       [0, 1, 0],\n",
              "       [0, 1, 0],\n",
              "       [0, 1, 0],\n",
              "       [0, 1, 0],\n",
              "       [0, 1, 0],\n",
              "       [0, 1, 0],\n",
              "       [0, 1, 0],\n",
              "       [0, 1, 0],\n",
              "       [0, 1, 0],\n",
              "       [0, 1, 0],\n",
              "       [0, 1, 0],\n",
              "       [0, 1, 0],\n",
              "       [0, 1, 0],\n",
              "       [0, 1, 0],\n",
              "       [0, 1, 0],\n",
              "       [0, 1, 0],\n",
              "       [0, 1, 0],\n",
              "       [0, 1, 0],\n",
              "       [0, 1, 0],\n",
              "       [0, 1, 0],\n",
              "       [0, 1, 0],\n",
              "       [0, 1, 0],\n",
              "       [0, 1, 0],\n",
              "       [0, 1, 0],\n",
              "       [0, 1, 0],\n",
              "       [0, 1, 0],\n",
              "       [0, 1, 0],\n",
              "       [0, 1, 0],\n",
              "       [0, 1, 0],\n",
              "       [0, 1, 0],\n",
              "       [0, 1, 0],\n",
              "       [0, 1, 0],\n",
              "       [0, 1, 0],\n",
              "       [0, 1, 0],\n",
              "       [0, 1, 0],\n",
              "       [0, 1, 0],\n",
              "       [0, 1, 0],\n",
              "       [0, 1, 0],\n",
              "       [0, 1, 0],\n",
              "       [0, 1, 0],\n",
              "       [0, 1, 0],\n",
              "       [0, 1, 0],\n",
              "       [0, 0, 1],\n",
              "       [0, 0, 1],\n",
              "       [0, 0, 1],\n",
              "       [0, 0, 1],\n",
              "       [0, 0, 1],\n",
              "       [0, 0, 1],\n",
              "       [0, 0, 1],\n",
              "       [0, 0, 1],\n",
              "       [0, 0, 1],\n",
              "       [0, 0, 1],\n",
              "       [0, 0, 1],\n",
              "       [0, 0, 1],\n",
              "       [0, 0, 1],\n",
              "       [0, 0, 1],\n",
              "       [0, 0, 1],\n",
              "       [0, 0, 1],\n",
              "       [0, 0, 1],\n",
              "       [0, 0, 1],\n",
              "       [0, 0, 1],\n",
              "       [0, 0, 1],\n",
              "       [0, 0, 1],\n",
              "       [0, 0, 1],\n",
              "       [0, 0, 1],\n",
              "       [0, 0, 1],\n",
              "       [0, 0, 1],\n",
              "       [0, 0, 1],\n",
              "       [0, 0, 1],\n",
              "       [0, 0, 1],\n",
              "       [0, 0, 1],\n",
              "       [0, 0, 1],\n",
              "       [0, 0, 1],\n",
              "       [0, 0, 1],\n",
              "       [0, 0, 1],\n",
              "       [0, 0, 1],\n",
              "       [0, 0, 1],\n",
              "       [0, 0, 1],\n",
              "       [0, 0, 1],\n",
              "       [0, 0, 1],\n",
              "       [0, 0, 1],\n",
              "       [0, 0, 1],\n",
              "       [0, 0, 1],\n",
              "       [0, 0, 1],\n",
              "       [0, 0, 1],\n",
              "       [0, 0, 1],\n",
              "       [0, 0, 1],\n",
              "       [0, 0, 1],\n",
              "       [0, 0, 1],\n",
              "       [0, 0, 1],\n",
              "       [0, 0, 1],\n",
              "       [0, 0, 1]], dtype=uint8)"
            ]
          },
          "metadata": {
            "tags": []
          },
          "execution_count": 39
        }
      ]
    },
    {
      "cell_type": "markdown",
      "metadata": {
        "id": "mvV6oOddMUa8",
        "colab_type": "text"
      },
      "source": [
        "### Divide the dataset into Training and test (70:30)"
      ]
    },
    {
      "cell_type": "code",
      "metadata": {
        "id": "2dXvNjfVMUa2",
        "colab_type": "code",
        "colab": {}
      },
      "source": [
        "from sklearn.model_selection import train_test_split\n",
        "X_train, X_test, y_train, y_test = train_test_split(X, y, test_size=.3, random_state=123)"
      ],
      "execution_count": 0,
      "outputs": []
    },
    {
      "cell_type": "markdown",
      "metadata": {
        "id": "FmGA4JtdMUa-",
        "colab_type": "text"
      },
      "source": [
        "### Model\n",
        "Build the model with following layers: <br>\n",
        "1. First dense layer with 10 neurons with input shape 4 (according to the feature set) <br>\n",
        "2. Second Dense layer with 8 neurons <br>\n",
        "3. Output layer with 3 neurons with softmax activation (output layer, 3 neurons as we have 3 classes) <br>\n",
        "4. Use SGD and categorical_crossentropy loss "
      ]
    },
    {
      "cell_type": "code",
      "metadata": {
        "id": "Hv_WaSVlMUa-",
        "colab_type": "code",
        "colab": {}
      },
      "source": [
        "model = tf.keras.models.Sequential()\n",
        "#model.add(tf.keras.layers.Reshape((784,),input_shape=(28,28,)))\n",
        "model.add(tf.keras.layers.Reshape((4,),input_shape=(4,)))\n",
        "model.add(tf.keras.layers.BatchNormalization())"
      ],
      "execution_count": 0,
      "outputs": []
    },
    {
      "cell_type": "code",
      "metadata": {
        "id": "pYCXA-Yatc5E",
        "colab_type": "code",
        "colab": {}
      },
      "source": [
        "#Add 1st hidden layer\n",
        "model.add(tf.keras.layers.Dense(10, activation='sigmoid'))"
      ],
      "execution_count": 0,
      "outputs": []
    },
    {
      "cell_type": "code",
      "metadata": {
        "id": "cnyalctUuokA",
        "colab_type": "code",
        "colab": {}
      },
      "source": [
        "#Add 2nd hidden layer\n",
        "model.add(tf.keras.layers.Dense(8, activation='sigmoid'))"
      ],
      "execution_count": 0,
      "outputs": []
    },
    {
      "cell_type": "code",
      "metadata": {
        "id": "Zj7rrJT6uo83",
        "colab_type": "code",
        "colab": {}
      },
      "source": [
        "# output layer\n",
        "model.add(tf.keras.layers.Dense(3, activation='softmax'))"
      ],
      "execution_count": 0,
      "outputs": []
    },
    {
      "cell_type": "code",
      "metadata": {
        "id": "JK8RlCcou2Jk",
        "colab_type": "code",
        "colab": {}
      },
      "source": [
        "model.compile(optimizer='sgd', loss='categorical_crossentropy', \n",
        "              metrics=['accuracy'])"
      ],
      "execution_count": 0,
      "outputs": []
    },
    {
      "cell_type": "markdown",
      "metadata": {
        "id": "hswMEO8rMUbC",
        "colab_type": "text"
      },
      "source": [
        "### Fitting the model and predicting "
      ]
    },
    {
      "cell_type": "code",
      "metadata": {
        "id": "x5_c2UDlMUbD",
        "colab_type": "code",
        "colab": {
          "base_uri": "https://localhost:8080/",
          "height": 653
        },
        "outputId": "a34a6863-b741-40c0-8185-939cb9b4eedc"
      },
      "source": [
        "model.fit(X_train,y_train,         \n",
        "          validation_data=(X_test,y_test),\n",
        "          epochs=15)"
      ],
      "execution_count": 46,
      "outputs": [
        {
          "output_type": "stream",
          "text": [
            "Train on 105 samples, validate on 45 samples\n",
            "WARNING:tensorflow:From /usr/local/lib/python3.6/dist-packages/tensorflow/python/ops/math_grad.py:1250: add_dispatch_support.<locals>.wrapper (from tensorflow.python.ops.array_ops) is deprecated and will be removed in a future version.\n",
            "Instructions for updating:\n",
            "Use tf.where in 2.0, which has the same broadcast rule as np.where\n",
            "Epoch 1/15\n",
            "105/105 [==============================] - 0s 3ms/sample - loss: 1.5950 - acc: 0.3143 - val_loss: 1.2692 - val_acc: 0.3778\n",
            "Epoch 2/15\n",
            "105/105 [==============================] - 0s 119us/sample - loss: 1.5543 - acc: 0.3143 - val_loss: 1.2440 - val_acc: 0.3778\n",
            "Epoch 3/15\n",
            "105/105 [==============================] - 0s 111us/sample - loss: 1.5151 - acc: 0.3143 - val_loss: 1.2227 - val_acc: 0.3778\n",
            "Epoch 4/15\n",
            "105/105 [==============================] - 0s 112us/sample - loss: 1.4824 - acc: 0.3143 - val_loss: 1.2061 - val_acc: 0.3778\n",
            "Epoch 5/15\n",
            "105/105 [==============================] - 0s 109us/sample - loss: 1.4532 - acc: 0.3143 - val_loss: 1.1882 - val_acc: 0.3778\n",
            "Epoch 6/15\n",
            "105/105 [==============================] - 0s 110us/sample - loss: 1.4241 - acc: 0.3143 - val_loss: 1.1743 - val_acc: 0.3778\n",
            "Epoch 7/15\n",
            "105/105 [==============================] - 0s 121us/sample - loss: 1.3992 - acc: 0.3143 - val_loss: 1.1614 - val_acc: 0.3778\n",
            "Epoch 8/15\n",
            "105/105 [==============================] - 0s 126us/sample - loss: 1.3733 - acc: 0.3143 - val_loss: 1.1491 - val_acc: 0.3778\n",
            "Epoch 9/15\n",
            "105/105 [==============================] - 0s 112us/sample - loss: 1.3492 - acc: 0.3143 - val_loss: 1.1377 - val_acc: 0.3778\n",
            "Epoch 10/15\n",
            "105/105 [==============================] - 0s 108us/sample - loss: 1.3243 - acc: 0.3143 - val_loss: 1.1272 - val_acc: 0.3778\n",
            "Epoch 11/15\n",
            "105/105 [==============================] - 0s 123us/sample - loss: 1.3037 - acc: 0.3143 - val_loss: 1.1204 - val_acc: 0.3778\n",
            "Epoch 12/15\n",
            "105/105 [==============================] - 0s 112us/sample - loss: 1.2868 - acc: 0.3143 - val_loss: 1.1139 - val_acc: 0.3778\n",
            "Epoch 13/15\n",
            "105/105 [==============================] - 0s 98us/sample - loss: 1.2709 - acc: 0.3143 - val_loss: 1.1095 - val_acc: 0.3778\n",
            "Epoch 14/15\n",
            "105/105 [==============================] - 0s 99us/sample - loss: 1.2572 - acc: 0.3143 - val_loss: 1.1046 - val_acc: 0.3778\n",
            "Epoch 15/15\n",
            "105/105 [==============================] - 0s 109us/sample - loss: 1.2456 - acc: 0.3143 - val_loss: 1.1016 - val_acc: 0.3778\n"
          ],
          "name": "stdout"
        },
        {
          "output_type": "execute_result",
          "data": {
            "text/plain": [
              "<tensorflow.python.keras.callbacks.History at 0x7f7366e499e8>"
            ]
          },
          "metadata": {
            "tags": []
          },
          "execution_count": 46
        }
      ]
    },
    {
      "cell_type": "code",
      "metadata": {
        "id": "G5PNaPo7vMkf",
        "colab_type": "code",
        "colab": {
          "base_uri": "https://localhost:8080/",
          "height": 1000
        },
        "outputId": "47ec031b-c182-401f-8200-ab6fe6132a89"
      },
      "source": [
        "pred = model.predict(X_train)\n",
        "pred"
      ],
      "execution_count": 47,
      "outputs": [
        {
          "output_type": "execute_result",
          "data": {
            "text/plain": [
              "array([[0.34402168, 0.19587718, 0.46010113],\n",
              "       [0.34109533, 0.19690153, 0.4620031 ],\n",
              "       [0.34015167, 0.1935194 , 0.46632898],\n",
              "       [0.3255445 , 0.19938847, 0.47506702],\n",
              "       [0.32817575, 0.19706377, 0.47476044],\n",
              "       [0.33972603, 0.1958306 , 0.46444336],\n",
              "       [0.3293954 , 0.19740047, 0.47320408],\n",
              "       [0.32840616, 0.19780932, 0.47378454],\n",
              "       [0.33722124, 0.19516332, 0.46761546],\n",
              "       [0.3365875 , 0.19510184, 0.4683106 ],\n",
              "       [0.33882183, 0.19400504, 0.46717307],\n",
              "       [0.33694264, 0.19435987, 0.46869743],\n",
              "       [0.34135062, 0.19524767, 0.4634017 ],\n",
              "       [0.3367459 , 0.19509122, 0.46816286],\n",
              "       [0.34167507, 0.19631085, 0.46201405],\n",
              "       [0.33286884, 0.19363824, 0.47349298],\n",
              "       [0.33963877, 0.19623475, 0.46412647],\n",
              "       [0.33484665, 0.19502681, 0.4701266 ],\n",
              "       [0.32661813, 0.19889227, 0.4744896 ],\n",
              "       [0.32664683, 0.19844592, 0.47490725],\n",
              "       [0.33970577, 0.19564216, 0.46465212],\n",
              "       [0.33723184, 0.19488014, 0.46788803],\n",
              "       [0.34204334, 0.19584729, 0.46210945],\n",
              "       [0.3447185 , 0.19608559, 0.45919588],\n",
              "       [0.32546383, 0.1986999 , 0.47583622],\n",
              "       [0.33634397, 0.19528908, 0.46836692],\n",
              "       [0.3377581 , 0.1938329 , 0.46840903],\n",
              "       [0.33896843, 0.19561934, 0.4654122 ],\n",
              "       [0.32887414, 0.1974785 , 0.4736474 ],\n",
              "       [0.33830047, 0.19534941, 0.46635017],\n",
              "       [0.33615977, 0.19551736, 0.46832293],\n",
              "       [0.3360678 , 0.19514474, 0.46878755],\n",
              "       [0.32964247, 0.19719806, 0.47315952],\n",
              "       [0.34241506, 0.19577093, 0.46181393],\n",
              "       [0.34321865, 0.19478132, 0.462     ],\n",
              "       [0.32855934, 0.19781588, 0.47362477],\n",
              "       [0.32964113, 0.19727068, 0.47308826],\n",
              "       [0.3378068 , 0.19470423, 0.4674889 ],\n",
              "       [0.33923218, 0.19484912, 0.46591863],\n",
              "       [0.34217727, 0.19718313, 0.4606396 ],\n",
              "       [0.32556027, 0.20018677, 0.47425294],\n",
              "       [0.32686967, 0.19833362, 0.47479674],\n",
              "       [0.33833477, 0.19378826, 0.467877  ],\n",
              "       [0.32811642, 0.19798213, 0.47390145],\n",
              "       [0.337881  , 0.19573626, 0.4663828 ],\n",
              "       [0.34114552, 0.19581036, 0.46304417],\n",
              "       [0.32846   , 0.19747746, 0.4740625 ],\n",
              "       [0.34244764, 0.19516614, 0.46238616],\n",
              "       [0.32344154, 0.20018002, 0.47637844],\n",
              "       [0.32625046, 0.19898264, 0.47476685],\n",
              "       [0.33912954, 0.19526643, 0.46560398],\n",
              "       [0.32588562, 0.19958831, 0.474526  ],\n",
              "       [0.32624954, 0.19929893, 0.4744516 ],\n",
              "       [0.3372224 , 0.19490501, 0.46787256],\n",
              "       [0.34010044, 0.19565423, 0.4642453 ],\n",
              "       [0.3373706 , 0.19500409, 0.46762538],\n",
              "       [0.33659184, 0.19478549, 0.46862265],\n",
              "       [0.337763  , 0.1940799 , 0.46815708],\n",
              "       [0.32800743, 0.19746669, 0.47452578],\n",
              "       [0.3274416 , 0.19876969, 0.47378874],\n",
              "       [0.33873525, 0.19484991, 0.46641484],\n",
              "       [0.33861378, 0.19498996, 0.46639633],\n",
              "       [0.32840616, 0.19780932, 0.47378454],\n",
              "       [0.3271055 , 0.19881487, 0.47407964],\n",
              "       [0.33749753, 0.19451384, 0.4679886 ],\n",
              "       [0.33531272, 0.1956781 , 0.46900916],\n",
              "       [0.3369552 , 0.19488461, 0.46816027],\n",
              "       [0.34157178, 0.19589488, 0.46253338],\n",
              "       [0.3372662 , 0.19516085, 0.46757293],\n",
              "       [0.33804366, 0.1943279 , 0.4676285 ],\n",
              "       [0.33706123, 0.19468425, 0.46825457],\n",
              "       [0.3414671 , 0.1960515 , 0.4624814 ],\n",
              "       [0.3272797 , 0.19853938, 0.47418094],\n",
              "       [0.32606775, 0.19932608, 0.47460613],\n",
              "       [0.3373582 , 0.1950632 , 0.46757862],\n",
              "       [0.3417338 , 0.19627559, 0.46199065],\n",
              "       [0.33858728, 0.19576569, 0.46564704],\n",
              "       [0.3382433 , 0.19572908, 0.46602756],\n",
              "       [0.34090513, 0.1956595 , 0.4634354 ],\n",
              "       [0.32751068, 0.19853772, 0.4739516 ],\n",
              "       [0.33641088, 0.19521159, 0.46837753],\n",
              "       [0.32799336, 0.1979839 , 0.47402275],\n",
              "       [0.33582723, 0.19457693, 0.46959582],\n",
              "       [0.33674923, 0.19478737, 0.4684634 ],\n",
              "       [0.32804957, 0.1983101 , 0.47364032],\n",
              "       [0.3430168 , 0.19379857, 0.46318462],\n",
              "       [0.34290007, 0.1963351 , 0.46076483],\n",
              "       [0.33795732, 0.19499081, 0.46705183],\n",
              "       [0.34244832, 0.19673076, 0.46082097],\n",
              "       [0.34190956, 0.19526868, 0.46282175],\n",
              "       [0.32318094, 0.20057562, 0.47624344],\n",
              "       [0.33648062, 0.19481151, 0.4687078 ],\n",
              "       [0.3275592 , 0.19789013, 0.4745507 ],\n",
              "       [0.34039283, 0.19671129, 0.46289587],\n",
              "       [0.34301266, 0.19484498, 0.46214244],\n",
              "       [0.33628333, 0.19487526, 0.46884152],\n",
              "       [0.336473  , 0.19336654, 0.47016042],\n",
              "       [0.34144232, 0.194992  , 0.46356565],\n",
              "       [0.33985695, 0.19412073, 0.46602234],\n",
              "       [0.33956683, 0.19500573, 0.46542743],\n",
              "       [0.32751518, 0.198677  , 0.47380787],\n",
              "       [0.3372899 , 0.1936694 , 0.46904075],\n",
              "       [0.33671707, 0.19518815, 0.46809474],\n",
              "       [0.34076327, 0.19510418, 0.4641325 ],\n",
              "       [0.34079185, 0.19684997, 0.46235818]], dtype=float32)"
            ]
          },
          "metadata": {
            "tags": []
          },
          "execution_count": 47
        }
      ]
    },
    {
      "cell_type": "code",
      "metadata": {
        "id": "2tuP8tvix9pG",
        "colab_type": "code",
        "colab": {
          "base_uri": "https://localhost:8080/",
          "height": 35
        },
        "outputId": "62f94843-b72e-4376-b619-910f6aa7b329"
      },
      "source": [
        "pred[0]"
      ],
      "execution_count": 48,
      "outputs": [
        {
          "output_type": "execute_result",
          "data": {
            "text/plain": [
              "array([0.34402168, 0.19587718, 0.46010113], dtype=float32)"
            ]
          },
          "metadata": {
            "tags": []
          },
          "execution_count": 48
        }
      ]
    },
    {
      "cell_type": "code",
      "metadata": {
        "id": "pXEkIW3aMUbG",
        "colab_type": "code",
        "colab": {}
      },
      "source": [
        ""
      ],
      "execution_count": 0,
      "outputs": []
    },
    {
      "cell_type": "markdown",
      "metadata": {
        "id": "ShVf-g4cMUbJ",
        "colab_type": "text"
      },
      "source": [
        "### Report Accuracy of the predicted values"
      ]
    },
    {
      "cell_type": "code",
      "metadata": {
        "id": "d3oKc_Q5MUbK",
        "colab_type": "code",
        "colab": {
          "base_uri": "https://localhost:8080/",
          "height": 35
        },
        "outputId": "0690e215-af9f-4f64-bacb-5ba0c9fae07c"
      },
      "source": [
        "model.evaluate(X_test,y_test,verbose=0)"
      ],
      "execution_count": 49,
      "outputs": [
        {
          "output_type": "execute_result",
          "data": {
            "text/plain": [
              "[1.101559755537245, 0.37777779]"
            ]
          },
          "metadata": {
            "tags": []
          },
          "execution_count": 49
        }
      ]
    },
    {
      "cell_type": "code",
      "metadata": {
        "id": "V-PYOEqszVot",
        "colab_type": "code",
        "colab": {
          "base_uri": "https://localhost:8080/",
          "height": 52
        },
        "outputId": "44e464b6-a555-4662-8d2e-f6983c5cbf9a"
      },
      "source": [
        "print(\"Accuracy is \",model.evaluate(X_test,y_test,verbose=0)[1]*100)\n",
        "print(\"Loss is \",model.evaluate(X_test,y_test,verbose=0)[0])"
      ],
      "execution_count": 50,
      "outputs": [
        {
          "output_type": "stream",
          "text": [
            "Accuracy is  37.77777850627899\n",
            "Loss is  1.101559755537245\n"
          ],
          "name": "stdout"
        }
      ]
    }
  ]
}