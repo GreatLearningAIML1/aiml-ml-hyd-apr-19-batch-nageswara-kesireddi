{
 "cells": [
  {
   "cell_type": "markdown",
   "metadata": {},
   "source": [
    "## The dataset HR contains information collected from the survey floated by a HR within the company.\n",
    "\n",
    "\n",
    "As a part of this lab, you are expected to answer the below questions"
   ]
  },
  {
   "cell_type": "markdown",
   "metadata": {},
   "source": [
    "### Import numpy and Pandas "
   ]
  },
  {
   "cell_type": "code",
   "execution_count": 22,
   "metadata": {},
   "outputs": [],
   "source": [
    "import numpy as np\n",
    "import pandas as pd\n",
    "import matplotlib.pyplot as mp"
   ]
  },
  {
   "cell_type": "markdown",
   "metadata": {},
   "source": [
    "Import the dataset (Note: The dataset is in .txt format) - Make sure to use delimiters"
   ]
  },
  {
   "cell_type": "code",
   "execution_count": 2,
   "metadata": {},
   "outputs": [
    {
     "name": "stdout",
     "output_type": "stream",
     "text": [
      "     Individual Attrition  Age  BusinessTravel  DailyRate  Department  \\\n",
      "0          Ind1       Yes   41               1       1102           1   \n",
      "1          Ind2        No   49               2        279           2   \n",
      "2          Ind3       Yes   37               1       1373           2   \n",
      "3          Ind4        No   33               2       1392           2   \n",
      "4          Ind5        No   27               1        591           2   \n",
      "5          Ind6        No   32               2       1005           2   \n",
      "6          Ind7        No   59               1       1324           2   \n",
      "7          Ind8        No   30               1       1358           2   \n",
      "8          Ind9        No   38               2        216           2   \n",
      "9         Ind10        No   36               1       1299           2   \n",
      "10        Ind11        No   35               1        809           2   \n",
      "11        Ind12        No   29               1        153           2   \n",
      "12        Ind13        No   31               1        670           2   \n",
      "13        Ind14        No   34               1       1346           2   \n",
      "14        Ind15       Yes   28               1        103           2   \n",
      "15        Ind16        No   29               1       1389           2   \n",
      "16        Ind17        No   32               1        334           2   \n",
      "17        Ind18        No   22               3       1123           2   \n",
      "18        Ind19        No   53               1       1219           1   \n",
      "19        Ind20        No   38               1        371           2   \n",
      "20        Ind21        No   24               3        673           2   \n",
      "21        Ind22       Yes   36               1       1218           1   \n",
      "22        Ind23        No   34               1        419           2   \n",
      "23        Ind24        No   21               1        391           2   \n",
      "24        Ind25       Yes   34               1        699           2   \n",
      "25        Ind26        No   53               1       1282           2   \n",
      "26        Ind27       Yes   32               2       1125           2   \n",
      "27        Ind28        No   42               1        691           1   \n",
      "28        Ind29        No   44               1        477           2   \n",
      "29        Ind30        No   46               1        705           1   \n",
      "...         ...       ...  ...             ...        ...         ...   \n",
      "1440    Ind1441        No   36               2        688           2   \n",
      "1441    Ind1442        No   56               3        667           2   \n",
      "1442    Ind1443       Yes   29               1       1092           2   \n",
      "1443    Ind1444        No   42               1        300           2   \n",
      "1444    Ind1445       Yes   56               1        310           2   \n",
      "1445    Ind1446        No   41               1        582           2   \n",
      "1446    Ind1447        No   34               1        704           1   \n",
      "1447    Ind1448        No   36               3        301           1   \n",
      "1448    Ind1449        No   41               1        930           1   \n",
      "1449    Ind1450        No   32               1        529           2   \n",
      "1450    Ind1451        No   35               1       1146           3   \n",
      "1451    Ind1452        No   38               1        345           1   \n",
      "1452    Ind1453       Yes   50               2        878           1   \n",
      "1453    Ind1454        No   36               1       1120           1   \n",
      "1454    Ind1455        No   45               1        374           1   \n",
      "1455    Ind1456        No   40               1       1322           2   \n",
      "1456    Ind1457        No   35               2       1199           2   \n",
      "1457    Ind1458        No   40               1       1194           2   \n",
      "1458    Ind1459        No   35               1        287           2   \n",
      "1459    Ind1460        No   29               1       1378           2   \n",
      "1460    Ind1461        No   29               1        468           2   \n",
      "1461    Ind1462       Yes   50               1        410           1   \n",
      "1462    Ind1463        No   39               1        722           1   \n",
      "1463    Ind1464        No   31               3        325           2   \n",
      "1464    Ind1465        No   26               1       1167           1   \n",
      "1465    Ind1466        No   36               2        884           2   \n",
      "1466    Ind1467        No   39               1        613           2   \n",
      "1467    Ind1468        No   27               1        155           2   \n",
      "1468    Ind1469        No   49               2       1023           1   \n",
      "1469    Ind1470        No   34               1        628           2   \n",
      "\n",
      "      DistanceFromHome  Education  EducationField  EmployeeCount  ...  \\\n",
      "0                    1          2               1              1  ...   \n",
      "1                    8          1               1              1  ...   \n",
      "2                    2          2               6              1  ...   \n",
      "3                    3          4               1              1  ...   \n",
      "4                    2          1               2              1  ...   \n",
      "5                    2          2               1              1  ...   \n",
      "6                    3          3               2              1  ...   \n",
      "7                   24          1               1              1  ...   \n",
      "8                   23          3               1              1  ...   \n",
      "9                   27          3               2              1  ...   \n",
      "10                  16          3               2              1  ...   \n",
      "11                  15          2               1              1  ...   \n",
      "12                  26          1               1              1  ...   \n",
      "13                  19          2               2              1  ...   \n",
      "14                  24          3               1              1  ...   \n",
      "15                  21          4               1              1  ...   \n",
      "16                   5          2               1              1  ...   \n",
      "17                  16          2               2              1  ...   \n",
      "18                   2          4               1              1  ...   \n",
      "19                   2          3               1              1  ...   \n",
      "20                  11          2               6              1  ...   \n",
      "21                   9          4               1              1  ...   \n",
      "22                   7          4               1              1  ...   \n",
      "23                  15          2               1              1  ...   \n",
      "24                   6          1               2              1  ...   \n",
      "25                   5          3               6              1  ...   \n",
      "26                  16          1               1              1  ...   \n",
      "27                   8          4               3              1  ...   \n",
      "28                   7          4               2              1  ...   \n",
      "29                   2          4               3              1  ...   \n",
      "...                ...        ...             ...            ...  ...   \n",
      "1440                 4          2               1              1  ...   \n",
      "1441                 1          4               1              1  ...   \n",
      "1442                 1          4               2              1  ...   \n",
      "1443                 2          3               1              1  ...   \n",
      "1444                 7          2               4              1  ...   \n",
      "1445                28          4               1              1  ...   \n",
      "1446                28          3               3              1  ...   \n",
      "1447                15          4               3              1  ...   \n",
      "1448                 3          3               1              1  ...   \n",
      "1449                 2          3               4              1  ...   \n",
      "1450                26          4               1              1  ...   \n",
      "1451                10          2               1              1  ...   \n",
      "1452                 1          4               1              1  ...   \n",
      "1453                11          4               3              1  ...   \n",
      "1454                20          3               1              1  ...   \n",
      "1455                 2          4               1              1  ...   \n",
      "1456                18          4               1              1  ...   \n",
      "1457                 2          4               2              1  ...   \n",
      "1458                 1          4               1              1  ...   \n",
      "1459                13          2               6              1  ...   \n",
      "1460                28          4               2              1  ...   \n",
      "1461                28          3               3              1  ...   \n",
      "1462                24          1               3              1  ...   \n",
      "1463                 5          3               2              1  ...   \n",
      "1464                 5          3               6              1  ...   \n",
      "1465                23          2               2              1  ...   \n",
      "1466                 6          1               2              1  ...   \n",
      "1467                 4          3               1              1  ...   \n",
      "1468                 2          3               2              1  ...   \n",
      "1469                 8          3               2              1  ...   \n",
      "\n",
      "      RelationshipSatisfaction  StandardHours  StockOptionLevel  \\\n",
      "0                            1             80                 0   \n",
      "1                            4             80                 1   \n",
      "2                            2             80                 0   \n",
      "3                            3             80                 0   \n",
      "4                            4             80                 1   \n",
      "5                            3             80                 0   \n",
      "6                            1             80                 3   \n",
      "7                            2             80                 1   \n",
      "8                            2             80                 0   \n",
      "9                            2             80                 2   \n",
      "10                           3             80                 1   \n",
      "11                           4             80                 0   \n",
      "12                           4             80                 1   \n",
      "13                           3             80                 1   \n",
      "14                           2             80                 0   \n",
      "15                           3             80                 1   \n",
      "16                           4             80                 2   \n",
      "17                           2             80                 2   \n",
      "18                           3             80                 0   \n",
      "19                           3             80                 0   \n",
      "20                           4             80                 1   \n",
      "21                           2             80                 0   \n",
      "22                           3             80                 0   \n",
      "23                           4             80                 0   \n",
      "24                           3             80                 0   \n",
      "25                           4             80                 1   \n",
      "26                           2             80                 0   \n",
      "27                           4             80                 1   \n",
      "28                           4             80                 1   \n",
      "29                           4             80                 0   \n",
      "...                        ...            ...               ...   \n",
      "1440                         2             80                 3   \n",
      "1441                         1             80                 1   \n",
      "1442                         2             80                 3   \n",
      "1443                         1             80                 0   \n",
      "1444                         4             80                 1   \n",
      "1445                         3             80                 1   \n",
      "1446                         4             80                 2   \n",
      "1447                         1             80                 1   \n",
      "1448                         3             80                 1   \n",
      "1449                         4             80                 0   \n",
      "1450                         3             80                 0   \n",
      "1451                         3             80                 1   \n",
      "1452                         4             80                 2   \n",
      "1453                         1             80                 1   \n",
      "1454                         3             80                 0   \n",
      "1455                         4             80                 0   \n",
      "1456                         4             80                 2   \n",
      "1457                         2             80                 3   \n",
      "1458                         4             80                 1   \n",
      "1459                         1             80                 1   \n",
      "1460                         2             80                 0   \n",
      "1461                         2             80                 1   \n",
      "1462                         1             80                 1   \n",
      "1463                         2             80                 0   \n",
      "1464                         4             80                 0   \n",
      "1465                         3             80                 1   \n",
      "1466                         1             80                 1   \n",
      "1467                         2             80                 1   \n",
      "1468                         4             80                 0   \n",
      "1469                         1             80                 0   \n",
      "\n",
      "      TotalWorkingYears  TrainingTimesLastYear  WorkLifeBalance  \\\n",
      "0                     8                      0                1   \n",
      "1                    10                      3                3   \n",
      "2                     7                      3                3   \n",
      "3                     8                      3                3   \n",
      "4                     6                      3                3   \n",
      "5                     8                      2                2   \n",
      "6                    12                      3                2   \n",
      "7                     1                      2                3   \n",
      "8                    10                      2                3   \n",
      "9                    17                      3                2   \n",
      "10                    6                      5                3   \n",
      "11                   10                      3                3   \n",
      "12                    5                      1                2   \n",
      "13                    3                      2                3   \n",
      "14                    6                      4                3   \n",
      "15                   10                      1                3   \n",
      "16                    7                      5                2   \n",
      "17                    1                      2                2   \n",
      "18                   31                      3                3   \n",
      "19                    6                      3                3   \n",
      "20                    5                      5                2   \n",
      "21                   10                      4                3   \n",
      "22                   13                      4                3   \n",
      "23                    0                      6                3   \n",
      "24                    8                      2                3   \n",
      "25                   26                      3                2   \n",
      "26                   10                      5                3   \n",
      "27                   10                      2                3   \n",
      "28                   24                      4                3   \n",
      "29                   22                      2                2   \n",
      "...                 ...                    ...              ...   \n",
      "1440                 18                      3                3   \n",
      "1441                 13                      2                2   \n",
      "1442                  4                      3                4   \n",
      "1443                 24                      2                2   \n",
      "1444                 14                      4                1   \n",
      "1445                 21                      3                3   \n",
      "1446                  8                      2                3   \n",
      "1447                 15                      4                2   \n",
      "1448                 14                      5                3   \n",
      "1449                  4                      4                3   \n",
      "1450                  9                      2                3   \n",
      "1451                 10                      1                3   \n",
      "1452                 12                      3                3   \n",
      "1453                  8                      2                2   \n",
      "1454                  8                      3                3   \n",
      "1455                  8                      2                3   \n",
      "1456                 10                      2                4   \n",
      "1457                 20                      2                3   \n",
      "1458                  4                      5                3   \n",
      "1459                 10                      2                3   \n",
      "1460                  5                      3                1   \n",
      "1461                 20                      3                3   \n",
      "1462                 21                      2                2   \n",
      "1463                 10                      2                3   \n",
      "1464                  5                      2                3   \n",
      "1465                 17                      3                3   \n",
      "1466                  9                      5                3   \n",
      "1467                  6                      0                3   \n",
      "1468                 17                      3                2   \n",
      "1469                  6                      3                4   \n",
      "\n",
      "      YearsAtCompany  YearsInCurrentRole  YearsSinceLastPromotion  \\\n",
      "0                  6                   4                        0   \n",
      "1                 10                   7                        1   \n",
      "2                  0                   0                        0   \n",
      "3                  8                   7                        3   \n",
      "4                  2                   2                        2   \n",
      "5                  7                   7                        3   \n",
      "6                  1                   0                        0   \n",
      "7                  1                   0                        0   \n",
      "8                  9                   7                        1   \n",
      "9                  7                   7                        7   \n",
      "10                 5                   4                        0   \n",
      "11                 9                   5                        0   \n",
      "12                 5                   2                        4   \n",
      "13                 2                   2                        1   \n",
      "14                 4                   2                        0   \n",
      "15                10                   9                        8   \n",
      "16                 6                   2                        0   \n",
      "17                 1                   0                        0   \n",
      "18                25                   8                        3   \n",
      "19                 3                   2                        1   \n",
      "20                 4                   2                        1   \n",
      "21                 5                   3                        0   \n",
      "22                12                   6                        2   \n",
      "23                 0                   0                        0   \n",
      "24                 4                   2                        1   \n",
      "25                14                  13                        4   \n",
      "26                10                   2                        6   \n",
      "27                 9                   7                        4   \n",
      "28                22                   6                        5   \n",
      "29                 2                   2                        2   \n",
      "...              ...                 ...                      ...   \n",
      "1440               4                   2                        0   \n",
      "1441              13                  12                        1   \n",
      "1442               2                   2                        2   \n",
      "1443              22                   6                        4   \n",
      "1444              10                   9                        9   \n",
      "1445              20                   7                        0   \n",
      "1446               8                   7                        1   \n",
      "1447              15                  12                       11   \n",
      "1448               5                   4                        0   \n",
      "1449               4                   2                        1   \n",
      "1450               9                   0                        1   \n",
      "1451              10                   7                        1   \n",
      "1452               6                   3                        0   \n",
      "1453               6                   3                        0   \n",
      "1454               5                   3                        0   \n",
      "1455               2                   2                        2   \n",
      "1456              10                   2                        0   \n",
      "1457               5                   3                        0   \n",
      "1458               4                   3                        1   \n",
      "1459               4                   3                        0   \n",
      "1460               5                   4                        0   \n",
      "1461               3                   2                        2   \n",
      "1462              20                   9                        9   \n",
      "1463               9                   4                        1   \n",
      "1464               4                   2                        0   \n",
      "1465               5                   2                        0   \n",
      "1466               7                   7                        1   \n",
      "1467               6                   2                        0   \n",
      "1468               9                   6                        0   \n",
      "1469               4                   3                        1   \n",
      "\n",
      "      YearsWithCurrManager  \n",
      "0                        5  \n",
      "1                        7  \n",
      "2                        0  \n",
      "3                        0  \n",
      "4                        2  \n",
      "5                        6  \n",
      "6                        0  \n",
      "7                        0  \n",
      "8                        8  \n",
      "9                        7  \n",
      "10                       3  \n",
      "11                       8  \n",
      "12                       3  \n",
      "13                       2  \n",
      "14                       3  \n",
      "15                       8  \n",
      "16                       5  \n",
      "17                       0  \n",
      "18                       7  \n",
      "19                       2  \n",
      "20                       3  \n",
      "21                       3  \n",
      "22                      11  \n",
      "23                       0  \n",
      "24                       3  \n",
      "25                       8  \n",
      "26                       7  \n",
      "27                       2  \n",
      "28                      17  \n",
      "29                       1  \n",
      "...                    ...  \n",
      "1440                     2  \n",
      "1441                     9  \n",
      "1442                     2  \n",
      "1443                    14  \n",
      "1444                     8  \n",
      "1445                    10  \n",
      "1446                     7  \n",
      "1447                    11  \n",
      "1448                     4  \n",
      "1449                     2  \n",
      "1450                     7  \n",
      "1451                     9  \n",
      "1452                     1  \n",
      "1453                     0  \n",
      "1454                     1  \n",
      "1455                     2  \n",
      "1456                     2  \n",
      "1457                     2  \n",
      "1458                     1  \n",
      "1459                     3  \n",
      "1460                     4  \n",
      "1461                     0  \n",
      "1462                     6  \n",
      "1463                     7  \n",
      "1464                     0  \n",
      "1465                     3  \n",
      "1466                     7  \n",
      "1467                     3  \n",
      "1468                     8  \n",
      "1469                     2  \n",
      "\n",
      "[1470 rows x 35 columns]\n"
     ]
    }
   ],
   "source": [
    "dfHR=pd.read_csv('C:/Users/Nageswar/AIML/Labs/Residency1/External/HR-1.txt',delimiter='\\s+',header='infer')\n",
    "print(dfHR)"
   ]
  },
  {
   "cell_type": "markdown",
   "metadata": {},
   "source": [
    "### Print the no of rows and columns in the dataset "
   ]
  },
  {
   "cell_type": "code",
   "execution_count": 3,
   "metadata": {},
   "outputs": [
    {
     "name": "stdout",
     "output_type": "stream",
     "text": [
      "(1470, 35)\n"
     ]
    }
   ],
   "source": [
    "print (dfHR.shape)"
   ]
  },
  {
   "cell_type": "code",
   "execution_count": null,
   "metadata": {},
   "outputs": [],
   "source": []
  },
  {
   "cell_type": "markdown",
   "metadata": {},
   "source": [
    "### Find out the type of each and every column in the dataset "
   ]
  },
  {
   "cell_type": "code",
   "execution_count": 4,
   "metadata": {},
   "outputs": [
    {
     "name": "stdout",
     "output_type": "stream",
     "text": [
      "Individual                  object\n",
      "Attrition                   object\n",
      "Age                          int64\n",
      "BusinessTravel               int64\n",
      "DailyRate                    int64\n",
      "Department                   int64\n",
      "DistanceFromHome             int64\n",
      "Education                    int64\n",
      "EducationField               int64\n",
      "EmployeeCount                int64\n",
      "EmployeeNumber               int64\n",
      "EnvironmentSatisfaction      int64\n",
      "Gender                       int64\n",
      "HourlyRate                   int64\n",
      "JobInvolvement               int64\n",
      "JobLevel                     int64\n",
      "JobRole                      int64\n",
      "JobSatisfaction              int64\n",
      "MaritalStatus                int64\n",
      "MonthlyIncome                int64\n",
      "MonthlyRate                  int64\n",
      "NumCompaniesWorked           int64\n",
      "OverTime                     int64\n",
      "PercentSalaryHike            int64\n",
      "PerformanceRating            int64\n",
      "RelationshipSatisfaction     int64\n",
      "StandardHours                int64\n",
      "StockOptionLevel             int64\n",
      "TotalWorkingYears            int64\n",
      "TrainingTimesLastYear        int64\n",
      "WorkLifeBalance              int64\n",
      "YearsAtCompany               int64\n",
      "YearsInCurrentRole           int64\n",
      "YearsSinceLastPromotion      int64\n",
      "YearsWithCurrManager         int64\n",
      "dtype: object\n"
     ]
    }
   ],
   "source": [
    "print(dfHR.dtypes)"
   ]
  },
  {
   "cell_type": "code",
   "execution_count": null,
   "metadata": {},
   "outputs": [],
   "source": []
  },
  {
   "cell_type": "markdown",
   "metadata": {},
   "source": [
    "### Print out all the rows from 3rd column to 10th columns  "
   ]
  },
  {
   "cell_type": "code",
   "execution_count": 6,
   "metadata": {},
   "outputs": [
    {
     "name": "stdout",
     "output_type": "stream",
     "text": [
      "      Age  BusinessTravel  DailyRate  Department  DistanceFromHome  Education  \\\n",
      "0      41               1       1102           1                 1          2   \n",
      "1      49               2        279           2                 8          1   \n",
      "2      37               1       1373           2                 2          2   \n",
      "3      33               2       1392           2                 3          4   \n",
      "4      27               1        591           2                 2          1   \n",
      "5      32               2       1005           2                 2          2   \n",
      "6      59               1       1324           2                 3          3   \n",
      "7      30               1       1358           2                24          1   \n",
      "8      38               2        216           2                23          3   \n",
      "9      36               1       1299           2                27          3   \n",
      "10     35               1        809           2                16          3   \n",
      "11     29               1        153           2                15          2   \n",
      "12     31               1        670           2                26          1   \n",
      "13     34               1       1346           2                19          2   \n",
      "14     28               1        103           2                24          3   \n",
      "15     29               1       1389           2                21          4   \n",
      "16     32               1        334           2                 5          2   \n",
      "17     22               3       1123           2                16          2   \n",
      "18     53               1       1219           1                 2          4   \n",
      "19     38               1        371           2                 2          3   \n",
      "20     24               3        673           2                11          2   \n",
      "21     36               1       1218           1                 9          4   \n",
      "22     34               1        419           2                 7          4   \n",
      "23     21               1        391           2                15          2   \n",
      "24     34               1        699           2                 6          1   \n",
      "25     53               1       1282           2                 5          3   \n",
      "26     32               2       1125           2                16          1   \n",
      "27     42               1        691           1                 8          4   \n",
      "28     44               1        477           2                 7          4   \n",
      "29     46               1        705           1                 2          4   \n",
      "...   ...             ...        ...         ...               ...        ...   \n",
      "1440   36               2        688           2                 4          2   \n",
      "1441   56               3        667           2                 1          4   \n",
      "1442   29               1       1092           2                 1          4   \n",
      "1443   42               1        300           2                 2          3   \n",
      "1444   56               1        310           2                 7          2   \n",
      "1445   41               1        582           2                28          4   \n",
      "1446   34               1        704           1                28          3   \n",
      "1447   36               3        301           1                15          4   \n",
      "1448   41               1        930           1                 3          3   \n",
      "1449   32               1        529           2                 2          3   \n",
      "1450   35               1       1146           3                26          4   \n",
      "1451   38               1        345           1                10          2   \n",
      "1452   50               2        878           1                 1          4   \n",
      "1453   36               1       1120           1                11          4   \n",
      "1454   45               1        374           1                20          3   \n",
      "1455   40               1       1322           2                 2          4   \n",
      "1456   35               2       1199           2                18          4   \n",
      "1457   40               1       1194           2                 2          4   \n",
      "1458   35               1        287           2                 1          4   \n",
      "1459   29               1       1378           2                13          2   \n",
      "1460   29               1        468           2                28          4   \n",
      "1461   50               1        410           1                28          3   \n",
      "1462   39               1        722           1                24          1   \n",
      "1463   31               3        325           2                 5          3   \n",
      "1464   26               1       1167           1                 5          3   \n",
      "1465   36               2        884           2                23          2   \n",
      "1466   39               1        613           2                 6          1   \n",
      "1467   27               1        155           2                 4          3   \n",
      "1468   49               2       1023           1                 2          3   \n",
      "1469   34               1        628           2                 8          3   \n",
      "\n",
      "      EducationField  EmployeeCount  \n",
      "0                  1              1  \n",
      "1                  1              1  \n",
      "2                  6              1  \n",
      "3                  1              1  \n",
      "4                  2              1  \n",
      "5                  1              1  \n",
      "6                  2              1  \n",
      "7                  1              1  \n",
      "8                  1              1  \n",
      "9                  2              1  \n",
      "10                 2              1  \n",
      "11                 1              1  \n",
      "12                 1              1  \n",
      "13                 2              1  \n",
      "14                 1              1  \n",
      "15                 1              1  \n",
      "16                 1              1  \n",
      "17                 2              1  \n",
      "18                 1              1  \n",
      "19                 1              1  \n",
      "20                 6              1  \n",
      "21                 1              1  \n",
      "22                 1              1  \n",
      "23                 1              1  \n",
      "24                 2              1  \n",
      "25                 6              1  \n",
      "26                 1              1  \n",
      "27                 3              1  \n",
      "28                 2              1  \n",
      "29                 3              1  \n",
      "...              ...            ...  \n",
      "1440               1              1  \n",
      "1441               1              1  \n",
      "1442               2              1  \n",
      "1443               1              1  \n",
      "1444               4              1  \n",
      "1445               1              1  \n",
      "1446               3              1  \n",
      "1447               3              1  \n",
      "1448               1              1  \n",
      "1449               4              1  \n",
      "1450               1              1  \n",
      "1451               1              1  \n",
      "1452               1              1  \n",
      "1453               3              1  \n",
      "1454               1              1  \n",
      "1455               1              1  \n",
      "1456               1              1  \n",
      "1457               2              1  \n",
      "1458               1              1  \n",
      "1459               6              1  \n",
      "1460               2              1  \n",
      "1461               3              1  \n",
      "1462               3              1  \n",
      "1463               2              1  \n",
      "1464               6              1  \n",
      "1465               2              1  \n",
      "1466               2              1  \n",
      "1467               1              1  \n",
      "1468               2              1  \n",
      "1469               2              1  \n",
      "\n",
      "[1470 rows x 8 columns]\n"
     ]
    }
   ],
   "source": [
    "print (dfHR.iloc[:,2:10])"
   ]
  },
  {
   "cell_type": "markdown",
   "metadata": {},
   "source": [
    "### Find out the no of male & female employees in the company\n",
    "\n",
    "*Hint: Use can use a condition to find out the no of 1s and 0s in gender and sum it*"
   ]
  },
  {
   "cell_type": "code",
   "execution_count": 7,
   "metadata": {},
   "outputs": [
    {
     "name": "stdout",
     "output_type": "stream",
     "text": [
      "        Attrition\n",
      "Gender           \n",
      "1             882\n",
      "2             588\n"
     ]
    }
   ],
   "source": [
    "dsHR=dfHR.loc[:,['Gender','Attrition']]\n",
    "#printing the Gender wise counts for information\n",
    "print(dsHR.groupby('Gender').count())"
   ]
  },
  {
   "cell_type": "code",
   "execution_count": 8,
   "metadata": {},
   "outputs": [
    {
     "name": "stdout",
     "output_type": "stream",
     "text": [
      "Attrition    1470\n",
      "dtype: int64\n"
     ]
    }
   ],
   "source": [
    "print(dsHR.groupby('Gender').count().sum())"
   ]
  },
  {
   "cell_type": "markdown",
   "metadata": {},
   "source": [
    "### Find out the IQR for the column - Age \n",
    "\n",
    "*Hint: IQR - Interquartile range = 75th percentile - 25th percentile* "
   ]
  },
  {
   "cell_type": "code",
   "execution_count": 9,
   "metadata": {},
   "outputs": [
    {
     "name": "stdout",
     "output_type": "stream",
     "text": [
      "13.0\n"
     ]
    }
   ],
   "source": [
    "print(dfHR['Age'].quantile(.75)-dfHR['Age'].quantile(.25))"
   ]
  },
  {
   "cell_type": "markdown",
   "metadata": {},
   "source": [
    "### Find out the mean, median and variance for the column - DailyRate "
   ]
  },
  {
   "cell_type": "code",
   "execution_count": 10,
   "metadata": {},
   "outputs": [
    {
     "name": "stdout",
     "output_type": "stream",
     "text": [
      "Median is :\n",
      "802.0\n",
      "\n",
      "Mean is : \n",
      "802.4857142857143\n",
      "\n",
      "Variance is : \n",
      "162819.59373723628\n"
     ]
    }
   ],
   "source": [
    "print(\"Median is :\") \n",
    "print(dfHR['DailyRate'].median())\n",
    "print(\"\\nMean is : \")\n",
    "print(dfHR['DailyRate'].mean())\n",
    "print(\"\\nVariance is : \")\n",
    "print(dfHR['DailyRate'].var())"
   ]
  },
  {
   "cell_type": "markdown",
   "metadata": {},
   "source": [
    "### Plot the attrition column (Since it is a categorical variable, use histogram to plot the data)"
   ]
  },
  {
   "cell_type": "code",
   "execution_count": 23,
   "metadata": {},
   "outputs": [],
   "source": [
    "import matplotlib.pyplot as mp\n"
   ]
  },
  {
   "cell_type": "code",
   "execution_count": 24,
   "metadata": {},
   "outputs": [
    {
     "data": {
      "text/plain": [
       "<matplotlib.axes._subplots.AxesSubplot at 0x23a528321d0>"
      ]
     },
     "execution_count": 24,
     "metadata": {},
     "output_type": "execute_result"
    },
    {
     "data": {
      "image/png": "[encoded data removed]",
      "text/plain": [
       "<Figure size 432x288 with 1 Axes>"
      ]
     },
     "metadata": {
      "needs_background": "light"
     },
     "output_type": "display_data"
    }
   ],
   "source": [
    "dfHR['Attrition'].value_counts().plot(kind='bar')"
   ]
  },
  {
   "cell_type": "markdown",
   "metadata": {},
   "source": [
    "### Plot Total working years using matplotlib plot function"
   ]
  },
  {
   "cell_type": "code",
   "execution_count": 25,
   "metadata": {},
   "outputs": [
    {
     "data": {
      "image/png": "[encoded data removed]",
      "text/plain": [
       "<Figure size 432x288 with 1 Axes>"
      ]
     },
     "metadata": {
      "needs_background": "light"
     },
     "output_type": "display_data"
    }
   ],
   "source": [
    "mp.plot(dfHR[\"TotalWorkingYears\"])\n",
    "mp.show()"
   ]
  },
  {
   "cell_type": "markdown",
   "metadata": {},
   "source": [
    "### Create 500 random samples from normal distribution with mean 1 and  standard deviation 0.5"
   ]
  },
  {
   "cell_type": "code",
   "execution_count": 26,
   "metadata": {},
   "outputs": [
    {
     "name": "stdout",
     "output_type": "stream",
     "text": [
      "[ 0.89514784  1.45213558  0.43778126  1.11979608  2.09776389  1.16348512\n",
      "  0.83191388  1.13291492  0.72968677  0.70439355  1.54453423  0.76405512\n",
      "  1.14371737  0.94997112  1.01150859  1.10148287  0.96535685  1.14467499\n",
      "  0.84699569  1.08588091  1.09193468  0.87417072  0.69622698  1.69957453\n",
      "  1.10527023  2.28782021  1.01679705  0.82189146  1.15386417  0.4410043\n",
      "  0.38359954  1.25035446  1.49789407  0.47593747  0.78406549  2.11928646\n",
      "  1.56641021  1.12321206  0.37301793  0.94938107  0.62722316  1.65924445\n",
      "  0.52946904  1.65592043  0.34324806  1.63117957  1.42134119  1.26562892\n",
      "  1.24870025  0.62314319  1.79976654  1.38220707  1.1147988   0.31316861\n",
      "  1.44613161  0.83746634  1.33495163  0.95012167  1.4467832   1.4124656\n",
      "  0.8075077   0.87731446  1.40527621  1.37325013 -0.37854595  1.11140222\n",
      "  0.09948492  0.70745825  1.99607153  0.97581388  0.67925182  0.26417686\n",
      "  0.63091394  2.04686145  1.00392357  0.71870283 -0.36944085  1.24149589\n",
      "  1.42291692  1.04789354  0.46983512  0.491559    0.85022853  0.59084338\n",
      "  0.87578628  0.73445605  0.62529061  1.21326622  0.61047127  0.76414251\n",
      "  1.08096476  1.04306767  0.56744529  0.63799921  0.89029813  1.23688951\n",
      "  1.72399718  0.27585344  1.78236747  0.65530674  1.28927011  1.61710945\n",
      "  1.21376285  0.86275574  1.06347163  0.36897716  1.29799707  0.58508008\n",
      "  1.3813719   1.10046083  1.30136629  0.86045612  2.05327872  0.99123692\n",
      "  0.800447    0.66146531  0.45431301  0.98450453  0.21676937  1.20139318\n",
      "  1.08926542  0.72436335  0.62363148  1.48952646  1.55844707  0.03607213\n",
      "  0.76013377  1.77203072  1.46158     1.09682595  0.51702638  0.90214117\n",
      "  1.01286545  0.58316561  1.26981632  0.12298647  1.52820905  1.18338111\n",
      "  1.17631622  1.30934833  1.61061867  0.36846674  0.80525383  0.79851849\n",
      "  0.98968344  1.02982261  1.44880555  0.44045611  0.43250809  1.18761001\n",
      "  0.85891325  0.26022984  0.84222267  0.64577004  0.96350609  0.8872152\n",
      "  1.54612271  1.01177944  1.12673306  0.84715679  1.26222679  1.32485115\n",
      "  0.66889313  1.4033781   1.55229068  1.86743752  1.0713333   1.97778056\n",
      "  0.86918794  1.26689217  1.70178933  1.37489417  1.19347112  1.00033242\n",
      "  1.37649231  2.04643629  1.32962595  1.11327963  1.18985368  0.99286588\n",
      "  1.50227497  0.60094891  0.83594889  1.36021942  2.53690038  0.90994918\n",
      "  0.28521613  0.69745568  1.34802358  1.11659118  0.1211212   1.42603693\n",
      "  0.7237641   1.21348497  1.10218283  1.02426691  1.23478625  1.38021277\n",
      "  1.77693047  1.05768027  0.54759328  1.26393714  2.09111172  1.59140053\n",
      "  0.73797674  1.13759189  1.1500286   0.98269411  1.5546134   1.39681129\n",
      " -0.26290629  1.10259353  1.1957519   0.50514834  1.30833094  1.14889534\n",
      "  1.08469894  0.66188267  0.92151573  0.37323607  0.88239582  1.16626548\n",
      "  0.75313547  0.37205725  0.85365334  0.69245879  0.87491972  1.97163631\n",
      "  1.30187018  0.49625079  0.90388608  0.81390401  0.27930326  0.46428209\n",
      "  1.57356598  1.16770996  1.75655771  1.08057324  1.02540523  0.15232818\n",
      "  1.0195926   0.7382125   0.62096418  0.58704944  0.97965927  0.98904465\n",
      "  1.25614259  0.9112218   1.20437616  1.66207682  1.1336478   0.60812241\n",
      "  1.78884101  1.86609605  0.32099682  0.47199676  0.43701202  1.48172081\n",
      "  2.40024167  1.16845766  2.2827746   1.85478714  0.93116012  0.74999292\n",
      "  0.46958079  2.12615396  0.69362508  1.56786886  1.35357209  1.42213924\n",
      "  2.14008514  1.08540387  1.60941174  1.55727823  1.38184155  1.25269642\n",
      "  1.01597518  0.53482101  1.65760599  0.74714321  1.5817607   0.08374952\n",
      "  1.57338401  1.50641691  0.70782514  0.235181    0.77643516  1.09354122\n",
      "  1.61779669  0.99831192  1.65840406  1.3602501   0.63342393  2.02952924\n",
      "  0.61014969  1.17007397  1.01619961 -0.10375395  1.28624284  1.20399755\n",
      "  0.42197115  1.11243544  1.06181802  0.75136049  0.85008497  0.54194523\n",
      "  0.63502138  1.54118999 -0.20593796  0.67915122  0.90947008  1.52122667\n",
      "  1.35055175  0.84049047  1.00213385  1.87759647  1.494115    0.80272282\n",
      "  0.18941978  1.48924221  0.67753971  0.3400474   1.24985625  0.64830001\n",
      " -0.20919938  0.95214681  0.94981611  0.82342873  0.38572723  2.02125208\n",
      "  0.80671712  1.44091995  0.88824166  0.7842855   1.44935521  1.11536329\n",
      "  0.72956785  1.23116388  0.86398939  1.45865887  1.19278082 -0.2044334\n",
      "  0.846108    1.10171972  0.98350702  0.30501224  1.53947692  1.10371354\n",
      "  1.31300529  1.88546883  0.74372945  2.11548756  0.56852272  0.90090099\n",
      "  0.59133941  1.65729628  0.35232451  0.98063678  0.64831126  0.60397606\n",
      "  1.53710914  0.97155716  2.02347054  0.82087881  1.55623287  0.98063607\n",
      "  0.75825707  1.54071335  0.97290895  0.82823597  0.10227996  1.36935006\n",
      "  1.26154556  1.57239739  0.75395767  0.17184335  1.07655295  0.72739522\n",
      "  1.62493576  0.32761627  1.81084347  1.18267575  1.69805576  0.37870816\n",
      "  1.67425716  1.02896536  0.17425746  0.43966835  1.0628899   1.63389686\n",
      "  1.12758978  0.84909376  1.03757526  1.57685542  1.31777258  1.52340531\n",
      "  1.01003996  1.31844859  0.82229828  2.47579177  0.95467514  1.04693637\n",
      "  2.45521057  1.43391201  0.27201055  1.06071364  0.61450618  1.30136165\n",
      "  0.87581062  0.22284813  0.93757693  0.52840796  1.44434595  1.33476492\n",
      "  1.19508031  1.71869209 -0.11954411  1.30727605  1.51125059  0.36970962\n",
      "  0.94973754  0.68900635  0.42093933  0.46209287  1.12882816  0.45833158\n",
      "  1.52686615  1.16563598  1.5487311   1.16251314  2.10846453  1.0042567\n",
      "  1.13839569  0.33097712  0.58351587  0.75072317  0.76088614  1.49180848\n",
      "  0.87623899  1.2275857   0.81381924 -0.14852318  1.26994594  0.93708869\n",
      "  0.42064811  0.87198914  1.55686589  0.45481515  1.45968856  1.41322028\n",
      "  0.69059194  2.09253422  1.35962478  1.10159388  0.72116491  0.73454744\n",
      "  0.70904658  0.61195417  1.60016122  1.83278038  1.63062303  1.2023926\n",
      "  1.73540888  1.31684571  1.7705405   1.68302725  0.8618886   1.2899726\n",
      "  0.93259111  2.19983216  1.65780567  1.36517051  1.14379776  0.59310401\n",
      " -0.50904014  0.1773564   1.3204497   0.27509432  1.38642317  1.66842122\n",
      "  1.30818688  1.5974679   0.96596835  0.941983    1.02248274  0.49198348\n",
      "  1.79945518  0.51248525  0.41834693  1.55330839  1.18675508  1.22618392\n",
      "  0.43079794  1.78307539  1.4348146   0.89479982  1.04433462  1.37352342\n",
      "  1.62030805  0.49124881]\n"
     ]
    }
   ],
   "source": [
    "myseries= np.random.normal(1,.5, 500)\n",
    "print(myseries)"
   ]
  },
  {
   "cell_type": "markdown",
   "metadata": {},
   "source": [
    "###  Plot the histogram of the above normal distribution "
   ]
  },
  {
   "cell_type": "code",
   "execution_count": 27,
   "metadata": {},
   "outputs": [
    {
     "data": {
      "image/png": "[encoded data removed]",
      "text/plain": [
       "<Figure size 432x288 with 1 Axes>"
      ]
     },
     "metadata": {
      "needs_background": "light"
     },
     "output_type": "display_data"
    }
   ],
   "source": [
    "mp.hist(myseries)\n",
    "mp.show()"
   ]
  }
 ],
 "metadata": {
  "kernelspec": {
   "display_name": "Python 3",
   "language": "python",
   "name": "python3"
  },
  "language_info": {
   "codemirror_mode": {
    "name": "ipython",
    "version": 3
   },
   "file_extension": ".py",
   "mimetype": "text/x-python",
   "name": "python",
   "nbconvert_exporter": "python",
   "pygments_lexer": "ipython3",
   "version": "3.7.3"
  }
 },
 "nbformat": 4,
 "nbformat_minor": 2
}
