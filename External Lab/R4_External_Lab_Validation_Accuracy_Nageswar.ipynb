{
 "cells": [
  {
   "cell_type": "code",
   "execution_count": 1,
   "metadata": {
    "colab": {},
    "colab_type": "code",
    "id": "Y3vvEXP1_0og"
   },
   "outputs": [],
   "source": [
    "# Import important library\n",
    "import numpy as np\n",
    "import pandas as pd\n",
    "import matplotlib.pyplot as plt\n",
    "import seaborn as sns\n",
    "%matplotlib inline\n",
    "import warnings\n",
    "warnings.filterwarnings('ignore')"
   ]
  },
  {
   "cell_type": "markdown",
   "metadata": {
    "colab_type": "text",
    "id": "7O83uMqA_0ol"
   },
   "source": [
    "### Q1 Read the input file and check the data dimension"
   ]
  },
  {
   "cell_type": "code",
   "execution_count": 2,
   "metadata": {
    "colab": {},
    "colab_type": "code",
    "id": "1brbOfG_Enzy"
   },
   "outputs": [],
   "source": [
    "# You can access from https://www.kaggle.com/uciml/german-credit\n",
    "#Read input file and understand the data\n",
    "# \"default\" is my dependent variable"
   ]
  },
  {
   "cell_type": "code",
   "execution_count": 3,
   "metadata": {
    "colab": {},
    "colab_type": "code",
    "id": "_LGo1xnK_0ow"
   },
   "outputs": [
    {
     "data": {
      "text/html": [
       "<div>\n",
       "<style scoped>\n",
       "    .dataframe tbody tr th:only-of-type {\n",
       "        vertical-align: middle;\n",
       "    }\n",
       "\n",
       "    .dataframe tbody tr th {\n",
       "        vertical-align: top;\n",
       "    }\n",
       "\n",
       "    .dataframe thead th {\n",
       "        text-align: right;\n",
       "    }\n",
       "</style>\n",
       "<table border=\"1\" class=\"dataframe\">\n",
       "  <thead>\n",
       "    <tr style=\"text-align: right;\">\n",
       "      <th></th>\n",
       "      <th>default</th>\n",
       "      <th>account_check_status</th>\n",
       "      <th>duration_in_month</th>\n",
       "      <th>credit_history</th>\n",
       "      <th>purpose</th>\n",
       "      <th>credit_amount</th>\n",
       "      <th>savings</th>\n",
       "      <th>present_emp_since</th>\n",
       "      <th>installment_as_income_perc</th>\n",
       "      <th>personal_status_sex</th>\n",
       "      <th>...</th>\n",
       "      <th>present_res_since</th>\n",
       "      <th>property</th>\n",
       "      <th>age</th>\n",
       "      <th>other_installment_plans</th>\n",
       "      <th>housing</th>\n",
       "      <th>credits_this_bank</th>\n",
       "      <th>job</th>\n",
       "      <th>people_under_maintenance</th>\n",
       "      <th>telephone</th>\n",
       "      <th>foreign_worker</th>\n",
       "    </tr>\n",
       "  </thead>\n",
       "  <tbody>\n",
       "    <tr>\n",
       "      <th>0</th>\n",
       "      <td>0</td>\n",
       "      <td>&lt; 0 DM</td>\n",
       "      <td>6</td>\n",
       "      <td>critical account/ other credits existing (not ...</td>\n",
       "      <td>domestic appliances</td>\n",
       "      <td>1169</td>\n",
       "      <td>unknown/ no savings account</td>\n",
       "      <td>.. &gt;= 7 years</td>\n",
       "      <td>4</td>\n",
       "      <td>male : single</td>\n",
       "      <td>...</td>\n",
       "      <td>4</td>\n",
       "      <td>real estate</td>\n",
       "      <td>67</td>\n",
       "      <td>none</td>\n",
       "      <td>own</td>\n",
       "      <td>2</td>\n",
       "      <td>skilled employee / official</td>\n",
       "      <td>1</td>\n",
       "      <td>yes, registered under the customers name</td>\n",
       "      <td>yes</td>\n",
       "    </tr>\n",
       "    <tr>\n",
       "      <th>1</th>\n",
       "      <td>1</td>\n",
       "      <td>0 &lt;= ... &lt; 200 DM</td>\n",
       "      <td>48</td>\n",
       "      <td>existing credits paid back duly till now</td>\n",
       "      <td>domestic appliances</td>\n",
       "      <td>5951</td>\n",
       "      <td>... &lt; 100 DM</td>\n",
       "      <td>1 &lt;= ... &lt; 4 years</td>\n",
       "      <td>2</td>\n",
       "      <td>female : divorced/separated/married</td>\n",
       "      <td>...</td>\n",
       "      <td>2</td>\n",
       "      <td>real estate</td>\n",
       "      <td>22</td>\n",
       "      <td>none</td>\n",
       "      <td>own</td>\n",
       "      <td>1</td>\n",
       "      <td>skilled employee / official</td>\n",
       "      <td>1</td>\n",
       "      <td>none</td>\n",
       "      <td>yes</td>\n",
       "    </tr>\n",
       "    <tr>\n",
       "      <th>2</th>\n",
       "      <td>0</td>\n",
       "      <td>no checking account</td>\n",
       "      <td>12</td>\n",
       "      <td>critical account/ other credits existing (not ...</td>\n",
       "      <td>(vacation - does not exist?)</td>\n",
       "      <td>2096</td>\n",
       "      <td>... &lt; 100 DM</td>\n",
       "      <td>4 &lt;= ... &lt; 7 years</td>\n",
       "      <td>2</td>\n",
       "      <td>male : single</td>\n",
       "      <td>...</td>\n",
       "      <td>3</td>\n",
       "      <td>real estate</td>\n",
       "      <td>49</td>\n",
       "      <td>none</td>\n",
       "      <td>own</td>\n",
       "      <td>1</td>\n",
       "      <td>unskilled - resident</td>\n",
       "      <td>2</td>\n",
       "      <td>none</td>\n",
       "      <td>yes</td>\n",
       "    </tr>\n",
       "    <tr>\n",
       "      <th>3</th>\n",
       "      <td>0</td>\n",
       "      <td>&lt; 0 DM</td>\n",
       "      <td>42</td>\n",
       "      <td>existing credits paid back duly till now</td>\n",
       "      <td>radio/television</td>\n",
       "      <td>7882</td>\n",
       "      <td>... &lt; 100 DM</td>\n",
       "      <td>4 &lt;= ... &lt; 7 years</td>\n",
       "      <td>2</td>\n",
       "      <td>male : single</td>\n",
       "      <td>...</td>\n",
       "      <td>4</td>\n",
       "      <td>if not A121 : building society savings agreeme...</td>\n",
       "      <td>45</td>\n",
       "      <td>none</td>\n",
       "      <td>for free</td>\n",
       "      <td>1</td>\n",
       "      <td>skilled employee / official</td>\n",
       "      <td>2</td>\n",
       "      <td>none</td>\n",
       "      <td>yes</td>\n",
       "    </tr>\n",
       "    <tr>\n",
       "      <th>4</th>\n",
       "      <td>1</td>\n",
       "      <td>&lt; 0 DM</td>\n",
       "      <td>24</td>\n",
       "      <td>delay in paying off in the past</td>\n",
       "      <td>car (new)</td>\n",
       "      <td>4870</td>\n",
       "      <td>... &lt; 100 DM</td>\n",
       "      <td>1 &lt;= ... &lt; 4 years</td>\n",
       "      <td>3</td>\n",
       "      <td>male : single</td>\n",
       "      <td>...</td>\n",
       "      <td>4</td>\n",
       "      <td>unknown / no property</td>\n",
       "      <td>53</td>\n",
       "      <td>none</td>\n",
       "      <td>for free</td>\n",
       "      <td>2</td>\n",
       "      <td>skilled employee / official</td>\n",
       "      <td>2</td>\n",
       "      <td>none</td>\n",
       "      <td>yes</td>\n",
       "    </tr>\n",
       "  </tbody>\n",
       "</table>\n",
       "<p>5 rows × 21 columns</p>\n",
       "</div>"
      ],
      "text/plain": [
       "   default account_check_status  duration_in_month  \\\n",
       "0        0               < 0 DM                  6   \n",
       "1        1    0 <= ... < 200 DM                 48   \n",
       "2        0  no checking account                 12   \n",
       "3        0               < 0 DM                 42   \n",
       "4        1               < 0 DM                 24   \n",
       "\n",
       "                                      credit_history  \\\n",
       "0  critical account/ other credits existing (not ...   \n",
       "1           existing credits paid back duly till now   \n",
       "2  critical account/ other credits existing (not ...   \n",
       "3           existing credits paid back duly till now   \n",
       "4                    delay in paying off in the past   \n",
       "\n",
       "                        purpose  credit_amount                      savings  \\\n",
       "0           domestic appliances           1169  unknown/ no savings account   \n",
       "1           domestic appliances           5951                 ... < 100 DM   \n",
       "2  (vacation - does not exist?)           2096                 ... < 100 DM   \n",
       "3              radio/television           7882                 ... < 100 DM   \n",
       "4                     car (new)           4870                 ... < 100 DM   \n",
       "\n",
       "    present_emp_since  installment_as_income_perc  \\\n",
       "0       .. >= 7 years                           4   \n",
       "1  1 <= ... < 4 years                           2   \n",
       "2  4 <= ... < 7 years                           2   \n",
       "3  4 <= ... < 7 years                           2   \n",
       "4  1 <= ... < 4 years                           3   \n",
       "\n",
       "                   personal_status_sex  ... present_res_since  \\\n",
       "0                        male : single  ...                 4   \n",
       "1  female : divorced/separated/married  ...                 2   \n",
       "2                        male : single  ...                 3   \n",
       "3                        male : single  ...                 4   \n",
       "4                        male : single  ...                 4   \n",
       "\n",
       "                                            property age  \\\n",
       "0                                        real estate  67   \n",
       "1                                        real estate  22   \n",
       "2                                        real estate  49   \n",
       "3  if not A121 : building society savings agreeme...  45   \n",
       "4                              unknown / no property  53   \n",
       "\n",
       "   other_installment_plans   housing credits_this_bank  \\\n",
       "0                     none       own                 2   \n",
       "1                     none       own                 1   \n",
       "2                     none       own                 1   \n",
       "3                     none  for free                 1   \n",
       "4                     none  for free                 2   \n",
       "\n",
       "                           job people_under_maintenance  \\\n",
       "0  skilled employee / official                        1   \n",
       "1  skilled employee / official                        1   \n",
       "2         unskilled - resident                        2   \n",
       "3  skilled employee / official                        2   \n",
       "4  skilled employee / official                        2   \n",
       "\n",
       "                                   telephone foreign_worker  \n",
       "0  yes, registered under the customers name             yes  \n",
       "1                                       none            yes  \n",
       "2                                       none            yes  \n",
       "3                                       none            yes  \n",
       "4                                       none            yes  \n",
       "\n",
       "[5 rows x 21 columns]"
      ]
     },
     "execution_count": 3,
     "metadata": {},
     "output_type": "execute_result"
    }
   ],
   "source": [
    "df=pd.read_csv(\"C:/Users/Nageswar/AIML/GIT/aiml-ml-hyd-apr-19-batch-nageswara-kesireddi/External Lab/german_credit.csv\")\n",
    "\n",
    "df.head()\n",
    "\n"
   ]
  },
  {
   "cell_type": "code",
   "execution_count": 4,
   "metadata": {},
   "outputs": [
    {
     "data": {
      "text/plain": [
       "(1000, 21)"
      ]
     },
     "execution_count": 4,
     "metadata": {},
     "output_type": "execute_result"
    }
   ],
   "source": [
    "df.shape"
   ]
  },
  {
   "cell_type": "code",
   "execution_count": 5,
   "metadata": {},
   "outputs": [
    {
     "data": {
      "text/plain": [
       "default                        int64\n",
       "account_check_status          object\n",
       "duration_in_month              int64\n",
       "credit_history                object\n",
       "purpose                       object\n",
       "credit_amount                  int64\n",
       "savings                       object\n",
       "present_emp_since             object\n",
       "installment_as_income_perc     int64\n",
       "personal_status_sex           object\n",
       "other_debtors                 object\n",
       "present_res_since              int64\n",
       "property                      object\n",
       "age                            int64\n",
       "other_installment_plans       object\n",
       "housing                       object\n",
       "credits_this_bank              int64\n",
       "job                           object\n",
       "people_under_maintenance       int64\n",
       "telephone                     object\n",
       "foreign_worker                object\n",
       "dtype: object"
      ]
     },
     "execution_count": 5,
     "metadata": {},
     "output_type": "execute_result"
    }
   ],
   "source": [
    "df.dtypes"
   ]
  },
  {
   "cell_type": "code",
   "execution_count": 6,
   "metadata": {},
   "outputs": [
    {
     "data": {
      "text/plain": [
       "default                       False\n",
       "account_check_status          False\n",
       "duration_in_month             False\n",
       "credit_history                False\n",
       "purpose                       False\n",
       "credit_amount                 False\n",
       "savings                       False\n",
       "present_emp_since             False\n",
       "installment_as_income_perc    False\n",
       "personal_status_sex           False\n",
       "other_debtors                 False\n",
       "present_res_since             False\n",
       "property                      False\n",
       "age                           False\n",
       "other_installment_plans       False\n",
       "housing                       False\n",
       "credits_this_bank             False\n",
       "job                           False\n",
       "people_under_maintenance      False\n",
       "telephone                     False\n",
       "foreign_worker                False\n",
       "dtype: bool"
      ]
     },
     "execution_count": 6,
     "metadata": {},
     "output_type": "execute_result"
    }
   ],
   "source": [
    "df.isnull().any(axis=0)"
   ]
  },
  {
   "cell_type": "code",
   "execution_count": 7,
   "metadata": {},
   "outputs": [],
   "source": [
    "#There are no missing values in the dataset. "
   ]
  },
  {
   "cell_type": "code",
   "execution_count": 8,
   "metadata": {},
   "outputs": [
    {
     "data": {
      "text/plain": [
       "account_check_status       1000\n",
       "credit_history             1000\n",
       "purpose                    1000\n",
       "savings                    1000\n",
       "present_emp_since          1000\n",
       "personal_status_sex        1000\n",
       "other_debtors              1000\n",
       "property                   1000\n",
       "other_installment_plans    1000\n",
       "housing                    1000\n",
       "job                        1000\n",
       "telephone                  1000\n",
       "foreign_worker             1000\n",
       "dtype: int64"
      ]
     },
     "execution_count": 8,
     "metadata": {},
     "output_type": "execute_result"
    }
   ],
   "source": [
    "df.select_dtypes(include=['object']).count(axis=0)"
   ]
  },
  {
   "cell_type": "code",
   "execution_count": 9,
   "metadata": {},
   "outputs": [
    {
     "data": {
      "text/html": [
       "<div>\n",
       "<style scoped>\n",
       "    .dataframe tbody tr th:only-of-type {\n",
       "        vertical-align: middle;\n",
       "    }\n",
       "\n",
       "    .dataframe tbody tr th {\n",
       "        vertical-align: top;\n",
       "    }\n",
       "\n",
       "    .dataframe thead th {\n",
       "        text-align: right;\n",
       "    }\n",
       "</style>\n",
       "<table border=\"1\" class=\"dataframe\">\n",
       "  <thead>\n",
       "    <tr style=\"text-align: right;\">\n",
       "      <th></th>\n",
       "      <th>default</th>\n",
       "      <th>duration_in_month</th>\n",
       "      <th>credit_history</th>\n",
       "      <th>purpose</th>\n",
       "      <th>credit_amount</th>\n",
       "      <th>savings</th>\n",
       "      <th>present_emp_since</th>\n",
       "      <th>installment_as_income_perc</th>\n",
       "      <th>personal_status_sex</th>\n",
       "      <th>other_debtors</th>\n",
       "      <th>...</th>\n",
       "      <th>housing</th>\n",
       "      <th>credits_this_bank</th>\n",
       "      <th>job</th>\n",
       "      <th>people_under_maintenance</th>\n",
       "      <th>telephone</th>\n",
       "      <th>foreign_worker</th>\n",
       "      <th>account_check_status_0 &lt;= ... &lt; 200 DM</th>\n",
       "      <th>account_check_status_&lt; 0 DM</th>\n",
       "      <th>account_check_status_&gt;= 200 DM / salary assignments for at least 1 year</th>\n",
       "      <th>account_check_status_no checking account</th>\n",
       "    </tr>\n",
       "  </thead>\n",
       "  <tbody>\n",
       "    <tr>\n",
       "      <th>0</th>\n",
       "      <td>0</td>\n",
       "      <td>6</td>\n",
       "      <td>critical account/ other credits existing (not ...</td>\n",
       "      <td>domestic appliances</td>\n",
       "      <td>1169</td>\n",
       "      <td>unknown/ no savings account</td>\n",
       "      <td>.. &gt;= 7 years</td>\n",
       "      <td>4</td>\n",
       "      <td>male : single</td>\n",
       "      <td>none</td>\n",
       "      <td>...</td>\n",
       "      <td>own</td>\n",
       "      <td>2</td>\n",
       "      <td>skilled employee / official</td>\n",
       "      <td>1</td>\n",
       "      <td>yes, registered under the customers name</td>\n",
       "      <td>yes</td>\n",
       "      <td>0</td>\n",
       "      <td>1</td>\n",
       "      <td>0</td>\n",
       "      <td>0</td>\n",
       "    </tr>\n",
       "    <tr>\n",
       "      <th>1</th>\n",
       "      <td>1</td>\n",
       "      <td>48</td>\n",
       "      <td>existing credits paid back duly till now</td>\n",
       "      <td>domestic appliances</td>\n",
       "      <td>5951</td>\n",
       "      <td>... &lt; 100 DM</td>\n",
       "      <td>1 &lt;= ... &lt; 4 years</td>\n",
       "      <td>2</td>\n",
       "      <td>female : divorced/separated/married</td>\n",
       "      <td>none</td>\n",
       "      <td>...</td>\n",
       "      <td>own</td>\n",
       "      <td>1</td>\n",
       "      <td>skilled employee / official</td>\n",
       "      <td>1</td>\n",
       "      <td>none</td>\n",
       "      <td>yes</td>\n",
       "      <td>1</td>\n",
       "      <td>0</td>\n",
       "      <td>0</td>\n",
       "      <td>0</td>\n",
       "    </tr>\n",
       "    <tr>\n",
       "      <th>2</th>\n",
       "      <td>0</td>\n",
       "      <td>12</td>\n",
       "      <td>critical account/ other credits existing (not ...</td>\n",
       "      <td>(vacation - does not exist?)</td>\n",
       "      <td>2096</td>\n",
       "      <td>... &lt; 100 DM</td>\n",
       "      <td>4 &lt;= ... &lt; 7 years</td>\n",
       "      <td>2</td>\n",
       "      <td>male : single</td>\n",
       "      <td>none</td>\n",
       "      <td>...</td>\n",
       "      <td>own</td>\n",
       "      <td>1</td>\n",
       "      <td>unskilled - resident</td>\n",
       "      <td>2</td>\n",
       "      <td>none</td>\n",
       "      <td>yes</td>\n",
       "      <td>0</td>\n",
       "      <td>0</td>\n",
       "      <td>0</td>\n",
       "      <td>1</td>\n",
       "    </tr>\n",
       "    <tr>\n",
       "      <th>3</th>\n",
       "      <td>0</td>\n",
       "      <td>42</td>\n",
       "      <td>existing credits paid back duly till now</td>\n",
       "      <td>radio/television</td>\n",
       "      <td>7882</td>\n",
       "      <td>... &lt; 100 DM</td>\n",
       "      <td>4 &lt;= ... &lt; 7 years</td>\n",
       "      <td>2</td>\n",
       "      <td>male : single</td>\n",
       "      <td>guarantor</td>\n",
       "      <td>...</td>\n",
       "      <td>for free</td>\n",
       "      <td>1</td>\n",
       "      <td>skilled employee / official</td>\n",
       "      <td>2</td>\n",
       "      <td>none</td>\n",
       "      <td>yes</td>\n",
       "      <td>0</td>\n",
       "      <td>1</td>\n",
       "      <td>0</td>\n",
       "      <td>0</td>\n",
       "    </tr>\n",
       "    <tr>\n",
       "      <th>4</th>\n",
       "      <td>1</td>\n",
       "      <td>24</td>\n",
       "      <td>delay in paying off in the past</td>\n",
       "      <td>car (new)</td>\n",
       "      <td>4870</td>\n",
       "      <td>... &lt; 100 DM</td>\n",
       "      <td>1 &lt;= ... &lt; 4 years</td>\n",
       "      <td>3</td>\n",
       "      <td>male : single</td>\n",
       "      <td>none</td>\n",
       "      <td>...</td>\n",
       "      <td>for free</td>\n",
       "      <td>2</td>\n",
       "      <td>skilled employee / official</td>\n",
       "      <td>2</td>\n",
       "      <td>none</td>\n",
       "      <td>yes</td>\n",
       "      <td>0</td>\n",
       "      <td>1</td>\n",
       "      <td>0</td>\n",
       "      <td>0</td>\n",
       "    </tr>\n",
       "  </tbody>\n",
       "</table>\n",
       "<p>5 rows × 24 columns</p>\n",
       "</div>"
      ],
      "text/plain": [
       "   default  duration_in_month  \\\n",
       "0        0                  6   \n",
       "1        1                 48   \n",
       "2        0                 12   \n",
       "3        0                 42   \n",
       "4        1                 24   \n",
       "\n",
       "                                      credit_history  \\\n",
       "0  critical account/ other credits existing (not ...   \n",
       "1           existing credits paid back duly till now   \n",
       "2  critical account/ other credits existing (not ...   \n",
       "3           existing credits paid back duly till now   \n",
       "4                    delay in paying off in the past   \n",
       "\n",
       "                        purpose  credit_amount                      savings  \\\n",
       "0           domestic appliances           1169  unknown/ no savings account   \n",
       "1           domestic appliances           5951                 ... < 100 DM   \n",
       "2  (vacation - does not exist?)           2096                 ... < 100 DM   \n",
       "3              radio/television           7882                 ... < 100 DM   \n",
       "4                     car (new)           4870                 ... < 100 DM   \n",
       "\n",
       "    present_emp_since  installment_as_income_perc  \\\n",
       "0       .. >= 7 years                           4   \n",
       "1  1 <= ... < 4 years                           2   \n",
       "2  4 <= ... < 7 years                           2   \n",
       "3  4 <= ... < 7 years                           2   \n",
       "4  1 <= ... < 4 years                           3   \n",
       "\n",
       "                   personal_status_sex other_debtors  ...   housing  \\\n",
       "0                        male : single          none  ...       own   \n",
       "1  female : divorced/separated/married          none  ...       own   \n",
       "2                        male : single          none  ...       own   \n",
       "3                        male : single     guarantor  ...  for free   \n",
       "4                        male : single          none  ...  for free   \n",
       "\n",
       "  credits_this_bank                          job people_under_maintenance  \\\n",
       "0                 2  skilled employee / official                        1   \n",
       "1                 1  skilled employee / official                        1   \n",
       "2                 1         unskilled - resident                        2   \n",
       "3                 1  skilled employee / official                        2   \n",
       "4                 2  skilled employee / official                        2   \n",
       "\n",
       "                                   telephone  foreign_worker  \\\n",
       "0  yes, registered under the customers name              yes   \n",
       "1                                       none             yes   \n",
       "2                                       none             yes   \n",
       "3                                       none             yes   \n",
       "4                                       none             yes   \n",
       "\n",
       "  account_check_status_0 <= ... < 200 DM  account_check_status_< 0 DM  \\\n",
       "0                                      0                            1   \n",
       "1                                      1                            0   \n",
       "2                                      0                            0   \n",
       "3                                      0                            1   \n",
       "4                                      0                            1   \n",
       "\n",
       "  account_check_status_>= 200 DM / salary assignments for at least 1 year  \\\n",
       "0                                                  0                        \n",
       "1                                                  0                        \n",
       "2                                                  0                        \n",
       "3                                                  0                        \n",
       "4                                                  0                        \n",
       "\n",
       "  account_check_status_no checking account  \n",
       "0                                        0  \n",
       "1                                        0  \n",
       "2                                        1  \n",
       "3                                        0  \n",
       "4                                        0  \n",
       "\n",
       "[5 rows x 24 columns]"
      ]
     },
     "execution_count": 9,
     "metadata": {},
     "output_type": "execute_result"
    }
   ],
   "source": [
    "pd.get_dummies(df, columns=['account_check_status']).head()"
   ]
  },
  {
   "cell_type": "code",
   "execution_count": 10,
   "metadata": {
    "colab": {},
    "colab_type": "code",
    "id": "gKaiZis__0o0"
   },
   "outputs": [],
   "source": [
    "# Lets build a Ensemble model but need to modify the dataset first\n"
   ]
  },
  {
   "cell_type": "markdown",
   "metadata": {
    "colab_type": "text",
    "id": "utYEGBER_0o4"
   },
   "source": [
    "### Q2.Prepare the model data by converting non-numeric to dummy ( 1 Marks)\n",
    "##### Hint: Use get_dummies"
   ]
  },
  {
   "cell_type": "code",
   "execution_count": 11,
   "metadata": {
    "colab": {},
    "colab_type": "code",
    "id": "wjyTJcA6_0o6",
    "outputId": "e6bf7e9d-5732-4836-c0bb-fe03ba34683e"
   },
   "outputs": [
    {
     "data": {
      "text/plain": [
       "(1000, 21)"
      ]
     },
     "execution_count": 11,
     "metadata": {},
     "output_type": "execute_result"
    }
   ],
   "source": [
    "# Print Shape of model data\n",
    "df.shape"
   ]
  },
  {
   "cell_type": "code",
   "execution_count": 12,
   "metadata": {},
   "outputs": [],
   "source": [
    "df.columns=[\"default\",\"account_status\",\"duration\",\"cr_history\",\"purpose\",\"cr_amount\",\"savings\",\"Current_Experience\",\"installment_as_income_perc\",\"personal_status_sex\",\"other_debtors\",\"res_since\",\"property\",\"age\",\"other_installments\",\"housing\",\"credits_this_bank\",\"job\",\"people\",\"telephone\",\"foreign_worker\"]"
   ]
  },
  {
   "cell_type": "code",
   "execution_count": 13,
   "metadata": {},
   "outputs": [],
   "source": [
    "#Non-numeric to numeric by get_dummies"
   ]
  },
  {
   "cell_type": "code",
   "execution_count": 14,
   "metadata": {
    "scrolled": true
   },
   "outputs": [
    {
     "name": "stdout",
     "output_type": "stream",
     "text": [
      "account_status :  ['< 0 DM' '0 <= ... < 200 DM' 'no checking account'\n",
      " '>= 200 DM / salary assignments for at least 1 year']\n",
      "account_status :  [1 0 3 2]\n",
      "cr_history :  ['critical account/ other credits existing (not at this bank)'\n",
      " 'existing credits paid back duly till now'\n",
      " 'delay in paying off in the past'\n",
      " 'no credits taken/ all credits paid back duly'\n",
      " 'all credits at this bank paid back duly']\n",
      "cr_history :  [1 3 2 4 0]\n",
      "purpose :  ['domestic appliances' '(vacation - does not exist?)' 'radio/television'\n",
      " 'car (new)' 'car (used)' 'business' 'repairs' 'education'\n",
      " 'furniture/equipment' 'retraining']\n",
      "purpose :  [4 0 7 2 3 1 8 5 6 9]\n",
      "savings :  ['unknown/ no savings account' '... < 100 DM' '500 <= ... < 1000 DM '\n",
      " '.. >= 1000 DM ' '100 <= ... < 500 DM']\n",
      "savings :  [4 1 3 0 2]\n",
      "Current_Experience :  ['.. >= 7 years' '1 <= ... < 4 years' '4 <= ... < 7 years' 'unemployed'\n",
      " '... < 1 year ']\n",
      "Current_Experience :  [0 2 3 4 1]\n",
      "personal_status_sex :  ['male : single' 'female : divorced/separated/married'\n",
      " 'male : divorced/separated' 'male : married/widowed']\n",
      "personal_status_sex :  [3 0 1 2]\n",
      "other_debtors :  ['none' 'guarantor' 'co-applicant']\n",
      "other_debtors :  [2 1 0]\n",
      "property :  ['real estate'\n",
      " 'if not A121 : building society savings agreement/ life insurance'\n",
      " 'unknown / no property'\n",
      " 'if not A121/A122 : car or other, not in attribute 6']\n",
      "property :  [2 0 3 1]\n",
      "other_installments :  ['none' 'bank' 'stores']\n",
      "other_installments :  [1 0 2]\n",
      "housing :  ['own' 'for free' 'rent']\n",
      "housing :  [1 0 2]\n",
      "job :  ['skilled employee / official' 'unskilled - resident'\n",
      " 'management/ self-employed/ highly qualified employee/ officer'\n",
      " 'unemployed/ unskilled - non-resident']\n",
      "job :  [1 3 0 2]\n",
      "telephone :  ['yes, registered under the customers name ' 'none']\n",
      "telephone :  [1 0]\n",
      "foreign_worker :  ['yes' 'no']\n",
      "foreign_worker :  [1 0]\n",
      "(1000, 62)\n"
     ]
    },
    {
     "data": {
      "text/html": [
       "<div>\n",
       "<style scoped>\n",
       "    .dataframe tbody tr th:only-of-type {\n",
       "        vertical-align: middle;\n",
       "    }\n",
       "\n",
       "    .dataframe tbody tr th {\n",
       "        vertical-align: top;\n",
       "    }\n",
       "\n",
       "    .dataframe thead th {\n",
       "        text-align: right;\n",
       "    }\n",
       "</style>\n",
       "<table border=\"1\" class=\"dataframe\">\n",
       "  <thead>\n",
       "    <tr style=\"text-align: right;\">\n",
       "      <th></th>\n",
       "      <th>default</th>\n",
       "      <th>duration</th>\n",
       "      <th>cr_amount</th>\n",
       "      <th>installment_as_income_perc</th>\n",
       "      <th>res_since</th>\n",
       "      <th>age</th>\n",
       "      <th>credits_this_bank</th>\n",
       "      <th>people</th>\n",
       "      <th>account_status_0 &lt;= ... &lt; 200 DM</th>\n",
       "      <th>account_status_&lt; 0 DM</th>\n",
       "      <th>...</th>\n",
       "      <th>housing_own</th>\n",
       "      <th>housing_rent</th>\n",
       "      <th>job_management/ self-employed/ highly qualified employee/ officer</th>\n",
       "      <th>job_skilled employee / official</th>\n",
       "      <th>job_unemployed/ unskilled - non-resident</th>\n",
       "      <th>job_unskilled - resident</th>\n",
       "      <th>telephone_none</th>\n",
       "      <th>telephone_yes, registered under the customers name</th>\n",
       "      <th>foreign_worker_no</th>\n",
       "      <th>foreign_worker_yes</th>\n",
       "    </tr>\n",
       "  </thead>\n",
       "  <tbody>\n",
       "    <tr>\n",
       "      <th>0</th>\n",
       "      <td>0</td>\n",
       "      <td>6</td>\n",
       "      <td>1169</td>\n",
       "      <td>4</td>\n",
       "      <td>4</td>\n",
       "      <td>67</td>\n",
       "      <td>2</td>\n",
       "      <td>1</td>\n",
       "      <td>0</td>\n",
       "      <td>1</td>\n",
       "      <td>...</td>\n",
       "      <td>1</td>\n",
       "      <td>0</td>\n",
       "      <td>0</td>\n",
       "      <td>1</td>\n",
       "      <td>0</td>\n",
       "      <td>0</td>\n",
       "      <td>0</td>\n",
       "      <td>1</td>\n",
       "      <td>0</td>\n",
       "      <td>1</td>\n",
       "    </tr>\n",
       "    <tr>\n",
       "      <th>1</th>\n",
       "      <td>1</td>\n",
       "      <td>48</td>\n",
       "      <td>5951</td>\n",
       "      <td>2</td>\n",
       "      <td>2</td>\n",
       "      <td>22</td>\n",
       "      <td>1</td>\n",
       "      <td>1</td>\n",
       "      <td>1</td>\n",
       "      <td>0</td>\n",
       "      <td>...</td>\n",
       "      <td>1</td>\n",
       "      <td>0</td>\n",
       "      <td>0</td>\n",
       "      <td>1</td>\n",
       "      <td>0</td>\n",
       "      <td>0</td>\n",
       "      <td>1</td>\n",
       "      <td>0</td>\n",
       "      <td>0</td>\n",
       "      <td>1</td>\n",
       "    </tr>\n",
       "  </tbody>\n",
       "</table>\n",
       "<p>2 rows × 62 columns</p>\n",
       "</div>"
      ],
      "text/plain": [
       "   default  duration  cr_amount  installment_as_income_perc  res_since  age  \\\n",
       "0        0         6       1169                           4          4   67   \n",
       "1        1        48       5951                           2          2   22   \n",
       "\n",
       "   credits_this_bank  people  account_status_0 <= ... < 200 DM  \\\n",
       "0                  2       1                                 0   \n",
       "1                  1       1                                 1   \n",
       "\n",
       "   account_status_< 0 DM  ...  housing_own  housing_rent  \\\n",
       "0                      1  ...            1             0   \n",
       "1                      0  ...            1             0   \n",
       "\n",
       "   job_management/ self-employed/ highly qualified employee/ officer  \\\n",
       "0                                                  0                   \n",
       "1                                                  0                   \n",
       "\n",
       "   job_skilled employee / official  job_unemployed/ unskilled - non-resident  \\\n",
       "0                                1                                         0   \n",
       "1                                1                                         0   \n",
       "\n",
       "   job_unskilled - resident  telephone_none  \\\n",
       "0                         0               0   \n",
       "1                         0               1   \n",
       "\n",
       "   telephone_yes, registered under the customers name   foreign_worker_no  \\\n",
       "0                                                  1                    0   \n",
       "1                                                  0                    0   \n",
       "\n",
       "   foreign_worker_yes  \n",
       "0                   1  \n",
       "1                   1  \n",
       "\n",
       "[2 rows x 62 columns]"
      ]
     },
     "execution_count": 14,
     "metadata": {},
     "output_type": "execute_result"
    }
   ],
   "source": [
    "from collections import defaultdict\n",
    "from sklearn.preprocessing import OneHotEncoder, LabelEncoder, label_binarize, StandardScaler, MinMaxScaler\n",
    "\n",
    "#categorical variables labels\n",
    "catvars = list(df.select_dtypes(include=['object']).columns)\n",
    "numvars=list(df.select_dtypes(include=['int64']).columns)\n",
    "d = defaultdict(LabelEncoder)\n",
    "\n",
    "# Encoding the variable\n",
    "lecatdata = df[catvars].apply(lambda x: d[x.name].fit_transform(x))\n",
    "\n",
    "# print transformations\n",
    "for x in range(len(catvars)):\n",
    "    print(catvars[x],\": \", df[catvars[x]].unique())\n",
    "    print(catvars[x],\": \", lecatdata[catvars[x]].unique())\n",
    "\n",
    "#One hot encoding, create dummy variables for every category of every categorical variable\n",
    "dummyvars = pd.get_dummies(df[catvars])\n",
    "\n",
    "df_new = pd.concat([df[numvars], dummyvars], axis = 1)\n",
    "\n",
    "print(df_new.shape)\n",
    "df_new.head(2)"
   ]
  },
  {
   "cell_type": "markdown",
   "metadata": {
    "colab_type": "text",
    "id": "ytl4nlUW_0pA"
   },
   "source": [
    "### Check for highly correlated variables but don't required any treatment for this use case"
   ]
  },
  {
   "cell_type": "code",
   "execution_count": 15,
   "metadata": {
    "colab": {},
    "colab_type": "code",
    "id": "0W02DKRx_0pA"
   },
   "outputs": [
    {
     "data": {
      "text/plain": [
       "default                                                                      1.000000\n",
       "duration                                                                     0.214927\n",
       "cr_amount                                                                    0.154739\n",
       "installment_as_income_perc                                                   0.072404\n",
       "res_since                                                                    0.002967\n",
       "age                                                                         -0.091127\n",
       "credits_this_bank                                                           -0.045732\n",
       "people                                                                      -0.003015\n",
       "account_status_0 <= ... < 200 DM                                             0.119581\n",
       "account_status_< 0 DM                                                        0.258333\n",
       "account_status_>= 200 DM / salary assignments for at least 1 year           -0.044009\n",
       "account_status_no checking account                                          -0.322436\n",
       "cr_history_all credits at this bank paid back duly                           0.134448\n",
       "cr_history_critical account/ other credits existing (not at this bank)      -0.181713\n",
       "cr_history_delay in paying off in the past                                   0.012325\n",
       "cr_history_existing credits paid back duly till now                          0.043722\n",
       "cr_history_no credits taken/ all credits paid back duly                      0.144767\n",
       "purpose_(vacation - does not exist?)                                         0.070088\n",
       "purpose_business                                                             0.036129\n",
       "purpose_car (new)                                                            0.096900\n",
       "purpose_car (used)                                                          -0.099791\n",
       "purpose_domestic appliances                                                 -0.106922\n",
       "purpose_education                                                            0.020828\n",
       "purpose_furniture/equipment                                                  0.028058\n",
       "purpose_radio/television                                                     0.020971\n",
       "purpose_repairs                                                              0.008016\n",
       "purpose_retraining                                                          -0.039281\n",
       "savings_.. >= 1000 DM                                                       -0.085749\n",
       "savings_... < 100 DM                                                         0.161007\n",
       "savings_100 <= ... < 500 DM                                                  0.022255\n",
       "                                                                               ...   \n",
       "Current_Experience_.. >= 7 years                                            -0.059733\n",
       "Current_Experience_... < 1 year                                              0.106397\n",
       "Current_Experience_1 <= ... < 4 years                                        0.010603\n",
       "Current_Experience_4 <= ... < 7 years                                       -0.075980\n",
       "Current_Experience_unemployed                                                0.039815\n",
       "personal_status_sex_female : divorced/separated/married                      0.075493\n",
       "personal_status_sex_male : divorced/separated                                0.050063\n",
       "personal_status_sex_male : married/widowed                                  -0.019630\n",
       "personal_status_sex_male : single                                           -0.080677\n",
       "other_debtors_co-applicant                                                   0.062728\n",
       "other_debtors_guarantor                                                     -0.055039\n",
       "other_debtors_none                                                          -0.000751\n",
       "property_if not A121 : building society savings agreement/ life insurance    0.007238\n",
       "property_if not A121/A122 : car or other, not in attribute 6                 0.011121\n",
       "property_real estate                                                        -0.119300\n",
       "property_unknown / no property                                               0.125750\n",
       "other_installments_bank                                                      0.096510\n",
       "other_installments_none                                                     -0.113285\n",
       "other_installments_stores                                                    0.050523\n",
       "housing_for free                                                             0.081556\n",
       "housing_own                                                                 -0.134589\n",
       "housing_rent                                                                 0.092785\n",
       "job_management/ self-employed/ highly qualified employee/ officer            0.040559\n",
       "job_skilled employee / official                                             -0.013559\n",
       "job_unemployed/ unskilled - non-resident                                     0.005951\n",
       "job_unskilled - resident                                                    -0.021822\n",
       "telephone_none                                                               0.036466\n",
       "telephone_yes, registered under the customers name                          -0.036466\n",
       "foreign_worker_no                                                           -0.082079\n",
       "foreign_worker_yes                                                           0.082079\n",
       "Name: default, Length: 62, dtype: float64"
      ]
     },
     "execution_count": 15,
     "metadata": {},
     "output_type": "execute_result"
    }
   ],
   "source": [
    "cor =df_new.corr()['default'][:]\n",
    "cor"
   ]
  },
  {
   "cell_type": "code",
   "execution_count": 16,
   "metadata": {},
   "outputs": [
    {
     "data": {
      "text/plain": [
       "<matplotlib.axes._subplots.AxesSubplot at 0x1fba81f06d8>"
      ]
     },
     "execution_count": 16,
     "metadata": {},
     "output_type": "execute_result"
    },
    {
     "data": {
      "image/png": "[encoded data removed]",
      "text/plain": [
       "<Figure size 432x288 with 2 Axes>"
      ]
     },
     "metadata": {
      "needs_background": "light"
     },
     "output_type": "display_data"
    }
   ],
   "source": [
    "sns.heatmap(df_new.corr())"
   ]
  },
  {
   "cell_type": "code",
   "execution_count": 17,
   "metadata": {},
   "outputs": [
    {
     "data": {
      "text/plain": [
       "default                                                                       True\n",
       "duration                                                                     False\n",
       "cr_amount                                                                    False\n",
       "installment_as_income_perc                                                   False\n",
       "res_since                                                                    False\n",
       "age                                                                          False\n",
       "credits_this_bank                                                            False\n",
       "people                                                                       False\n",
       "account_status_0 <= ... < 200 DM                                             False\n",
       "account_status_< 0 DM                                                        False\n",
       "account_status_>= 200 DM / salary assignments for at least 1 year            False\n",
       "account_status_no checking account                                           False\n",
       "cr_history_all credits at this bank paid back duly                           False\n",
       "cr_history_critical account/ other credits existing (not at this bank)       False\n",
       "cr_history_delay in paying off in the past                                   False\n",
       "cr_history_existing credits paid back duly till now                          False\n",
       "cr_history_no credits taken/ all credits paid back duly                      False\n",
       "purpose_(vacation - does not exist?)                                         False\n",
       "purpose_business                                                             False\n",
       "purpose_car (new)                                                            False\n",
       "purpose_car (used)                                                           False\n",
       "purpose_domestic appliances                                                  False\n",
       "purpose_education                                                            False\n",
       "purpose_furniture/equipment                                                  False\n",
       "purpose_radio/television                                                     False\n",
       "purpose_repairs                                                              False\n",
       "purpose_retraining                                                           False\n",
       "savings_.. >= 1000 DM                                                        False\n",
       "savings_... < 100 DM                                                         False\n",
       "savings_100 <= ... < 500 DM                                                  False\n",
       "                                                                             ...  \n",
       "Current_Experience_.. >= 7 years                                             False\n",
       "Current_Experience_... < 1 year                                              False\n",
       "Current_Experience_1 <= ... < 4 years                                        False\n",
       "Current_Experience_4 <= ... < 7 years                                        False\n",
       "Current_Experience_unemployed                                                False\n",
       "personal_status_sex_female : divorced/separated/married                      False\n",
       "personal_status_sex_male : divorced/separated                                False\n",
       "personal_status_sex_male : married/widowed                                   False\n",
       "personal_status_sex_male : single                                            False\n",
       "other_debtors_co-applicant                                                   False\n",
       "other_debtors_guarantor                                                      False\n",
       "other_debtors_none                                                           False\n",
       "property_if not A121 : building society savings agreement/ life insurance    False\n",
       "property_if not A121/A122 : car or other, not in attribute 6                 False\n",
       "property_real estate                                                         False\n",
       "property_unknown / no property                                               False\n",
       "other_installments_bank                                                      False\n",
       "other_installments_none                                                      False\n",
       "other_installments_stores                                                    False\n",
       "housing_for free                                                             False\n",
       "housing_own                                                                  False\n",
       "housing_rent                                                                 False\n",
       "job_management/ self-employed/ highly qualified employee/ officer            False\n",
       "job_skilled employee / official                                              False\n",
       "job_unemployed/ unskilled - non-resident                                     False\n",
       "job_unskilled - resident                                                     False\n",
       "telephone_none                                                               False\n",
       "telephone_yes, registered under the customers name                           False\n",
       "foreign_worker_no                                                            False\n",
       "foreign_worker_yes                                                           False\n",
       "Name: default, Length: 62, dtype: bool"
      ]
     },
     "execution_count": 17,
     "metadata": {},
     "output_type": "execute_result"
    }
   ],
   "source": [
    "df_test=pd.DataFrame(cor)\n",
    "cor_variables=df_test[\"default\"]>0.9\n",
    "cor_variables"
   ]
  },
  {
   "cell_type": "markdown",
   "metadata": {
    "colab_type": "text",
    "id": "jeI1_7is_0pG"
   },
   "source": [
    "### Drop the original variables which are converted to dummy"
   ]
  },
  {
   "cell_type": "code",
   "execution_count": 18,
   "metadata": {
    "colab": {},
    "colab_type": "code",
    "id": "LYeShbCO_0pI"
   },
   "outputs": [
    {
     "data": {
      "text/html": [
       "<div>\n",
       "<style scoped>\n",
       "    .dataframe tbody tr th:only-of-type {\n",
       "        vertical-align: middle;\n",
       "    }\n",
       "\n",
       "    .dataframe tbody tr th {\n",
       "        vertical-align: top;\n",
       "    }\n",
       "\n",
       "    .dataframe thead th {\n",
       "        text-align: right;\n",
       "    }\n",
       "</style>\n",
       "<table border=\"1\" class=\"dataframe\">\n",
       "  <thead>\n",
       "    <tr style=\"text-align: right;\">\n",
       "      <th></th>\n",
       "      <th>default</th>\n",
       "      <th>duration</th>\n",
       "      <th>cr_amount</th>\n",
       "      <th>installment_as_income_perc</th>\n",
       "      <th>res_since</th>\n",
       "      <th>age</th>\n",
       "      <th>credits_this_bank</th>\n",
       "      <th>people</th>\n",
       "      <th>account_status_0 &lt;= ... &lt; 200 DM</th>\n",
       "      <th>account_status_&lt; 0 DM</th>\n",
       "      <th>...</th>\n",
       "      <th>housing_own</th>\n",
       "      <th>housing_rent</th>\n",
       "      <th>job_management/ self-employed/ highly qualified employee/ officer</th>\n",
       "      <th>job_skilled employee / official</th>\n",
       "      <th>job_unemployed/ unskilled - non-resident</th>\n",
       "      <th>job_unskilled - resident</th>\n",
       "      <th>telephone_none</th>\n",
       "      <th>telephone_yes, registered under the customers name</th>\n",
       "      <th>foreign_worker_no</th>\n",
       "      <th>foreign_worker_yes</th>\n",
       "    </tr>\n",
       "  </thead>\n",
       "  <tbody>\n",
       "    <tr>\n",
       "      <th>0</th>\n",
       "      <td>0</td>\n",
       "      <td>6</td>\n",
       "      <td>1169</td>\n",
       "      <td>4</td>\n",
       "      <td>4</td>\n",
       "      <td>67</td>\n",
       "      <td>2</td>\n",
       "      <td>1</td>\n",
       "      <td>0</td>\n",
       "      <td>1</td>\n",
       "      <td>...</td>\n",
       "      <td>1</td>\n",
       "      <td>0</td>\n",
       "      <td>0</td>\n",
       "      <td>1</td>\n",
       "      <td>0</td>\n",
       "      <td>0</td>\n",
       "      <td>0</td>\n",
       "      <td>1</td>\n",
       "      <td>0</td>\n",
       "      <td>1</td>\n",
       "    </tr>\n",
       "    <tr>\n",
       "      <th>1</th>\n",
       "      <td>1</td>\n",
       "      <td>48</td>\n",
       "      <td>5951</td>\n",
       "      <td>2</td>\n",
       "      <td>2</td>\n",
       "      <td>22</td>\n",
       "      <td>1</td>\n",
       "      <td>1</td>\n",
       "      <td>1</td>\n",
       "      <td>0</td>\n",
       "      <td>...</td>\n",
       "      <td>1</td>\n",
       "      <td>0</td>\n",
       "      <td>0</td>\n",
       "      <td>1</td>\n",
       "      <td>0</td>\n",
       "      <td>0</td>\n",
       "      <td>1</td>\n",
       "      <td>0</td>\n",
       "      <td>0</td>\n",
       "      <td>1</td>\n",
       "    </tr>\n",
       "  </tbody>\n",
       "</table>\n",
       "<p>2 rows × 62 columns</p>\n",
       "</div>"
      ],
      "text/plain": [
       "   default  duration  cr_amount  installment_as_income_perc  res_since  age  \\\n",
       "0        0         6       1169                           4          4   67   \n",
       "1        1        48       5951                           2          2   22   \n",
       "\n",
       "   credits_this_bank  people  account_status_0 <= ... < 200 DM  \\\n",
       "0                  2       1                                 0   \n",
       "1                  1       1                                 1   \n",
       "\n",
       "   account_status_< 0 DM  ...  housing_own  housing_rent  \\\n",
       "0                      1  ...            1             0   \n",
       "1                      0  ...            1             0   \n",
       "\n",
       "   job_management/ self-employed/ highly qualified employee/ officer  \\\n",
       "0                                                  0                   \n",
       "1                                                  0                   \n",
       "\n",
       "   job_skilled employee / official  job_unemployed/ unskilled - non-resident  \\\n",
       "0                                1                                         0   \n",
       "1                                1                                         0   \n",
       "\n",
       "   job_unskilled - resident  telephone_none  \\\n",
       "0                         0               0   \n",
       "1                         0               1   \n",
       "\n",
       "   telephone_yes, registered under the customers name   foreign_worker_no  \\\n",
       "0                                                  1                    0   \n",
       "1                                                  0                    0   \n",
       "\n",
       "   foreign_worker_yes  \n",
       "0                   1  \n",
       "1                   1  \n",
       "\n",
       "[2 rows x 62 columns]"
      ]
     },
     "execution_count": 18,
     "metadata": {},
     "output_type": "execute_result"
    }
   ],
   "source": [
    "catvars\n",
    "df_new.head(2)"
   ]
  },
  {
   "cell_type": "markdown",
   "metadata": {
    "colab_type": "text",
    "id": "XLtFcI1m_0pQ"
   },
   "source": [
    "### Q3 Split Train/Test data 70:30 ratio( 1 Marks)\n",
    "##### Hint:from sklearn.model_selection import train_test_split"
   ]
  },
  {
   "cell_type": "code",
   "execution_count": 19,
   "metadata": {
    "colab": {},
    "colab_type": "code",
    "id": "pHxXKL92_0pS"
   },
   "outputs": [
    {
     "data": {
      "text/plain": [
       "((1000,), (1000, 61))"
      ]
     },
     "execution_count": 19,
     "metadata": {},
     "output_type": "execute_result"
    }
   ],
   "source": [
    "from sklearn.model_selection import train_test_split\n",
    "\n",
    "X= df_new.drop('default', axis=1)\n",
    "y = df_new['default']\n",
    "X_train, X_test, y_train, y_test= train_test_split(X,y,test_size=0.3, random_state=1)\n",
    "y.shape,X.shape"
   ]
  },
  {
   "cell_type": "markdown",
   "metadata": {
    "colab_type": "text",
    "id": "wWTpd4Ng_0pW"
   },
   "source": [
    "### Q4 Build Random Forest Model( 1 Marks)\n",
    "#### Hint:from sklearn.ensemble import RandomForestClassifier using n_jobs=2,n_estimators=500,criterion=\"entropy\",random_state=9999"
   ]
  },
  {
   "cell_type": "code",
   "execution_count": 20,
   "metadata": {},
   "outputs": [],
   "source": [
    "from sklearn.metrics import classification_report,confusion_matrix, roc_curve, roc_auc_score, auc, accuracy_score\n",
    "def get_roc (y_test,y_pred):\n",
    "    # Compute ROC curve and ROC area for each class\n",
    "    fpr = dict()\n",
    "    tpr = dict()\n",
    "    roc_auc = dict()\n",
    "    fpr, tpr, _ = roc_curve(y_test, y_pred)\n",
    "    roc_auc = auc(fpr, tpr)\n",
    "    #Plot of a ROC curve\n",
    "    plt.figure()\n",
    "    lw = 2\n",
    "    plt.plot(fpr, tpr, color='darkorange',\n",
    "             label='ROC curve (area = %0.2f)' % roc_auc)\n",
    "    plt.plot([0, 1], [0, 1], color='navy', lw=lw, linestyle='--')\n",
    "    plt.xlim([0.0, 1.0])\n",
    "    plt.ylim([0.0, 1.0])\n",
    "    plt.xlabel('False Positive Rate')\n",
    "    plt.ylabel('True Positive Rate')\n",
    "    plt.title('Receiver operating characteristic')\n",
    "    plt.legend(loc=\"upper left\")\n",
    "    plt.show()\n",
    "    return"
   ]
  },
  {
   "cell_type": "code",
   "execution_count": 21,
   "metadata": {
    "colab": {},
    "colab_type": "code",
    "id": "AHX5tgQm_0pY"
   },
   "outputs": [],
   "source": [
    "from sklearn.ensemble import RandomForestClassifier \n",
    "from sklearn import metrics\n",
    "\n",
    "rfcl = RandomForestClassifier(n_jobs=2,n_estimators=500,criterion=\"entropy\",random_state=9999).fit(X_train, y_train)\n",
    "rfcl = rfcl.fit(X_train,y_train)\n",
    "\n",
    "y_predict_rndForest = rfcl.predict(X_test)\n"
   ]
  },
  {
   "cell_type": "code",
   "execution_count": null,
   "metadata": {},
   "outputs": [],
   "source": []
  },
  {
   "cell_type": "markdown",
   "metadata": {
    "colab_type": "text",
    "id": "LuQwgG7T_0pa"
   },
   "source": [
    "### Q5 Calculate Confusion Matrix and Accuracy score (1 Marks)\n",
    "##### Hint: Use confusion_matrix and accuracy_score"
   ]
  },
  {
   "cell_type": "code",
   "execution_count": 22,
   "metadata": {
    "colab": {},
    "colab_type": "code",
    "id": "YgczdMEB_0pc"
   },
   "outputs": [
    {
     "name": "stdout",
     "output_type": "stream",
     "text": [
      "Accuracy Score is  :  0.7433333333333333\n",
      "Confusion matrix \n",
      "[[197  17]\n",
      " [ 60  26]]\n"
     ]
    }
   ],
   "source": [
    "\n",
    "print(\"Accuracy Score is  : \" ,rfcl.score(X_test, y_test))\n",
    "print(\"Confusion matrix \")\n",
    "print(metrics.confusion_matrix(y_test, y_predict_rndForest))\n",
    "\n"
   ]
  },
  {
   "cell_type": "markdown",
   "metadata": {
    "colab_type": "text",
    "id": "x2wDGYcC_0pf"
   },
   "source": [
    "### Q6 Show the list of the features importance( 1 Marks)"
   ]
  },
  {
   "cell_type": "code",
   "execution_count": 23,
   "metadata": {
    "colab": {},
    "colab_type": "code",
    "id": "bEWKBXX8_0ph"
   },
   "outputs": [
    {
     "name": "stdout",
     "output_type": "stream",
     "text": [
      "('duration', 0.07203690111350995)\n",
      "('cr_amount', 0.1001129917681643)\n",
      "('installment_as_income_perc', 0.03698525786944085)\n",
      "('res_since', 0.03336022705168979)\n",
      "('age', 0.07812153082064333)\n",
      "('credits_this_bank', 0.018879083535717503)\n",
      "('people', 0.011346478347240464)\n",
      "('account_status_0 <= ... < 200 DM', 0.016710984651212343)\n",
      "('account_status_< 0 DM', 0.030929037780372422)\n",
      "('account_status_>= 200 DM / salary assignments for at least 1 year', 0.007338137696241065)\n",
      "('account_status_no checking account', 0.044759300856574556)\n",
      "('cr_history_all credits at this bank paid back duly', 0.0076996527659395336)\n",
      "('cr_history_critical account/ other credits existing (not at this bank)', 0.029383309856465072)\n",
      "('cr_history_delay in paying off in the past', 0.00989199330396855)\n",
      "('cr_history_existing credits paid back duly till now', 0.01463477769490509)\n",
      "('cr_history_no credits taken/ all credits paid back duly', 0.012530925651724777)\n",
      "('purpose_(vacation - does not exist?)', 0.005653993241467635)\n",
      "('purpose_business', 0.0114894804644999)\n",
      "('purpose_car (new)', 0.01805624865659178)\n",
      "('purpose_car (used)', 0.011890629680338211)\n",
      "('purpose_domestic appliances', 0.01544126850359224)\n",
      "('purpose_education', 0.004440660651974679)\n",
      "('purpose_furniture/equipment', 0.0015188027628130801)\n",
      "('purpose_radio/television', 0.012629179845419126)\n",
      "('purpose_repairs', 0.0024949972725105247)\n",
      "('purpose_retraining', 0.0009549146176343747)\n",
      "('savings_.. >= 1000 DM ', 0.008543977741040563)\n",
      "('savings_... < 100 DM', 0.020142506991135737)\n",
      "('savings_100 <= ... < 500 DM', 0.0091487669404123)\n",
      "('savings_500 <= ... < 1000 DM ', 0.005856805053745504)\n",
      "('savings_unknown/ no savings account', 0.013707461066670427)\n",
      "('Current_Experience_.. >= 7 years', 0.014017078874429626)\n",
      "('Current_Experience_... < 1 year ', 0.014066083233686778)\n",
      "('Current_Experience_1 <= ... < 4 years', 0.015097804992631495)\n",
      "('Current_Experience_4 <= ... < 7 years', 0.01236614684539599)\n",
      "('Current_Experience_unemployed', 0.007539872138058961)\n",
      "('personal_status_sex_female : divorced/separated/married', 0.015649676834945437)\n",
      "('personal_status_sex_male : divorced/separated', 0.00650298015018768)\n",
      "('personal_status_sex_male : married/widowed', 0.0071674212453015414)\n",
      "('personal_status_sex_male : single', 0.015987976765696365)\n",
      "('other_debtors_co-applicant', 0.007925373176578184)\n",
      "('other_debtors_guarantor', 0.008740168985690749)\n",
      "('other_debtors_none', 0.010671925339891832)\n",
      "('property_if not A121 : building society savings agreement/ life insurance', 0.012689784389857229)\n",
      "('property_if not A121/A122 : car or other, not in attribute 6', 0.014129353405215681)\n",
      "('property_real estate', 0.014919376018316893)\n",
      "('property_unknown / no property', 0.01014395824410257)\n",
      "('other_installments_bank', 0.014283471211180605)\n",
      "('other_installments_none', 0.017442183735782036)\n",
      "('other_installments_stores', 0.0076915096620763035)\n",
      "('housing_for free', 0.007036413796476526)\n",
      "('housing_own', 0.014589634107850037)\n",
      "('housing_rent', 0.010452715714655062)\n",
      "('job_management/ self-employed/ highly qualified employee/ officer', 0.011541804463201279)\n",
      "('job_skilled employee / official', 0.015100742540013416)\n",
      "('job_unemployed/ unskilled - non-resident', 0.001978044684518365)\n",
      "('job_unskilled - resident', 0.011123648458150504)\n",
      "('telephone_none', 0.014249593023129312)\n",
      "('telephone_yes, registered under the customers name ', 0.014398802077306795)\n",
      "('foreign_worker_no', 0.0027500880647454325)\n",
      "('foreign_worker_yes', 0.0030560835672717277)\n"
     ]
    }
   ],
   "source": [
    "for feature in zip(X.columns, rfcl.feature_importances_):\n",
    "    print(feature)\n"
   ]
  },
  {
   "cell_type": "markdown",
   "metadata": {
    "colab_type": "text",
    "id": "U7VnUE71_0pk"
   },
   "source": [
    "### Q7 K-fold cross-validation( 2 Marks)\n",
    "##### k-fold cross validation( without stratification)\n",
    "##### Usually k is set as 10-20 in practical settings, depends on data set size"
   ]
  },
  {
   "cell_type": "code",
   "execution_count": 24,
   "metadata": {
    "colab": {},
    "colab_type": "code",
    "id": "Pf6rIo-c_0pm"
   },
   "outputs": [],
   "source": [
    "from sklearn.model_selection import KFold\n",
    "from sklearn.model_selection import cross_val_score\n",
    "\n",
    "from sklearn import model_selection\n",
    "from sklearn import svm"
   ]
  },
  {
   "cell_type": "code",
   "execution_count": 25,
   "metadata": {
    "colab": {},
    "colab_type": "code",
    "id": "SLIiX3BP_0pp"
   },
   "outputs": [
    {
     "data": {
      "text/html": [
       "<div>\n",
       "<style scoped>\n",
       "    .dataframe tbody tr th:only-of-type {\n",
       "        vertical-align: middle;\n",
       "    }\n",
       "\n",
       "    .dataframe tbody tr th {\n",
       "        vertical-align: top;\n",
       "    }\n",
       "\n",
       "    .dataframe thead th {\n",
       "        text-align: right;\n",
       "    }\n",
       "</style>\n",
       "<table border=\"1\" class=\"dataframe\">\n",
       "  <thead>\n",
       "    <tr style=\"text-align: right;\">\n",
       "      <th></th>\n",
       "      <th>default</th>\n",
       "      <th>duration</th>\n",
       "      <th>cr_amount</th>\n",
       "      <th>installment_as_income_perc</th>\n",
       "      <th>res_since</th>\n",
       "      <th>age</th>\n",
       "      <th>credits_this_bank</th>\n",
       "      <th>people</th>\n",
       "      <th>account_status_0 &lt;= ... &lt; 200 DM</th>\n",
       "      <th>account_status_&lt; 0 DM</th>\n",
       "      <th>...</th>\n",
       "      <th>housing_own</th>\n",
       "      <th>housing_rent</th>\n",
       "      <th>job_management/ self-employed/ highly qualified employee/ officer</th>\n",
       "      <th>job_skilled employee / official</th>\n",
       "      <th>job_unemployed/ unskilled - non-resident</th>\n",
       "      <th>job_unskilled - resident</th>\n",
       "      <th>telephone_none</th>\n",
       "      <th>telephone_yes, registered under the customers name</th>\n",
       "      <th>foreign_worker_no</th>\n",
       "      <th>foreign_worker_yes</th>\n",
       "    </tr>\n",
       "  </thead>\n",
       "  <tbody>\n",
       "    <tr>\n",
       "      <th>0</th>\n",
       "      <td>-0.654654</td>\n",
       "      <td>-1.236478</td>\n",
       "      <td>-0.745131</td>\n",
       "      <td>0.918477</td>\n",
       "      <td>1.046987</td>\n",
       "      <td>2.766456</td>\n",
       "      <td>1.027079</td>\n",
       "      <td>-0.42829</td>\n",
       "      <td>-0.606621</td>\n",
       "      <td>1.627770</td>\n",
       "      <td>...</td>\n",
       "      <td>0.634448</td>\n",
       "      <td>-0.466933</td>\n",
       "      <td>-0.416784</td>\n",
       "      <td>0.766356</td>\n",
       "      <td>-0.149983</td>\n",
       "      <td>-0.5</td>\n",
       "      <td>-1.214598</td>\n",
       "      <td>1.214598</td>\n",
       "      <td>-0.196014</td>\n",
       "      <td>0.196014</td>\n",
       "    </tr>\n",
       "    <tr>\n",
       "      <th>1</th>\n",
       "      <td>1.527525</td>\n",
       "      <td>2.248194</td>\n",
       "      <td>0.949817</td>\n",
       "      <td>-0.870183</td>\n",
       "      <td>-0.765977</td>\n",
       "      <td>-1.191404</td>\n",
       "      <td>-0.704926</td>\n",
       "      <td>-0.42829</td>\n",
       "      <td>1.648476</td>\n",
       "      <td>-0.614337</td>\n",
       "      <td>...</td>\n",
       "      <td>0.634448</td>\n",
       "      <td>-0.466933</td>\n",
       "      <td>-0.416784</td>\n",
       "      <td>0.766356</td>\n",
       "      <td>-0.149983</td>\n",
       "      <td>-0.5</td>\n",
       "      <td>0.823318</td>\n",
       "      <td>-0.823318</td>\n",
       "      <td>-0.196014</td>\n",
       "      <td>0.196014</td>\n",
       "    </tr>\n",
       "  </tbody>\n",
       "</table>\n",
       "<p>2 rows × 62 columns</p>\n",
       "</div>"
      ],
      "text/plain": [
       "    default  duration  cr_amount  installment_as_income_perc  res_since  \\\n",
       "0 -0.654654 -1.236478  -0.745131                    0.918477   1.046987   \n",
       "1  1.527525  2.248194   0.949817                   -0.870183  -0.765977   \n",
       "\n",
       "        age  credits_this_bank   people  account_status_0 <= ... < 200 DM  \\\n",
       "0  2.766456           1.027079 -0.42829                         -0.606621   \n",
       "1 -1.191404          -0.704926 -0.42829                          1.648476   \n",
       "\n",
       "   account_status_< 0 DM  ...  housing_own  housing_rent  \\\n",
       "0               1.627770  ...     0.634448     -0.466933   \n",
       "1              -0.614337  ...     0.634448     -0.466933   \n",
       "\n",
       "   job_management/ self-employed/ highly qualified employee/ officer  \\\n",
       "0                                          -0.416784                   \n",
       "1                                          -0.416784                   \n",
       "\n",
       "   job_skilled employee / official  job_unemployed/ unskilled - non-resident  \\\n",
       "0                         0.766356                                 -0.149983   \n",
       "1                         0.766356                                 -0.149983   \n",
       "\n",
       "   job_unskilled - resident  telephone_none  \\\n",
       "0                      -0.5       -1.214598   \n",
       "1                      -0.5        0.823318   \n",
       "\n",
       "   telephone_yes, registered under the customers name   foreign_worker_no  \\\n",
       "0                                           1.214598            -0.196014   \n",
       "1                                          -0.823318            -0.196014   \n",
       "\n",
       "   foreign_worker_yes  \n",
       "0            0.196014  \n",
       "1            0.196014  \n",
       "\n",
       "[2 rows x 62 columns]"
      ]
     },
     "execution_count": 25,
     "metadata": {},
     "output_type": "execute_result"
    }
   ],
   "source": [
    "# Use below values\n",
    "from sklearn.cluster import KMeans\n",
    "from scipy.stats import zscore\n",
    "num_folds = 10\n",
    "seed = 77\n",
    "\n",
    "model = svm.SVR()\n",
    "df_new_z =df_new.apply(zscore)\n",
    "df_new_z.head(2)\n"
   ]
  },
  {
   "cell_type": "code",
   "execution_count": 26,
   "metadata": {
    "colab": {},
    "colab_type": "code",
    "id": "lDyCh_OG_0pt"
   },
   "outputs": [],
   "source": [
    "#Validate the Random Forest model build above using k fold"
   ]
  },
  {
   "cell_type": "code",
   "execution_count": 27,
   "metadata": {
    "colab": {},
    "colab_type": "code",
    "id": "fvxAgXik_0p0"
   },
   "outputs": [
    {
     "name": "stdout",
     "output_type": "stream",
     "text": [
      "[0.34425981 0.07518269 0.03474954 0.23589057 0.22692152 0.13110316\n",
      " 0.04679111 0.26208561 0.26718759 0.17131596]\n",
      "\n",
      "Accuracy: 17.955% (9.947%)\n"
     ]
    }
   ],
   "source": [
    "array = df_new_z.values\n",
    "X = array[:,1:61] \n",
    "y = array[:,0]   \n",
    "\n",
    "seed = 10\n",
    "kfold = model_selection.KFold(n_splits=10, random_state=seed)\n",
    "results = model_selection.cross_val_score(model, X, y, cv=kfold)\n",
    "\n",
    "print(results)\n",
    "print(\"\")\n",
    "print(\"Accuracy: %.3f%% (%.3f%%)\" % (results.mean()*100.0, results.std()*100.0))"
   ]
  },
  {
   "cell_type": "code",
   "execution_count": 28,
   "metadata": {
    "colab": {},
    "colab_type": "code",
    "id": "6r8p73dT_0p6"
   },
   "outputs": [
    {
     "name": "stdout",
     "output_type": "stream",
     "text": [
      "Mean is : 17.954875521725526\n"
     ]
    }
   ],
   "source": [
    "#Calculate Mean score\n",
    "print(\"Mean is :\",results.mean()*100)"
   ]
  },
  {
   "cell_type": "code",
   "execution_count": 29,
   "metadata": {
    "colab": {},
    "colab_type": "code",
    "id": "Rr132f7H_0qD"
   },
   "outputs": [],
   "source": [
    "# Calculate score standard deviation using std()\n"
   ]
  },
  {
   "cell_type": "code",
   "execution_count": 30,
   "metadata": {
    "colab": {},
    "colab_type": "code",
    "id": "44JxPbHG_0qH"
   },
   "outputs": [
    {
     "name": "stdout",
     "output_type": "stream",
     "text": [
      "Standard Deviation: 9.946840817509012\n"
     ]
    }
   ],
   "source": [
    "print(\"Standard Deviation:\", results.std()*100.0)"
   ]
  },
  {
   "cell_type": "markdown",
   "metadata": {
    "colab_type": "text",
    "id": "kB0x5yLs_0qM"
   },
   "source": [
    "# Q8 Print the confusion matrix( 1 Marks)"
   ]
  },
  {
   "cell_type": "code",
   "execution_count": 31,
   "metadata": {
    "colab": {},
    "colab_type": "code",
    "id": "WiS5l8Cn_0qO"
   },
   "outputs": [
    {
     "name": "stdout",
     "output_type": "stream",
     "text": [
      "Confusion matrix \n",
      "[[197  17]\n",
      " [ 60  26]]\n"
     ]
    }
   ],
   "source": [
    "print(\"Confusion matrix \")\n",
    "arrConf=metrics.confusion_matrix(y_test, y_predict_rndForest)\n",
    "print(arrConf)"
   ]
  },
  {
   "cell_type": "markdown",
   "metadata": {
    "colab_type": "text",
    "id": "uMLxrkNg_0qR"
   },
   "source": [
    "# Q9.Classification accuracy: \n",
    "percentage of correct predictions and Calculate sensitivity (or True Positive Rate or Recall) and Precision.\n",
    "( 1 Marks)"
   ]
  },
  {
   "cell_type": "code",
   "execution_count": 32,
   "metadata": {
    "colab": {},
    "colab_type": "code",
    "id": "QUG5Y_li_0qT"
   },
   "outputs": [
    {
     "name": "stdout",
     "output_type": "stream",
     "text": [
      "Sensitivity is  0.9205607476635514\n",
      "Precision is : 0.7665369649805448\n"
     ]
    }
   ],
   "source": [
    "print(\"Sensitivity is \",arrConf[0,0]/(arrConf[0,0]+arrConf[0,1]))\n",
    "print(\"Precision is :\",arrConf[0,0]/(arrConf[0,0]+arrConf[1,0]))"
   ]
  },
  {
   "cell_type": "code",
   "execution_count": 33,
   "metadata": {},
   "outputs": [
    {
     "name": "stdout",
     "output_type": "stream",
     "text": [
      "              precision    recall  f1-score   support\n",
      "\n",
      "           0       0.77      0.92      0.84       214\n",
      "           1       0.60      0.30      0.40        86\n",
      "\n",
      "   micro avg       0.74      0.74      0.74       300\n",
      "   macro avg       0.69      0.61      0.62       300\n",
      "weighted avg       0.72      0.74      0.71       300\n",
      "\n"
     ]
    }
   ],
   "source": [
    "print(classification_report(y_test,y_predict_rndForest))"
   ]
  },
  {
   "cell_type": "markdown",
   "metadata": {
    "colab_type": "text",
    "id": "IlPEO3pO_0qa"
   },
   "source": [
    "# Q10.Plot Receiver Operating Characteristic (ROC) Curves( 1 Marks)"
   ]
  },
  {
   "cell_type": "code",
   "execution_count": 34,
   "metadata": {
    "colab": {},
    "colab_type": "code",
    "id": "YGyM8Uh4_0qb"
   },
   "outputs": [],
   "source": [
    "#Hint: Use roc_curve"
   ]
  },
  {
   "cell_type": "code",
   "execution_count": 35,
   "metadata": {
    "colab": {},
    "colab_type": "code",
    "id": "ZCJ-wYLX_0qo"
   },
   "outputs": [
    {
     "name": "stdout",
     "output_type": "stream",
     "text": [
      "RandomForestClassifier\n",
      "RandomForestClassifier(bootstrap=True, class_weight=None, criterion='gini',\n",
      "            max_depth=None, max_features='auto', max_leaf_nodes=None,\n",
      "            min_impurity_decrease=0.0, min_impurity_split=None,\n",
      "            min_samples_leaf=1, min_samples_split=2,\n",
      "            min_weight_fraction_leaf=0.0, n_estimators=10, n_jobs=None,\n",
      "            oob_score=False, random_state=None, verbose=0,\n",
      "            warm_start=False) \n",
      "\n"
     ]
    },
    {
     "data": {
      "image/png": "[encoded data removed]",
      "text/plain": [
       "<Figure size 432x288 with 1 Axes>"
      ]
     },
     "metadata": {
      "needs_background": "light"
     },
     "output_type": "display_data"
    }
   ],
   "source": [
    "from sklearn.ensemble import RandomForestClassifier \n",
    "\n",
    "def randomforestclf(X_train, y_train,X_test, y_test):\n",
    "    print(\"RandomForestClassifier\")\n",
    "    randomforest = RandomForestClassifier().fit(X_train, y_train)\n",
    "    print(randomforest,'\\n')\n",
    "    \n",
    "    # Predict target variables y for test data\n",
    "    y_pred = randomforest.predict_proba(X_test)[:,1]\n",
    "    get_roc (y_test,y_pred)\n",
    "    return\n",
    "\n",
    "randomforestclf(X_train, y_train,X_test, y_test)"
   ]
  },
  {
   "cell_type": "markdown",
   "metadata": {
    "colab_type": "text",
    "id": "annGF0Bh_0qr"
   },
   "source": [
    "ROC curve can help you to choose a threshold that balances sensitivity and specificity in a way that makes sense for your particular context"
   ]
  },
  {
   "cell_type": "markdown",
   "metadata": {
    "colab_type": "text",
    "id": "rE4Qbbh5_0qt"
   },
   "source": [
    "# Q11. Calculate AUC(the percentage of the ROC plot that is underneath the curve) - optional"
   ]
  },
  {
   "cell_type": "markdown",
   "metadata": {
    "colab": {},
    "colab_type": "code",
    "id": "8nwRSPz4_0qu"
   },
   "source": [
    "Yet to work on the AUC"
   ]
  },
  {
   "cell_type": "code",
   "execution_count": null,
   "metadata": {
    "colab": {},
    "colab_type": "code",
    "id": "fsjK0GSg_0qx"
   },
   "outputs": [],
   "source": []
  },
  {
   "cell_type": "code",
   "execution_count": null,
   "metadata": {
    "colab": {},
    "colab_type": "code",
    "id": "dA8Cha75_0qz"
   },
   "outputs": [],
   "source": []
  },
  {
   "cell_type": "code",
   "execution_count": null,
   "metadata": {
    "colab": {},
    "colab_type": "code",
    "id": "NiON-6bu_0q4"
   },
   "outputs": [],
   "source": []
  },
  {
   "cell_type": "markdown",
   "metadata": {
    "colab_type": "text",
    "id": "BZ43LYtQ_0q9"
   },
   "source": [
    "### Bootstrapping ( Bonus)\n",
    "##### Given a dataset of size n, a bootstrap sample is created by sampling n instances uniformly from the data (with/without replacement)\n",
    "##### Create a model with each bootstrap sample and validate it with the test set\n",
    "##### Final result is calculated by averaging the accuracy of models"
   ]
  },
  {
   "cell_type": "code",
   "execution_count": 36,
   "metadata": {
    "colab": {},
    "colab_type": "code",
    "id": "8KwXPTNE_0q9"
   },
   "outputs": [],
   "source": [
    "# Number of iterations for bootstrapping\n",
    "bootstrap_iteration = 10\n",
    "accuracy = []"
   ]
  },
  {
   "cell_type": "code",
   "execution_count": 37,
   "metadata": {
    "colab": {},
    "colab_type": "code",
    "id": "rVQTCij9_0rA"
   },
   "outputs": [],
   "source": [
    "from sklearn.utils import resample\n",
    "from sklearn.metrics import accuracy_score\n",
    "\n",
    "for i in range(bootstrap_iteration):\n",
    "    X_, y_ = resample(X_train, y_train)\n",
    "    rfcl.fit(X_, y_)\n",
    "    y_pred = rfcl.predict(X_test)\n",
    "    \n",
    "    acc = accuracy_score(y_pred, y_test)\n",
    "    accuracy.append(acc)"
   ]
  },
  {
   "cell_type": "code",
   "execution_count": 38,
   "metadata": {
    "colab": {},
    "colab_type": "code",
    "id": "lRtfc6p7_0rD",
    "outputId": "6b6e9b14-0652-4550-83e0-7bb2ca3f0481"
   },
   "outputs": [
    {
     "name": "stdout",
     "output_type": "stream",
     "text": [
      "Accuracy Score\n",
      "Avearge:  0.751\n",
      "Standard deviation:  0.017891649200426175\n"
     ]
    }
   ],
   "source": [
    "accuracy = np.array(accuracy)\n",
    "print('Accuracy Score')\n",
    "print('Avearge: ', accuracy.mean())\n",
    "print('Standard deviation: ', accuracy.std())"
   ]
  },
  {
   "cell_type": "code",
   "execution_count": null,
   "metadata": {
    "colab": {},
    "colab_type": "code",
    "id": "7ItbXIpd_0rH"
   },
   "outputs": [],
   "source": []
  }
 ],
 "metadata": {
  "colab": {
   "name": "R4_External_Lab_Validation_Accuracy.ipynb",
   "provenance": [],
   "version": "0.3.2"
  },
  "kernelspec": {
   "display_name": "Python 3",
   "language": "python",
   "name": "python3"
  },
  "language_info": {
   "codemirror_mode": {
    "name": "ipython",
    "version": 3
   },
   "file_extension": ".py",
   "mimetype": "text/x-python",
   "name": "python",
   "nbconvert_exporter": "python",
   "pygments_lexer": "ipython3",
   "version": "3.7.3"
  }
 },
 "nbformat": 4,
 "nbformat_minor": 1
}
