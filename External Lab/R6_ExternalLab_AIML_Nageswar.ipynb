{
  "nbformat": 4,
  "nbformat_minor": 0,
  "metadata": {
    "colab": {
      "name": "R6_ExternalLab_AIML_Nageswar.ipynb",
      "provenance": [],
      "collapsed_sections": [],
      "machine_shape": "hm"
    },
    "kernelspec": {
      "display_name": "Python 3",
      "language": "python",
      "name": "python3"
    },
    "language_info": {
      "codemirror_mode": {
        "name": "ipython",
        "version": 3
      },
      "file_extension": ".py",
      "mimetype": "text/x-python",
      "name": "python",
      "nbconvert_exporter": "python",
      "pygments_lexer": "ipython3",
      "version": "3.7.3"
    }
  },
  "cells": [
    {
      "cell_type": "markdown",
      "metadata": {
        "colab_type": "text",
        "id": "bSyjczkuXGS0"
      },
      "source": [
        "### A MNIST-like fashion product database\n",
        "\n",
        "### In this, we classify the images into respective classes given in the dataset. We use a Neural Net and a Deep Neural Net in Keras to solve this and check the accuracy scores."
      ]
    },
    {
      "cell_type": "markdown",
      "metadata": {
        "colab_type": "text",
        "id": "dw2493-glcu_"
      },
      "source": [
        "Fashion-MNIST is a dataset of Zalando's article images—consisting of a training set of 60,000 examples and a test set of 10,000 examples. Each example is a 28x28 grayscale image, associated with a label from 10 classes. "
      ]
    },
    {
      "cell_type": "markdown",
      "metadata": {
        "colab_type": "text",
        "id": "wG14UfZylDYO"
      },
      "source": [
        "Each image is 28 pixels in height and 28 pixels in width, for a total of 784 pixels in total. Each pixel has a single pixel-value associated with it, indicating the lightness or darkness of that pixel, with higher numbers meaning darker. This pixel-value is an integer between 0 and 255. The training and test data sets have 785 columns. The first column consists of the class labels (see above), and represents the article of clothing. The rest of the columns contain the pixel-values of the associated image.\n",
        "\n",
        "To locate a pixel on the image, suppose that we have decomposed x as x = i * 28 + j, where i and j are integers between 0 and 27. The pixel is located on row i and column j of a 28 x 28 matrix.\n",
        "For example, pixel31 indicates the pixel that is in the fourth column from the left, and the second row from the top, as in the ascii-diagram below.\n",
        "\n",
        "Labels\n",
        "\n",
        "Each training and test example is assigned to one of the following labels:\n",
        "\n",
        "0 T-shirt/top\n",
        "1 Trouser\n",
        "2 Pullover\n",
        "3 Dress\n",
        "4 Coat\n",
        "5 Sandal\n",
        "6 Shirt\n",
        "7 Sneaker\n",
        "8 Bag\n",
        "9 Ankle boot\n",
        "\n",
        "TL;DR\n",
        "\n",
        "Each row is a separate image\n",
        "Column 1 is the class label.\n",
        "Remaining columns are pixel numbers (784 total).\n",
        "Each value is the darkness of the pixel (1 to 255)"
      ]
    },
    {
      "cell_type": "markdown",
      "metadata": {
        "colab_type": "text",
        "id": "igYwLRbnXBmr"
      },
      "source": [
        "### Load tensorflow"
      ]
    },
    {
      "cell_type": "code",
      "metadata": {
        "colab_type": "code",
        "id": "M5vzDkl_XKlM",
        "colab": {}
      },
      "source": [
        "import tensorflow as tf\n",
        "tf.set_random_seed(42)"
      ],
      "execution_count": 0,
      "outputs": []
    },
    {
      "cell_type": "code",
      "metadata": {
        "colab_type": "code",
        "id": "Sh_PHdM3XdBT",
        "outputId": "ac0f0cb7-7080-41f1-fa4e-7a12666db080",
        "colab": {
          "base_uri": "https://localhost:8080/",
          "height": 35
        }
      },
      "source": [
        "tf.__version__"
      ],
      "execution_count": 2,
      "outputs": [
        {
          "output_type": "execute_result",
          "data": {
            "text/plain": [
              "'1.14.0'"
            ]
          },
          "metadata": {
            "tags": []
          },
          "execution_count": 2
        }
      ]
    },
    {
      "cell_type": "markdown",
      "metadata": {
        "colab_type": "text",
        "id": "vgcFylryXhLh"
      },
      "source": [
        "### Collect Data"
      ]
    },
    {
      "cell_type": "code",
      "metadata": {
        "colab_type": "code",
        "id": "2bHQg0QzXjAF",
        "outputId": "d803f0f4-82f3-43cc-9c45-69d10bc47574",
        "colab": {
          "base_uri": "https://localhost:8080/",
          "height": 35
        }
      },
      "source": [
        "import keras"
      ],
      "execution_count": 3,
      "outputs": [
        {
          "output_type": "stream",
          "text": [
            "Using TensorFlow backend.\n"
          ],
          "name": "stderr"
        }
      ]
    },
    {
      "cell_type": "code",
      "metadata": {
        "colab_type": "code",
        "id": "GXgsKyc5Y3by",
        "colab": {}
      },
      "source": [
        "(trainX, trainY), (testX, testY) = keras.datasets.fashion_mnist.load_data()"
      ],
      "execution_count": 0,
      "outputs": []
    },
    {
      "cell_type": "code",
      "metadata": {
        "colab_type": "code",
        "id": "4gp-Q15jaY8B",
        "outputId": "d884bcc0-9567-4bbe-f8dc-069d1f39a891",
        "colab": {
          "base_uri": "https://localhost:8080/",
          "height": 52
        }
      },
      "source": [
        "print(trainY.shape)\n",
        "print('First 5 examples now are: ', trainY[0:5])"
      ],
      "execution_count": 5,
      "outputs": [
        {
          "output_type": "stream",
          "text": [
            "(60000,)\n",
            "First 5 examples now are:  [9 0 0 3 0]\n"
          ],
          "name": "stdout"
        }
      ]
    },
    {
      "cell_type": "code",
      "metadata": {
        "colab_type": "code",
        "id": "GYZSIuTQanwz",
        "outputId": "9ce04035-545a-4316-9776-fec2c78666ab",
        "colab": {
          "base_uri": "https://localhost:8080/",
          "height": 1000
        }
      },
      "source": [
        "\n",
        "print(trainX.shape)\n",
        "print('First example: ', trainX[0:1])\n",
        "\n"
      ],
      "execution_count": 6,
      "outputs": [
        {
          "output_type": "stream",
          "text": [
            "(60000, 28, 28)\n",
            "First example:  [[[  0   0   0   0   0   0   0   0   0   0   0   0   0   0   0   0   0\n",
            "     0   0   0   0   0   0   0   0   0   0   0]\n",
            "  [  0   0   0   0   0   0   0   0   0   0   0   0   0   0   0   0   0\n",
            "     0   0   0   0   0   0   0   0   0   0   0]\n",
            "  [  0   0   0   0   0   0   0   0   0   0   0   0   0   0   0   0   0\n",
            "     0   0   0   0   0   0   0   0   0   0   0]\n",
            "  [  0   0   0   0   0   0   0   0   0   0   0   0   1   0   0  13  73\n",
            "     0   0   1   4   0   0   0   0   1   1   0]\n",
            "  [  0   0   0   0   0   0   0   0   0   0   0   0   3   0  36 136 127\n",
            "    62  54   0   0   0   1   3   4   0   0   3]\n",
            "  [  0   0   0   0   0   0   0   0   0   0   0   0   6   0 102 204 176\n",
            "   134 144 123  23   0   0   0   0  12  10   0]\n",
            "  [  0   0   0   0   0   0   0   0   0   0   0   0   0   0 155 236 207\n",
            "   178 107 156 161 109  64  23  77 130  72  15]\n",
            "  [  0   0   0   0   0   0   0   0   0   0   0   1   0  69 207 223 218\n",
            "   216 216 163 127 121 122 146 141  88 172  66]\n",
            "  [  0   0   0   0   0   0   0   0   0   1   1   1   0 200 232 232 233\n",
            "   229 223 223 215 213 164 127 123 196 229   0]\n",
            "  [  0   0   0   0   0   0   0   0   0   0   0   0   0 183 225 216 223\n",
            "   228 235 227 224 222 224 221 223 245 173   0]\n",
            "  [  0   0   0   0   0   0   0   0   0   0   0   0   0 193 228 218 213\n",
            "   198 180 212 210 211 213 223 220 243 202   0]\n",
            "  [  0   0   0   0   0   0   0   0   0   1   3   0  12 219 220 212 218\n",
            "   192 169 227 208 218 224 212 226 197 209  52]\n",
            "  [  0   0   0   0   0   0   0   0   0   0   6   0  99 244 222 220 218\n",
            "   203 198 221 215 213 222 220 245 119 167  56]\n",
            "  [  0   0   0   0   0   0   0   0   0   4   0   0  55 236 228 230 228\n",
            "   240 232 213 218 223 234 217 217 209  92   0]\n",
            "  [  0   0   1   4   6   7   2   0   0   0   0   0 237 226 217 223 222\n",
            "   219 222 221 216 223 229 215 218 255  77   0]\n",
            "  [  0   3   0   0   0   0   0   0   0  62 145 204 228 207 213 221 218\n",
            "   208 211 218 224 223 219 215 224 244 159   0]\n",
            "  [  0   0   0   0  18  44  82 107 189 228 220 222 217 226 200 205 211\n",
            "   230 224 234 176 188 250 248 233 238 215   0]\n",
            "  [  0  57 187 208 224 221 224 208 204 214 208 209 200 159 245 193 206\n",
            "   223 255 255 221 234 221 211 220 232 246   0]\n",
            "  [  3 202 228 224 221 211 211 214 205 205 205 220 240  80 150 255 229\n",
            "   221 188 154 191 210 204 209 222 228 225   0]\n",
            "  [ 98 233 198 210 222 229 229 234 249 220 194 215 217 241  65  73 106\n",
            "   117 168 219 221 215 217 223 223 224 229  29]\n",
            "  [ 75 204 212 204 193 205 211 225 216 185 197 206 198 213 240 195 227\n",
            "   245 239 223 218 212 209 222 220 221 230  67]\n",
            "  [ 48 203 183 194 213 197 185 190 194 192 202 214 219 221 220 236 225\n",
            "   216 199 206 186 181 177 172 181 205 206 115]\n",
            "  [  0 122 219 193 179 171 183 196 204 210 213 207 211 210 200 196 194\n",
            "   191 195 191 198 192 176 156 167 177 210  92]\n",
            "  [  0   0  74 189 212 191 175 172 175 181 185 188 189 188 193 198 204\n",
            "   209 210 210 211 188 188 194 192 216 170   0]\n",
            "  [  2   0   0   0  66 200 222 237 239 242 246 243 244 221 220 193 191\n",
            "   179 182 182 181 176 166 168  99  58   0   0]\n",
            "  [  0   0   0   0   0   0   0  40  61  44  72  41  35   0   0   0   0\n",
            "     0   0   0   0   0   0   0   0   0   0   0]\n",
            "  [  0   0   0   0   0   0   0   0   0   0   0   0   0   0   0   0   0\n",
            "     0   0   0   0   0   0   0   0   0   0   0]\n",
            "  [  0   0   0   0   0   0   0   0   0   0   0   0   0   0   0   0   0\n",
            "     0   0   0   0   0   0   0   0   0   0   0]]]\n"
          ],
          "name": "stdout"
        }
      ]
    },
    {
      "cell_type": "markdown",
      "metadata": {
        "colab_type": "text",
        "id": "Nd_D9dKBhQen"
      },
      "source": [
        "### Convert both training and testing labels into one-hot vectors.\n"
      ]
    },
    {
      "cell_type": "code",
      "metadata": {
        "colab_type": "code",
        "id": "M_kByPJtezhK",
        "outputId": "4b4554b4-4db8-4901-f27f-ae09a1f9049d",
        "colab": {
          "base_uri": "https://localhost:8080/",
          "height": 52
        }
      },
      "source": [
        "print(trainY.shape)\n",
        "print('First 5 examples now are: ', trainY[0:5])"
      ],
      "execution_count": 7,
      "outputs": [
        {
          "output_type": "stream",
          "text": [
            "(60000,)\n",
            "First 5 examples now are:  [9 0 0 3 0]\n"
          ],
          "name": "stdout"
        }
      ]
    },
    {
      "cell_type": "markdown",
      "metadata": {
        "colab_type": "text",
        "id": "nAqchzOCJuuu"
      },
      "source": [
        "### Convert both training and testing labels into one-hot vectors.\n"
      ]
    },
    {
      "cell_type": "code",
      "metadata": {
        "colab_type": "code",
        "id": "lDhcZleVJt66",
        "colab": {}
      },
      "source": [
        "trainY = tf.keras.utils.to_categorical(trainY,num_classes=10, dtype='float32')"
      ],
      "execution_count": 0,
      "outputs": []
    },
    {
      "cell_type": "code",
      "metadata": {
        "colab_type": "code",
        "id": "dn8R2gJSgUfm",
        "colab": {}
      },
      "source": [
        "testY = tf.keras.utils.to_categorical(testY,num_classes=10, dtype='float32')"
      ],
      "execution_count": 0,
      "outputs": []
    },
    {
      "cell_type": "code",
      "metadata": {
        "colab_type": "code",
        "id": "b73HRRI7g3yH",
        "outputId": "eca70a96-ecb5-4e5b-cc2f-01be90af36b3",
        "colab": {
          "base_uri": "https://localhost:8080/",
          "height": 123
        }
      },
      "source": [
        "print(trainY.shape)\n",
        "print('First 5 examples now are: ', trainY[0:5])"
      ],
      "execution_count": 10,
      "outputs": [
        {
          "output_type": "stream",
          "text": [
            "(60000, 10)\n",
            "First 5 examples now are:  [[0. 0. 0. 0. 0. 0. 0. 0. 0. 1.]\n",
            " [1. 0. 0. 0. 0. 0. 0. 0. 0. 0.]\n",
            " [1. 0. 0. 0. 0. 0. 0. 0. 0. 0.]\n",
            " [0. 0. 0. 1. 0. 0. 0. 0. 0. 0.]\n",
            " [1. 0. 0. 0. 0. 0. 0. 0. 0. 0.]]\n"
          ],
          "name": "stdout"
        }
      ]
    },
    {
      "cell_type": "code",
      "metadata": {
        "colab_type": "code",
        "id": "YpcQjWYqhd5x",
        "outputId": "23918ddd-fefe-4508-e3d4-2c7274eee997",
        "colab": {
          "base_uri": "https://localhost:8080/",
          "height": 123
        }
      },
      "source": [
        "print(testY.shape)\n",
        "print('First 5 examples now are: ', testY[0:5])"
      ],
      "execution_count": 11,
      "outputs": [
        {
          "output_type": "stream",
          "text": [
            "(10000, 10)\n",
            "First 5 examples now are:  [[0. 0. 0. 0. 0. 0. 0. 0. 0. 1.]\n",
            " [0. 0. 1. 0. 0. 0. 0. 0. 0. 0.]\n",
            " [0. 1. 0. 0. 0. 0. 0. 0. 0. 0.]\n",
            " [0. 1. 0. 0. 0. 0. 0. 0. 0. 0.]\n",
            " [0. 0. 0. 0. 0. 0. 1. 0. 0. 0.]]\n"
          ],
          "name": "stdout"
        }
      ]
    },
    {
      "cell_type": "markdown",
      "metadata": {
        "colab_type": "text",
        "id": "fCEieYUghzBJ"
      },
      "source": [
        "### Visualize the data\n",
        "\n",
        "Plot first 10 images in the triaining set and their labels."
      ]
    },
    {
      "cell_type": "code",
      "metadata": {
        "colab_type": "code",
        "id": "WRZDtdz9kZCc",
        "outputId": "d4a4bfaf-db4e-4fc0-f216-51d27a4a3d65",
        "colab": {
          "base_uri": "https://localhost:8080/",
          "height": 84
        }
      },
      "source": [
        "import numpy as np\n",
        "import matplotlib.pyplot as plt\n",
        "\n",
        "plt.figure(figsize=(10,10))\n",
        "for i in range(10):\n",
        "    plt.subplot(10,10,i+1)\n",
        "    plt.xticks([])\n",
        "    plt.yticks([])\n",
        "    plt.grid(False)\n",
        "    plt.imshow(trainX[i], cmap=plt.cm.binary)\n",
        "    \n",
        "plt.show()\n",
        "  "
      ],
      "execution_count": 12,
      "outputs": [
        {
          "output_type": "display_data",
          "data": {
            "image/png": "[encoded data removed]",
            "text/plain": [
              "<Figure size 720x720 with 10 Axes>"
            ]
          },
          "metadata": {
            "tags": []
          }
        }
      ]
    },
    {
      "cell_type": "markdown",
      "metadata": {
        "colab_type": "text",
        "id": "J2ZMK21Lqo6e"
      },
      "source": [
        "### Build a neural Network with a cross entropy loss function and sgd optimizer in Keras. The output layer with 10 neurons as we have 10 classes\n",
        "\n",
        "\n",
        "\n"
      ]
    },
    {
      "cell_type": "code",
      "metadata": {
        "colab_type": "code",
        "id": "vA_cViLUqikt",
        "outputId": "aace4755-7697-4cd2-b7d5-28a7289ddcd9",
        "colab": {
          "base_uri": "https://localhost:8080/",
          "height": 90
        }
      },
      "source": [
        "#Initialize Sequential model\n",
        "model = tf.keras.models.Sequential()\n",
        "\n",
        "#Reshape data from 2D to 1D -> 28x28 to 784\n",
        "model.add(tf.keras.layers.Reshape((784,),input_shape=(28,28,)))\n",
        "\n",
        "#Add OUTPUT layer\n",
        "model.add(tf.keras.layers.Dense(10, activation='softmax'))\n",
        "\n",
        "#Comile the model\n",
        "model.compile(optimizer='sgd', loss='categorical_crossentropy', metrics=['accuracy'])"
      ],
      "execution_count": 13,
      "outputs": [
        {
          "output_type": "stream",
          "text": [
            "WARNING:tensorflow:From /usr/local/lib/python3.6/dist-packages/tensorflow/python/ops/init_ops.py:1251: calling VarianceScaling.__init__ (from tensorflow.python.ops.init_ops) with dtype is deprecated and will be removed in a future version.\n",
            "Instructions for updating:\n",
            "Call initializer instance with the dtype argument instead of passing it to the constructor\n"
          ],
          "name": "stdout"
        }
      ]
    },
    {
      "cell_type": "markdown",
      "metadata": {
        "colab_type": "text",
        "id": "lnKte2rxr7IT"
      },
      "source": [
        "### Execute the model "
      ]
    },
    {
      "cell_type": "code",
      "metadata": {
        "colab_type": "code",
        "id": "t_GlRY6Nro6k",
        "outputId": "5418b751-b700-43c9-aefb-0c862b0d0a21",
        "colab": {
          "base_uri": "https://localhost:8080/",
          "height": 404
        }
      },
      "source": [
        "model.fit(trainX, trainY, \n",
        "          validation_data=(testX, testY), \n",
        "          epochs=10,\n",
        "          batch_size=500)"
      ],
      "execution_count": 14,
      "outputs": [
        {
          "output_type": "stream",
          "text": [
            "Train on 60000 samples, validate on 10000 samples\n",
            "Epoch 1/10\n",
            "60000/60000 [==============================] - 0s 7us/sample - loss: 2948.7021 - acc: 0.6380 - val_loss: 3064.2240 - val_acc: 0.7022\n",
            "Epoch 2/10\n",
            "60000/60000 [==============================] - 0s 6us/sample - loss: 1421.0246 - acc: 0.7295 - val_loss: 795.3726 - val_acc: 0.7682\n",
            "Epoch 3/10\n",
            "60000/60000 [==============================] - 0s 6us/sample - loss: 1169.7006 - acc: 0.7595 - val_loss: 1092.2067 - val_acc: 0.6760\n",
            "Epoch 4/10\n",
            "60000/60000 [==============================] - 0s 6us/sample - loss: 1136.1517 - acc: 0.7576 - val_loss: 870.9560 - val_acc: 0.7452\n",
            "Epoch 5/10\n",
            "60000/60000 [==============================] - 0s 6us/sample - loss: 1100.8691 - acc: 0.7614 - val_loss: 2158.2882 - val_acc: 0.7624\n",
            "Epoch 6/10\n",
            "60000/60000 [==============================] - 0s 6us/sample - loss: 1079.6204 - acc: 0.7669 - val_loss: 745.9589 - val_acc: 0.8007\n",
            "Epoch 7/10\n",
            "60000/60000 [==============================] - 0s 6us/sample - loss: 1190.4934 - acc: 0.7610 - val_loss: 715.2754 - val_acc: 0.7813\n",
            "Epoch 8/10\n",
            "60000/60000 [==============================] - 0s 6us/sample - loss: 973.8960 - acc: 0.7839 - val_loss: 918.3728 - val_acc: 0.7398\n",
            "Epoch 9/10\n",
            "60000/60000 [==============================] - 0s 6us/sample - loss: 1010.8144 - acc: 0.7785 - val_loss: 1799.1492 - val_acc: 0.7099\n",
            "Epoch 10/10\n",
            "60000/60000 [==============================] - 0s 6us/sample - loss: 970.7126 - acc: 0.7786 - val_loss: 1970.6153 - val_acc: 0.7847\n"
          ],
          "name": "stdout"
        },
        {
          "output_type": "execute_result",
          "data": {
            "text/plain": [
              "<tensorflow.python.keras.callbacks.History at 0x7f64f4e6b588>"
            ]
          },
          "metadata": {
            "tags": []
          },
          "execution_count": 14
        }
      ]
    },
    {
      "cell_type": "markdown",
      "metadata": {
        "colab_type": "text",
        "id": "h8IYpcepxHZ_"
      },
      "source": [
        "### In the above Neural Network model add Batch Normalization layer after the input layer and repeat the steps.\n"
      ]
    },
    {
      "cell_type": "code",
      "metadata": {
        "colab_type": "code",
        "id": "UM7FubfExGXM",
        "colab": {}
      },
      "source": [
        "#Initialize Sequential model\n",
        "model = tf.keras.models.Sequential()\n",
        "\n",
        "#Reshape data from 2D to 1D -> 28x28 to 784\n",
        "model.add(tf.keras.layers.Reshape((784,),input_shape=(28,28,)))\n",
        "\n",
        "#Normalize the data\n",
        "model.add(tf.keras.layers.BatchNormalization())\n",
        "\n",
        "#Add OUTPUT layer\n",
        "model.add(tf.keras.layers.Dense(10, activation='softmax'))\n",
        "\n",
        "#Comile the model\n",
        "model.compile(optimizer='sgd', loss='categorical_crossentropy', metrics=['accuracy'])"
      ],
      "execution_count": 0,
      "outputs": []
    },
    {
      "cell_type": "markdown",
      "metadata": {
        "colab_type": "text",
        "id": "XgkydtC8xuAA"
      },
      "source": [
        "### Execute the model\n"
      ]
    },
    {
      "cell_type": "code",
      "metadata": {
        "colab_type": "code",
        "id": "2BIBR6oTxs02",
        "outputId": "f8ad014d-9033-4928-b76b-ea61467f771b",
        "colab": {
          "base_uri": "https://localhost:8080/",
          "height": 404
        }
      },
      "source": [
        "model.fit(trainX, trainY, \n",
        "          validation_data=(testX, testY), \n",
        "          epochs=10,\n",
        "          batch_size=500)"
      ],
      "execution_count": 16,
      "outputs": [
        {
          "output_type": "stream",
          "text": [
            "Train on 60000 samples, validate on 10000 samples\n",
            "Epoch 1/10\n",
            "60000/60000 [==============================] - 1s 13us/sample - loss: 0.9961 - acc: 0.6666 - val_loss: 0.7504 - val_acc: 0.7475\n",
            "Epoch 2/10\n",
            "60000/60000 [==============================] - 1s 11us/sample - loss: 0.6553 - acc: 0.7772 - val_loss: 0.6319 - val_acc: 0.7853\n",
            "Epoch 3/10\n",
            "60000/60000 [==============================] - 1s 11us/sample - loss: 0.5904 - acc: 0.7995 - val_loss: 0.5924 - val_acc: 0.7988\n",
            "Epoch 4/10\n",
            "60000/60000 [==============================] - 1s 11us/sample - loss: 0.5567 - acc: 0.8098 - val_loss: 0.5691 - val_acc: 0.8072\n",
            "Epoch 5/10\n",
            "60000/60000 [==============================] - 1s 11us/sample - loss: 0.5349 - acc: 0.8184 - val_loss: 0.5526 - val_acc: 0.8129\n",
            "Epoch 6/10\n",
            "60000/60000 [==============================] - 1s 11us/sample - loss: 0.5198 - acc: 0.8228 - val_loss: 0.5404 - val_acc: 0.8167\n",
            "Epoch 7/10\n",
            "60000/60000 [==============================] - 1s 11us/sample - loss: 0.5081 - acc: 0.8266 - val_loss: 0.5312 - val_acc: 0.8217\n",
            "Epoch 8/10\n",
            "60000/60000 [==============================] - 1s 11us/sample - loss: 0.4994 - acc: 0.8304 - val_loss: 0.5240 - val_acc: 0.8228\n",
            "Epoch 9/10\n",
            "60000/60000 [==============================] - 1s 11us/sample - loss: 0.4912 - acc: 0.8330 - val_loss: 0.5178 - val_acc: 0.8262\n",
            "Epoch 10/10\n",
            "60000/60000 [==============================] - 1s 11us/sample - loss: 0.4858 - acc: 0.8345 - val_loss: 0.5125 - val_acc: 0.8264\n"
          ],
          "name": "stdout"
        },
        {
          "output_type": "execute_result",
          "data": {
            "text/plain": [
              "<tensorflow.python.keras.callbacks.History at 0x7f64d27e1160>"
            ]
          },
          "metadata": {
            "tags": []
          },
          "execution_count": 16
        }
      ]
    },
    {
      "cell_type": "markdown",
      "metadata": {
        "colab_type": "text",
        "id": "aBa-zfRVx6Kc"
      },
      "source": [
        "### Customize the learning rate to 0.001 in sgd optimizer and run the model"
      ]
    },
    {
      "cell_type": "code",
      "metadata": {
        "colab_type": "code",
        "id": "fE6EIFnUx5Zx",
        "colab": {}
      },
      "source": [
        "sgd_optimizer = tf.keras.optimizers.SGD(lr=0.001)\n",
        "\n",
        "model.compile(optimizer=sgd_optimizer, loss='categorical_crossentropy', metrics=['accuracy'])"
      ],
      "execution_count": 0,
      "outputs": []
    },
    {
      "cell_type": "code",
      "metadata": {
        "colab_type": "code",
        "id": "3yz7prsX6aHY",
        "outputId": "44c394f1-e6f8-4c07-85b3-73a2e7dadc7a",
        "colab": {
          "base_uri": "https://localhost:8080/",
          "height": 404
        }
      },
      "source": [
        "model.fit(trainX, trainY, \n",
        "          validation_data=(testX, testY), \n",
        "          epochs=10,\n",
        "          batch_size=500)"
      ],
      "execution_count": 18,
      "outputs": [
        {
          "output_type": "stream",
          "text": [
            "Train on 60000 samples, validate on 10000 samples\n",
            "Epoch 1/10\n",
            "60000/60000 [==============================] - 1s 13us/sample - loss: 0.4806 - acc: 0.8373 - val_loss: 0.5118 - val_acc: 0.8261\n",
            "Epoch 2/10\n",
            "60000/60000 [==============================] - 1s 12us/sample - loss: 0.4799 - acc: 0.8375 - val_loss: 0.5114 - val_acc: 0.8263\n",
            "Epoch 3/10\n",
            "60000/60000 [==============================] - 1s 11us/sample - loss: 0.4791 - acc: 0.8374 - val_loss: 0.5110 - val_acc: 0.8268\n",
            "Epoch 4/10\n",
            "60000/60000 [==============================] - 1s 11us/sample - loss: 0.4789 - acc: 0.8374 - val_loss: 0.5104 - val_acc: 0.8268\n",
            "Epoch 5/10\n",
            "60000/60000 [==============================] - 1s 11us/sample - loss: 0.4787 - acc: 0.8373 - val_loss: 0.5100 - val_acc: 0.8269\n",
            "Epoch 6/10\n",
            "60000/60000 [==============================] - 1s 11us/sample - loss: 0.4779 - acc: 0.8379 - val_loss: 0.5094 - val_acc: 0.8272\n",
            "Epoch 7/10\n",
            "60000/60000 [==============================] - 1s 11us/sample - loss: 0.4770 - acc: 0.8387 - val_loss: 0.5092 - val_acc: 0.8271\n",
            "Epoch 8/10\n",
            "60000/60000 [==============================] - 1s 11us/sample - loss: 0.4770 - acc: 0.8379 - val_loss: 0.5087 - val_acc: 0.8269\n",
            "Epoch 9/10\n",
            "60000/60000 [==============================] - 1s 11us/sample - loss: 0.4760 - acc: 0.8390 - val_loss: 0.5082 - val_acc: 0.8275\n",
            "Epoch 10/10\n",
            "60000/60000 [==============================] - 1s 11us/sample - loss: 0.4759 - acc: 0.8392 - val_loss: 0.5079 - val_acc: 0.8268\n"
          ],
          "name": "stdout"
        },
        {
          "output_type": "execute_result",
          "data": {
            "text/plain": [
              "<tensorflow.python.keras.callbacks.History at 0x7f64da60aa58>"
            ]
          },
          "metadata": {
            "tags": []
          },
          "execution_count": 18
        }
      ]
    },
    {
      "cell_type": "markdown",
      "metadata": {
        "colab_type": "text",
        "id": "1eYl8y6b7gX_"
      },
      "source": [
        "### Build the Neural Network model with 3 Dense layers with 100,100,10 neurons respectively in each layer. Use cross entropy loss function and singmoid as activation in the hidden layers and softmax as activation function in the output layer. Use sgd optimizer with learning rate 0.03."
      ]
    },
    {
      "cell_type": "code",
      "metadata": {
        "colab_type": "code",
        "id": "7nC5cXGU791x",
        "colab": {}
      },
      "source": [
        "#Initialize Sequential model\n",
        "model = tf.keras.models.Sequential()\n",
        "\n",
        "#Reshape data from 2D to 1D -> 28x28 to 784\n",
        "model.add(tf.keras.layers.Reshape((784,),input_shape=(28,28,)))\n",
        "\n",
        "#Normalize the data\n",
        "model.add(tf.keras.layers.BatchNormalization())\n"
      ],
      "execution_count": 0,
      "outputs": []
    },
    {
      "cell_type": "code",
      "metadata": {
        "colab_type": "code",
        "id": "wg6m7flM7eju",
        "colab": {}
      },
      "source": [
        "#Add 1st hidden layer\n",
        "model.add(tf.keras.layers.Dense(100, activation='sigmoid'))"
      ],
      "execution_count": 0,
      "outputs": []
    },
    {
      "cell_type": "code",
      "metadata": {
        "colab_type": "code",
        "id": "7Lqg_5js8MS9",
        "colab": {}
      },
      "source": [
        "#Add 2nd hidden layer\n",
        "model.add(tf.keras.layers.Dense(100, activation='sigmoid'))"
      ],
      "execution_count": 0,
      "outputs": []
    },
    {
      "cell_type": "code",
      "metadata": {
        "colab_type": "code",
        "id": "9Kb8bgtk8TLa",
        "colab": {}
      },
      "source": [
        "#Add 3rd hidden layer\n",
        "model.add(tf.keras.layers.Dense(10, activation='sigmoid'))"
      ],
      "execution_count": 0,
      "outputs": []
    },
    {
      "cell_type": "code",
      "metadata": {
        "colab_type": "code",
        "id": "cgUP9QeQ8aVg",
        "colab": {}
      },
      "source": [
        "#Add OUTPUT layer\n",
        "model.add(tf.keras.layers.Dense(10, activation='softmax'))"
      ],
      "execution_count": 0,
      "outputs": []
    },
    {
      "cell_type": "code",
      "metadata": {
        "colab_type": "code",
        "id": "3fAKp_OX8eNj",
        "colab": {}
      },
      "source": [
        "sgd_optimizer = tf.keras.optimizers.SGD(lr=0.03)\n",
        "\n",
        "model.compile(optimizer=sgd_optimizer, loss='categorical_crossentropy', metrics=['accuracy'])"
      ],
      "execution_count": 0,
      "outputs": []
    },
    {
      "cell_type": "markdown",
      "metadata": {
        "colab_type": "text",
        "id": "cU_IPa_89DB6"
      },
      "source": [
        "## Review model"
      ]
    },
    {
      "cell_type": "code",
      "metadata": {
        "colab_type": "code",
        "id": "zPSuz3u589jT",
        "outputId": "4ddab82c-9d70-4a14-92f4-4dee2034c07c",
        "colab": {
          "base_uri": "https://localhost:8080/",
          "height": 369
        }
      },
      "source": [
        "model.summary()"
      ],
      "execution_count": 25,
      "outputs": [
        {
          "output_type": "stream",
          "text": [
            "Model: \"sequential_2\"\n",
            "_________________________________________________________________\n",
            "Layer (type)                 Output Shape              Param #   \n",
            "=================================================================\n",
            "reshape_2 (Reshape)          (None, 784)               0         \n",
            "_________________________________________________________________\n",
            "batch_normalization_1 (Batch (None, 784)               3136      \n",
            "_________________________________________________________________\n",
            "dense_2 (Dense)              (None, 100)               78500     \n",
            "_________________________________________________________________\n",
            "dense_3 (Dense)              (None, 100)               10100     \n",
            "_________________________________________________________________\n",
            "dense_4 (Dense)              (None, 10)                1010      \n",
            "_________________________________________________________________\n",
            "dense_5 (Dense)              (None, 10)                110       \n",
            "=================================================================\n",
            "Total params: 92,856\n",
            "Trainable params: 91,288\n",
            "Non-trainable params: 1,568\n",
            "_________________________________________________________________\n"
          ],
          "name": "stdout"
        }
      ]
    },
    {
      "cell_type": "markdown",
      "metadata": {
        "colab_type": "text",
        "id": "ena-ZwR-9Nmx"
      },
      "source": [
        "### Run the model"
      ]
    },
    {
      "cell_type": "code",
      "metadata": {
        "colab_type": "code",
        "id": "LQsqwB7N9PJr",
        "outputId": "1cf3427f-00b7-404e-a55b-5ad58696e1ba",
        "colab": {
          "base_uri": "https://localhost:8080/",
          "height": 404
        }
      },
      "source": [
        "model.fit(trainX, trainY, \n",
        "          validation_data=(testX, testY), \n",
        "          epochs=10,\n",
        "          batch_size=500)"
      ],
      "execution_count": 26,
      "outputs": [
        {
          "output_type": "stream",
          "text": [
            "Train on 60000 samples, validate on 10000 samples\n",
            "Epoch 1/10\n",
            "60000/60000 [==============================] - 1s 20us/sample - loss: 2.3261 - acc: 0.1226 - val_loss: 2.2806 - val_acc: 0.1310\n",
            "Epoch 2/10\n",
            "60000/60000 [==============================] - 1s 18us/sample - loss: 2.2668 - acc: 0.2111 - val_loss: 2.2510 - val_acc: 0.3258\n",
            "Epoch 3/10\n",
            "60000/60000 [==============================] - 1s 18us/sample - loss: 2.2359 - acc: 0.3675 - val_loss: 2.2174 - val_acc: 0.4095\n",
            "Epoch 4/10\n",
            "60000/60000 [==============================] - 1s 19us/sample - loss: 2.1955 - acc: 0.4164 - val_loss: 2.1702 - val_acc: 0.4078\n",
            "Epoch 5/10\n",
            "60000/60000 [==============================] - 1s 18us/sample - loss: 2.1398 - acc: 0.4199 - val_loss: 2.1062 - val_acc: 0.4279\n",
            "Epoch 6/10\n",
            "60000/60000 [==============================] - 1s 18us/sample - loss: 2.0668 - acc: 0.4434 - val_loss: 2.0244 - val_acc: 0.4438\n",
            "Epoch 7/10\n",
            "60000/60000 [==============================] - 1s 18us/sample - loss: 1.9763 - acc: 0.4636 - val_loss: 1.9261 - val_acc: 0.4621\n",
            "Epoch 8/10\n",
            "60000/60000 [==============================] - 1s 19us/sample - loss: 1.8712 - acc: 0.4949 - val_loss: 1.8161 - val_acc: 0.5196\n",
            "Epoch 9/10\n",
            "60000/60000 [==============================] - 1s 19us/sample - loss: 1.7585 - acc: 0.5474 - val_loss: 1.7038 - val_acc: 0.5560\n",
            "Epoch 10/10\n",
            "60000/60000 [==============================] - 1s 18us/sample - loss: 1.6487 - acc: 0.5719 - val_loss: 1.5993 - val_acc: 0.5796\n"
          ],
          "name": "stdout"
        },
        {
          "output_type": "execute_result",
          "data": {
            "text/plain": [
              "<tensorflow.python.keras.callbacks.History at 0x7f64f4e50c50>"
            ]
          },
          "metadata": {
            "tags": []
          },
          "execution_count": 26
        }
      ]
    },
    {
      "cell_type": "code",
      "metadata": {
        "id": "M-ytXyw5E-jY",
        "colab_type": "code",
        "colab": {
          "base_uri": "https://localhost:8080/",
          "height": 369
        },
        "outputId": "fd71b6b1-daaf-40f2-a07c-0bbaf51e1682"
      },
      "source": [
        "model.summary()"
      ],
      "execution_count": 28,
      "outputs": [
        {
          "output_type": "stream",
          "text": [
            "Model: \"sequential_2\"\n",
            "_________________________________________________________________\n",
            "Layer (type)                 Output Shape              Param #   \n",
            "=================================================================\n",
            "reshape_2 (Reshape)          (None, 784)               0         \n",
            "_________________________________________________________________\n",
            "batch_normalization_1 (Batch (None, 784)               3136      \n",
            "_________________________________________________________________\n",
            "dense_2 (Dense)              (None, 100)               78500     \n",
            "_________________________________________________________________\n",
            "dense_3 (Dense)              (None, 100)               10100     \n",
            "_________________________________________________________________\n",
            "dense_4 (Dense)              (None, 10)                1010      \n",
            "_________________________________________________________________\n",
            "dense_5 (Dense)              (None, 10)                110       \n",
            "=================================================================\n",
            "Total params: 92,856\n",
            "Trainable params: 91,288\n",
            "Non-trainable params: 1,568\n",
            "_________________________________________________________________\n"
          ],
          "name": "stdout"
        }
      ]
    },
    {
      "cell_type": "code",
      "metadata": {
        "id": "o1wyXC8HFCaf",
        "colab_type": "code",
        "colab": {}
      },
      "source": [
        ""
      ],
      "execution_count": 0,
      "outputs": []
    }
  ]
}