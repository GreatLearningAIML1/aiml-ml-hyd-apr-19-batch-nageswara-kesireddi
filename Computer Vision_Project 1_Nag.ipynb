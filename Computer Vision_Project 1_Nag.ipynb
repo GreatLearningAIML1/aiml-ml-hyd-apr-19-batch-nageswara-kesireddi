{
 "cells": [
  {
   "cell_type": "code",
   "execution_count": 2,
   "metadata": {
    "cellView": "form",
    "colab": {},
    "colab_type": "code",
    "id": "Xiv3AQq3BlZw"
   },
   "outputs": [],
   "source": [
    "### Plant - Bread Classification"
   ]
  },
  {
   "cell_type": "code",
   "execution_count": null,
   "metadata": {},
   "outputs": [],
   "source": []
  },
  {
   "cell_type": "markdown",
   "metadata": {
    "colab_type": "text",
    "id": "f61SxoeiExMz"
   },
   "source": []
  },
  {
   "cell_type": "markdown",
   "metadata": {
    "colab_type": "text",
    "id": "MXzW7km7_kVZ"
   },
   "source": [
    "**Reading the images and generating the train and test dataset**"
   ]
  },
  {
   "cell_type": "markdown",
   "metadata": {
    "colab_type": "text",
    "id": "HhpOmEbtEstv"
   },
   "source": []
  },
  {
   "cell_type": "code",
   "execution_count": 0,
   "metadata": {
    "colab": {},
    "colab_type": "code",
    "id": "YaBr-erZncce"
   },
   "outputs": [],
   "source": [
    "from google.colab import drive"
   ]
  },
  {
   "cell_type": "code",
   "execution_count": 2,
   "metadata": {
    "colab": {
     "base_uri": "https://localhost:8080/",
     "height": 35
    },
    "colab_type": "code",
    "id": "gF5meo6Pnd-y",
    "outputId": "442fb909-324d-4a1d-e3c5-4377f30c4689"
   },
   "outputs": [
    {
     "name": "stdout",
     "output_type": "stream",
     "text": [
      "Drive already mounted at /content/drive; to attempt to forcibly remount, call drive.mount(\"/content/drive\", force_remount=True).\n"
     ]
    }
   ],
   "source": [
    "drive.mount('/content/drive')"
   ]
  },
  {
   "cell_type": "code",
   "execution_count": 0,
   "metadata": {
    "colab": {},
    "colab_type": "code",
    "id": "ivJgjcGSnf-C"
   },
   "outputs": [],
   "source": [
    "import os\n",
    "os.chdir('/content/drive/My Drive/Colab Notebooks/ComputerVision_with_CNNs/Plant_Breed')"
   ]
  },
  {
   "cell_type": "markdown",
   "metadata": {
    "colab_type": "text",
    "id": "cfb_HX5H882h"
   },
   "source": [
    "**Unzip the Folders to get the train and test data**"
   ]
  },
  {
   "cell_type": "code",
   "execution_count": 0,
   "metadata": {
    "colab": {},
    "colab_type": "code",
    "id": "XuE6AcnM2Z1W"
   },
   "outputs": [],
   "source": [
    "#from zipfile import ZipFile\n",
    "#with ZipFile('train.zip', 'r') as z:\n",
    "#  z.extractall()"
   ]
  },
  {
   "cell_type": "code",
   "execution_count": 0,
   "metadata": {
    "colab": {},
    "colab_type": "code",
    "id": "OudDEvpd2djj"
   },
   "outputs": [],
   "source": [
    "#from zipfile import ZipFile\n",
    "#with ZipFile('test.zip', 'r') as z:\n",
    "#  z.extractall()"
   ]
  },
  {
   "cell_type": "markdown",
   "metadata": {
    "colab_type": "text",
    "id": "z25CcowXBjKo"
   },
   "source": [
    "# New Section"
   ]
  },
  {
   "cell_type": "code",
   "execution_count": 0,
   "metadata": {
    "colab": {},
    "colab_type": "code",
    "id": "ZSdUcumZp-LV"
   },
   "outputs": [],
   "source": [
    "import os\n",
    "os.chdir('/content/drive/My Drive/Colab Notebooks/ComputerVision_with_CNNs/Plant_Breed')"
   ]
  },
  {
   "cell_type": "code",
   "execution_count": 7,
   "metadata": {
    "colab": {
     "base_uri": "https://localhost:8080/",
     "height": 35
    },
    "colab_type": "code",
    "id": "4t42yJdqqAJV",
    "outputId": "97802b52-5d35-45cf-a9c7-cba708c9ecf8"
   },
   "outputs": [
    {
     "name": "stdout",
     "output_type": "stream",
     "text": [
      "Plant_Breed_Final_Solution.ipynb  \u001b[0m\u001b[01;34mtest\u001b[0m/  test.zip  \u001b[01;34mtrain\u001b[0m/  train.zip\n"
     ]
    }
   ],
   "source": [
    "ls"
   ]
  },
  {
   "cell_type": "code",
   "execution_count": 0,
   "metadata": {
    "colab": {},
    "colab_type": "code",
    "id": "iDMRsHgV2Yxt"
   },
   "outputs": [],
   "source": []
  },
  {
   "cell_type": "markdown",
   "metadata": {
    "colab_type": "text",
    "id": "bY9w-0H69e9W"
   },
   "source": [
    "***Change the Directory pointer to the Train Folder and reading the data ***"
   ]
  },
  {
   "cell_type": "code",
   "execution_count": 0,
   "metadata": {
    "colab": {},
    "colab_type": "code",
    "id": "44hPQNY-_6Zu"
   },
   "outputs": [],
   "source": [
    "x_train = []\n",
    "y_train = []"
   ]
  },
  {
   "cell_type": "code",
   "execution_count": 0,
   "metadata": {
    "colab": {},
    "colab_type": "code",
    "id": "zrEWFArOqFXs"
   },
   "outputs": [],
   "source": [
    "os.chdir('/content/drive/My Drive/Colab Notebooks/ComputerVision_with_CNNs/Plant_Breed/train')"
   ]
  },
  {
   "cell_type": "code",
   "execution_count": 10,
   "metadata": {
    "colab": {
     "base_uri": "https://localhost:8080/",
     "height": 228
    },
    "colab_type": "code",
    "id": "PfhxmZSxqNeg",
    "outputId": "d4ca7f04-5354-4ebe-99cf-6ce1fa777176"
   },
   "outputs": [
    {
     "data": {
      "text/plain": [
       "['Fat Hen',\n",
       " 'Small-flowered Cranesbill',\n",
       " 'Cleavers',\n",
       " 'Black-grass',\n",
       " 'Sugar beet',\n",
       " 'Shepherds Purse',\n",
       " 'Charlock',\n",
       " 'Loose Silky-bent',\n",
       " 'Scentless Mayweed',\n",
       " 'Maize',\n",
       " 'Common Chickweed',\n",
       " 'Common wheat']"
      ]
     },
     "execution_count": 10,
     "metadata": {
      "tags": []
     },
     "output_type": "execute_result"
    }
   ],
   "source": [
    "os.listdir()"
   ]
  },
  {
   "cell_type": "markdown",
   "metadata": {
    "colab_type": "text",
    "id": "0l2ko5bLAr_9"
   },
   "source": [
    "This indicates the directory has subfolders in it. so, we need to traverse through the directories and read the files."
   ]
  },
  {
   "cell_type": "code",
   "execution_count": 11,
   "metadata": {
    "colab": {
     "base_uri": "https://localhost:8080/",
     "height": 228
    },
    "colab_type": "code",
    "id": "8BYcVPZUqOMi",
    "outputId": "2b0de8f3-b784-4e68-99ab-42f75f1a6a6e"
   },
   "outputs": [
    {
     "name": "stdout",
     "output_type": "stream",
     "text": [
      "Fat Hen\n",
      "Small-flowered Cranesbill\n",
      "Cleavers\n",
      "Black-grass\n",
      "Sugar beet\n",
      "Shepherds Purse\n",
      "Charlock\n",
      "Loose Silky-bent\n",
      "Scentless Mayweed\n",
      "Maize\n",
      "Common Chickweed\n",
      "Common wheat\n"
     ]
    }
   ],
   "source": [
    "x_train = []\n",
    "y_train = []\n",
    "import cv2\n",
    "for i in os.listdir():\n",
    "    print(i)\n",
    "    if (os.path.isdir(i)):\n",
    "            for j in os.listdir(i):\n",
    "                try:\n",
    "                    dummy = cv2.imread('/content/drive/My Drive/Colab Notebooks/ComputerVision_with_CNNs/Plant_Breed/train/' + i + \"/\" + j)\n",
    "                    dummy = cv2.resize(dummy,(128,128))\n",
    "                    x_train.append(dummy)\n",
    "                    y_train.append(i)\n",
    "                except Exception as e:\n",
    "                    print(e)\n"
   ]
  },
  {
   "cell_type": "code",
   "execution_count": 12,
   "metadata": {
    "colab": {
     "base_uri": "https://localhost:8080/",
     "height": 879
    },
    "colab_type": "code",
    "id": "KVTWzHBLvLkR",
    "outputId": "2c3e8bca-94a7-4ce1-e54b-68aead7f337e"
   },
   "outputs": [
    {
     "data": {
      "text/plain": [
       "array([[[ 95, 110, 118],\n",
       "        [103, 119, 126],\n",
       "        [ 85,  92, 112],\n",
       "        ...,\n",
       "        [ 92, 111, 118],\n",
       "        [105, 126, 137],\n",
       "        [ 99, 119, 131]],\n",
       "\n",
       "       [[ 60,  68,  87],\n",
       "        [ 83,  97, 109],\n",
       "        [ 69,  80, 103],\n",
       "        ...,\n",
       "        [ 94, 110, 120],\n",
       "        [106, 125, 137],\n",
       "        [ 89, 114, 128]],\n",
       "\n",
       "       [[ 63,  75,  89],\n",
       "        [ 68,  85,  99],\n",
       "        [ 53,  71,  91],\n",
       "        ...,\n",
       "        [ 98, 111, 123],\n",
       "        [112, 130, 141],\n",
       "        [ 96, 119, 132]],\n",
       "\n",
       "       ...,\n",
       "\n",
       "       [[ 56,  56,  63],\n",
       "        [ 49,  47,  56],\n",
       "        [ 61,  58,  66],\n",
       "        ...,\n",
       "        [ 52,  50,  60],\n",
       "        [ 37,  35,  43],\n",
       "        [ 40,  41,  46]],\n",
       "\n",
       "       [[ 51,  53,  62],\n",
       "        [ 49,  48,  57],\n",
       "        [ 60,  56,  66],\n",
       "        ...,\n",
       "        [ 50,  48,  60],\n",
       "        [ 40,  40,  48],\n",
       "        [ 43,  43,  49]],\n",
       "\n",
       "       [[ 56,  57,  62],\n",
       "        [ 38,  38,  46],\n",
       "        [ 53,  50,  60],\n",
       "        ...,\n",
       "        [ 50,  48,  55],\n",
       "        [ 43,  43,  49],\n",
       "        [ 48,  47,  56]]], dtype=uint8)"
      ]
     },
     "execution_count": 12,
     "metadata": {
      "tags": []
     },
     "output_type": "execute_result"
    }
   ],
   "source": [
    "x_train[0]\n"
   ]
  },
  {
   "cell_type": "code",
   "execution_count": 13,
   "metadata": {
    "colab": {
     "base_uri": "https://localhost:8080/",
     "height": 1000
    },
    "colab_type": "code",
    "id": "Ppg74Em0bXZH",
    "outputId": "cdd416bc-1561-423d-fee1-3e77a8e7a2c5"
   },
   "outputs": [
    {
     "data": {
      "text/plain": [
       "['Fat Hen',\n",
       " 'Fat Hen',\n",
       " 'Fat Hen',\n",
       " 'Fat Hen',\n",
       " 'Fat Hen',\n",
       " 'Fat Hen',\n",
       " 'Fat Hen',\n",
       " 'Fat Hen',\n",
       " 'Fat Hen',\n",
       " 'Fat Hen',\n",
       " 'Fat Hen',\n",
       " 'Fat Hen',\n",
       " 'Fat Hen',\n",
       " 'Fat Hen',\n",
       " 'Fat Hen',\n",
       " 'Fat Hen',\n",
       " 'Fat Hen',\n",
       " 'Fat Hen',\n",
       " 'Fat Hen',\n",
       " 'Fat Hen',\n",
       " 'Fat Hen',\n",
       " 'Fat Hen',\n",
       " 'Fat Hen',\n",
       " 'Fat Hen',\n",
       " 'Fat Hen',\n",
       " 'Fat Hen',\n",
       " 'Fat Hen',\n",
       " 'Fat Hen',\n",
       " 'Fat Hen',\n",
       " 'Fat Hen',\n",
       " 'Fat Hen',\n",
       " 'Fat Hen',\n",
       " 'Fat Hen',\n",
       " 'Fat Hen',\n",
       " 'Fat Hen',\n",
       " 'Fat Hen',\n",
       " 'Fat Hen',\n",
       " 'Fat Hen',\n",
       " 'Fat Hen',\n",
       " 'Fat Hen',\n",
       " 'Fat Hen',\n",
       " 'Fat Hen',\n",
       " 'Fat Hen',\n",
       " 'Fat Hen',\n",
       " 'Fat Hen',\n",
       " 'Fat Hen',\n",
       " 'Fat Hen',\n",
       " 'Fat Hen',\n",
       " 'Fat Hen',\n",
       " 'Fat Hen',\n",
       " 'Fat Hen',\n",
       " 'Fat Hen',\n",
       " 'Fat Hen',\n",
       " 'Fat Hen',\n",
       " 'Fat Hen',\n",
       " 'Fat Hen',\n",
       " 'Fat Hen',\n",
       " 'Fat Hen',\n",
       " 'Fat Hen',\n",
       " 'Fat Hen',\n",
       " 'Fat Hen',\n",
       " 'Fat Hen',\n",
       " 'Fat Hen',\n",
       " 'Fat Hen',\n",
       " 'Fat Hen',\n",
       " 'Fat Hen',\n",
       " 'Fat Hen',\n",
       " 'Fat Hen',\n",
       " 'Fat Hen',\n",
       " 'Fat Hen',\n",
       " 'Fat Hen',\n",
       " 'Fat Hen',\n",
       " 'Fat Hen',\n",
       " 'Fat Hen',\n",
       " 'Fat Hen',\n",
       " 'Fat Hen',\n",
       " 'Fat Hen',\n",
       " 'Fat Hen',\n",
       " 'Fat Hen',\n",
       " 'Fat Hen',\n",
       " 'Fat Hen',\n",
       " 'Fat Hen',\n",
       " 'Fat Hen',\n",
       " 'Fat Hen',\n",
       " 'Fat Hen',\n",
       " 'Fat Hen',\n",
       " 'Fat Hen',\n",
       " 'Fat Hen',\n",
       " 'Fat Hen',\n",
       " 'Fat Hen',\n",
       " 'Fat Hen',\n",
       " 'Fat Hen',\n",
       " 'Fat Hen',\n",
       " 'Fat Hen',\n",
       " 'Fat Hen',\n",
       " 'Fat Hen',\n",
       " 'Fat Hen',\n",
       " 'Fat Hen',\n",
       " 'Fat Hen',\n",
       " 'Fat Hen',\n",
       " 'Fat Hen',\n",
       " 'Fat Hen',\n",
       " 'Fat Hen',\n",
       " 'Fat Hen',\n",
       " 'Fat Hen',\n",
       " 'Fat Hen',\n",
       " 'Fat Hen',\n",
       " 'Fat Hen',\n",
       " 'Fat Hen',\n",
       " 'Fat Hen',\n",
       " 'Fat Hen',\n",
       " 'Fat Hen',\n",
       " 'Fat Hen',\n",
       " 'Fat Hen',\n",
       " 'Fat Hen',\n",
       " 'Fat Hen',\n",
       " 'Fat Hen',\n",
       " 'Fat Hen',\n",
       " 'Fat Hen',\n",
       " 'Fat Hen',\n",
       " 'Fat Hen',\n",
       " 'Fat Hen',\n",
       " 'Fat Hen',\n",
       " 'Fat Hen',\n",
       " 'Fat Hen',\n",
       " 'Fat Hen',\n",
       " 'Fat Hen',\n",
       " 'Fat Hen',\n",
       " 'Fat Hen',\n",
       " 'Fat Hen',\n",
       " 'Fat Hen',\n",
       " 'Fat Hen',\n",
       " 'Fat Hen',\n",
       " 'Fat Hen',\n",
       " 'Fat Hen',\n",
       " 'Fat Hen',\n",
       " 'Fat Hen',\n",
       " 'Fat Hen',\n",
       " 'Fat Hen',\n",
       " 'Fat Hen',\n",
       " 'Fat Hen',\n",
       " 'Fat Hen',\n",
       " 'Fat Hen',\n",
       " 'Fat Hen',\n",
       " 'Fat Hen',\n",
       " 'Fat Hen',\n",
       " 'Fat Hen',\n",
       " 'Fat Hen',\n",
       " 'Fat Hen',\n",
       " 'Fat Hen',\n",
       " 'Fat Hen',\n",
       " 'Fat Hen',\n",
       " 'Fat Hen',\n",
       " 'Fat Hen',\n",
       " 'Fat Hen',\n",
       " 'Fat Hen',\n",
       " 'Fat Hen',\n",
       " 'Fat Hen',\n",
       " 'Fat Hen',\n",
       " 'Fat Hen',\n",
       " 'Fat Hen',\n",
       " 'Fat Hen',\n",
       " 'Fat Hen',\n",
       " 'Fat Hen',\n",
       " 'Fat Hen',\n",
       " 'Fat Hen',\n",
       " 'Fat Hen',\n",
       " 'Fat Hen',\n",
       " 'Fat Hen',\n",
       " 'Fat Hen',\n",
       " 'Fat Hen',\n",
       " 'Fat Hen',\n",
       " 'Fat Hen',\n",
       " 'Fat Hen',\n",
       " 'Fat Hen',\n",
       " 'Fat Hen',\n",
       " 'Fat Hen',\n",
       " 'Fat Hen',\n",
       " 'Fat Hen',\n",
       " 'Fat Hen',\n",
       " 'Fat Hen',\n",
       " 'Fat Hen',\n",
       " 'Fat Hen',\n",
       " 'Fat Hen',\n",
       " 'Fat Hen',\n",
       " 'Fat Hen',\n",
       " 'Fat Hen',\n",
       " 'Fat Hen',\n",
       " 'Fat Hen',\n",
       " 'Fat Hen',\n",
       " 'Fat Hen',\n",
       " 'Fat Hen',\n",
       " 'Fat Hen',\n",
       " 'Fat Hen',\n",
       " 'Fat Hen',\n",
       " 'Fat Hen',\n",
       " 'Fat Hen',\n",
       " 'Fat Hen',\n",
       " 'Fat Hen',\n",
       " 'Fat Hen',\n",
       " 'Fat Hen',\n",
       " 'Fat Hen',\n",
       " 'Fat Hen',\n",
       " 'Fat Hen',\n",
       " 'Fat Hen',\n",
       " 'Fat Hen',\n",
       " 'Fat Hen',\n",
       " 'Fat Hen',\n",
       " 'Fat Hen',\n",
       " 'Fat Hen',\n",
       " 'Fat Hen',\n",
       " 'Fat Hen',\n",
       " 'Fat Hen',\n",
       " 'Fat Hen',\n",
       " 'Fat Hen',\n",
       " 'Fat Hen',\n",
       " 'Fat Hen',\n",
       " 'Fat Hen',\n",
       " 'Fat Hen',\n",
       " 'Fat Hen',\n",
       " 'Fat Hen',\n",
       " 'Fat Hen',\n",
       " 'Fat Hen',\n",
       " 'Fat Hen',\n",
       " 'Fat Hen',\n",
       " 'Fat Hen',\n",
       " 'Fat Hen',\n",
       " 'Fat Hen',\n",
       " 'Fat Hen',\n",
       " 'Fat Hen',\n",
       " 'Fat Hen',\n",
       " 'Fat Hen',\n",
       " 'Fat Hen',\n",
       " 'Fat Hen',\n",
       " 'Fat Hen',\n",
       " 'Fat Hen',\n",
       " 'Fat Hen',\n",
       " 'Fat Hen',\n",
       " 'Fat Hen',\n",
       " 'Fat Hen',\n",
       " 'Fat Hen',\n",
       " 'Fat Hen',\n",
       " 'Fat Hen',\n",
       " 'Fat Hen',\n",
       " 'Fat Hen',\n",
       " 'Fat Hen',\n",
       " 'Fat Hen',\n",
       " 'Fat Hen',\n",
       " 'Fat Hen',\n",
       " 'Fat Hen',\n",
       " 'Fat Hen',\n",
       " 'Fat Hen',\n",
       " 'Fat Hen',\n",
       " 'Fat Hen',\n",
       " 'Fat Hen',\n",
       " 'Fat Hen',\n",
       " 'Fat Hen',\n",
       " 'Fat Hen',\n",
       " 'Fat Hen',\n",
       " 'Fat Hen',\n",
       " 'Fat Hen',\n",
       " 'Fat Hen',\n",
       " 'Fat Hen',\n",
       " 'Fat Hen',\n",
       " 'Fat Hen',\n",
       " 'Fat Hen',\n",
       " 'Fat Hen',\n",
       " 'Fat Hen',\n",
       " 'Fat Hen',\n",
       " 'Fat Hen',\n",
       " 'Fat Hen',\n",
       " 'Fat Hen',\n",
       " 'Fat Hen',\n",
       " 'Fat Hen',\n",
       " 'Fat Hen',\n",
       " 'Fat Hen',\n",
       " 'Fat Hen',\n",
       " 'Fat Hen',\n",
       " 'Fat Hen',\n",
       " 'Fat Hen',\n",
       " 'Fat Hen',\n",
       " 'Fat Hen',\n",
       " 'Fat Hen',\n",
       " 'Fat Hen',\n",
       " 'Fat Hen',\n",
       " 'Fat Hen',\n",
       " 'Fat Hen',\n",
       " 'Fat Hen',\n",
       " 'Fat Hen',\n",
       " 'Fat Hen',\n",
       " 'Fat Hen',\n",
       " 'Fat Hen',\n",
       " 'Fat Hen',\n",
       " 'Fat Hen',\n",
       " 'Fat Hen',\n",
       " 'Fat Hen',\n",
       " 'Fat Hen',\n",
       " 'Fat Hen',\n",
       " 'Fat Hen',\n",
       " 'Fat Hen',\n",
       " 'Fat Hen',\n",
       " 'Fat Hen',\n",
       " 'Fat Hen',\n",
       " 'Fat Hen',\n",
       " 'Fat Hen',\n",
       " 'Fat Hen',\n",
       " 'Fat Hen',\n",
       " 'Fat Hen',\n",
       " 'Fat Hen',\n",
       " 'Fat Hen',\n",
       " 'Fat Hen',\n",
       " 'Fat Hen',\n",
       " 'Fat Hen',\n",
       " 'Fat Hen',\n",
       " 'Fat Hen',\n",
       " 'Fat Hen',\n",
       " 'Fat Hen',\n",
       " 'Fat Hen',\n",
       " 'Fat Hen',\n",
       " 'Fat Hen',\n",
       " 'Fat Hen',\n",
       " 'Fat Hen',\n",
       " 'Fat Hen',\n",
       " 'Fat Hen',\n",
       " 'Fat Hen',\n",
       " 'Fat Hen',\n",
       " 'Fat Hen',\n",
       " 'Fat Hen',\n",
       " 'Fat Hen',\n",
       " 'Fat Hen',\n",
       " 'Fat Hen',\n",
       " 'Fat Hen',\n",
       " 'Fat Hen',\n",
       " 'Fat Hen',\n",
       " 'Fat Hen',\n",
       " 'Fat Hen',\n",
       " 'Fat Hen',\n",
       " 'Fat Hen',\n",
       " 'Fat Hen',\n",
       " 'Fat Hen',\n",
       " 'Fat Hen',\n",
       " 'Fat Hen',\n",
       " 'Fat Hen',\n",
       " 'Fat Hen',\n",
       " 'Fat Hen',\n",
       " 'Fat Hen',\n",
       " 'Fat Hen',\n",
       " 'Fat Hen',\n",
       " 'Fat Hen',\n",
       " 'Fat Hen',\n",
       " 'Fat Hen',\n",
       " 'Fat Hen',\n",
       " 'Fat Hen',\n",
       " 'Fat Hen',\n",
       " 'Fat Hen',\n",
       " 'Fat Hen',\n",
       " 'Fat Hen',\n",
       " 'Fat Hen',\n",
       " 'Fat Hen',\n",
       " 'Fat Hen',\n",
       " 'Fat Hen',\n",
       " 'Fat Hen',\n",
       " 'Fat Hen',\n",
       " 'Fat Hen',\n",
       " 'Fat Hen',\n",
       " 'Fat Hen',\n",
       " 'Fat Hen',\n",
       " 'Fat Hen',\n",
       " 'Fat Hen',\n",
       " 'Fat Hen',\n",
       " 'Fat Hen',\n",
       " 'Fat Hen',\n",
       " 'Fat Hen',\n",
       " 'Fat Hen',\n",
       " 'Fat Hen',\n",
       " 'Fat Hen',\n",
       " 'Fat Hen',\n",
       " 'Fat Hen',\n",
       " 'Fat Hen',\n",
       " 'Fat Hen',\n",
       " 'Fat Hen',\n",
       " 'Fat Hen',\n",
       " 'Fat Hen',\n",
       " 'Fat Hen',\n",
       " 'Fat Hen',\n",
       " 'Fat Hen',\n",
       " 'Fat Hen',\n",
       " 'Fat Hen',\n",
       " 'Fat Hen',\n",
       " 'Fat Hen',\n",
       " 'Fat Hen',\n",
       " 'Fat Hen',\n",
       " 'Fat Hen',\n",
       " 'Fat Hen',\n",
       " 'Fat Hen',\n",
       " 'Fat Hen',\n",
       " 'Fat Hen',\n",
       " 'Fat Hen',\n",
       " 'Fat Hen',\n",
       " 'Fat Hen',\n",
       " 'Fat Hen',\n",
       " 'Fat Hen',\n",
       " 'Fat Hen',\n",
       " 'Fat Hen',\n",
       " 'Fat Hen',\n",
       " 'Fat Hen',\n",
       " 'Fat Hen',\n",
       " 'Fat Hen',\n",
       " 'Fat Hen',\n",
       " 'Fat Hen',\n",
       " 'Fat Hen',\n",
       " 'Fat Hen',\n",
       " 'Fat Hen',\n",
       " 'Fat Hen',\n",
       " 'Fat Hen',\n",
       " 'Fat Hen',\n",
       " 'Fat Hen',\n",
       " 'Fat Hen',\n",
       " 'Fat Hen',\n",
       " 'Fat Hen',\n",
       " 'Fat Hen',\n",
       " 'Fat Hen',\n",
       " 'Fat Hen',\n",
       " 'Fat Hen',\n",
       " 'Fat Hen',\n",
       " 'Fat Hen',\n",
       " 'Fat Hen',\n",
       " 'Fat Hen',\n",
       " 'Fat Hen',\n",
       " 'Fat Hen',\n",
       " 'Fat Hen',\n",
       " 'Fat Hen',\n",
       " 'Fat Hen',\n",
       " 'Fat Hen',\n",
       " 'Fat Hen',\n",
       " 'Fat Hen',\n",
       " 'Fat Hen',\n",
       " 'Fat Hen',\n",
       " 'Fat Hen',\n",
       " 'Fat Hen',\n",
       " 'Fat Hen',\n",
       " 'Fat Hen',\n",
       " 'Fat Hen',\n",
       " 'Fat Hen',\n",
       " 'Fat Hen',\n",
       " 'Fat Hen',\n",
       " 'Fat Hen',\n",
       " 'Fat Hen',\n",
       " 'Fat Hen',\n",
       " 'Fat Hen',\n",
       " 'Fat Hen',\n",
       " 'Fat Hen',\n",
       " 'Fat Hen',\n",
       " 'Fat Hen',\n",
       " 'Fat Hen',\n",
       " 'Fat Hen',\n",
       " 'Fat Hen',\n",
       " 'Fat Hen',\n",
       " 'Fat Hen',\n",
       " 'Fat Hen',\n",
       " 'Fat Hen',\n",
       " 'Fat Hen',\n",
       " 'Fat Hen',\n",
       " 'Fat Hen',\n",
       " 'Fat Hen',\n",
       " 'Fat Hen',\n",
       " 'Fat Hen',\n",
       " 'Fat Hen',\n",
       " 'Fat Hen',\n",
       " 'Fat Hen',\n",
       " 'Fat Hen',\n",
       " 'Fat Hen',\n",
       " 'Fat Hen',\n",
       " 'Fat Hen',\n",
       " 'Fat Hen',\n",
       " 'Small-flowered Cranesbill',\n",
       " 'Small-flowered Cranesbill',\n",
       " 'Small-flowered Cranesbill',\n",
       " 'Small-flowered Cranesbill',\n",
       " 'Small-flowered Cranesbill',\n",
       " 'Small-flowered Cranesbill',\n",
       " 'Small-flowered Cranesbill',\n",
       " 'Small-flowered Cranesbill',\n",
       " 'Small-flowered Cranesbill',\n",
       " 'Small-flowered Cranesbill',\n",
       " 'Small-flowered Cranesbill',\n",
       " 'Small-flowered Cranesbill',\n",
       " 'Small-flowered Cranesbill',\n",
       " 'Small-flowered Cranesbill',\n",
       " 'Small-flowered Cranesbill',\n",
       " 'Small-flowered Cranesbill',\n",
       " 'Small-flowered Cranesbill',\n",
       " 'Small-flowered Cranesbill',\n",
       " 'Small-flowered Cranesbill',\n",
       " 'Small-flowered Cranesbill',\n",
       " 'Small-flowered Cranesbill',\n",
       " 'Small-flowered Cranesbill',\n",
       " 'Small-flowered Cranesbill',\n",
       " 'Small-flowered Cranesbill',\n",
       " 'Small-flowered Cranesbill',\n",
       " 'Small-flowered Cranesbill',\n",
       " 'Small-flowered Cranesbill',\n",
       " 'Small-flowered Cranesbill',\n",
       " 'Small-flowered Cranesbill',\n",
       " 'Small-flowered Cranesbill',\n",
       " 'Small-flowered Cranesbill',\n",
       " 'Small-flowered Cranesbill',\n",
       " 'Small-flowered Cranesbill',\n",
       " 'Small-flowered Cranesbill',\n",
       " 'Small-flowered Cranesbill',\n",
       " 'Small-flowered Cranesbill',\n",
       " 'Small-flowered Cranesbill',\n",
       " 'Small-flowered Cranesbill',\n",
       " 'Small-flowered Cranesbill',\n",
       " 'Small-flowered Cranesbill',\n",
       " 'Small-flowered Cranesbill',\n",
       " 'Small-flowered Cranesbill',\n",
       " 'Small-flowered Cranesbill',\n",
       " 'Small-flowered Cranesbill',\n",
       " 'Small-flowered Cranesbill',\n",
       " 'Small-flowered Cranesbill',\n",
       " 'Small-flowered Cranesbill',\n",
       " 'Small-flowered Cranesbill',\n",
       " 'Small-flowered Cranesbill',\n",
       " 'Small-flowered Cranesbill',\n",
       " 'Small-flowered Cranesbill',\n",
       " 'Small-flowered Cranesbill',\n",
       " 'Small-flowered Cranesbill',\n",
       " 'Small-flowered Cranesbill',\n",
       " 'Small-flowered Cranesbill',\n",
       " 'Small-flowered Cranesbill',\n",
       " 'Small-flowered Cranesbill',\n",
       " 'Small-flowered Cranesbill',\n",
       " 'Small-flowered Cranesbill',\n",
       " 'Small-flowered Cranesbill',\n",
       " 'Small-flowered Cranesbill',\n",
       " 'Small-flowered Cranesbill',\n",
       " 'Small-flowered Cranesbill',\n",
       " 'Small-flowered Cranesbill',\n",
       " 'Small-flowered Cranesbill',\n",
       " 'Small-flowered Cranesbill',\n",
       " 'Small-flowered Cranesbill',\n",
       " 'Small-flowered Cranesbill',\n",
       " 'Small-flowered Cranesbill',\n",
       " 'Small-flowered Cranesbill',\n",
       " 'Small-flowered Cranesbill',\n",
       " 'Small-flowered Cranesbill',\n",
       " 'Small-flowered Cranesbill',\n",
       " 'Small-flowered Cranesbill',\n",
       " 'Small-flowered Cranesbill',\n",
       " 'Small-flowered Cranesbill',\n",
       " 'Small-flowered Cranesbill',\n",
       " 'Small-flowered Cranesbill',\n",
       " 'Small-flowered Cranesbill',\n",
       " 'Small-flowered Cranesbill',\n",
       " 'Small-flowered Cranesbill',\n",
       " 'Small-flowered Cranesbill',\n",
       " 'Small-flowered Cranesbill',\n",
       " 'Small-flowered Cranesbill',\n",
       " 'Small-flowered Cranesbill',\n",
       " 'Small-flowered Cranesbill',\n",
       " 'Small-flowered Cranesbill',\n",
       " 'Small-flowered Cranesbill',\n",
       " 'Small-flowered Cranesbill',\n",
       " 'Small-flowered Cranesbill',\n",
       " 'Small-flowered Cranesbill',\n",
       " 'Small-flowered Cranesbill',\n",
       " 'Small-flowered Cranesbill',\n",
       " 'Small-flowered Cranesbill',\n",
       " 'Small-flowered Cranesbill',\n",
       " 'Small-flowered Cranesbill',\n",
       " 'Small-flowered Cranesbill',\n",
       " 'Small-flowered Cranesbill',\n",
       " 'Small-flowered Cranesbill',\n",
       " 'Small-flowered Cranesbill',\n",
       " 'Small-flowered Cranesbill',\n",
       " 'Small-flowered Cranesbill',\n",
       " 'Small-flowered Cranesbill',\n",
       " 'Small-flowered Cranesbill',\n",
       " 'Small-flowered Cranesbill',\n",
       " 'Small-flowered Cranesbill',\n",
       " 'Small-flowered Cranesbill',\n",
       " 'Small-flowered Cranesbill',\n",
       " 'Small-flowered Cranesbill',\n",
       " 'Small-flowered Cranesbill',\n",
       " 'Small-flowered Cranesbill',\n",
       " 'Small-flowered Cranesbill',\n",
       " 'Small-flowered Cranesbill',\n",
       " 'Small-flowered Cranesbill',\n",
       " 'Small-flowered Cranesbill',\n",
       " 'Small-flowered Cranesbill',\n",
       " 'Small-flowered Cranesbill',\n",
       " 'Small-flowered Cranesbill',\n",
       " 'Small-flowered Cranesbill',\n",
       " 'Small-flowered Cranesbill',\n",
       " 'Small-flowered Cranesbill',\n",
       " 'Small-flowered Cranesbill',\n",
       " 'Small-flowered Cranesbill',\n",
       " 'Small-flowered Cranesbill',\n",
       " 'Small-flowered Cranesbill',\n",
       " 'Small-flowered Cranesbill',\n",
       " 'Small-flowered Cranesbill',\n",
       " 'Small-flowered Cranesbill',\n",
       " 'Small-flowered Cranesbill',\n",
       " 'Small-flowered Cranesbill',\n",
       " 'Small-flowered Cranesbill',\n",
       " 'Small-flowered Cranesbill',\n",
       " 'Small-flowered Cranesbill',\n",
       " 'Small-flowered Cranesbill',\n",
       " 'Small-flowered Cranesbill',\n",
       " 'Small-flowered Cranesbill',\n",
       " 'Small-flowered Cranesbill',\n",
       " 'Small-flowered Cranesbill',\n",
       " 'Small-flowered Cranesbill',\n",
       " 'Small-flowered Cranesbill',\n",
       " 'Small-flowered Cranesbill',\n",
       " 'Small-flowered Cranesbill',\n",
       " 'Small-flowered Cranesbill',\n",
       " 'Small-flowered Cranesbill',\n",
       " 'Small-flowered Cranesbill',\n",
       " 'Small-flowered Cranesbill',\n",
       " 'Small-flowered Cranesbill',\n",
       " 'Small-flowered Cranesbill',\n",
       " 'Small-flowered Cranesbill',\n",
       " 'Small-flowered Cranesbill',\n",
       " 'Small-flowered Cranesbill',\n",
       " 'Small-flowered Cranesbill',\n",
       " 'Small-flowered Cranesbill',\n",
       " 'Small-flowered Cranesbill',\n",
       " 'Small-flowered Cranesbill',\n",
       " 'Small-flowered Cranesbill',\n",
       " 'Small-flowered Cranesbill',\n",
       " 'Small-flowered Cranesbill',\n",
       " 'Small-flowered Cranesbill',\n",
       " 'Small-flowered Cranesbill',\n",
       " 'Small-flowered Cranesbill',\n",
       " 'Small-flowered Cranesbill',\n",
       " 'Small-flowered Cranesbill',\n",
       " 'Small-flowered Cranesbill',\n",
       " 'Small-flowered Cranesbill',\n",
       " 'Small-flowered Cranesbill',\n",
       " 'Small-flowered Cranesbill',\n",
       " 'Small-flowered Cranesbill',\n",
       " 'Small-flowered Cranesbill',\n",
       " 'Small-flowered Cranesbill',\n",
       " 'Small-flowered Cranesbill',\n",
       " 'Small-flowered Cranesbill',\n",
       " 'Small-flowered Cranesbill',\n",
       " 'Small-flowered Cranesbill',\n",
       " 'Small-flowered Cranesbill',\n",
       " 'Small-flowered Cranesbill',\n",
       " 'Small-flowered Cranesbill',\n",
       " 'Small-flowered Cranesbill',\n",
       " 'Small-flowered Cranesbill',\n",
       " 'Small-flowered Cranesbill',\n",
       " 'Small-flowered Cranesbill',\n",
       " 'Small-flowered Cranesbill',\n",
       " 'Small-flowered Cranesbill',\n",
       " 'Small-flowered Cranesbill',\n",
       " 'Small-flowered Cranesbill',\n",
       " 'Small-flowered Cranesbill',\n",
       " 'Small-flowered Cranesbill',\n",
       " 'Small-flowered Cranesbill',\n",
       " 'Small-flowered Cranesbill',\n",
       " 'Small-flowered Cranesbill',\n",
       " 'Small-flowered Cranesbill',\n",
       " 'Small-flowered Cranesbill',\n",
       " 'Small-flowered Cranesbill',\n",
       " 'Small-flowered Cranesbill',\n",
       " 'Small-flowered Cranesbill',\n",
       " 'Small-flowered Cranesbill',\n",
       " 'Small-flowered Cranesbill',\n",
       " 'Small-flowered Cranesbill',\n",
       " 'Small-flowered Cranesbill',\n",
       " 'Small-flowered Cranesbill',\n",
       " 'Small-flowered Cranesbill',\n",
       " 'Small-flowered Cranesbill',\n",
       " 'Small-flowered Cranesbill',\n",
       " 'Small-flowered Cranesbill',\n",
       " 'Small-flowered Cranesbill',\n",
       " 'Small-flowered Cranesbill',\n",
       " 'Small-flowered Cranesbill',\n",
       " 'Small-flowered Cranesbill',\n",
       " 'Small-flowered Cranesbill',\n",
       " 'Small-flowered Cranesbill',\n",
       " 'Small-flowered Cranesbill',\n",
       " 'Small-flowered Cranesbill',\n",
       " 'Small-flowered Cranesbill',\n",
       " 'Small-flowered Cranesbill',\n",
       " 'Small-flowered Cranesbill',\n",
       " 'Small-flowered Cranesbill',\n",
       " 'Small-flowered Cranesbill',\n",
       " 'Small-flowered Cranesbill',\n",
       " 'Small-flowered Cranesbill',\n",
       " 'Small-flowered Cranesbill',\n",
       " 'Small-flowered Cranesbill',\n",
       " 'Small-flowered Cranesbill',\n",
       " 'Small-flowered Cranesbill',\n",
       " 'Small-flowered Cranesbill',\n",
       " 'Small-flowered Cranesbill',\n",
       " 'Small-flowered Cranesbill',\n",
       " 'Small-flowered Cranesbill',\n",
       " 'Small-flowered Cranesbill',\n",
       " 'Small-flowered Cranesbill',\n",
       " 'Small-flowered Cranesbill',\n",
       " 'Small-flowered Cranesbill',\n",
       " 'Small-flowered Cranesbill',\n",
       " 'Small-flowered Cranesbill',\n",
       " 'Small-flowered Cranesbill',\n",
       " 'Small-flowered Cranesbill',\n",
       " 'Small-flowered Cranesbill',\n",
       " 'Small-flowered Cranesbill',\n",
       " 'Small-flowered Cranesbill',\n",
       " 'Small-flowered Cranesbill',\n",
       " 'Small-flowered Cranesbill',\n",
       " 'Small-flowered Cranesbill',\n",
       " 'Small-flowered Cranesbill',\n",
       " 'Small-flowered Cranesbill',\n",
       " 'Small-flowered Cranesbill',\n",
       " 'Small-flowered Cranesbill',\n",
       " 'Small-flowered Cranesbill',\n",
       " 'Small-flowered Cranesbill',\n",
       " 'Small-flowered Cranesbill',\n",
       " 'Small-flowered Cranesbill',\n",
       " 'Small-flowered Cranesbill',\n",
       " 'Small-flowered Cranesbill',\n",
       " 'Small-flowered Cranesbill',\n",
       " 'Small-flowered Cranesbill',\n",
       " 'Small-flowered Cranesbill',\n",
       " 'Small-flowered Cranesbill',\n",
       " 'Small-flowered Cranesbill',\n",
       " 'Small-flowered Cranesbill',\n",
       " 'Small-flowered Cranesbill',\n",
       " 'Small-flowered Cranesbill',\n",
       " 'Small-flowered Cranesbill',\n",
       " 'Small-flowered Cranesbill',\n",
       " 'Small-flowered Cranesbill',\n",
       " 'Small-flowered Cranesbill',\n",
       " 'Small-flowered Cranesbill',\n",
       " 'Small-flowered Cranesbill',\n",
       " 'Small-flowered Cranesbill',\n",
       " 'Small-flowered Cranesbill',\n",
       " 'Small-flowered Cranesbill',\n",
       " 'Small-flowered Cranesbill',\n",
       " 'Small-flowered Cranesbill',\n",
       " 'Small-flowered Cranesbill',\n",
       " 'Small-flowered Cranesbill',\n",
       " 'Small-flowered Cranesbill',\n",
       " 'Small-flowered Cranesbill',\n",
       " 'Small-flowered Cranesbill',\n",
       " 'Small-flowered Cranesbill',\n",
       " 'Small-flowered Cranesbill',\n",
       " 'Small-flowered Cranesbill',\n",
       " 'Small-flowered Cranesbill',\n",
       " 'Small-flowered Cranesbill',\n",
       " 'Small-flowered Cranesbill',\n",
       " 'Small-flowered Cranesbill',\n",
       " 'Small-flowered Cranesbill',\n",
       " 'Small-flowered Cranesbill',\n",
       " 'Small-flowered Cranesbill',\n",
       " 'Small-flowered Cranesbill',\n",
       " 'Small-flowered Cranesbill',\n",
       " 'Small-flowered Cranesbill',\n",
       " 'Small-flowered Cranesbill',\n",
       " 'Small-flowered Cranesbill',\n",
       " 'Small-flowered Cranesbill',\n",
       " 'Small-flowered Cranesbill',\n",
       " 'Small-flowered Cranesbill',\n",
       " 'Small-flowered Cranesbill',\n",
       " 'Small-flowered Cranesbill',\n",
       " 'Small-flowered Cranesbill',\n",
       " 'Small-flowered Cranesbill',\n",
       " 'Small-flowered Cranesbill',\n",
       " 'Small-flowered Cranesbill',\n",
       " 'Small-flowered Cranesbill',\n",
       " 'Small-flowered Cranesbill',\n",
       " 'Small-flowered Cranesbill',\n",
       " 'Small-flowered Cranesbill',\n",
       " 'Small-flowered Cranesbill',\n",
       " 'Small-flowered Cranesbill',\n",
       " 'Small-flowered Cranesbill',\n",
       " 'Small-flowered Cranesbill',\n",
       " 'Small-flowered Cranesbill',\n",
       " 'Small-flowered Cranesbill',\n",
       " 'Small-flowered Cranesbill',\n",
       " 'Small-flowered Cranesbill',\n",
       " 'Small-flowered Cranesbill',\n",
       " 'Small-flowered Cranesbill',\n",
       " 'Small-flowered Cranesbill',\n",
       " 'Small-flowered Cranesbill',\n",
       " 'Small-flowered Cranesbill',\n",
       " 'Small-flowered Cranesbill',\n",
       " 'Small-flowered Cranesbill',\n",
       " 'Small-flowered Cranesbill',\n",
       " 'Small-flowered Cranesbill',\n",
       " 'Small-flowered Cranesbill',\n",
       " 'Small-flowered Cranesbill',\n",
       " 'Small-flowered Cranesbill',\n",
       " 'Small-flowered Cranesbill',\n",
       " 'Small-flowered Cranesbill',\n",
       " 'Small-flowered Cranesbill',\n",
       " 'Small-flowered Cranesbill',\n",
       " 'Small-flowered Cranesbill',\n",
       " 'Small-flowered Cranesbill',\n",
       " 'Small-flowered Cranesbill',\n",
       " 'Small-flowered Cranesbill',\n",
       " 'Small-flowered Cranesbill',\n",
       " 'Small-flowered Cranesbill',\n",
       " 'Small-flowered Cranesbill',\n",
       " 'Small-flowered Cranesbill',\n",
       " 'Small-flowered Cranesbill',\n",
       " 'Small-flowered Cranesbill',\n",
       " 'Small-flowered Cranesbill',\n",
       " 'Small-flowered Cranesbill',\n",
       " 'Small-flowered Cranesbill',\n",
       " 'Small-flowered Cranesbill',\n",
       " 'Small-flowered Cranesbill',\n",
       " 'Small-flowered Cranesbill',\n",
       " 'Small-flowered Cranesbill',\n",
       " 'Small-flowered Cranesbill',\n",
       " 'Small-flowered Cranesbill',\n",
       " 'Small-flowered Cranesbill',\n",
       " 'Small-flowered Cranesbill',\n",
       " 'Small-flowered Cranesbill',\n",
       " 'Small-flowered Cranesbill',\n",
       " 'Small-flowered Cranesbill',\n",
       " 'Small-flowered Cranesbill',\n",
       " 'Small-flowered Cranesbill',\n",
       " 'Small-flowered Cranesbill',\n",
       " 'Small-flowered Cranesbill',\n",
       " 'Small-flowered Cranesbill',\n",
       " 'Small-flowered Cranesbill',\n",
       " 'Small-flowered Cranesbill',\n",
       " 'Small-flowered Cranesbill',\n",
       " 'Small-flowered Cranesbill',\n",
       " 'Small-flowered Cranesbill',\n",
       " 'Small-flowered Cranesbill',\n",
       " 'Small-flowered Cranesbill',\n",
       " 'Small-flowered Cranesbill',\n",
       " 'Small-flowered Cranesbill',\n",
       " 'Small-flowered Cranesbill',\n",
       " 'Small-flowered Cranesbill',\n",
       " 'Small-flowered Cranesbill',\n",
       " 'Small-flowered Cranesbill',\n",
       " 'Small-flowered Cranesbill',\n",
       " 'Small-flowered Cranesbill',\n",
       " 'Small-flowered Cranesbill',\n",
       " 'Small-flowered Cranesbill',\n",
       " 'Small-flowered Cranesbill',\n",
       " 'Small-flowered Cranesbill',\n",
       " 'Small-flowered Cranesbill',\n",
       " 'Small-flowered Cranesbill',\n",
       " 'Small-flowered Cranesbill',\n",
       " 'Small-flowered Cranesbill',\n",
       " 'Small-flowered Cranesbill',\n",
       " 'Small-flowered Cranesbill',\n",
       " 'Small-flowered Cranesbill',\n",
       " 'Small-flowered Cranesbill',\n",
       " 'Small-flowered Cranesbill',\n",
       " 'Small-flowered Cranesbill',\n",
       " 'Small-flowered Cranesbill',\n",
       " 'Small-flowered Cranesbill',\n",
       " 'Small-flowered Cranesbill',\n",
       " 'Small-flowered Cranesbill',\n",
       " 'Small-flowered Cranesbill',\n",
       " 'Small-flowered Cranesbill',\n",
       " 'Small-flowered Cranesbill',\n",
       " 'Small-flowered Cranesbill',\n",
       " 'Small-flowered Cranesbill',\n",
       " 'Small-flowered Cranesbill',\n",
       " 'Small-flowered Cranesbill',\n",
       " 'Small-flowered Cranesbill',\n",
       " 'Small-flowered Cranesbill',\n",
       " 'Small-flowered Cranesbill',\n",
       " 'Small-flowered Cranesbill',\n",
       " 'Small-flowered Cranesbill',\n",
       " 'Small-flowered Cranesbill',\n",
       " 'Small-flowered Cranesbill',\n",
       " 'Small-flowered Cranesbill',\n",
       " 'Small-flowered Cranesbill',\n",
       " 'Small-flowered Cranesbill',\n",
       " 'Small-flowered Cranesbill',\n",
       " 'Small-flowered Cranesbill',\n",
       " 'Small-flowered Cranesbill',\n",
       " 'Small-flowered Cranesbill',\n",
       " 'Small-flowered Cranesbill',\n",
       " 'Small-flowered Cranesbill',\n",
       " 'Small-flowered Cranesbill',\n",
       " 'Small-flowered Cranesbill',\n",
       " 'Small-flowered Cranesbill',\n",
       " 'Small-flowered Cranesbill',\n",
       " 'Small-flowered Cranesbill',\n",
       " 'Small-flowered Cranesbill',\n",
       " 'Small-flowered Cranesbill',\n",
       " 'Small-flowered Cranesbill',\n",
       " 'Small-flowered Cranesbill',\n",
       " 'Small-flowered Cranesbill',\n",
       " 'Small-flowered Cranesbill',\n",
       " 'Small-flowered Cranesbill',\n",
       " 'Small-flowered Cranesbill',\n",
       " 'Small-flowered Cranesbill',\n",
       " 'Small-flowered Cranesbill',\n",
       " 'Small-flowered Cranesbill',\n",
       " 'Small-flowered Cranesbill',\n",
       " 'Small-flowered Cranesbill',\n",
       " 'Small-flowered Cranesbill',\n",
       " 'Small-flowered Cranesbill',\n",
       " 'Small-flowered Cranesbill',\n",
       " 'Small-flowered Cranesbill',\n",
       " 'Small-flowered Cranesbill',\n",
       " 'Small-flowered Cranesbill',\n",
       " 'Small-flowered Cranesbill',\n",
       " 'Small-flowered Cranesbill',\n",
       " 'Small-flowered Cranesbill',\n",
       " 'Small-flowered Cranesbill',\n",
       " 'Small-flowered Cranesbill',\n",
       " 'Small-flowered Cranesbill',\n",
       " 'Small-flowered Cranesbill',\n",
       " 'Small-flowered Cranesbill',\n",
       " 'Small-flowered Cranesbill',\n",
       " 'Small-flowered Cranesbill',\n",
       " 'Small-flowered Cranesbill',\n",
       " 'Small-flowered Cranesbill',\n",
       " 'Small-flowered Cranesbill',\n",
       " 'Small-flowered Cranesbill',\n",
       " 'Small-flowered Cranesbill',\n",
       " 'Small-flowered Cranesbill',\n",
       " 'Small-flowered Cranesbill',\n",
       " 'Small-flowered Cranesbill',\n",
       " 'Small-flowered Cranesbill',\n",
       " 'Small-flowered Cranesbill',\n",
       " 'Small-flowered Cranesbill',\n",
       " 'Small-flowered Cranesbill',\n",
       " 'Small-flowered Cranesbill',\n",
       " 'Small-flowered Cranesbill',\n",
       " 'Small-flowered Cranesbill',\n",
       " 'Small-flowered Cranesbill',\n",
       " 'Small-flowered Cranesbill',\n",
       " 'Small-flowered Cranesbill',\n",
       " 'Small-flowered Cranesbill',\n",
       " 'Small-flowered Cranesbill',\n",
       " 'Small-flowered Cranesbill',\n",
       " 'Small-flowered Cranesbill',\n",
       " 'Small-flowered Cranesbill',\n",
       " 'Small-flowered Cranesbill',\n",
       " 'Small-flowered Cranesbill',\n",
       " 'Small-flowered Cranesbill',\n",
       " 'Small-flowered Cranesbill',\n",
       " 'Small-flowered Cranesbill',\n",
       " 'Small-flowered Cranesbill',\n",
       " 'Small-flowered Cranesbill',\n",
       " 'Small-flowered Cranesbill',\n",
       " 'Small-flowered Cranesbill',\n",
       " 'Small-flowered Cranesbill',\n",
       " 'Small-flowered Cranesbill',\n",
       " 'Small-flowered Cranesbill',\n",
       " 'Small-flowered Cranesbill',\n",
       " 'Small-flowered Cranesbill',\n",
       " 'Small-flowered Cranesbill',\n",
       " 'Small-flowered Cranesbill',\n",
       " 'Small-flowered Cranesbill',\n",
       " 'Small-flowered Cranesbill',\n",
       " 'Small-flowered Cranesbill',\n",
       " 'Small-flowered Cranesbill',\n",
       " 'Small-flowered Cranesbill',\n",
       " 'Small-flowered Cranesbill',\n",
       " 'Small-flowered Cranesbill',\n",
       " 'Small-flowered Cranesbill',\n",
       " 'Small-flowered Cranesbill',\n",
       " 'Small-flowered Cranesbill',\n",
       " 'Small-flowered Cranesbill',\n",
       " 'Cleavers',\n",
       " 'Cleavers',\n",
       " 'Cleavers',\n",
       " 'Cleavers',\n",
       " 'Cleavers',\n",
       " 'Cleavers',\n",
       " 'Cleavers',\n",
       " 'Cleavers',\n",
       " 'Cleavers',\n",
       " 'Cleavers',\n",
       " 'Cleavers',\n",
       " 'Cleavers',\n",
       " 'Cleavers',\n",
       " 'Cleavers',\n",
       " 'Cleavers',\n",
       " 'Cleavers',\n",
       " 'Cleavers',\n",
       " 'Cleavers',\n",
       " 'Cleavers',\n",
       " 'Cleavers',\n",
       " 'Cleavers',\n",
       " 'Cleavers',\n",
       " 'Cleavers',\n",
       " 'Cleavers',\n",
       " 'Cleavers',\n",
       " 'Cleavers',\n",
       " 'Cleavers',\n",
       " 'Cleavers',\n",
       " 'Cleavers',\n",
       " ...]"
      ]
     },
     "execution_count": 13,
     "metadata": {
      "tags": []
     },
     "output_type": "execute_result"
    }
   ],
   "source": [
    "y_train"
   ]
  },
  {
   "cell_type": "code",
   "execution_count": 0,
   "metadata": {
    "colab": {},
    "colab_type": "code",
    "id": "jX9jD090uIxX"
   },
   "outputs": [],
   "source": [
    "import pandas as pd\n",
    "dum = pd.get_dummies(y_train)\n"
   ]
  },
  {
   "cell_type": "code",
   "execution_count": 15,
   "metadata": {
    "colab": {
     "base_uri": "https://localhost:8080/",
     "height": 220
    },
    "colab_type": "code",
    "id": "2LniWcretNjt",
    "outputId": "012b4c44-a54b-469d-8f01-ff35240335b0"
   },
   "outputs": [
    {
     "data": {
      "text/html": [
       "<div>\n",
       "<style scoped>\n",
       "    .dataframe tbody tr th:only-of-type {\n",
       "        vertical-align: middle;\n",
       "    }\n",
       "\n",
       "    .dataframe tbody tr th {\n",
       "        vertical-align: top;\n",
       "    }\n",
       "\n",
       "    .dataframe thead th {\n",
       "        text-align: right;\n",
       "    }\n",
       "</style>\n",
       "<table border=\"1\" class=\"dataframe\">\n",
       "  <thead>\n",
       "    <tr style=\"text-align: right;\">\n",
       "      <th></th>\n",
       "      <th>Black-grass</th>\n",
       "      <th>Charlock</th>\n",
       "      <th>Cleavers</th>\n",
       "      <th>Common Chickweed</th>\n",
       "      <th>Common wheat</th>\n",
       "      <th>Fat Hen</th>\n",
       "      <th>Loose Silky-bent</th>\n",
       "      <th>Maize</th>\n",
       "      <th>Scentless Mayweed</th>\n",
       "      <th>Shepherds Purse</th>\n",
       "      <th>Small-flowered Cranesbill</th>\n",
       "      <th>Sugar beet</th>\n",
       "    </tr>\n",
       "  </thead>\n",
       "  <tbody>\n",
       "    <tr>\n",
       "      <th>0</th>\n",
       "      <td>0</td>\n",
       "      <td>0</td>\n",
       "      <td>0</td>\n",
       "      <td>0</td>\n",
       "      <td>0</td>\n",
       "      <td>1</td>\n",
       "      <td>0</td>\n",
       "      <td>0</td>\n",
       "      <td>0</td>\n",
       "      <td>0</td>\n",
       "      <td>0</td>\n",
       "      <td>0</td>\n",
       "    </tr>\n",
       "    <tr>\n",
       "      <th>1</th>\n",
       "      <td>0</td>\n",
       "      <td>0</td>\n",
       "      <td>0</td>\n",
       "      <td>0</td>\n",
       "      <td>0</td>\n",
       "      <td>1</td>\n",
       "      <td>0</td>\n",
       "      <td>0</td>\n",
       "      <td>0</td>\n",
       "      <td>0</td>\n",
       "      <td>0</td>\n",
       "      <td>0</td>\n",
       "    </tr>\n",
       "    <tr>\n",
       "      <th>2</th>\n",
       "      <td>0</td>\n",
       "      <td>0</td>\n",
       "      <td>0</td>\n",
       "      <td>0</td>\n",
       "      <td>0</td>\n",
       "      <td>1</td>\n",
       "      <td>0</td>\n",
       "      <td>0</td>\n",
       "      <td>0</td>\n",
       "      <td>0</td>\n",
       "      <td>0</td>\n",
       "      <td>0</td>\n",
       "    </tr>\n",
       "    <tr>\n",
       "      <th>3</th>\n",
       "      <td>0</td>\n",
       "      <td>0</td>\n",
       "      <td>0</td>\n",
       "      <td>0</td>\n",
       "      <td>0</td>\n",
       "      <td>1</td>\n",
       "      <td>0</td>\n",
       "      <td>0</td>\n",
       "      <td>0</td>\n",
       "      <td>0</td>\n",
       "      <td>0</td>\n",
       "      <td>0</td>\n",
       "    </tr>\n",
       "    <tr>\n",
       "      <th>4</th>\n",
       "      <td>0</td>\n",
       "      <td>0</td>\n",
       "      <td>0</td>\n",
       "      <td>0</td>\n",
       "      <td>0</td>\n",
       "      <td>1</td>\n",
       "      <td>0</td>\n",
       "      <td>0</td>\n",
       "      <td>0</td>\n",
       "      <td>0</td>\n",
       "      <td>0</td>\n",
       "      <td>0</td>\n",
       "    </tr>\n",
       "  </tbody>\n",
       "</table>\n",
       "</div>"
      ],
      "text/plain": [
       "   Black-grass  Charlock  ...  Small-flowered Cranesbill  Sugar beet\n",
       "0            0         0  ...                          0           0\n",
       "1            0         0  ...                          0           0\n",
       "2            0         0  ...                          0           0\n",
       "3            0         0  ...                          0           0\n",
       "4            0         0  ...                          0           0\n",
       "\n",
       "[5 rows x 12 columns]"
      ]
     },
     "execution_count": 15,
     "metadata": {
      "tags": []
     },
     "output_type": "execute_result"
    }
   ],
   "source": [
    "encoded_labels = dum\n",
    "y_train = dum\n",
    "y_train.head()"
   ]
  },
  {
   "cell_type": "code",
   "execution_count": 16,
   "metadata": {
    "colab": {
     "base_uri": "https://localhost:8080/",
     "height": 35
    },
    "colab_type": "code",
    "id": "pGj5jKLQ9w12",
    "outputId": "b497a146-47a6-4ad0-8a85-bc15c3e3899e"
   },
   "outputs": [
    {
     "data": {
      "text/plain": [
       "(4750, 12)"
      ]
     },
     "execution_count": 16,
     "metadata": {
      "tags": []
     },
     "output_type": "execute_result"
    }
   ],
   "source": [
    "y_train.shape"
   ]
  },
  {
   "cell_type": "code",
   "execution_count": 17,
   "metadata": {
    "colab": {
     "base_uri": "https://localhost:8080/",
     "height": 140
    },
    "colab_type": "code",
    "id": "yW1MRzNzscJD",
    "outputId": "d2182745-d725-4619-83ef-36b59de72ced"
   },
   "outputs": [
    {
     "data": {
      "text/plain": [
       "array([[0, 0, 0, ..., 0, 0, 0],\n",
       "       [0, 0, 0, ..., 0, 0, 0],\n",
       "       [0, 0, 0, ..., 0, 0, 0],\n",
       "       ...,\n",
       "       [0, 0, 0, ..., 0, 0, 0],\n",
       "       [0, 0, 0, ..., 0, 0, 0],\n",
       "       [0, 0, 0, ..., 0, 0, 0]], dtype=uint8)"
      ]
     },
     "execution_count": 17,
     "metadata": {
      "tags": []
     },
     "output_type": "execute_result"
    }
   ],
   "source": [
    "import numpy as np\n",
    "y_train = np.array(y_train)\n",
    "y_train"
   ]
  },
  {
   "cell_type": "code",
   "execution_count": 0,
   "metadata": {
    "colab": {},
    "colab_type": "code",
    "id": "i_4kF4C9qV73"
   },
   "outputs": [],
   "source": [
    "x_train = np.array(x_train)"
   ]
  },
  {
   "cell_type": "code",
   "execution_count": 19,
   "metadata": {
    "colab": {
     "base_uri": "https://localhost:8080/",
     "height": 35
    },
    "colab_type": "code",
    "id": "69ZkfU51usBT",
    "outputId": "18dc11ce-1dd1-4e9a-b0a8-935a8579c009"
   },
   "outputs": [
    {
     "data": {
      "text/plain": [
       "(128, 128, 3)"
      ]
     },
     "execution_count": 19,
     "metadata": {
      "tags": []
     },
     "output_type": "execute_result"
    }
   ],
   "source": [
    "x_train[0].shape"
   ]
  },
  {
   "cell_type": "code",
   "execution_count": 0,
   "metadata": {
    "colab": {},
    "colab_type": "code",
    "id": "0TrzCejBjUOM"
   },
   "outputs": [],
   "source": [
    "# Now read and transform the x_test data."
   ]
  },
  {
   "cell_type": "code",
   "execution_count": 21,
   "metadata": {
    "colab": {
     "base_uri": "https://localhost:8080/",
     "height": 1000
    },
    "colab_type": "code",
    "id": "QsPoSsZ3nn2B",
    "outputId": "4f0d0fb3-d4c3-4142-a950-9a7d35a6b2bf"
   },
   "outputs": [
    {
     "name": "stdout",
     "output_type": "stream",
     "text": [
      "5315c2dca.png\n",
      "19618ad6a.png\n",
      "b7a7f6390.png\n",
      "c0461776c.png\n",
      "48231e475.png\n",
      "20e562fd5.png\n",
      "4bbfd1e05.png\n",
      "c7ae30f3a.png\n",
      "65d08b894.png\n",
      "1c52ea820.png\n",
      "1d0cbd819.png\n",
      "e3f50adfc.png\n",
      "fd87b36ae.png\n",
      "3f826b318.png\n",
      "54c8bb900.png\n",
      "3b73c3b61.png\n",
      "93079d970.png\n",
      "6ba4ef411.png\n",
      "7f46a71db.png\n",
      "fd253a74e.png\n",
      "4e69d100a.png\n",
      "33448fe39.png\n",
      "856f2910a.png\n",
      "acdb75e00.png\n",
      "a276c65f7.png\n",
      "e52493d0b.png\n",
      "12625488b.png\n",
      "9d3cb4745.png\n",
      "19b51843a.png\n",
      "976e4e079.png\n",
      "e0ec5b6a1.png\n",
      "d84d37a61.png\n",
      "22fbf13d6.png\n",
      "32c86784b.png\n",
      "406ecb5c5.png\n",
      "3fbd0fc6a.png\n",
      "4e1190d78.png\n",
      "b31292706.png\n",
      "219fd68d5.png\n",
      "3d67c434b.png\n",
      "502dff972.png\n",
      "6b9d6f8c9.png\n",
      "e9cd91682.png\n",
      "ae90f2827.png\n",
      "41f1c3cdb.png\n",
      "0c45ace27.png\n",
      "29bab7cad.png\n",
      "1f5e5554e.png\n",
      "66ab0e8d0.png\n",
      "187668bde.png\n",
      "bf3924a57.png\n",
      "851c90831.png\n",
      "8c98a6e9b.png\n",
      "64fe8beb9.png\n",
      "cf46d09c5.png\n",
      "b341d0aab.png\n",
      "c6c8d4ba0.png\n",
      "edfdb4aeb.png\n",
      "c0f5d9ac8.png\n",
      "2693e5c65.png\n",
      "0e8492cb1.png\n",
      "d93c7ab6d.png\n",
      "1bf9b94a6.png\n",
      "0ad9e7dfb.png\n",
      "ef9676433.png\n",
      "0bf7bfb05.png\n",
      "41e07778c.png\n",
      "8e3ed0a25.png\n",
      "37297a64c.png\n",
      "3dd52bd2a.png\n",
      "cadab6616.png\n",
      "c7eb96871.png\n",
      "279df95f2.png\n",
      "1f3f44563.png\n",
      "466bb6d3b.png\n",
      "0751c0bbc.png\n",
      "0ebf8f2f4.png\n",
      "f2dc546ca.png\n",
      "122913909.png\n",
      "17d5e5ac4.png\n",
      "a5db42f7d.png\n",
      "bffc08672.png\n",
      "4c8005bbc.png\n",
      "24c94a6ca.png\n",
      "534e74d83.png\n",
      "26e7ae885.png\n",
      "8585f9718.png\n",
      "b6a3f7876.png\n",
      "f9f35cbd4.png\n",
      "aee6fa3df.png\n",
      "e82017baa.png\n",
      "0ee4ad224.png\n",
      "e19673dc9.png\n",
      "3efa1f66c.png\n",
      "cfb18d262.png\n",
      "ace8761dd.png\n",
      "9fab816f2.png\n",
      "8874bba69.png\n",
      "a0f37c726.png\n",
      "cd5f0db1c.png\n",
      "e15fce4f2.png\n",
      "7e9cf1c46.png\n",
      "f1e87cba7.png\n",
      "7c85b0265.png\n",
      "7615e52d3.png\n",
      "780defa2e.png\n",
      "4b032563b.png\n",
      "1459e96a0.png\n",
      "8cfd98117.png\n",
      "6680836dd.png\n",
      "33748968f.png\n",
      "bb64660b7.png\n",
      "3e9f41817.png\n",
      "a800caead.png\n",
      "86c309150.png\n",
      "c069fc3fa.png\n",
      "71b232519.png\n",
      "4ac29bbf0.png\n",
      "9a3f20121.png\n",
      "35a90f8d0.png\n",
      "00ef713a8.png\n",
      "043449b0b.png\n",
      "37714071b.png\n",
      "74d810f87.png\n",
      "d2fd9df40.png\n",
      "c64370a72.png\n",
      "76555b064.png\n",
      "2bd74d2da.png\n",
      "550a8b7e6.png\n",
      "8a30b2de3.png\n",
      "c10ccbd82.png\n",
      "96ecad7a1.png\n",
      "dfb1d9012.png\n",
      "02cfeb38d.png\n",
      "c5078bac5.png\n",
      "e1809cef2.png\n",
      "429211ee6.png\n",
      "20ea96bcc.png\n",
      "6df8e31ea.png\n",
      "963544aa0.png\n",
      "c0bc3997b.png\n",
      "19fdf19fb.png\n",
      "7691014a1.png\n",
      "c75a82234.png\n",
      "71f5323c5.png\n",
      "98d819587.png\n",
      "1d321253f.png\n",
      "664194d19.png\n",
      "52dc7a4d6.png\n",
      "03566743d.png\n",
      "e98e5d1d5.png\n",
      "5bdcfa329.png\n",
      "2126dc71b.png\n",
      "b215531dd.png\n",
      "60f0bc617.png\n",
      "e7077322d.png\n",
      "2b55a2da2.png\n",
      "cec5bf198.png\n",
      "c6b76307d.png\n",
      "63c07d340.png\n",
      "9cce7328c.png\n",
      "5dcad9a53.png\n",
      "beebe5f4e.png\n",
      "2d992d1fb.png\n",
      "ce42adffb.png\n",
      "3eda9cbb6.png\n",
      "cb76a7766.png\n",
      "539961189.png\n",
      "cf90fc52d.png\n",
      "fa9f3a8f9.png\n",
      "e5368474f.png\n",
      "2f0004a7f.png\n",
      "0caeda5df.png\n",
      "6edb96d45.png\n",
      "17a78fb44.png\n",
      "fea1d13d6.png\n",
      "53e6e9000.png\n",
      "4e9d3765f.png\n",
      "59358cd44.png\n",
      "f1f7c833f.png\n",
      "0f6cbe5e8.png\n",
      "6be169e41.png\n",
      "bd72d4d8a.png\n",
      "8e29abce1.png\n",
      "866be78b0.png\n",
      "8cf909eb3.png\n",
      "e73e308be.png\n",
      "0086a6340.png\n",
      "e9d48d664.png\n",
      "800a8c17e.png\n",
      "9b9911f20.png\n",
      "23bc8ec4f.png\n",
      "0d31e6602.png\n",
      "adb7a032c.png\n",
      "7b52585da.png\n",
      "50de8a115.png\n",
      "8e2e5604e.png\n",
      "a0b393945.png\n",
      "a19c3faca.png\n",
      "07e62f903.png\n",
      "97844bfd5.png\n",
      "ef3e232ad.png\n",
      "8d6acbe9b.png\n",
      "8c9953903.png\n",
      "809eb0b82.png\n",
      "71e73a8a0.png\n",
      "c26ccf73c.png\n",
      "fb022edf9.png\n",
      "2ff5cb348.png\n",
      "824f5d4e5.png\n",
      "4c7838de4.png\n",
      "d6d31dcbe.png\n",
      "ef65533d5.png\n",
      "60fea2ef6.png\n",
      "b3d6fdb80.png\n",
      "36839d5e9.png\n",
      "06d12f6fa.png\n",
      "a8b431a3e.png\n",
      "1cfd91582.png\n",
      "d5f7dd60a.png\n",
      "966ae5ad9.png\n",
      "b2706e2b3.png\n",
      "e5881dd33.png\n",
      "22e79540f.png\n",
      "e721c6ac8.png\n",
      "6a41bf95b.png\n",
      "523e5505c.png\n",
      "16357b436.png\n",
      "0c4199daa.png\n",
      "590f5aea6.png\n",
      "35cf9fa01.png\n",
      "a9d2eab61.png\n",
      "f9b6bfb00.png\n",
      "bfab3e3d0.png\n",
      "aaf4da98f.png\n",
      "e921021a8.png\n",
      "0c27cf05f.png\n",
      "8104422bb.png\n",
      "eec1079a1.png\n",
      "5296835a0.png\n",
      "76dbd1054.png\n",
      "8d6991365.png\n",
      "a890ac088.png\n",
      "b03397525.png\n",
      "74fd477eb.png\n",
      "e15472085.png\n",
      "410e6f702.png\n",
      "f33e9d918.png\n",
      "1376f3b63.png\n",
      "1be0713da.png\n",
      "ab35453cb.png\n",
      "a1e0a6c02.png\n",
      "4bbf1f6ea.png\n",
      "5a38ac566.png\n",
      "05341a8a6.png\n",
      "fc3e58836.png\n",
      "6da892be6.png\n",
      "d89db156f.png\n",
      "506347cfe.png\n",
      "a8c8a1db0.png\n",
      "df521c0c0.png\n",
      "3bbef3ecb.png\n",
      "d515398fd.png\n",
      "fadc6adbc.png\n",
      "a8388a37f.png\n",
      "6908fb540.png\n",
      "0fb233ad6.png\n",
      "f4caf74f9.png\n",
      "78750e0ff.png\n",
      "8a8d6c712.png\n",
      "e1abb4ff9.png\n",
      "f4e7733d4.png\n",
      "177d7e2a4.png\n",
      "53ceb4657.png\n",
      "7696badea.png\n",
      "ec08a5d56.png\n",
      "03e322a29.png\n",
      "3abb502fb.png\n",
      "fa5fd1384.png\n",
      "25a4c427e.png\n",
      "be341dbdc.png\n",
      "cc3d2a59a.png\n",
      "a169b71e7.png\n",
      "808cf55c6.png\n",
      "1e095a7e1.png\n",
      "711b46fba.png\n",
      "003d61042.png\n",
      "ffc6f8527.png\n",
      "7b21ba6ba.png\n",
      "dd5ec63d9.png\n",
      "73260a4ee.png\n",
      "b130a0632.png\n",
      "974959ec1.png\n",
      "dd9f36df7.png\n",
      "38c054379.png\n",
      "116b136de.png\n",
      "8916793ce.png\n",
      "958bb9e96.png\n",
      "808578ed5.png\n",
      "24dbc3b21.png\n",
      "91e469b4a.png\n",
      "69d1669f8.png\n",
      "03a2ee656.png\n",
      "6049234e6.png\n",
      "79e5ea8fa.png\n",
      "8a32d0bfa.png\n",
      "a85b48a95.png\n",
      "d6c8c3c48.png\n",
      "5ca2687a4.png\n",
      "b944a49ca.png\n",
      "e6f1211a2.png\n",
      "f593c9cf0.png\n",
      "699d3c707.png\n",
      "25fa8d109.png\n",
      "618de3d7a.png\n",
      "3ebbe9ca4.png\n",
      "dc55449b2.png\n",
      "f4021df6c.png\n",
      "1821eb11a.png\n",
      "33317fc2a.png\n",
      "20f983a71.png\n",
      "7a38416be.png\n",
      "0a64e3e6c.png\n",
      "67e185673.png\n",
      "60ee66ddd.png\n",
      "d488a4fe1.png\n",
      "f66ae4070.png\n",
      "55fed435f.png\n",
      "835dc5447.png\n",
      "97b2f0a10.png\n",
      "fba8fc78a.png\n",
      "444473900.png\n",
      "9d79a1f0c.png\n",
      "5f04aed97.png\n",
      "fea3da57c.png\n",
      "c88ebfb47.png\n",
      "78c5fba1d.png\n",
      "cbba27d89.png\n",
      "2dd5cfba9.png\n",
      "456d507c0.png\n",
      "61dd2cdc5.png\n",
      "592cc5b89.png\n",
      "a254d71f6.png\n",
      "8cf2e3e6c.png\n",
      "c0d9e170b.png\n",
      "37c3108d6.png\n",
      "e4a76885b.png\n",
      "86f08e6d1.png\n",
      "8170d33c1.png\n",
      "721be0a4a.png\n",
      "148bbda66.png\n",
      "bb20fce02.png\n",
      "b4c3df835.png\n",
      "1364b297a.png\n",
      "4ea7493d5.png\n",
      "270b939cf.png\n",
      "754b1adf8.png\n",
      "29ce426a1.png\n",
      "5b3beec58.png\n",
      "2f246d688.png\n",
      "0c5f6c493.png\n",
      "1b6a6494d.png\n",
      "1694a70e4.png\n",
      "cf3a8b2fd.png\n",
      "59e1cea8d.png\n",
      "ef74dbcad.png\n",
      "80e299ae9.png\n",
      "1623fb9e1.png\n",
      "4287d810c.png\n",
      "f351ce097.png\n",
      "8ab8a958b.png\n",
      "92292055d.png\n",
      "770a265f5.png\n",
      "c7b07431e.png\n",
      "35ebe165c.png\n",
      "486e59179.png\n",
      "b7ad92859.png\n",
      "8b27bfd2b.png\n",
      "b3e08b037.png\n",
      "659412b1a.png\n",
      "42e7ed442.png\n",
      "5817b766d.png\n",
      "2df78338c.png\n",
      "fe29629fb.png\n",
      "c10db7ae2.png\n",
      "5ee9d0a5b.png\n",
      "59b2c6f2b.png\n",
      "ede6b84b4.png\n",
      "90d119d25.png\n",
      "1f290e016.png\n",
      "aad8375e0.png\n",
      "258b1183c.png\n",
      "d14aa43f3.png\n",
      "589e643b8.png\n",
      "abf8b0772.png\n",
      "5bd71f445.png\n",
      "1312065a5.png\n",
      "96f14d90c.png\n",
      "00d090cde.png\n",
      "e478c452c.png\n",
      "8a4d3a1b1.png\n",
      "a35fd6fbb.png\n",
      "dcd7ff249.png\n",
      "d8f4923f8.png\n",
      "4f44ca525.png\n",
      "32b42c120.png\n",
      "bdde957ec.png\n",
      "c7051c902.png\n",
      "1c680883c.png\n",
      "cc74feadc.png\n",
      "af45e222a.png\n",
      "bea23d9f8.png\n",
      "5eb9c26a6.png\n",
      "721b2c47a.png\n",
      "bebcaab66.png\n",
      "8303b27ed.png\n",
      "98062cd87.png\n",
      "39c8fde99.png\n",
      "7fdb7202d.png\n",
      "da9ef7858.png\n",
      "338c7e907.png\n",
      "c74c5b7fc.png\n",
      "3526b05cc.png\n",
      "86676d627.png\n",
      "5a6bf96f6.png\n",
      "56112b92c.png\n",
      "55920f07f.png\n",
      "47b7d8e17.png\n",
      "085974290.png\n",
      "c50335991.png\n",
      "01291174f.png\n",
      "521b27a17.png\n",
      "9c777333d.png\n",
      "1758a1baf.png\n",
      "23e480e64.png\n",
      "f8318faf1.png\n",
      "cb496f36e.png\n",
      "3d65168c2.png\n",
      "e14afa235.png\n",
      "a060c1cf8.png\n",
      "675ec1b0b.png\n",
      "026716f9b.png\n",
      "606647f64.png\n",
      "6b721f68e.png\n",
      "4a337a4a9.png\n",
      "71334c634.png\n",
      "406162ef9.png\n",
      "d41d87796.png\n",
      "5b63dcc21.png\n",
      "d9c50616e.png\n",
      "6db684fff.png\n",
      "39b740f7e.png\n",
      "8dbb8e1b9.png\n",
      "7cabd68cc.png\n",
      "55251925f.png\n",
      "7d3045fc3.png\n",
      "24d78df74.png\n",
      "7d4cd07ad.png\n",
      "bf66b9cd2.png\n",
      "bb1d1bfd3.png\n",
      "ac3193f78.png\n",
      "65e262a6d.png\n",
      "6d6eb3830.png\n",
      "90b595f12.png\n",
      "8faadb6a8.png\n",
      "a2d25b4f3.png\n",
      "32a8c8a1d.png\n",
      "17529c555.png\n",
      "391dcd7fd.png\n",
      "59c6a9f95.png\n",
      "48d97c645.png\n",
      "615d2b0a9.png\n",
      "a85fc8c9a.png\n",
      "e5064f6be.png\n",
      "cbe761896.png\n",
      "8ece6efec.png\n",
      "b1cd2a91e.png\n",
      "fc6f686fb.png\n",
      "d668409ff.png\n",
      "dabe3e5be.png\n",
      "ef02b4ee7.png\n",
      "b47691c08.png\n",
      "f48916a8c.png\n",
      "756dd5070.png\n",
      "61b044411.png\n",
      "f85ed9b6d.png\n",
      "e5297b675.png\n",
      "5bbc0a255.png\n",
      "8b043093d.png\n",
      "8db450ce3.png\n",
      "9c8b08a24.png\n",
      "d2f0f326e.png\n",
      "e783f5a4f.png\n",
      "7beb2766f.png\n",
      "cd6adba97.png\n",
      "855955aaf.png\n",
      "6bce55e05.png\n",
      "668c1007c.png\n",
      "a7bd7cadb.png\n",
      "b29339405.png\n",
      "a2c89c367.png\n",
      "fdea6b119.png\n",
      "7f31c7f42.png\n",
      "df11d56a7.png\n",
      "785a73ab8.png\n",
      "ce3d280eb.png\n",
      "c35efa095.png\n",
      "cae684f8f.png\n",
      "3185294c8.png\n",
      "1926e82fd.png\n",
      "8311740de.png\n",
      "0625f063b.png\n",
      "c5e88cd42.png\n",
      "e901b0f28.png\n",
      "79fba50db.png\n",
      "7506c0c02.png\n",
      "67ce3eaa6.png\n",
      "a8de7c1b7.png\n",
      "f9ea23fb5.png\n",
      "e5e3dccff.png\n",
      "2ea664465.png\n",
      "8301b0547.png\n",
      "d0cdc768f.png\n",
      "36ed4f215.png\n",
      "36d62bf36.png\n",
      "bb1c84bbc.png\n",
      "75cb95e91.png\n",
      "4823c3ffa.png\n",
      "65e97117e.png\n",
      "9c0c5b731.png\n",
      "0437393b1.png\n",
      "862b8e7a0.png\n",
      "5bc6595f6.png\n",
      "3a909ead8.png\n",
      "9aa5587fe.png\n",
      "31fcdc161.png\n",
      "b0acaff4a.png\n",
      "59f62ad1d.png\n",
      "a3b375b34.png\n",
      "aa7d098d1.png\n",
      "3da774107.png\n",
      "c60e91e07.png\n",
      "592473c83.png\n",
      "4c5ab9b68.png\n",
      "241e6935a.png\n",
      "99036c51d.png\n",
      "3f64c2c1b.png\n",
      "2d5058a59.png\n",
      "8bc0261c9.png\n",
      "39d569be4.png\n",
      "99569b224.png\n",
      "c06e7c748.png\n",
      "08d591441.png\n",
      "ab0f67743.png\n",
      "77ccb8b2a.png\n",
      "728eabae1.png\n",
      "099b961ec.png\n",
      "fda0b5c38.png\n",
      "9643fc5f4.png\n",
      "b5c7fd009.png\n",
      "d0152bd7c.png\n",
      "fbf88b6be.png\n",
      "14bb43eee.png\n",
      "b39c71707.png\n",
      "1fefb54b7.png\n",
      "03ef36742.png\n",
      "79d93bc96.png\n",
      "a935ca110.png\n",
      "88ac6df54.png\n",
      "2a5064f19.png\n",
      "00c47e980.png\n",
      "65489944f.png\n",
      "56a01b835.png\n",
      "239bdf640.png\n",
      "a83820a2c.png\n",
      "c8f50f0c3.png\n",
      "b7192c70f.png\n",
      "37e545a60.png\n",
      "1b490196c.png\n",
      "54b3afd58.png\n",
      "e19ad6ac9.png\n",
      "1541bdb2e.png\n",
      "d350a25fa.png\n",
      "fda39e16f.png\n",
      "c1ecff98b.png\n",
      "3827436f3.png\n",
      "a1da8be3c.png\n",
      "060f1dc84.png\n",
      "377283a21.png\n",
      "060450d79.png\n",
      "a4b61a4ea.png\n",
      "653193c1a.png\n",
      "da713c465.png\n",
      "6a47821f9.png\n",
      "604dd663f.png\n",
      "9326bda1b.png\n",
      "6c874918c.png\n",
      "25cf6eb73.png\n",
      "7f9e9565d.png\n",
      "a55d26a4c.png\n",
      "e471f1d3a.png\n",
      "0dba99002.png\n",
      "205df1df3.png\n",
      "eaf0815e2.png\n",
      "87608f7aa.png\n",
      "071cb3ece.png\n",
      "34dd57ca9.png\n",
      "df7cb5f87.png\n",
      "ff65bc002.png\n",
      "e80a259c5.png\n",
      "fe9e87b78.png\n",
      "78b1bf91a.png\n",
      "4bcdaa5e2.png\n",
      "5883b423d.png\n",
      "b687160f5.png\n",
      "f445fe6fb.png\n",
      "87f627bf9.png\n",
      "a8da9c08d.png\n",
      "f3fcfff1b.png\n",
      "165681fd9.png\n",
      "3edf5e9ef.png\n",
      "1dc7c45df.png\n",
      "fd925f542.png\n",
      "20817c846.png\n",
      "5e6a237f2.png\n",
      "88d8a4508.png\n",
      "d2f422ccb.png\n",
      "e1a0e3202.png\n",
      "f23faf9c1.png\n",
      "4392d93cf.png\n",
      "ef7a5651d.png\n",
      "8ca6140ca.png\n",
      "fef2ade8c.png\n",
      "d563be369.png\n",
      "1d48b7564.png\n",
      "897e5a8de.png\n",
      "4b155fb07.png\n",
      "007b3da8b.png\n",
      "3d38a87bc.png\n",
      "82b5f4d33.png\n",
      "837ac0270.png\n",
      "9b4800b42.png\n",
      "558aa7deb.png\n",
      "de0b79659.png\n",
      "a3d0031fd.png\n",
      "dce2f6612.png\n",
      "30ad31220.png\n",
      "1191ba346.png\n",
      "46c14fde2.png\n",
      "9c32a797e.png\n",
      "892e9d6c6.png\n",
      "13b9fa92d.png\n",
      "d102e1a15.png\n",
      "8e6ec1ca6.png\n",
      "b6f3d8b5d.png\n",
      "c2de6020a.png\n",
      "f4234cf4f.png\n",
      "8e4eaeec0.png\n",
      "599c82eea.png\n",
      "b573b7a56.png\n",
      "caa2fbd79.png\n",
      "ac75d3326.png\n",
      "0d117d910.png\n",
      "a38b8a581.png\n",
      "98da6ef4e.png\n",
      "43ede9de9.png\n",
      "5b3000b9a.png\n",
      "780bd2a2c.png\n",
      "f6d250856.png\n",
      "b828443ff.png\n",
      "c85ef220d.png\n",
      "3f92d8039.png\n",
      "b30ab4659.png\n",
      "11d3f68ff.png\n",
      "d01873fdd.png\n",
      "6982a9d30.png\n",
      "2d9c798f9.png\n",
      "dc4cd56a3.png\n",
      "248436078.png\n",
      "b62dca166.png\n",
      "948cdb277.png\n",
      "55a852f40.png\n",
      "cfd8165e9.png\n",
      "abc331628.png\n",
      "8f523520c.png\n",
      "2406d6c99.png\n",
      "4e18ab737.png\n",
      "5ca0205f9.png\n",
      "24d36c52c.png\n",
      "bb7621cb3.png\n",
      "5c3cd7ea2.png\n",
      "0021e90e4.png\n",
      "19e58cc5e.png\n",
      "da4ed3a28.png\n",
      "29f49cd0b.png\n",
      "d09d24c58.png\n",
      "172f9b10b.png\n",
      "fea355851.png\n",
      "a006a475c.png\n",
      "26852751a.png\n",
      "1d56351b2.png\n",
      "969a851be.png\n",
      "f4ad9d950.png\n",
      "74068643d.png\n",
      "f25996db8.png\n",
      "9516e56c4.png\n",
      "d17f48d3b.png\n",
      "16fd2e01a.png\n",
      "d6d80a321.png\n",
      "04814f36d.png\n",
      "4f83143e1.png\n",
      "647689543.png\n",
      "5779fe8b4.png\n",
      "d7017f701.png\n",
      "223e4af09.png\n",
      "e4d5ec761.png\n",
      "995c7ab1e.png\n",
      "6edc76e7c.png\n",
      "39858776a.png\n",
      "0ae6668fa.png\n",
      "3281183f9.png\n",
      "a2b703e21.png\n",
      "85431c075.png\n",
      "5af1d74ee.png\n",
      "490c4f9c8.png\n",
      "c5e419015.png\n",
      "a74bf916d.png\n",
      "126a71ce0.png\n",
      "b9062c1c8.png\n",
      "a544fc46d.png\n",
      "b4f7c9214.png\n",
      "3eebd36c6.png\n",
      "599691cd9.png\n",
      "aecfaed64.png\n",
      "ad12382d4.png\n",
      "7d22abf91.png\n",
      "93d76fd5d.png\n",
      "be2499cf4.png\n",
      "2e86f1085.png\n",
      "eef131644.png\n",
      "752101fdf.png\n",
      "089ad62a7.png\n",
      "24a058589.png\n",
      "9df3275da.png\n",
      "593896f83.png\n",
      "c832e4302.png\n",
      "a93f940d6.png\n",
      "b026bf8ca.png\n",
      "47f9e5d91.png\n",
      "e96e57a90.png\n",
      "6dd095129.png\n",
      "4049a6ea6.png\n",
      "31f3dd81f.png\n",
      "9baf94467.png\n",
      "c63da993b.png\n",
      "c4ed8ed38.png\n",
      "2a667e099.png\n",
      "a74d475c2.png\n",
      "afa446484.png\n",
      "f0ffa00bd.png\n",
      "446f7da01.png\n",
      "827279bad.png\n",
      "3fbf1a417.png\n",
      "8b9144917.png\n",
      "115f93ecc.png\n",
      "b145ba9d4.png\n",
      "d3331e071.png\n",
      "52a87abe5.png\n",
      "da5255450.png\n",
      "063363305.png\n",
      "b98327bf4.png\n",
      "686dc7ec8.png\n",
      "44e8b8833.png\n",
      "d689256be.png\n",
      "48ef6a2ff.png\n",
      "bd789d151.png\n",
      "8455169fe.png\n",
      "dabea05f4.png\n",
      "288564c76.png\n",
      "e84464f5a.png\n",
      "d09275360.png\n",
      "0c51bf229.png\n",
      "afcf6abd5.png\n",
      "16467a950.png\n",
      "ce15eee52.png\n",
      "79dafec17.png\n",
      "da231c97f.png\n",
      "ba3ce6b3e.png\n",
      "632156793.png\n",
      "0911d3dee.png\n",
      "953496deb.png\n",
      "0885e7690.png\n",
      "e88bf0db9.png\n",
      "efe19dc32.png\n"
     ]
    }
   ],
   "source": [
    "x_test=[]\n",
    "\n",
    "os.chdir('/content/drive/My Drive/Colab Notebooks/ComputerVision_with_CNNs/Plant_Breed/test')\n",
    "import cv2\n",
    "for i in os.listdir():\n",
    "    print(i)\n",
    "    if (os.path.isdir(i)):\n",
    "      for j in os.listdir(i):\n",
    "          try:\n",
    "              dummy = cv2.imread('/content/drive/My Drive/Colab Notebooks/ComputerVision_with_CNNs/Plant_Breed/test/' + i + \"/\" + j)\n",
    "              dummy = cv2.resize(dummy,(128,128))\n",
    "              x_test.append(dummy)\n",
    "              #y_test.append(i)\n",
    "          except Exception as e:\n",
    "              print(e)\n",
    "    elif (os.path.isfile(i)):\n",
    "      try:\n",
    "        dummy = cv2.imread('/content/drive/My Drive/Colab Notebooks/ComputerVision_with_CNNs/Plant_Breed/test/' + \"/\" + i)\n",
    "        dummy = cv2.resize(dummy,(128,128))\n",
    "        x_test.append(dummy)\n",
    "        #y_test.append(i)\n",
    "      except Exception as e:\n",
    "        print(e)"
   ]
  },
  {
   "cell_type": "code",
   "execution_count": 0,
   "metadata": {
    "colab": {},
    "colab_type": "code",
    "id": "Fq0u8BpBjp-a"
   },
   "outputs": [],
   "source": [
    "x_test = np.array(x_test)"
   ]
  },
  {
   "cell_type": "markdown",
   "metadata": {
    "colab_type": "text",
    "id": "j6_SJ41jsw3R"
   },
   "source": [
    "***Divide the data set into Train and validation data sets***"
   ]
  },
  {
   "cell_type": "code",
   "execution_count": 23,
   "metadata": {
    "colab": {
     "base_uri": "https://localhost:8080/",
     "height": 52
    },
    "colab_type": "code",
    "id": "VzBQIPBAuQwN",
    "outputId": "7f5cc5ce-8293-4754-ff9f-4065aac4109d"
   },
   "outputs": [
    {
     "name": "stdout",
     "output_type": "stream",
     "text": [
      "3562\n",
      "1188\n"
     ]
    }
   ],
   "source": [
    "from sklearn.model_selection import train_test_split\n",
    "x_train2, x_val, y_train2, y_val = train_test_split(x_train, y_train, test_size=0.25, random_state=2)\n",
    "print (len(x_train2))\n",
    "print (len(x_val))"
   ]
  },
  {
   "cell_type": "code",
   "execution_count": 24,
   "metadata": {
    "colab": {
     "base_uri": "https://localhost:8080/",
     "height": 35
    },
    "colab_type": "code",
    "id": "zOXrhr_huSPR",
    "outputId": "e1c253d1-d7bf-4aad-d665-01b31686c01f"
   },
   "outputs": [
    {
     "data": {
      "text/plain": [
       "(128, 128, 3)"
      ]
     },
     "execution_count": 24,
     "metadata": {
      "tags": []
     },
     "output_type": "execute_result"
    }
   ],
   "source": [
    "x_train2[0].shape"
   ]
  },
  {
   "cell_type": "code",
   "execution_count": 0,
   "metadata": {
    "colab": {},
    "colab_type": "code",
    "id": "dMocdt9JuVOJ"
   },
   "outputs": [],
   "source": [
    "x_train2 = x_train2.reshape(x_train2.shape[0],128,128,3)"
   ]
  },
  {
   "cell_type": "code",
   "execution_count": 0,
   "metadata": {
    "colab": {},
    "colab_type": "code",
    "id": "k1KiJod-uWkR"
   },
   "outputs": [],
   "source": [
    "x_val = x_val.reshape(x_val.shape[0],128,128,3)"
   ]
  },
  {
   "cell_type": "code",
   "execution_count": 27,
   "metadata": {
    "colab": {
     "base_uri": "https://localhost:8080/",
     "height": 52
    },
    "colab_type": "code",
    "id": "TyWC85VZvS5_",
    "outputId": "87dc09db-4b3d-4a1c-c2da-000d25ab1366"
   },
   "outputs": [
    {
     "name": "stdout",
     "output_type": "stream",
     "text": [
      "(3562, 128, 128, 3)\n",
      "(1188, 128, 128, 3)\n"
     ]
    }
   ],
   "source": [
    "print (x_train2.shape)\n",
    "print (x_val.shape)"
   ]
  },
  {
   "cell_type": "code",
   "execution_count": 28,
   "metadata": {
    "colab": {
     "base_uri": "https://localhost:8080/",
     "height": 52
    },
    "colab_type": "code",
    "id": "DKgWlwHSvUc2",
    "outputId": "2664e270-3eb6-47c4-ad6e-764121114031"
   },
   "outputs": [
    {
     "name": "stdout",
     "output_type": "stream",
     "text": [
      "(3562, 12)\n",
      "(1188, 12)\n"
     ]
    }
   ],
   "source": [
    "print(y_train2.shape)\n",
    "print(y_val.shape)"
   ]
  },
  {
   "cell_type": "markdown",
   "metadata": {
    "colab_type": "text",
    "id": "6SNfu-xWAQjO"
   },
   "source": [
    "***Initialize & build the model***"
   ]
  },
  {
   "cell_type": "code",
   "execution_count": 29,
   "metadata": {
    "colab": {
     "base_uri": "https://localhost:8080/",
     "height": 81
    },
    "colab_type": "code",
    "id": "gJxwoWFevVsM",
    "outputId": "84a4bc83-9b49-431c-9cc0-b189bf209eee"
   },
   "outputs": [
    {
     "name": "stderr",
     "output_type": "stream",
     "text": [
      "Using TensorFlow backend.\n"
     ]
    },
    {
     "data": {
      "text/html": [
       "<p style=\"color: red;\">\n",
       "The default version of TensorFlow in Colab will soon switch to TensorFlow 2.x.<br>\n",
       "We recommend you <a href=\"https://www.tensorflow.org/guide/migrate\" target=\"_blank\">upgrade</a> now \n",
       "or ensure your notebook will continue to use TensorFlow 1.x via the <code>%tensorflow_version 1.x</code> magic:\n",
       "<a href=\"https://colab.research.google.com/notebooks/tensorflow_version.ipynb\" target=\"_blank\">more info</a>.</p>\n"
      ],
      "text/plain": [
       "<IPython.core.display.HTML object>"
      ]
     },
     "metadata": {
      "tags": []
     },
     "output_type": "display_data"
    }
   ],
   "source": [
    "from keras.models import Sequential\n",
    "from keras.layers import Convolution2D, Dropout, Dense"
   ]
  },
  {
   "cell_type": "code",
   "execution_count": 0,
   "metadata": {
    "colab": {},
    "colab_type": "code",
    "id": "UdofRIJXvXXU"
   },
   "outputs": [],
   "source": [
    "from keras.layers import BatchNormalization\n",
    "from keras.layers import MaxPooling2D\n",
    "from keras.layers import Flatten\n",
    "from keras.optimizers import adam"
   ]
  },
  {
   "cell_type": "code",
   "execution_count": 31,
   "metadata": {
    "colab": {
     "base_uri": "https://localhost:8080/",
     "height": 459
    },
    "colab_type": "code",
    "id": "i0PInUEOvZDn",
    "outputId": "e33cfee8-ab9d-4c66-839c-1f6e0d1cf4c3"
   },
   "outputs": [
    {
     "name": "stdout",
     "output_type": "stream",
     "text": [
      "WARNING:tensorflow:From /usr/local/lib/python3.6/dist-packages/keras/backend/tensorflow_backend.py:66: The name tf.get_default_graph is deprecated. Please use tf.compat.v1.get_default_graph instead.\n",
      "\n",
      "WARNING:tensorflow:From /usr/local/lib/python3.6/dist-packages/keras/backend/tensorflow_backend.py:541: The name tf.placeholder is deprecated. Please use tf.compat.v1.placeholder instead.\n",
      "\n",
      "WARNING:tensorflow:From /usr/local/lib/python3.6/dist-packages/keras/backend/tensorflow_backend.py:190: The name tf.get_default_session is deprecated. Please use tf.compat.v1.get_default_session instead.\n",
      "\n",
      "WARNING:tensorflow:From /usr/local/lib/python3.6/dist-packages/keras/backend/tensorflow_backend.py:197: The name tf.ConfigProto is deprecated. Please use tf.compat.v1.ConfigProto instead.\n",
      "\n",
      "WARNING:tensorflow:From /usr/local/lib/python3.6/dist-packages/keras/backend/tensorflow_backend.py:203: The name tf.Session is deprecated. Please use tf.compat.v1.Session instead.\n",
      "\n",
      "WARNING:tensorflow:From /usr/local/lib/python3.6/dist-packages/keras/backend/tensorflow_backend.py:207: The name tf.global_variables is deprecated. Please use tf.compat.v1.global_variables instead.\n",
      "\n",
      "WARNING:tensorflow:From /usr/local/lib/python3.6/dist-packages/keras/backend/tensorflow_backend.py:216: The name tf.is_variable_initialized is deprecated. Please use tf.compat.v1.is_variable_initialized instead.\n",
      "\n",
      "WARNING:tensorflow:From /usr/local/lib/python3.6/dist-packages/keras/backend/tensorflow_backend.py:223: The name tf.variables_initializer is deprecated. Please use tf.compat.v1.variables_initializer instead.\n",
      "\n",
      "WARNING:tensorflow:From /usr/local/lib/python3.6/dist-packages/keras/backend/tensorflow_backend.py:2041: The name tf.nn.fused_batch_norm is deprecated. Please use tf.compat.v1.nn.fused_batch_norm instead.\n",
      "\n",
      "WARNING:tensorflow:From /usr/local/lib/python3.6/dist-packages/keras/backend/tensorflow_backend.py:148: The name tf.placeholder_with_default is deprecated. Please use tf.compat.v1.placeholder_with_default instead.\n",
      "\n",
      "WARNING:tensorflow:From /usr/local/lib/python3.6/dist-packages/keras/backend/tensorflow_backend.py:4432: The name tf.random_uniform is deprecated. Please use tf.random.uniform instead.\n",
      "\n",
      "WARNING:tensorflow:From /usr/local/lib/python3.6/dist-packages/keras/backend/tensorflow_backend.py:4267: The name tf.nn.max_pool is deprecated. Please use tf.nn.max_pool2d instead.\n",
      "\n"
     ]
    }
   ],
   "source": [
    "model = Sequential()\n",
    "model.add(BatchNormalization(input_shape = (128,128,3)))\n",
    "model.add(Convolution2D(32, (3,3), activation ='relu', input_shape = (128, 128, 3))) \n",
    "model.add(MaxPooling2D(pool_size=2))\n",
    "#model.add(Dropout(0.8))\n",
    "\n",
    "model.add(Convolution2D(filters=64, kernel_size=4, padding='same', activation='relu'))\n",
    "model.add(MaxPooling2D(pool_size=2))\n",
    "#model.add(Dropout(0.8))\n",
    "\n",
    "model.add(Convolution2D(filters=128, kernel_size=3, padding='same', activation='relu'))\n",
    "model.add(MaxPooling2D(pool_size=2))\n",
    "#model.add(Dropout(0.8))\n",
    "\n",
    "model.add(Convolution2D(filters=128, kernel_size=2, padding='same', activation='relu'))\n",
    "model.add(MaxPooling2D(pool_size=2))\n",
    "#model.add(Dropout(0.8))\n",
    "\n",
    "model.add(Flatten()) \n",
    "\n",
    "# fully connected layer\n",
    "model.add(Dense(units=128,activation = 'relu'))\n",
    "model.add(Dense(units = 64, activation = 'relu'))\n",
    "#model.add(Dropout(0.3))\n",
    "model.add(Dense(units = 32, activation = 'relu'))\n",
    "#model.add(Dropout(0.3))\n",
    "model.add(Dense(units = 12, activation = 'softmax')) \n"
   ]
  },
  {
   "cell_type": "code",
   "execution_count": 32,
   "metadata": {
    "colab": {
     "base_uri": "https://localhost:8080/",
     "height": 107
    },
    "colab_type": "code",
    "id": "3V2UmrqIva95",
    "outputId": "d97e16a0-5b0b-4aef-8119-d34d5c45e0b0"
   },
   "outputs": [
    {
     "name": "stdout",
     "output_type": "stream",
     "text": [
      "WARNING:tensorflow:From /usr/local/lib/python3.6/dist-packages/keras/optimizers.py:793: The name tf.train.Optimizer is deprecated. Please use tf.compat.v1.train.Optimizer instead.\n",
      "\n",
      "WARNING:tensorflow:From /usr/local/lib/python3.6/dist-packages/keras/backend/tensorflow_backend.py:3576: The name tf.log is deprecated. Please use tf.math.log instead.\n",
      "\n"
     ]
    }
   ],
   "source": [
    "optimizer = adam(lr=0.001)\n",
    "model.compile(optimizer='adam', loss = 'categorical_crossentropy',metrics = ['accuracy'])"
   ]
  },
  {
   "cell_type": "code",
   "execution_count": 33,
   "metadata": {
    "colab": {
     "base_uri": "https://localhost:8080/",
     "height": 651
    },
    "colab_type": "code",
    "id": "xMnStHPbvdS9",
    "outputId": "619761a0-21ad-453a-d485-de835f3b3b92"
   },
   "outputs": [
    {
     "name": "stdout",
     "output_type": "stream",
     "text": [
      "Model: \"sequential_1\"\n",
      "_________________________________________________________________\n",
      "Layer (type)                 Output Shape              Param #   \n",
      "=================================================================\n",
      "batch_normalization_1 (Batch (None, 128, 128, 3)       12        \n",
      "_________________________________________________________________\n",
      "conv2d_1 (Conv2D)            (None, 126, 126, 32)      896       \n",
      "_________________________________________________________________\n",
      "max_pooling2d_1 (MaxPooling2 (None, 63, 63, 32)        0         \n",
      "_________________________________________________________________\n",
      "conv2d_2 (Conv2D)            (None, 63, 63, 64)        32832     \n",
      "_________________________________________________________________\n",
      "max_pooling2d_2 (MaxPooling2 (None, 31, 31, 64)        0         \n",
      "_________________________________________________________________\n",
      "conv2d_3 (Conv2D)            (None, 31, 31, 128)       73856     \n",
      "_________________________________________________________________\n",
      "max_pooling2d_3 (MaxPooling2 (None, 15, 15, 128)       0         \n",
      "_________________________________________________________________\n",
      "conv2d_4 (Conv2D)            (None, 15, 15, 128)       65664     \n",
      "_________________________________________________________________\n",
      "max_pooling2d_4 (MaxPooling2 (None, 7, 7, 128)         0         \n",
      "_________________________________________________________________\n",
      "flatten_1 (Flatten)          (None, 6272)              0         \n",
      "_________________________________________________________________\n",
      "dense_1 (Dense)              (None, 128)               802944    \n",
      "_________________________________________________________________\n",
      "dense_2 (Dense)              (None, 64)                8256      \n",
      "_________________________________________________________________\n",
      "dense_3 (Dense)              (None, 32)                2080      \n",
      "_________________________________________________________________\n",
      "dense_4 (Dense)              (None, 12)                396       \n",
      "=================================================================\n",
      "Total params: 986,936\n",
      "Trainable params: 986,930\n",
      "Non-trainable params: 6\n",
      "_________________________________________________________________\n"
     ]
    }
   ],
   "source": [
    "model.summary()"
   ]
  },
  {
   "cell_type": "code",
   "execution_count": 34,
   "metadata": {
    "colab": {
     "base_uri": "https://localhost:8080/",
     "height": 882
    },
    "colab_type": "code",
    "id": "vdsV52_lvfBr",
    "outputId": "5cfea468-4e76-4542-dd33-63d7440ebf62"
   },
   "outputs": [
    {
     "name": "stdout",
     "output_type": "stream",
     "text": [
      "WARNING:tensorflow:From /usr/local/lib/python3.6/dist-packages/tensorflow_core/python/ops/math_grad.py:1424: where (from tensorflow.python.ops.array_ops) is deprecated and will be removed in a future version.\n",
      "Instructions for updating:\n",
      "Use tf.where in 2.0, which has the same broadcast rule as np.where\n",
      "WARNING:tensorflow:From /usr/local/lib/python3.6/dist-packages/keras/backend/tensorflow_backend.py:1033: The name tf.assign_add is deprecated. Please use tf.compat.v1.assign_add instead.\n",
      "\n",
      "WARNING:tensorflow:From /usr/local/lib/python3.6/dist-packages/keras/backend/tensorflow_backend.py:1020: The name tf.assign is deprecated. Please use tf.compat.v1.assign instead.\n",
      "\n",
      "Train on 4750 samples, validate on 1188 samples\n",
      "Epoch 1/20\n",
      "4750/4750 [==============================] - 12s 3ms/step - loss: 1.8790 - acc: 0.3497 - val_loss: 1.3360 - val_acc: 0.5421\n",
      "Epoch 2/20\n",
      "4750/4750 [==============================] - 9s 2ms/step - loss: 1.0630 - acc: 0.6417 - val_loss: 0.7384 - val_acc: 0.7492\n",
      "Epoch 3/20\n",
      "4750/4750 [==============================] - 9s 2ms/step - loss: 0.7169 - acc: 0.7554 - val_loss: 0.5151 - val_acc: 0.8199\n",
      "Epoch 4/20\n",
      "4750/4750 [==============================] - 9s 2ms/step - loss: 0.5105 - acc: 0.8234 - val_loss: 0.4098 - val_acc: 0.8527\n",
      "Epoch 5/20\n",
      "4750/4750 [==============================] - 9s 2ms/step - loss: 0.4246 - acc: 0.8501 - val_loss: 0.2862 - val_acc: 0.8998\n",
      "Epoch 6/20\n",
      "4750/4750 [==============================] - 9s 2ms/step - loss: 0.3166 - acc: 0.8882 - val_loss: 0.2619 - val_acc: 0.8998\n",
      "Epoch 7/20\n",
      "4750/4750 [==============================] - 9s 2ms/step - loss: 0.2713 - acc: 0.9021 - val_loss: 0.2100 - val_acc: 0.9268\n",
      "Epoch 8/20\n",
      "4750/4750 [==============================] - 9s 2ms/step - loss: 0.2052 - acc: 0.9255 - val_loss: 0.1743 - val_acc: 0.9377\n",
      "Epoch 9/20\n",
      "4750/4750 [==============================] - 9s 2ms/step - loss: 0.2016 - acc: 0.9217 - val_loss: 0.1497 - val_acc: 0.9529\n",
      "Epoch 10/20\n",
      "4750/4750 [==============================] - 9s 2ms/step - loss: 0.1504 - acc: 0.9436 - val_loss: 0.1671 - val_acc: 0.9520\n",
      "Epoch 11/20\n",
      "4750/4750 [==============================] - 9s 2ms/step - loss: 0.1394 - acc: 0.9512 - val_loss: 0.1123 - val_acc: 0.9621\n",
      "Epoch 12/20\n",
      "4750/4750 [==============================] - 9s 2ms/step - loss: 0.1533 - acc: 0.9467 - val_loss: 0.0945 - val_acc: 0.9604\n",
      "Epoch 13/20\n",
      "4750/4750 [==============================] - 9s 2ms/step - loss: 0.0946 - acc: 0.9638 - val_loss: 0.1432 - val_acc: 0.9537\n",
      "Epoch 14/20\n",
      "4750/4750 [==============================] - 9s 2ms/step - loss: 0.1011 - acc: 0.9629 - val_loss: 0.0749 - val_acc: 0.9747\n",
      "Epoch 15/20\n",
      "4750/4750 [==============================] - 9s 2ms/step - loss: 0.0848 - acc: 0.9709 - val_loss: 0.0309 - val_acc: 0.9891\n",
      "Epoch 16/20\n",
      "4750/4750 [==============================] - 9s 2ms/step - loss: 0.0657 - acc: 0.9764 - val_loss: 0.0705 - val_acc: 0.9739\n",
      "Epoch 17/20\n",
      "4750/4750 [==============================] - 9s 2ms/step - loss: 0.1136 - acc: 0.9646 - val_loss: 0.0385 - val_acc: 0.9874\n",
      "Epoch 18/20\n",
      "4750/4750 [==============================] - 9s 2ms/step - loss: 0.0351 - acc: 0.9859 - val_loss: 0.0225 - val_acc: 0.9933\n",
      "Epoch 19/20\n",
      "4750/4750 [==============================] - 9s 2ms/step - loss: 0.0447 - acc: 0.9853 - val_loss: 0.0477 - val_acc: 0.9815\n",
      "Epoch 20/20\n",
      "4750/4750 [==============================] - 9s 2ms/step - loss: 0.0631 - acc: 0.9821 - val_loss: 0.0232 - val_acc: 0.9941\n"
     ]
    }
   ],
   "source": [
    "batch_size = 64\n",
    "nb_epochs = 20\n",
    "history = model.fit(x_train,y_train,\n",
    "                    epochs=nb_epochs, \n",
    "                    validation_data=(x_val,y_val),\n",
    "                    verbose = 1,\n",
    "                    initial_epoch=0)"
   ]
  },
  {
   "cell_type": "markdown",
   "metadata": {
    "colab_type": "text",
    "id": "LjiHtsMUIMyv"
   },
   "source": [
    "Train Accuracy is 98.95%"
   ]
  },
  {
   "cell_type": "code",
   "execution_count": 35,
   "metadata": {
    "colab": {
     "base_uri": "https://localhost:8080/",
     "height": 35
    },
    "colab_type": "code",
    "id": "FAC1Dpb01SmC",
    "outputId": "d939f45d-b630-42ee-da39-dfde7180db35"
   },
   "outputs": [
    {
     "data": {
      "text/plain": [
       "(128, 128, 3)"
      ]
     },
     "execution_count": 35,
     "metadata": {
      "tags": []
     },
     "output_type": "execute_result"
    }
   ],
   "source": [
    "x_test[0].shape"
   ]
  },
  {
   "cell_type": "code",
   "execution_count": 38,
   "metadata": {
    "colab": {
     "base_uri": "https://localhost:8080/",
     "height": 283
    },
    "colab_type": "code",
    "id": "yZVyPQb9XV7E",
    "outputId": "43c89ab6-768d-4f69-a972-3881249f234b"
   },
   "outputs": [
    {
     "data": {
      "text/plain": [
       "[<matplotlib.lines.Line2D at 0x7f22b3349b70>]"
      ]
     },
     "execution_count": 38,
     "metadata": {
      "tags": []
     },
     "output_type": "execute_result"
    },
    {
     "data": {
      "image/png": "[encoded data removed]",
      "text/plain": [
       "<Figure size 432x288 with 1 Axes>"
      ]
     },
     "metadata": {
      "tags": []
     },
     "output_type": "display_data"
    }
   ],
   "source": [
    "import matplotlib.pyplot as plt\n",
    "\n",
    "plt.plot(model.history.history[\"loss\"])\n",
    "plt.plot(model.history.history[\"val_loss\"])"
   ]
  },
  {
   "cell_type": "code",
   "execution_count": 39,
   "metadata": {
    "colab": {
     "base_uri": "https://localhost:8080/",
     "height": 35
    },
    "colab_type": "code",
    "id": "uzzYUtJ876Ak",
    "outputId": "487531a5-16f4-4b53-94ca-8babe65da785"
   },
   "outputs": [
    {
     "data": {
      "text/plain": [
       "(128, 128, 3)"
      ]
     },
     "execution_count": 39,
     "metadata": {
      "tags": []
     },
     "output_type": "execute_result"
    }
   ],
   "source": [
    "x_test[0].shape"
   ]
  },
  {
   "cell_type": "code",
   "execution_count": 40,
   "metadata": {
    "colab": {
     "base_uri": "https://localhost:8080/",
     "height": 52
    },
    "colab_type": "code",
    "id": "hW28PihKGJVG",
    "outputId": "f257db96-72af-4027-e62c-ec9908148188"
   },
   "outputs": [
    {
     "name": "stdout",
     "output_type": "stream",
     "text": [
      "794/794 [==============================] - 1s 1ms/step\n"
     ]
    },
    {
     "data": {
      "text/plain": [
       "794"
      ]
     },
     "execution_count": 40,
     "metadata": {
      "tags": []
     },
     "output_type": "execute_result"
    }
   ],
   "source": [
    "classes = model.predict(x_test, batch_size=10,verbose=1)\n",
    "len(classes)\n"
   ]
  },
  {
   "cell_type": "code",
   "execution_count": 0,
   "metadata": {
    "colab": {},
    "colab_type": "code",
    "id": "grvfTtCjkIVE"
   },
   "outputs": [],
   "source": [
    "y_test=classes"
   ]
  },
  {
   "cell_type": "code",
   "execution_count": 42,
   "metadata": {
    "colab": {
     "base_uri": "https://localhost:8080/",
     "height": 140
    },
    "colab_type": "code",
    "id": "S0TfTlxszvaH",
    "outputId": "bb210da4-4936-493e-94d7-5eed436f69bc"
   },
   "outputs": [
    {
     "data": {
      "text/plain": [
       "array([[0, 0, 0, ..., 0, 0, 0],\n",
       "       [0, 0, 0, ..., 0, 0, 0],\n",
       "       [0, 0, 0, ..., 0, 0, 0],\n",
       "       ...,\n",
       "       [0, 0, 0, ..., 0, 0, 0],\n",
       "       [0, 0, 0, ..., 0, 1, 0],\n",
       "       [0, 0, 0, ..., 0, 0, 0]])"
      ]
     },
     "execution_count": 42,
     "metadata": {
      "tags": []
     },
     "output_type": "execute_result"
    }
   ],
   "source": [
    "y_test=y_test.astype(int)\n",
    "y_test"
   ]
  },
  {
   "cell_type": "code",
   "execution_count": 43,
   "metadata": {
    "colab": {
     "base_uri": "https://localhost:8080/",
     "height": 35
    },
    "colab_type": "code",
    "id": "d91QQeM7pl4k",
    "outputId": "c4dffcaf-c0aa-4fd3-c762-4d4896153b6c"
   },
   "outputs": [
    {
     "data": {
      "text/plain": [
       "((794, 12), (4750, 12))"
      ]
     },
     "execution_count": 43,
     "metadata": {
      "tags": []
     },
     "output_type": "execute_result"
    }
   ],
   "source": [
    "y_test.shape,y_train.shape\n"
   ]
  },
  {
   "cell_type": "code",
   "execution_count": 44,
   "metadata": {
    "colab": {
     "base_uri": "https://localhost:8080/",
     "height": 140
    },
    "colab_type": "code",
    "id": "rC94BLATnzxW",
    "outputId": "07d73e15-3230-48d3-8ddd-0a9ae212439f"
   },
   "outputs": [
    {
     "data": {
      "text/plain": [
       "array([[0, 0, 0, ..., 0, 0, 0],\n",
       "       [0, 0, 0, ..., 0, 0, 0],\n",
       "       [0, 0, 0, ..., 0, 0, 0],\n",
       "       ...,\n",
       "       [0, 0, 0, ..., 0, 0, 0],\n",
       "       [0, 0, 0, ..., 0, 1, 0],\n",
       "       [0, 0, 0, ..., 0, 0, 0]])"
      ]
     },
     "execution_count": 44,
     "metadata": {
      "tags": []
     },
     "output_type": "execute_result"
    }
   ],
   "source": [
    "y_test"
   ]
  },
  {
   "cell_type": "markdown",
   "metadata": {
    "colab_type": "text",
    "id": "YhoQMiEJiMRW"
   },
   "source": []
  },
  {
   "cell_type": "code",
   "execution_count": 45,
   "metadata": {
    "colab": {
     "base_uri": "https://localhost:8080/",
     "height": 52
    },
    "colab_type": "code",
    "id": "FzX8G6Jqvg-c",
    "outputId": "c991e84c-6aff-4ff0-ef6e-d8dc8a319ba0"
   },
   "outputs": [
    {
     "name": "stdout",
     "output_type": "stream",
     "text": [
      "794/794 [==============================] - 1s 929us/step\n",
      "[1.6365005744600703e-08, 0.17632241817355457]\n"
     ]
    }
   ],
   "source": [
    "loss_and_metrics = model.evaluate(x_test, y_test)\n",
    "print(loss_and_metrics)"
   ]
  },
  {
   "cell_type": "code",
   "execution_count": 47,
   "metadata": {
    "colab": {
     "base_uri": "https://localhost:8080/",
     "height": 35
    },
    "colab_type": "code",
    "id": "T9Km7D-P29Ee",
    "outputId": "1d1c9a1a-0f8f-466d-8d2a-bd39dd8892ca"
   },
   "outputs": [
    {
     "name": "stdout",
     "output_type": "stream",
     "text": [
      "4750/4750 [==============================] - 3s 627us/step\n"
     ]
    }
   ],
   "source": [
    "loss_and_metrics=model.evaluate(x_train,y_train)"
   ]
  },
  {
   "cell_type": "code",
   "execution_count": 48,
   "metadata": {
    "colab": {
     "base_uri": "https://localhost:8080/",
     "height": 35
    },
    "colab_type": "code",
    "id": "Q5pKsMMe4EXi",
    "outputId": "7363d1bd-7648-4acf-8942-1af8cfb28821"
   },
   "outputs": [
    {
     "data": {
      "text/plain": [
       "[0.029626494129874597, 0.9911578947368421]"
      ]
     },
     "execution_count": 48,
     "metadata": {
      "tags": []
     },
     "output_type": "execute_result"
    }
   ],
   "source": [
    "loss_and_metrics"
   ]
  },
  {
   "cell_type": "code",
   "execution_count": 50,
   "metadata": {
    "colab": {
     "base_uri": "https://localhost:8080/",
     "height": 35
    },
    "colab_type": "code",
    "id": "9TbOKSk--wmy",
    "outputId": "14afaa2e-fd92-461a-9c16-93c89bab7a92"
   },
   "outputs": [
    {
     "name": "stdout",
     "output_type": "stream",
     "text": [
      "dict_keys(['val_loss', 'val_acc', 'loss', 'acc'])\n"
     ]
    }
   ],
   "source": [
    "print(history.history.keys())"
   ]
  },
  {
   "cell_type": "code",
   "execution_count": 51,
   "metadata": {
    "colab": {
     "base_uri": "https://localhost:8080/",
     "height": 281
    },
    "colab_type": "code",
    "id": "z8wCjwyh6AGN",
    "outputId": "e6b08ca0-4114-4bfb-ede2-db3e4c85125f"
   },
   "outputs": [
    {
     "data": {
      "image/png": "[encoded data removed]",
      "text/plain": [
       "<Figure size 432x288 with 1 Axes>"
      ]
     },
     "metadata": {
      "tags": []
     },
     "output_type": "display_data"
    }
   ],
   "source": [
    "\n",
    "# summarize history for loss\n",
    "plt.title('Loss vs Accuracy')\n",
    "plt.plot(history.history['loss'])\n",
    "plt.plot(history.history['acc'])\n",
    "plt.ylabel('loss')\n",
    "plt.title('Accuaracy')\n",
    "plt.show()"
   ]
  }
 ],
 "metadata": {
  "accelerator": "GPU",
  "colab": {
   "collapsed_sections": [],
   "name": "Plant_Breed_Final_Solution.ipynb",
   "provenance": []
  },
  "kernelspec": {
   "display_name": "Python 3",
   "language": "python",
   "name": "python3"
  },
  "language_info": {
   "codemirror_mode": {
    "name": "ipython",
    "version": 3
   },
   "file_extension": ".py",
   "mimetype": "text/x-python",
   "name": "python",
   "nbconvert_exporter": "python",
   "pygments_lexer": "ipython3",
   "version": "3.7.3"
  }
 },
 "nbformat": 4,
 "nbformat_minor": 1
}
